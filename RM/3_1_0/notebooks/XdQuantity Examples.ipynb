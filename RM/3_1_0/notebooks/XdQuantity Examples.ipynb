{
 "cells": [
  {
   "cell_type": "markdown",
   "metadata": {
    "slideshow": {
     "slide_type": "slide"
    }
   },
   "source": [
    "# Examples using the XdQuantityType"
   ]
  },
  {
   "cell_type": "markdown",
   "metadata": {
    "slideshow": {
     "slide_type": "slide"
    }
   },
   "source": [
    "**Set the path to the folder containing the library files and import the extended datatypes.**"
   ]
  },
  {
   "cell_type": "code",
   "execution_count": null,
   "metadata": {
    "slideshow": {
     "slide_type": "fragment"
    }
   },
   "outputs": [],
   "source": [
    "import sys \n",
    "sys.path.append(\"../pylib/\")\n",
    "from s3m_xdt import XdQuantityType, XdStringType"
   ]
  },
  {
   "cell_type": "markdown",
   "metadata": {
    "slideshow": {
     "slide_type": "slide"
    }
   },
   "source": [
    "Review the documentation of XdQuantityType. Note the class signature requires a *label* (string name) \n"
   ]
  },
  {
   "cell_type": "code",
   "execution_count": null,
   "metadata": {
    "scrolled": false,
    "slideshow": {
     "slide_type": "slide"
    }
   },
   "outputs": [],
   "source": [
    "help(XdQuantityType)"
   ]
  },
  {
   "cell_type": "markdown",
   "metadata": {
    "slideshow": {
     "slide_type": "slide"
    }
   },
   "source": [
    "Create a XdQuantity instance. We must provide a *label* as per all Xd Types. We also need a units object which is a XdStringType. Usually the modeler will provide a selection of options for the end-user to choose from when selecting a units value. \n",
    "\n",
    "For this example we will create a model to record an amount of currency. In a real-world application the complete list of codes would usually be used. https://www.currency-iso.org/en/home/tables/table-a1.html In our example we show a few."
   ]
  },
  {
   "cell_type": "code",
   "execution_count": null,
   "metadata": {},
   "outputs": [],
   "source": [
    "# create the units model\n",
    "u = XdStringType('Currency Codes')\n",
    "u.docs = \"Select the currency code.\"\n",
    "u.definition_url = 'https://www.iso.org/iso-4217-currency-codes.html'\n",
    "# create the units options\n",
    "enums = []\n",
    "enums.append(('USD', 'https://www.iso.org/iso-4217-currency-codes.html#USD'))\n",
    "enums.append(('BRL', 'https://www.iso.org/iso-4217-currency-codes.html#BRL'))\n",
    "enums.append(('CAD', 'https://www.iso.org/iso-4217-currency-codes.html#CAD'))\n",
    "u.enums = enums\n",
    "\n",
    "# now the model\n",
    "d = XdQuantityType(\"Currency Amount\")\n",
    "d.docs = \"Record the amount of currency.\"\n",
    "d.units = u\n",
    "d.min_inclusive = 0  # can't have a negative amount\n",
    "d.fraction_digits = 2 # currency is recorded with only two decimal places\n",
    "print(d)"
   ]
  },
  {
   "cell_type": "code",
   "execution_count": null,
   "metadata": {
    "scrolled": false
   },
   "outputs": [],
   "source": [
    "print(d.asXSD())"
   ]
  },
  {
   "cell_type": "code",
   "execution_count": null,
   "metadata": {
    "scrolled": true
   },
   "outputs": [],
   "source": [
    "\n",
    "print(d.asXML())"
   ]
  }
 ],
 "metadata": {
  "kernelspec": {
   "display_name": "Python [conda env:S3Model]",
   "language": "python",
   "name": "conda-env-S3Model-py"
  },
  "language_info": {
   "codemirror_mode": {
    "name": "ipython",
    "version": 3
   },
   "file_extension": ".py",
   "mimetype": "text/x-python",
   "name": "python",
   "nbconvert_exporter": "python",
   "pygments_lexer": "ipython3",
   "version": "3.7.0"
  }
 },
 "nbformat": 4,
 "nbformat_minor": 2
}

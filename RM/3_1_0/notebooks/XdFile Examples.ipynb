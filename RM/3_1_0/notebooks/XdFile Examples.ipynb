{
 "cells": [
  {
   "cell_type": "markdown",
   "metadata": {
    "slideshow": {
     "slide_type": "slide"
    }
   },
   "source": [
    "# Examples using the XdFileType"
   ]
  },
  {
   "cell_type": "markdown",
   "metadata": {
    "slideshow": {
     "slide_type": "slide"
    }
   },
   "source": [
    "**Set the path to the folder containing the library files and import the extended datatype.**"
   ]
  },
  {
   "cell_type": "code",
   "execution_count": null,
   "metadata": {
    "slideshow": {
     "slide_type": "fragment"
    }
   },
   "outputs": [],
   "source": [
    "import sys \n",
    "sys.path.append(\"../pylib/\")\n",
    "from s3m_xdt import XdFileType"
   ]
  },
  {
   "cell_type": "markdown",
   "metadata": {
    "slideshow": {
     "slide_type": "slide"
    }
   },
   "source": [
    "Review the documentation of XdFileType. \n"
   ]
  },
  {
   "cell_type": "code",
   "execution_count": null,
   "metadata": {
    "scrolled": false,
    "slideshow": {
     "slide_type": "slide"
    }
   },
   "outputs": [],
   "source": [
    "help(XdFileType)"
   ]
  },
  {
   "cell_type": "markdown",
   "metadata": {
    "slideshow": {
     "slide_type": "slide"
    }
   },
   "source": [
    "Create a XdFile instance. We will set the raw file size (in bytes) as an integer. We will get the filesize using the Python *os* module. Just out of convience we will also set the *label* and *alt_txt* attributes to the same string.  "
   ]
  },
  {
   "cell_type": "code",
   "execution_count": null,
   "metadata": {},
   "outputs": [],
   "source": [
    "import os\n",
    "filesize = os.stat('images/S3M.png').st_size\n",
    "d = XdFileType(\"S3Model Logo\")\n",
    "d.size = filesize\n",
    "d.alt_txt = \"S3Model Logo\"\n",
    "d.docs = \"The awesome S3Model Logo\"\n",
    "d.definition_url = 'http://s3model.com/examples/files'"
   ]
  },
  {
   "cell_type": "markdown",
   "metadata": {},
   "source": [
    " Since we are going to store the content in the data instance we first need to read the file. Then we base64encode it and then store the content in the *media_content* attribute. We check the type to see that it is 'bytes' (a byte string)."
   ]
  },
  {
   "cell_type": "code",
   "execution_count": null,
   "metadata": {},
   "outputs": [],
   "source": [
    "import base64\n",
    "\n",
    "with open(\"images/S3M.png\", \"rb\") as f:\n",
    "    encodedFile = base64.b64encode(f.read())\n",
    "print(type(encodedFile))\n",
    "d.media_content = encodedFile"
   ]
  },
  {
   "cell_type": "code",
   "execution_count": null,
   "metadata": {},
   "outputs": [],
   "source": [
    "# Take a look at some details of the model.\n",
    "print(d, '\\n')\n",
    "print(d.alt_txt, 'File size in bytes: ' + str(d.size))"
   ]
  },
  {
   "cell_type": "markdown",
   "metadata": {},
   "source": [
    "Review the XSD model. Note the similarity and consistency of each Xd* Type model. \n",
    "\n",
    "Here, as we saw in the choice *true-value* or *false-value* attributes in the XdBooleanType, we have a choice between *uri* and *media-content*. Only one or the other can be present in the model and therefore in the data instance."
   ]
  },
  {
   "cell_type": "code",
   "execution_count": null,
   "metadata": {},
   "outputs": [],
   "source": [
    "print(d.getModel())"
   ]
  },
  {
   "cell_type": "code",
   "execution_count": null,
   "metadata": {
    "scrolled": false
   },
   "outputs": [],
   "source": [
    "print(d.asXML())"
   ]
  },
  {
   "cell_type": "markdown",
   "metadata": {},
   "source": [
    "The *media_content* and *uri* attributes are mutually exclusive. We create a new instance to demonstrate the use of *uri*. Using the cardinality attribute we are going to require the *size* attribute."
   ]
  },
  {
   "cell_type": "code",
   "execution_count": null,
   "metadata": {
    "scrolled": true
   },
   "outputs": [],
   "source": [
    "filesize = os.stat('images/S3M.png').st_size\n",
    "d = XdFileType(\"S3Model Logo\")\n",
    "d.size = filesize\n",
    "d.alt_txt = \"S3Model Logo\"\n",
    "d.docs = \"The awesome S3Model Logo\"\n",
    "d.uri = \"https://datainsights.tech/S3M.logo\"\n",
    "d.definition_url = 'http://s3model.com/examples/files'\n",
    "d.cardinality = ('size', [1,1])\n",
    "print(d)"
   ]
  },
  {
   "cell_type": "code",
   "execution_count": null,
   "metadata": {},
   "outputs": [],
   "source": [
    "print(d.getModel())"
   ]
  },
  {
   "cell_type": "code",
   "execution_count": null,
   "metadata": {},
   "outputs": [],
   "source": [
    "print(d.asXML())"
   ]
  }
 ],
 "metadata": {
  "kernelspec": {
   "display_name": "Python [conda env:S3Model]",
   "language": "python",
   "name": "conda-env-S3Model-py"
  },
  "language_info": {
   "codemirror_mode": {
    "name": "ipython",
    "version": 3
   },
   "file_extension": ".py",
   "mimetype": "text/x-python",
   "name": "python",
   "nbconvert_exporter": "python",
   "pygments_lexer": "ipython3",
   "version": "3.7.0"
  }
 },
 "nbformat": 4,
 "nbformat_minor": 2
}

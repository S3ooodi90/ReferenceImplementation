{
 "cells": [
  {
   "cell_type": "markdown",
   "metadata": {
    "slideshow": {
     "slide_type": "slide"
    }
   },
   "source": [
    "# Examples using the XdFileType"
   ]
  },
  {
   "cell_type": "markdown",
   "metadata": {
    "slideshow": {
     "slide_type": "slide"
    }
   },
   "source": [
    "**Set the path to the folder containing the library files and import the extended datatype.**"
   ]
  },
  {
   "cell_type": "code",
   "execution_count": 1,
   "metadata": {
    "slideshow": {
     "slide_type": "fragment"
    }
   },
   "outputs": [],
   "source": [
    "import os\n",
    "import sys \n",
    "sys.path.append(\"../pylib/\")\n",
    "from s3m_xdt import XdFileType"
   ]
  },
  {
   "cell_type": "markdown",
   "metadata": {
    "slideshow": {
     "slide_type": "slide"
    }
   },
   "source": [
    "Review the documentation of XdFileType. \n"
   ]
  },
  {
   "cell_type": "code",
   "execution_count": 2,
   "metadata": {
    "scrolled": false,
    "slideshow": {
     "slide_type": "slide"
    }
   },
   "outputs": [
    {
     "name": "stdout",
     "output_type": "stream",
     "text": [
      "Help on class XdFileType in module s3m_xdt:\n",
      "\n",
      "class XdFileType(XdAnyType)\n",
      " |  XdFileType(label: str)\n",
      " |  \n",
      " |  A type to use for encapsulated content (aka. files) for image, audio and\n",
      " |  other media types with a defined MIME type.\n",
      " |  \n",
      " |  This type provides a choice of embedding the content into the data or using\n",
      " |  a URL to point to the content.\n",
      " |  \n",
      " |  Method resolution order:\n",
      " |      XdFileType\n",
      " |      XdAnyType\n",
      " |      abc.ABC\n",
      " |      builtins.object\n",
      " |  \n",
      " |  Methods defined here:\n",
      " |  \n",
      " |  __init__(self, label: str)\n",
      " |      The semantic label (name of the model) is required.\n",
      " |  \n",
      " |  getModel(self)\n",
      " |      Return a XML Schema complexType definition.\n",
      " |  \n",
      " |  getXMLInstance(self)\n",
      " |      Return an example XML fragment for this model.\n",
      " |  \n",
      " |  validate(self)\n",
      " |      Every XdType must implement this method.\n",
      " |  \n",
      " |  ----------------------------------------------------------------------\n",
      " |  Data descriptors defined here:\n",
      " |  \n",
      " |  alt_txt\n",
      " |      Text to display in lieu of multimedia display or execution.\n",
      " |  \n",
      " |  compression_type\n",
      " |      Compression/archiving mime-type.\n",
      " |      \n",
      " |      If this elements does not exist then it means there is no\n",
      " |      compression/archiving.\n",
      " |      \n",
      " |      For a list of common mime-types for compression/archiving see:\n",
      " |      http://en.wikipedia.org/wiki/List_of_archive_formats.\n",
      " |  \n",
      " |  content_type\n",
      " |      The content_type determines if the model will require a URI pointer to \n",
      " |      the content or if it will be base64Binary encoded and embedded in the\n",
      " |      data instance. The valid values are 'uri' or 'embed'. Default is 'uri'.\n",
      " |  \n",
      " |  encoding\n",
      " |      Name of character encoding scheme in which this value is encoded.\n",
      " |      \n",
      " |      Coded from the IANA charcater set table:\n",
      " |      http://www.iana.org/assignments/character-sets\n",
      " |      \n",
      " |      Unicode is the default assumption in S3Model, with UTF-8 being the\n",
      " |      assumed encoding.\n",
      " |      This optional element allows for variations from these assumptions.\n",
      " |  \n",
      " |  formalism\n",
      " |      Name of the formalism or syntax used to inform an application regarding\n",
      " |      a candidate parser to use on the content.\n",
      " |      \n",
      " |      Examples might include: 'ATL', 'MOLA', 'QVT', 'GDL', 'GLIF', 'XML', etc.\n",
      " |  \n",
      " |  hash_function\n",
      " |      Hash function used to compute hash-result.\n",
      " |      \n",
      " |      See: http://en.wikipedia.org/wiki/List_of_hash_functions#Cryptographic_hash_functions\n",
      " |  \n",
      " |  hash_result\n",
      " |      Hash function result of the 'media-content'.\n",
      " |      \n",
      " |      There must be a corresponding hash function type listed for this\n",
      " |      to have any meaning.\n",
      " |      \n",
      " |      See: http://en.wikipedia.org/wiki/List_of_hash_functions#Cryptographic_hash_functions\n",
      " |  \n",
      " |  language\n",
      " |      Optional indicator of the localised language of the content.\n",
      " |      \n",
      " |      Typically remains optional in the CMC and used at runtime when the\n",
      " |      content is in a different language from the enclosing CMC.\n",
      " |  \n",
      " |  media_content\n",
      " |      The content, if stored locally.\n",
      " |      \n",
      " |      The CMC modeler chooses either a uri or local content element.\n",
      " |      If the passed value is a string it will be converted to bytes and\n",
      " |      base64 encoded.\n",
      " |      \n",
      " |      If it is already bytes then it is just encoded.\n",
      " |  \n",
      " |  media_type\n",
      " |      Media (MIME) type of the original media-content w/o any compression.\n",
      " |      \n",
      " |      See IANA registered types:\n",
      " |      http://www.iana.org/assignments/media-types/media-types.xhtml\n",
      " |  \n",
      " |  size\n",
      " |      Original size in bytes of unencoded encapsulated data. I.e. encodings\n",
      " |      such as base64, hexadecimal, etc.\n",
      " |  \n",
      " |  uri\n",
      " |      URI reference to electronic information stored outside the record\n",
      " |      as a file, database entry etc.; if supplied as a reference.\n",
      " |  \n",
      " |  ----------------------------------------------------------------------\n",
      " |  Data and other attributes defined here:\n",
      " |  \n",
      " |  __abstractmethods__ = frozenset()\n",
      " |  \n",
      " |  ----------------------------------------------------------------------\n",
      " |  Methods inherited from XdAnyType:\n",
      " |  \n",
      " |  __str__(self)\n",
      " |      Return str(self).\n",
      " |  \n",
      " |  getJSONInstance(self)\n",
      " |      Return an example JSON fragment for this model.\n",
      " |  \n",
      " |  ----------------------------------------------------------------------\n",
      " |  Data descriptors inherited from XdAnyType:\n",
      " |  \n",
      " |  __dict__\n",
      " |      dictionary for instance variables (if defined)\n",
      " |  \n",
      " |  __weakref__\n",
      " |      list of weak references to the object (if defined)\n",
      " |  \n",
      " |  act\n",
      " |      Access Control Tag. \n",
      " |      \n",
      " |      If this is used it must contain a valid term from the Access Control System linked \n",
      " |      to by the containing Data Model 'acs' attribute. It is available as the ACS imported\n",
      " |      from s3m_dm.\n",
      " |  \n",
      " |  acuid\n",
      " |      The unique identifier of the wrapping XdAdapter of the component.\n",
      " |  \n",
      " |  adapter\n",
      " |      When True, creates an XdAdapterType wrapper.\n",
      " |  \n",
      " |  cardinality\n",
      " |      The cardinality status values.\n",
      " |      \n",
      " |      The setter method can be called by each subclass to add cardinality\n",
      " |      values for each element or change the defaults.\n",
      " |      Some elements cardinality may not be changed.\n",
      " |      Ex: XdBoolean elements are not modifiable.\n",
      " |      \n",
      " |      The cardinality dictionary uses a string representation of each\n",
      " |      property name and a list as the value.\n",
      " |      \n",
      " |      The value passed into the setter is a tuple with v[0] as a string (key) and\n",
      " |      v[1] as a list containing an integer set representing the\n",
      " |      (minimum, maximum) values. The entire value list is replaced in the dictionary.\n",
      " |      \n",
      " |      Examples\n",
      " |      --------\n",
      " |      \n",
      " |      ('vtb', [1,1]) will set the vtb value to be required.\n",
      " |      \n",
      " |      \n",
      " |      NOTES\n",
      " |      -----\n",
      " |      \n",
      " |      The cardinality for latitude and longitude are combined into one\n",
      " |      setting called 'location'.\n",
      " |      \n",
      " |      The Python value of 'None' represents the 'unbounded' XML Schema value.\n",
      " |      None is converted to Decimal('Infinity') for comparisons.\n",
      " |      The 'unbounded' value is allowed on only a few attributes.\n",
      " |  \n",
      " |  definition_url\n",
      " |      The primary definition URL for the model.\n",
      " |      Cannot be an IP address.\n",
      " |      \n",
      " |      REQUIRED\n",
      " |  \n",
      " |  docs\n",
      " |      The human readable documentation string describing the purpose of\n",
      " |      the model.\n",
      " |  \n",
      " |  ev\n",
      " |      In an invalid instance, the application can indicate here why data is\n",
      " |      missing or invalid. This is a list of ExceptionalValue subclasses.\n",
      " |      \n",
      " |      The sub-types are based on ISO 21090 NULL Flavors entries, with\n",
      " |      additions noted from real-world usage.\n",
      " |  \n",
      " |  label\n",
      " |      The semantic name of the component.\n",
      " |      \n",
      " |      REQUIRED\n",
      " |  \n",
      " |  latitude\n",
      " |      Latitude in decimal format. Value range -90.000000 to 90.000000.\n",
      " |  \n",
      " |  longitude\n",
      " |      Longitude in decimal format. Value range -180.000000 to 180.000000.\n",
      " |  \n",
      " |  mcuid\n",
      " |      The unique identifier of the component.\n",
      " |  \n",
      " |  modified\n",
      " |      Time Modified. If present this must be a valid date-time stamp.\n",
      " |      It is used to indicate the date and time the data was last changed.\n",
      " |  \n",
      " |  pred_obj_list\n",
      " |      A list of additional predicate object pairs to describe the component.\n",
      " |      \n",
      " |      Each list item is a tuple where 0 is the predicate and 1 is the object.\n",
      " |      \n",
      " |      Example:\n",
      " |      ('rdf:resource','https://www.niddk.nih.gov/health-information/health-statistics')\n",
      " |      The setter accepts the tuple and appends it to the list.\n",
      " |      If an empty list is supplied it resets the value to the empty list.\n",
      " |  \n",
      " |  published\n",
      " |      When True, prevents further model changes.\n",
      " |  \n",
      " |  tr\n",
      " |      Time Recorded. If present this must be a valid date-time.\n",
      " |      It is used to indicate the initial date and time the data was recorded.\n",
      " |  \n",
      " |  vtb\n",
      " |      Valid Time Begin. If present this must be a valid datetime including timezone.\n",
      " |      It is used to indicate the beginning time that information is considered valid.\n",
      " |  \n",
      " |  vte\n",
      " |      Valid Time End. If present this must be a valid date-time including timezone.\n",
      " |      It is used to indicate the ending time that information is considered valid\n",
      " |      or the time the information expired or will expire.\n",
      "\n"
     ]
    }
   ],
   "source": [
    "help(XdFileType)"
   ]
  },
  {
   "cell_type": "markdown",
   "metadata": {
    "slideshow": {
     "slide_type": "slide"
    }
   },
   "source": [
    "Create a XdFile model instance. We want a model for logos to be embeded in the data. \n",
    "\n",
    "\n",
    "We will set the raw file size (in bytes) as an integer. We will get the filesize using the Python *os* module. Just out of convience we will also set the *label* and *alt_txt* attributes to the same string.  "
   ]
  },
  {
   "cell_type": "code",
   "execution_count": 3,
   "metadata": {},
   "outputs": [],
   "source": [
    "d = XdFileType(\"Company Logo\")\n",
    "d.docs = \"The logo of the company.\"\n",
    "d.definition_url = 'http://s3model.com/examples/logos'"
   ]
  },
  {
   "cell_type": "markdown",
   "metadata": {},
   "source": [
    "Review the XSD model fragment. Note the similarity and consistency of each Xd* Type model. \n",
    "\n",
    "Here, as we saw in the choice *true-value* or *false-value* attributes in the XdBooleanType, we have a choice between *uri* and *media-content*. \n",
    "\n",
    "Only one or the other can be present in the model and therefore in the data instance. The default is for a *uri*. Since we want to embed the logo we set the *content_type* to 'embed'.\n",
    "\n",
    "Once we have completed the model it must be published before we can add/change instance data."
   ]
  },
  {
   "cell_type": "code",
   "execution_count": 4,
   "metadata": {},
   "outputs": [
    {
     "name": "stdout",
     "output_type": "stream",
     "text": [
      "  <xs:element name=\"ms-cjnllv3gc0000618p0aogaeme\" type=\"s3m:mc-cjnllv3gc0000618p0aogaeme\"/>\n",
      "  <xs:complexType name=\"mc-cjnllv3gc0000618p0aogaeme\">\n",
      "    <xs:annotation>\n",
      "      <xs:documentation>\n",
      "        The logo of the company.\n",
      "      </xs:documentation>\n",
      "      <xs:appinfo>\n",
      "        <rdfs:Class rdf:about=\"mc-cjnllv3gc0000618p0aogaeme\">\n",
      "          <rdfs:subClassOf rdf:resource=\"https://www.s3model.com/ns/s3m/s3model_3_1_0.xsd#XdFileType\"/>\n",
      "          <rdfs:subClassOf rdf:resource=\"https://www.s3model.com/ns/s3m/s3model/RMC\"/>\n",
      "          <rdfs:isDefinedBy rdf:resource=\"http%3A//s3model.com/examples/logos\"/>\n",
      "        </rdfs:Class>\n",
      "      </xs:appinfo>\n",
      "    </xs:annotation>\n",
      "    <xs:complexContent>\n",
      "      <xs:restriction base=\"s3m:XdFileType\">\n",
      "        <xs:sequence>\n",
      "          <xs:element maxOccurs=\"1\" minOccurs=\"1\" name=\"label\" type=\"xs:string\" fixed=\"Company Logo\"/>\n",
      "          <xs:element maxOccurs=\"1\" minOccurs=\"0\" name=\"act\" type=\"xs:string\" default=\"\"/>\n",
      "          <xs:element maxOccurs=\"unbounded\" minOccurs=\"0\" ref=\"s3m:ExceptionalValue\"/>\n",
      "          <xs:element maxOccurs=\"1\" minOccurs=\"0\" name=\"vtb\" type=\"xs:dateTime\"/>\n",
      "          <xs:element maxOccurs=\"1\" minOccurs=\"0\" name=\"vte\" type=\"xs:dateTime\"/>\n",
      "          <xs:element maxOccurs=\"1\" minOccurs=\"0\" name=\"tr\" type=\"xs:dateTime\"/>\n",
      "          <xs:element maxOccurs=\"1\" minOccurs=\"0\" name=\"modified\" type=\"xs:dateTime\"/>\n",
      "          <xs:element maxOccurs=\"1\" minOccurs=\"0\" name=\"latitude\" type=\"s3m:lattype\"/>\n",
      "          <xs:element maxOccurs=\"1\" minOccurs=\"0\" name=\"longitude\" type=\"s3m:lontype\"/>\n",
      "          <xs:element maxOccurs=\"1\" minOccurs=\"0\" name=\"size\" type=\"xs:int\"/>\n",
      "          <xs:element maxOccurs=\"1\" minOccurs=\"0\" name=\"encoding\" type=\"xs:string\"/>\n",
      "          <xs:element maxOccurs=\"1\" minOccurs=\"0\" name=\"xdfile-language\" type=\"xs:language\"/>\n",
      "          <xs:element maxOccurs=\"1\" minOccurs=\"0\" name=\"formalism\" type=\"xs:string\"/>\n",
      "          <xs:element maxOccurs=\"1\" minOccurs=\"0\" name=\"media-type\" type=\"xs:string\"/>\n",
      "          <xs:element maxOccurs=\"1\" minOccurs=\"0\" name=\"compression-type\" type=\"xs:string\"/>\n",
      "          <xs:element maxOccurs=\"1\" minOccurs=\"0\" name=\"hash-result\" type=\"xs:string\"/>\n",
      "          <xs:element maxOccurs=\"1\" minOccurs=\"0\" name=\"hash-function\" type=\"xs:string\"/>\n",
      "          <xs:element maxOccurs=\"1\" minOccurs=\"0\" name=\"alt-txt\" type=\"xs:string\"/>\n",
      "          <xs:element maxOccurs=\"1\" minOccurs=\"1\" name=\"media-content\" type=\"xs:base64Binary\"/>\n",
      "        </xs:sequence>\n",
      "      </xs:restriction>\n",
      "    </xs:complexContent>\n",
      "  </xs:complexType>\n",
      "\n",
      "\n"
     ]
    }
   ],
   "source": [
    "d.content_type = 'embed'\n",
    "d.published = True\n",
    "print(d.getModel())"
   ]
  },
  {
   "cell_type": "markdown",
   "metadata": {},
   "source": [
    "Now the model exists, let's add some data.\n",
    "\n",
    "Since we are going to store the content in the data instance we first need to read the file. Then we base64encode it and then store the content in the *media_content* attribute. We check the type to see that it is 'bytes' (a byte string). We also need the filesize."
   ]
  },
  {
   "cell_type": "code",
   "execution_count": 5,
   "metadata": {},
   "outputs": [
    {
     "name": "stdout",
     "output_type": "stream",
     "text": [
      "XdFileType : Company Logo, ID: cjnllv3gc0000618p0aogaeme \n",
      "\n",
      "S3Model Logo File size in bytes: 13404\n"
     ]
    }
   ],
   "source": [
    "filesize = os.stat('images/S3M.png').st_size\n",
    "d.size = filesize\n",
    "d.alt_txt = \"S3Model Logo\"\n",
    "# Take a look at some details of the model.\n",
    "print(d, '\\n')\n",
    "print(d.alt_txt, 'File size in bytes: ' + str(d.size))"
   ]
  },
  {
   "cell_type": "code",
   "execution_count": 6,
   "metadata": {},
   "outputs": [
    {
     "name": "stdout",
     "output_type": "stream",
     "text": [
      "<class 'bytes'>\n"
     ]
    }
   ],
   "source": [
    "import base64\n",
    "\n",
    "with open(\"images/S3M.png\", \"rb\") as f:\n",
    "    encodedFile = base64.b64encode(f.read())\n",
    "print(type(encodedFile))\n",
    "d.media_content = encodedFile"
   ]
  },
  {
   "cell_type": "code",
   "execution_count": 7,
   "metadata": {
    "scrolled": false
   },
   "outputs": [
    {
     "name": "stdout",
     "output_type": "stream",
     "text": [
      "  <ms-cjnllv3gc0000618p0aogaeme>\n",
      "    <label>Company Logo</label>\n",
      "    <size>13404</size>\n",
      "    <alt-txt>S3Model Logo</alt-txt>\n",
      "    <media-content>b'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'</media-content>\n",
      "  </ms-cjnllv3gc0000618p0aogaeme>\n",
      "\n"
     ]
    }
   ],
   "source": [
    "print(d.getXMLInstance())"
   ]
  },
  {
   "cell_type": "markdown",
   "metadata": {},
   "source": [
    "The *media_content* and *uri* attributes are mutually exclusive and the model is frozen once it has been published.\n",
    "\n",
    "We create a new instance to demonstrate the use of *uri*. Using the cardinality attribute we are going to require the *size* attribute."
   ]
  },
  {
   "cell_type": "code",
   "execution_count": 8,
   "metadata": {
    "scrolled": true
   },
   "outputs": [
    {
     "name": "stdout",
     "output_type": "stream",
     "text": [
      "XdFileType : S3Model Logo, ID: cjnllv3ui0002618ppqq9aeiy\n"
     ]
    }
   ],
   "source": [
    "filesize = os.stat('images/S3M.png').st_size\n",
    "d = XdFileType(\"S3Model Logo\")\n",
    "d.size = filesize\n",
    "d.alt_txt = \"S3Model Logo\"\n",
    "d.docs = \"The awesome S3Model Logo\"\n",
    "d.uri = \"https://datainsights.tech/S3M.logo\"\n",
    "d.definition_url = 'http://s3model.com/examples/files'\n",
    "d.cardinality = ('size', [1,1])\n",
    "print(d)"
   ]
  },
  {
   "cell_type": "code",
   "execution_count": 9,
   "metadata": {},
   "outputs": [
    {
     "name": "stdout",
     "output_type": "stream",
     "text": [
      "  <xs:element name=\"ms-cjnllv3ui0002618ppqq9aeiy\" type=\"s3m:mc-cjnllv3ui0002618ppqq9aeiy\"/>\n",
      "  <xs:complexType name=\"mc-cjnllv3ui0002618ppqq9aeiy\">\n",
      "    <xs:annotation>\n",
      "      <xs:documentation>\n",
      "        The awesome S3Model Logo\n",
      "      </xs:documentation>\n",
      "      <xs:appinfo>\n",
      "        <rdfs:Class rdf:about=\"mc-cjnllv3ui0002618ppqq9aeiy\">\n",
      "          <rdfs:subClassOf rdf:resource=\"https://www.s3model.com/ns/s3m/s3model_3_1_0.xsd#XdFileType\"/>\n",
      "          <rdfs:subClassOf rdf:resource=\"https://www.s3model.com/ns/s3m/s3model/RMC\"/>\n",
      "          <rdfs:isDefinedBy rdf:resource=\"http%3A//s3model.com/examples/files\"/>\n",
      "        </rdfs:Class>\n",
      "      </xs:appinfo>\n",
      "    </xs:annotation>\n",
      "    <xs:complexContent>\n",
      "      <xs:restriction base=\"s3m:XdFileType\">\n",
      "        <xs:sequence>\n",
      "          <xs:element maxOccurs=\"1\" minOccurs=\"1\" name=\"label\" type=\"xs:string\" fixed=\"S3Model Logo\"/>\n",
      "          <xs:element maxOccurs=\"1\" minOccurs=\"0\" name=\"act\" type=\"xs:string\" default=\"\"/>\n",
      "          <xs:element maxOccurs=\"unbounded\" minOccurs=\"0\" ref=\"s3m:ExceptionalValue\"/>\n",
      "          <xs:element maxOccurs=\"1\" minOccurs=\"0\" name=\"vtb\" type=\"xs:dateTime\"/>\n",
      "          <xs:element maxOccurs=\"1\" minOccurs=\"0\" name=\"vte\" type=\"xs:dateTime\"/>\n",
      "          <xs:element maxOccurs=\"1\" minOccurs=\"0\" name=\"tr\" type=\"xs:dateTime\"/>\n",
      "          <xs:element maxOccurs=\"1\" minOccurs=\"0\" name=\"modified\" type=\"xs:dateTime\"/>\n",
      "          <xs:element maxOccurs=\"1\" minOccurs=\"0\" name=\"latitude\" type=\"s3m:lattype\"/>\n",
      "          <xs:element maxOccurs=\"1\" minOccurs=\"0\" name=\"longitude\" type=\"s3m:lontype\"/>\n",
      "          <xs:element maxOccurs=\"1\" minOccurs=\"1\" name=\"size\" type=\"xs:int\"/>\n",
      "          <xs:element maxOccurs=\"1\" minOccurs=\"0\" name=\"encoding\" type=\"xs:string\"/>\n",
      "          <xs:element maxOccurs=\"1\" minOccurs=\"0\" name=\"xdfile-language\" type=\"xs:language\"/>\n",
      "          <xs:element maxOccurs=\"1\" minOccurs=\"0\" name=\"formalism\" type=\"xs:string\"/>\n",
      "          <xs:element maxOccurs=\"1\" minOccurs=\"0\" name=\"media-type\" type=\"xs:string\"/>\n",
      "          <xs:element maxOccurs=\"1\" minOccurs=\"0\" name=\"compression-type\" type=\"xs:string\"/>\n",
      "          <xs:element maxOccurs=\"1\" minOccurs=\"0\" name=\"hash-result\" type=\"xs:string\"/>\n",
      "          <xs:element maxOccurs=\"1\" minOccurs=\"0\" name=\"hash-function\" type=\"xs:string\"/>\n",
      "          <xs:element maxOccurs=\"1\" minOccurs=\"0\" name=\"alt-txt\" type=\"xs:string\"/>\n",
      "          <xs:element maxOccurs=\"1\" minOccurs=\"1\" name=\"uri\" type=\"xs:anyURI\"/>\n",
      "        </xs:sequence>\n",
      "      </xs:restriction>\n",
      "    </xs:complexContent>\n",
      "  </xs:complexType>\n",
      "\n",
      "\n"
     ]
    }
   ],
   "source": [
    "print(d.getModel())"
   ]
  },
  {
   "cell_type": "code",
   "execution_count": 10,
   "metadata": {},
   "outputs": [
    {
     "name": "stdout",
     "output_type": "stream",
     "text": [
      "  <ms-cjnllv3ui0002618ppqq9aeiy>\n",
      "    <label>S3Model Logo</label>\n",
      "    <size>13404</size>\n",
      "    <alt-txt>S3Model Logo</alt-txt>\n",
      "    <uri>https://datainsights.tech/S3M.logo</uri>\n",
      "  </ms-cjnllv3ui0002618ppqq9aeiy>\n",
      "\n"
     ]
    }
   ],
   "source": [
    "print(d.getXMLInstance())"
   ]
  }
 ],
 "metadata": {
  "kernelspec": {
   "display_name": "Python [conda env:S3Model]",
   "language": "python",
   "name": "conda-env-S3Model-py"
  },
  "language_info": {
   "codemirror_mode": {
    "name": "ipython",
    "version": 3
   },
   "file_extension": ".py",
   "mimetype": "text/x-python",
   "name": "python",
   "nbconvert_exporter": "python",
   "pygments_lexer": "ipython3",
   "version": "3.7.0"
  }
 },
 "nbformat": 4,
 "nbformat_minor": 2
}

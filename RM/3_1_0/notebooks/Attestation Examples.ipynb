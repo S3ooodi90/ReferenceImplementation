{
 "cells": [
  {
   "cell_type": "markdown",
   "metadata": {
    "slideshow": {
     "slide_type": "slide"
    }
   },
   "source": [
    "# Examples using the AttestationType"
   ]
  },
  {
   "cell_type": "markdown",
   "metadata": {
    "slideshow": {
     "slide_type": "slide"
    }
   },
   "source": [
    "**Set the path to the folder containing the library files and import the extended datatype.**"
   ]
  },
  {
   "cell_type": "code",
   "execution_count": 1,
   "metadata": {
    "slideshow": {
     "slide_type": "fragment"
    }
   },
   "outputs": [],
   "source": [
    "import os\n",
    "import sys \n",
    "sys.path.append(\"../pylib/\")\n",
    "from s3m_utils import xsdstub, xmlstub, jsonstub\n",
    "from s3m_xdt import XdFileType, XdStringType\n",
    "from s3m_meta import AttestationType, PartyType"
   ]
  },
  {
   "cell_type": "markdown",
   "metadata": {
    "slideshow": {
     "slide_type": "slide"
    }
   },
   "source": [
    "Review the documentation of AuditType. "
   ]
  },
  {
   "cell_type": "code",
   "execution_count": 2,
   "metadata": {
    "scrolled": false,
    "slideshow": {
     "slide_type": "slide"
    }
   },
   "outputs": [],
   "source": [
    "# help(AttestationType)"
   ]
  },
  {
   "cell_type": "markdown",
   "metadata": {
    "slideshow": {
     "slide_type": "slide"
    }
   },
   "source": [
    "Create an Attestation model and add the required *view, proof & reason* models."
   ]
  },
  {
   "cell_type": "code",
   "execution_count": 3,
   "metadata": {
    "slideshow": {
     "slide_type": "fragment"
    }
   },
   "outputs": [],
   "source": [
    "att = AttestationType('Test Attestation')\n",
    "att.docs = \"An example Attestation component.\"\n",
    "att.definition_url = \"http://s3model.com/examples/attestation\"\n",
    "\n",
    "v = XdFileType('Test Attestation View')\n",
    "v.docs = \"An example view\"\n",
    "v.definition_url = \"http://s3model.com/examples/view\"\n",
    "v.published = True\n",
    "att.view = v\n",
    "\n",
    "p = XdFileType('Test Attestation Proof')\n",
    "p.docs = \"An example proof\"\n",
    "p.definition_url = \"http://s3model.com/examples/proof\"\n",
    "p.published = True\n",
    "att.proof = p\n",
    "\n",
    "r = XdStringType('Test Attestation Reason')\n",
    "r.docs = \"An example reason\"\n",
    "r.definition_url = \"http://s3model.com/examples/reason\"\n",
    "r.published = True\n",
    "att.reason = r\n",
    "\n",
    "c = PartyType(\"Test Attestation Committer\")\n",
    "c.docs = \"An example committer\"\n",
    "c.definition_url = \"http://s3model.com/examples/committer\"\n",
    "c.published = True\n",
    "att.committer = c\n",
    "att.published = True"
   ]
  },
  {
   "cell_type": "markdown",
   "metadata": {},
   "source": [
    "Adding instance data and generating the model and instances."
   ]
  },
  {
   "cell_type": "code",
   "execution_count": 4,
   "metadata": {},
   "outputs": [],
   "source": [
    "# View\n",
    "v.size = os.stat('images/Data-Entry-Form.png').st_size\n",
    "v.alt_txt = \"Data Entry Form\""
   ]
  },
  {
   "cell_type": "code",
   "execution_count": 5,
   "metadata": {},
   "outputs": [],
   "source": [
    "# Proof\n",
    "p.size = os.stat('images/Data-Entry-Form.png.gpg').st_size\n",
    "p.alt_txt = \"Data Entry Form Signature\""
   ]
  },
  {
   "cell_type": "code",
   "execution_count": 6,
   "metadata": {},
   "outputs": [],
   "source": [
    "# Reason\n",
    "r.size = os.stat('images/Data-Entry-Form.png.gpg').st_size\n",
    "r.alt_txt = \"Data Entry Form\""
   ]
  },
  {
   "cell_type": "code",
   "execution_count": 7,
   "metadata": {},
   "outputs": [],
   "source": [
    "# Committer\n",
    "c.party_name = \"John C. Smith\""
   ]
  },
  {
   "cell_type": "code",
   "execution_count": 8,
   "metadata": {},
   "outputs": [
    {
     "name": "stdout",
     "output_type": "stream",
     "text": [
      "Writing model for  AttestationType : Test Attestation, ID: cjo31595s0000y9bildg06moi  to stub.xsd\n",
      "Writing data instance for  AttestationType : Test Attestation, ID: cjo31595s0000y9bildg06moi  to stub.xml\n",
      "Writing JSON data instance for  AttestationType : Test Attestation, ID: cjo31595s0000y9bildg06moi  to stub.json\n"
     ]
    }
   ],
   "source": [
    "# create stubs\n",
    "xsdstub(att)\n",
    "xmlstub(att, True)\n",
    "jsonstub(att, True)"
   ]
  }
 ],
 "metadata": {
  "celltoolbar": "Slideshow",
  "kernelspec": {
   "display_name": "Python [conda env:S3Model]",
   "language": "python",
   "name": "conda-env-S3Model-py"
  },
  "language_info": {
   "codemirror_mode": {
    "name": "ipython",
    "version": 3
   },
   "file_extension": ".py",
   "mimetype": "text/x-python",
   "name": "python",
   "nbconvert_exporter": "python",
   "pygments_lexer": "ipython3",
   "version": "3.7.0"
  }
 },
 "nbformat": 4,
 "nbformat_minor": 2
}

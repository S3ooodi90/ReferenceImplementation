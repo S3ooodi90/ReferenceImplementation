{
 "cells": [
  {
   "cell_type": "markdown",
   "metadata": {
    "slideshow": {
     "slide_type": "slide"
    }
   },
   "source": [
    "# Examples using the AttestationType"
   ]
  },
  {
   "cell_type": "markdown",
   "metadata": {
    "slideshow": {
     "slide_type": "slide"
    }
   },
   "source": [
    "**Set the path to the folder containing the library files and import the extended datatype.**"
   ]
  },
  {
   "cell_type": "code",
   "execution_count": 1,
   "metadata": {
    "slideshow": {
     "slide_type": "fragment"
    }
   },
   "outputs": [],
   "source": [
    "import os\n",
    "import sys \n",
    "sys.path.append(\"../pylib/\")\n",
    "from s3m_xdt import XdFileType\n",
    "from s3m_meta import AttestationType, PartyType"
   ]
  },
  {
   "cell_type": "markdown",
   "metadata": {
    "slideshow": {
     "slide_type": "slide"
    }
   },
   "source": [
    "Review the documentation of AuditType. "
   ]
  },
  {
   "cell_type": "code",
   "execution_count": 2,
   "metadata": {
    "scrolled": false,
    "slideshow": {
     "slide_type": "slide"
    }
   },
   "outputs": [],
   "source": [
    "#help(AttestationType)"
   ]
  },
  {
   "cell_type": "markdown",
   "metadata": {
    "slideshow": {
     "slide_type": "slide"
    }
   },
   "source": [
    "Create an Attestation model and add the required *view, proof & reason* models."
   ]
  },
  {
   "cell_type": "code",
   "execution_count": 3,
   "metadata": {
    "slideshow": {
     "slide_type": "fragment"
    }
   },
   "outputs": [],
   "source": [
    "att = AttestationType('Test Attestation')\n",
    "att.docs = \"An example Attestation component.\"\n",
    "att.definition_url = \"http://s3model.com/examples/attestation\"\n",
    "\n",
    "v = XdFileType('Test Attestation View')\n",
    "v.docs = \"An example view\"\n",
    "v.definition_url = \"http://s3model.com/examples/view\"\n",
    "att.view = v\n",
    "\n",
    "p = XdFileType('Test Attestation Proof')\n",
    "p.docs = \"An example proof\"\n",
    "p.definition_url = \"http://s3model.com/examples/proof\"\n",
    "att.proof = p\n",
    "\n",
    "r = XdFileType('Test Attestation Reason')\n",
    "r.docs = \"An example reason\"\n",
    "r.definition_url = \"http://s3model.com/examples/reason\"\n",
    "att.reason = r\n",
    "\n",
    "c = PartyType(\"Test Attestation Committer\")\n",
    "c.docs = \"An example committer\"\n",
    "c.definition_url = \"http://s3model.com/examples/committer\"\n",
    "att.committer = c\n"
   ]
  },
  {
   "cell_type": "code",
   "execution_count": 4,
   "metadata": {},
   "outputs": [
    {
     "name": "stdout",
     "output_type": "stream",
     "text": [
      "\n",
      "\n",
      "  <xs:complexType name='mc-cjnhjn1zi0000et8p8caal2y5' xml:lang=''>\n",
      "    <xs:annotation>\n",
      "    <xs:documentation>\n",
      "      An example Attestation component.\n",
      "        Definition: http%3A//s3model.com/examples/attestation\n",
      "    </xs:documentation>\n",
      "    <xs:appinfo>\n",
      "    <rdfs:Class rdf:about='mc-cjnhjn1zi0000et8p8caal2y5'>\n",
      "    <rdfs:subClassOf rdf:resource='https://www.s3model.com/ns/s3m/s3model_3_1_0.xsd#AttestationType'/>\n",
      "    <rdfs:subClassOf rdf:resource='https://www.s3model.com/ns/s3m/s3model/RMC'/>\n",
      "    <rdfs:label>Test Attestation</rdfs:label>\n",
      "    </rdfs:Class>\n",
      "    </xs:appinfo>\n",
      "    </xs:annotation>\n",
      "    <xs:complexContent>\n",
      "      <xs:restriction base='s3m:AttestationType'>\n",
      "        <xs:sequence>\n",
      "          <xs:element maxOccurs='1' minOccurs='1' name='label' type='xs:string' fixed=\"Test Attestation\"/>\n",
      "          <xs:element maxOccurs='1' minOccurs='0' name='view' type='s3m:mc-cjnhjn1zj0001et8p67bqy6cc'/> \n",
      "          <xs:element maxOccurs='1' minOccurs='0' name='proof' type='s3m:mc-cjnhjn1zk0003et8pjbjore9m'/> \n",
      "          <xs:element maxOccurs='1' minOccurs='0' name='reason' type='s3m:mc-cjnhjn1zl0005et8plbfon82t'/> \n",
      "          <xs:element maxOccurs='1' minOccurs='0' name='committer' type='s3m:mc-cjnhjn1zm0007et8pgue3geau'/>\n",
      "          <xs:element maxOccurs='1' minOccurs='0' name='committed' type='xs:dateTime'/>\n",
      "          <xs:element maxOccurs='1' minOccurs='1' default='true' name='pending' type='xs:boolean'/>\n",
      "          </xs:sequence>\n",
      "        </xs:restriction>\n",
      "      </xs:complexContent>\n",
      "    </xs:complexType>\n",
      "\n",
      "  <xs:element name=\"ms-cjnhjn1zj0001et8p67bqy6cc\" type=\"s3m:mc-cjnhjn1zj0001et8p67bqy6cc\"/>\n",
      "  <xs:complexType name=\"mc-cjnhjn1zj0001et8p67bqy6cc\">\n",
      "    <xs:annotation>\n",
      "      <xs:documentation>\n",
      "        An example view\n",
      "      </xs:documentation>\n",
      "      <xs:appinfo>\n",
      "        <rdfs:Class rdf:about=\"mc-cjnhjn1zj0001et8p67bqy6cc\">\n",
      "          <rdfs:subClassOf rdf:resource=\"https://www.s3model.com/ns/s3m/s3model_3_1_0.xsd#XdFileType\"/>\n",
      "          <rdfs:subClassOf rdf:resource=\"https://www.s3model.com/ns/s3m/s3model/RMC\"/>\n",
      "          <rdfs:isDefinedBy rdf:resource=\"http%3A//s3model.com/examples/view\"/>\n",
      "        </rdfs:Class>\n",
      "      </xs:appinfo>\n",
      "    </xs:annotation>\n",
      "    <xs:complexContent>\n",
      "      <xs:restriction base=\"s3m:XdFileType\">\n",
      "        <xs:sequence>\n",
      "          <xs:element maxOccurs=\"1\" minOccurs=\"1\" name=\"label\" type=\"xs:string\" fixed=\"Test Attestation View\"/>\n",
      "          <xs:element maxOccurs=\"1\" minOccurs=\"0\" name=\"act\" type=\"xs:string\" default=\"\"/>\n",
      "          <xs:element maxOccurs=\"unbounded\" minOccurs=\"0\" ref=\"s3m:ExceptionalValue\"/>\n",
      "          <xs:element maxOccurs=\"1\" minOccurs=\"0\" name=\"vtb\" type=\"xs:dateTime\"/>\n",
      "          <xs:element maxOccurs=\"1\" minOccurs=\"0\" name=\"vte\" type=\"xs:dateTime\"/>\n",
      "          <xs:element maxOccurs=\"1\" minOccurs=\"0\" name=\"tr\" type=\"xs:dateTime\"/>\n",
      "          <xs:element maxOccurs=\"1\" minOccurs=\"0\" name=\"modified\" type=\"xs:dateTime\"/>\n",
      "          <xs:element maxOccurs=\"1\" minOccurs=\"0\" name=\"latitude\" type=\"s3m:lattype\"/>\n",
      "          <xs:element maxOccurs=\"1\" minOccurs=\"0\" name=\"longitude\" type=\"s3m:lontype\"/>\n",
      "          <xs:element maxOccurs=\"1\" minOccurs=\"0\" name=\"size\" type=\"xs:int\"/>\n",
      "          <xs:element maxOccurs=\"1\" minOccurs=\"0\" name=\"encoding\" type=\"xs:string\"/>\n",
      "          <xs:element maxOccurs=\"1\" minOccurs=\"0\" name=\"xdfile-language\" type=\"xs:language\"/>\n",
      "          <xs:element maxOccurs=\"1\" minOccurs=\"0\" name=\"formalism\" type=\"xs:string\"/>\n",
      "          <xs:element maxOccurs=\"1\" minOccurs=\"0\" name=\"media-type\" type=\"xs:string\"/>\n",
      "          <xs:element maxOccurs=\"1\" minOccurs=\"0\" name=\"compression-type\" type=\"xs:string\"/>\n",
      "          <xs:element maxOccurs=\"1\" minOccurs=\"0\" name=\"hash-result\" type=\"xs:string\"/>\n",
      "          <xs:element maxOccurs=\"1\" minOccurs=\"0\" name=\"hash-function\" type=\"xs:string\"/>\n",
      "          <xs:element maxOccurs=\"1\" minOccurs=\"0\" name=\"alt-txt\" type=\"xs:string\"/>\n",
      "          <xs:element maxOccurs=\"1\" minOccurs=\"1\" name=\"uri\" type=\"xs:anyURI\"/>\n",
      "        </xs:sequence>\n",
      "      </xs:restriction>\n",
      "    </xs:complexContent>\n",
      "  </xs:complexType>\n",
      "\n",
      "  <xs:element name=\"ms-cjnhjn1zk0003et8pjbjore9m\" type=\"s3m:mc-cjnhjn1zk0003et8pjbjore9m\"/>\n",
      "  <xs:complexType name=\"mc-cjnhjn1zk0003et8pjbjore9m\">\n",
      "    <xs:annotation>\n",
      "      <xs:documentation>\n",
      "        An example proof\n",
      "      </xs:documentation>\n",
      "      <xs:appinfo>\n",
      "        <rdfs:Class rdf:about=\"mc-cjnhjn1zk0003et8pjbjore9m\">\n",
      "          <rdfs:subClassOf rdf:resource=\"https://www.s3model.com/ns/s3m/s3model_3_1_0.xsd#XdFileType\"/>\n",
      "          <rdfs:subClassOf rdf:resource=\"https://www.s3model.com/ns/s3m/s3model/RMC\"/>\n",
      "          <rdfs:isDefinedBy rdf:resource=\"http%3A//s3model.com/examples/proof\"/>\n",
      "        </rdfs:Class>\n",
      "      </xs:appinfo>\n",
      "    </xs:annotation>\n",
      "    <xs:complexContent>\n",
      "      <xs:restriction base=\"s3m:XdFileType\">\n",
      "        <xs:sequence>\n",
      "          <xs:element maxOccurs=\"1\" minOccurs=\"1\" name=\"label\" type=\"xs:string\" fixed=\"Test Attestation Proof\"/>\n",
      "          <xs:element maxOccurs=\"1\" minOccurs=\"0\" name=\"act\" type=\"xs:string\" default=\"\"/>\n",
      "          <xs:element maxOccurs=\"unbounded\" minOccurs=\"0\" ref=\"s3m:ExceptionalValue\"/>\n",
      "          <xs:element maxOccurs=\"1\" minOccurs=\"0\" name=\"vtb\" type=\"xs:dateTime\"/>\n",
      "          <xs:element maxOccurs=\"1\" minOccurs=\"0\" name=\"vte\" type=\"xs:dateTime\"/>\n",
      "          <xs:element maxOccurs=\"1\" minOccurs=\"0\" name=\"tr\" type=\"xs:dateTime\"/>\n",
      "          <xs:element maxOccurs=\"1\" minOccurs=\"0\" name=\"modified\" type=\"xs:dateTime\"/>\n",
      "          <xs:element maxOccurs=\"1\" minOccurs=\"0\" name=\"latitude\" type=\"s3m:lattype\"/>\n",
      "          <xs:element maxOccurs=\"1\" minOccurs=\"0\" name=\"longitude\" type=\"s3m:lontype\"/>\n",
      "          <xs:element maxOccurs=\"1\" minOccurs=\"0\" name=\"size\" type=\"xs:int\"/>\n",
      "          <xs:element maxOccurs=\"1\" minOccurs=\"0\" name=\"encoding\" type=\"xs:string\"/>\n",
      "          <xs:element maxOccurs=\"1\" minOccurs=\"0\" name=\"xdfile-language\" type=\"xs:language\"/>\n",
      "          <xs:element maxOccurs=\"1\" minOccurs=\"0\" name=\"formalism\" type=\"xs:string\"/>\n",
      "          <xs:element maxOccurs=\"1\" minOccurs=\"0\" name=\"media-type\" type=\"xs:string\"/>\n",
      "          <xs:element maxOccurs=\"1\" minOccurs=\"0\" name=\"compression-type\" type=\"xs:string\"/>\n",
      "          <xs:element maxOccurs=\"1\" minOccurs=\"0\" name=\"hash-result\" type=\"xs:string\"/>\n",
      "          <xs:element maxOccurs=\"1\" minOccurs=\"0\" name=\"hash-function\" type=\"xs:string\"/>\n",
      "          <xs:element maxOccurs=\"1\" minOccurs=\"0\" name=\"alt-txt\" type=\"xs:string\"/>\n",
      "          <xs:element maxOccurs=\"1\" minOccurs=\"1\" name=\"uri\" type=\"xs:anyURI\"/>\n",
      "        </xs:sequence>\n",
      "      </xs:restriction>\n",
      "    </xs:complexContent>\n",
      "  </xs:complexType>\n",
      "\n",
      "  <xs:element name=\"ms-cjnhjn1zl0005et8plbfon82t\" type=\"s3m:mc-cjnhjn1zl0005et8plbfon82t\"/>\n",
      "  <xs:complexType name=\"mc-cjnhjn1zl0005et8plbfon82t\">\n",
      "    <xs:annotation>\n",
      "      <xs:documentation>\n",
      "        An example reason\n",
      "      </xs:documentation>\n",
      "      <xs:appinfo>\n",
      "        <rdfs:Class rdf:about=\"mc-cjnhjn1zl0005et8plbfon82t\">\n",
      "          <rdfs:subClassOf rdf:resource=\"https://www.s3model.com/ns/s3m/s3model_3_1_0.xsd#XdFileType\"/>\n",
      "          <rdfs:subClassOf rdf:resource=\"https://www.s3model.com/ns/s3m/s3model/RMC\"/>\n",
      "          <rdfs:isDefinedBy rdf:resource=\"http%3A//s3model.com/examples/reason\"/>\n",
      "        </rdfs:Class>\n",
      "      </xs:appinfo>\n",
      "    </xs:annotation>\n",
      "    <xs:complexContent>\n",
      "      <xs:restriction base=\"s3m:XdFileType\">\n",
      "        <xs:sequence>\n",
      "          <xs:element maxOccurs=\"1\" minOccurs=\"1\" name=\"label\" type=\"xs:string\" fixed=\"Test Attestation Reason\"/>\n",
      "          <xs:element maxOccurs=\"1\" minOccurs=\"0\" name=\"act\" type=\"xs:string\" default=\"\"/>\n",
      "          <xs:element maxOccurs=\"unbounded\" minOccurs=\"0\" ref=\"s3m:ExceptionalValue\"/>\n",
      "          <xs:element maxOccurs=\"1\" minOccurs=\"0\" name=\"vtb\" type=\"xs:dateTime\"/>\n",
      "          <xs:element maxOccurs=\"1\" minOccurs=\"0\" name=\"vte\" type=\"xs:dateTime\"/>\n",
      "          <xs:element maxOccurs=\"1\" minOccurs=\"0\" name=\"tr\" type=\"xs:dateTime\"/>\n",
      "          <xs:element maxOccurs=\"1\" minOccurs=\"0\" name=\"modified\" type=\"xs:dateTime\"/>\n",
      "          <xs:element maxOccurs=\"1\" minOccurs=\"0\" name=\"latitude\" type=\"s3m:lattype\"/>\n",
      "          <xs:element maxOccurs=\"1\" minOccurs=\"0\" name=\"longitude\" type=\"s3m:lontype\"/>\n",
      "          <xs:element maxOccurs=\"1\" minOccurs=\"0\" name=\"size\" type=\"xs:int\"/>\n",
      "          <xs:element maxOccurs=\"1\" minOccurs=\"0\" name=\"encoding\" type=\"xs:string\"/>\n",
      "          <xs:element maxOccurs=\"1\" minOccurs=\"0\" name=\"xdfile-language\" type=\"xs:language\"/>\n",
      "          <xs:element maxOccurs=\"1\" minOccurs=\"0\" name=\"formalism\" type=\"xs:string\"/>\n",
      "          <xs:element maxOccurs=\"1\" minOccurs=\"0\" name=\"media-type\" type=\"xs:string\"/>\n",
      "          <xs:element maxOccurs=\"1\" minOccurs=\"0\" name=\"compression-type\" type=\"xs:string\"/>\n",
      "          <xs:element maxOccurs=\"1\" minOccurs=\"0\" name=\"hash-result\" type=\"xs:string\"/>\n",
      "          <xs:element maxOccurs=\"1\" minOccurs=\"0\" name=\"hash-function\" type=\"xs:string\"/>\n",
      "          <xs:element maxOccurs=\"1\" minOccurs=\"0\" name=\"alt-txt\" type=\"xs:string\"/>\n",
      "          <xs:element maxOccurs=\"1\" minOccurs=\"1\" name=\"uri\" type=\"xs:anyURI\"/>\n",
      "        </xs:sequence>\n",
      "      </xs:restriction>\n",
      "    </xs:complexContent>\n",
      "  </xs:complexType>\n",
      "\n",
      "\n",
      "\n",
      "  <xs:complexType name='mc-cjnhjn1zm0007et8pgue3geau'> \n",
      "    <xs:annotation>\n",
      "    <xs:documentation>\n",
      "      An example committer\n",
      "        Definition: http%3A//s3model.com/examples/committer\n",
      "    </xs:documentation>\n",
      "    <xs:appinfo>\n",
      "    <rdfs:Class rdf:about='mc-cjnhjn1zm0007et8pgue3geau'>\n",
      "    <rdfs:subClassOf rdf:resource='https://www.s3model.com/ns/s3m/s3model_3_1_0.xsd#PartyType'/>\n",
      "    <rdfs:subClassOf rdf:resource='https://www.s3model.com/ns/s3m/s3model/RMC'/>\n",
      "    <rdfs:label>Test Attestation Committer</rdfs:label>\n",
      "    </rdfs:Class>\n",
      "    </xs:appinfo>\n",
      "    </xs:annotation>\n",
      "    <xs:complexContent>\n",
      "      <xs:restriction base='s3m:PartyType'>\n",
      "        <xs:sequence>\n",
      "          <xs:element maxOccurs='1' minOccurs='1' name='label' type='xs:string' fixed=\"Test Attestation Committer\"/>\n",
      "          <xs:element maxOccurs='1' minOccurs='0' name='party-name' type='xs:string'/>\n",
      "          </xs:sequence>\n",
      "        </xs:restriction>\n",
      "      </xs:complexContent>\n",
      "    </xs:complexType>\n",
      "\n",
      "\n"
     ]
    }
   ],
   "source": [
    "# view the model\n",
    "print(att.getModel())"
   ]
  },
  {
   "cell_type": "markdown",
   "metadata": {},
   "source": [
    "Adding instance data and generating the instance."
   ]
  },
  {
   "cell_type": "code",
   "execution_count": 5,
   "metadata": {},
   "outputs": [
    {
     "name": "stdout",
     "output_type": "stream",
     "text": [
      "<TODO-Write-template./> \n",
      "\n",
      "\n",
      "{\n",
      "  \"TODO-Write-template.\": null\n",
      "}\n"
     ]
    }
   ],
   "source": [
    "# View\n",
    "v.size = os.stat('images/Data-Entry-Form.png').st_size\n",
    "v.alt_txt = \"Data Entry Form\"\n",
    "\n",
    "# Proof\n",
    "p.size = os.stat('images/Data-Entry-Form.png.gpg').st_size\n",
    "p.alt_txt = \"Data Entry Form Signature\"\n",
    "\n",
    "# Reason\n",
    "r.size = os.stat('images/Data-Entry-Form.png.gpg').st_size\n",
    "r.alt_txt = \"Data Entry Form\"\n",
    "\n",
    "# Committer\n",
    "c.party_name = \"John C. Smith\"\n",
    "\n",
    "# XML\n",
    "print(att.getXMLInstance(),'\\n\\n')\n",
    "# JSON\n",
    "print(att.getJSONInstance())\n"
   ]
  }
 ],
 "metadata": {
  "celltoolbar": "Slideshow",
  "kernelspec": {
   "display_name": "Python [conda env:S3Model]",
   "language": "python",
   "name": "conda-env-S3Model-py"
  },
  "language_info": {
   "codemirror_mode": {
    "name": "ipython",
    "version": 3
   },
   "file_extension": ".py",
   "mimetype": "text/x-python",
   "name": "python",
   "nbconvert_exporter": "python",
   "pygments_lexer": "ipython3",
   "version": "3.7.0"
  }
 },
 "nbformat": 4,
 "nbformat_minor": 2
}

{
 "cells": [
  {
   "cell_type": "markdown",
   "metadata": {
    "slideshow": {
     "slide_type": "slide"
    }
   },
   "source": [
    "# Examples using the ReferenceRangeType & XdIntervalType"
   ]
  },
  {
   "cell_type": "markdown",
   "metadata": {
    "slideshow": {
     "slide_type": "slide"
    }
   },
   "source": [
    "**Set the path to the folder containing the library files and import the extended datatypes.**"
   ]
  },
  {
   "cell_type": "code",
   "execution_count": 1,
   "metadata": {
    "slideshow": {
     "slide_type": "fragment"
    }
   },
   "outputs": [],
   "source": [
    "import sys \n",
    "from decimal import Decimal\n",
    "\n",
    "sys.path.append(\"../pylib/\")\n",
    "from s3m_xdt import XdQuantityType, XdStringType, XdIntervalType, ReferenceRangeType"
   ]
  },
  {
   "cell_type": "markdown",
   "metadata": {
    "slideshow": {
     "slide_type": "slide"
    }
   },
   "source": [
    "Review the documentation of XdIntervalType."
   ]
  },
  {
   "cell_type": "code",
   "execution_count": 2,
   "metadata": {
    "scrolled": false,
    "slideshow": {
     "slide_type": "slide"
    }
   },
   "outputs": [],
   "source": [
    "# help(XdIntervalType)"
   ]
  },
  {
   "cell_type": "markdown",
   "metadata": {
    "slideshow": {
     "slide_type": "slide"
    }
   },
   "source": [
    "Review the documentation of ReferenceRangeType."
   ]
  },
  {
   "cell_type": "code",
   "execution_count": 3,
   "metadata": {
    "scrolled": false,
    "slideshow": {
     "slide_type": "slide"
    }
   },
   "outputs": [],
   "source": [
    "# help(ReferenceRangeType)"
   ]
  },
  {
   "cell_type": "markdown",
   "metadata": {
    "slideshow": {
     "slide_type": "slide"
    }
   },
   "source": [
    "[Reference ranges](https://en.wikipedia.org/wiki/Reference_range) can be used with any Ordered type. \n",
    "\n",
    "In this tutorial we will use a XdQuantity model instance to build a model for recording [Total cholesterol](https://en.wikipedia.org/wiki/Reference_ranges_for_blood_tests#Lipids). A real world example would build a Cluster for the entire Lipids table shown from the previous link. We also assume that this is part of a full electronic record and the person's date of birth (age) and sex (male/female) are recorded elsewhere. Normally the semantic definitions will be related directly to accepted clinical guidelines, not Wikipedia, etc. links.\n",
    "\n",
    "We need a units object to select either; mmol/L or mg/dL. \n",
    "\n",
    "We need six reference ranges, one for each units choice available and one for each range; desireable, borderline and high. Ideally there will be reference ranges defined for each age group as well as by sex. That is overkill for our basic tutorial purposes.\n"
   ]
  },
  {
   "cell_type": "code",
   "execution_count": 4,
   "metadata": {},
   "outputs": [
    {
     "ename": "ValueError",
     "evalue": "The lower and upper types must match",
     "output_type": "error",
     "traceback": [
      "\u001b[0;31m---------------------------------------------------------------------------\u001b[0m",
      "\u001b[0;31mValueError\u001b[0m                                Traceback (most recent call last)",
      "\u001b[0;32m<ipython-input-4-c7b569940d2c>\u001b[0m in \u001b[0;36m<module>\u001b[0;34m()\u001b[0m\n\u001b[1;32m     28\u001b[0m \u001b[0mi\u001b[0m \u001b[0;34m=\u001b[0m \u001b[0mXdIntervalType\u001b[0m\u001b[0;34m(\u001b[0m\u001b[0;34m\"TCDR (mmol/L)\"\u001b[0m\u001b[0;34m,\u001b[0m \u001b[0mDecimal\u001b[0m\u001b[0;34m)\u001b[0m\u001b[0;34m\u001b[0m\u001b[0m\n\u001b[1;32m     29\u001b[0m \u001b[0mi\u001b[0m\u001b[0;34m.\u001b[0m\u001b[0minterval_units\u001b[0m \u001b[0;34m=\u001b[0m \u001b[0;34m(\u001b[0m\u001b[0;34m'mmol/L'\u001b[0m\u001b[0;34m,\u001b[0m\u001b[0;34m'https://en.wikipedia.org/wiki/Molar_concentration#Units/mmol/L'\u001b[0m\u001b[0;34m)\u001b[0m\u001b[0;34m\u001b[0m\u001b[0m\n\u001b[0;32m---> 30\u001b[0;31m \u001b[0mi\u001b[0m\u001b[0;34m.\u001b[0m\u001b[0mlower\u001b[0m \u001b[0;34m=\u001b[0m \u001b[0;36m0\u001b[0m\u001b[0;34m\u001b[0m\u001b[0m\n\u001b[0m\u001b[1;32m     31\u001b[0m \u001b[0mi\u001b[0m\u001b[0;34m.\u001b[0m\u001b[0mupper\u001b[0m \u001b[0;34m=\u001b[0m \u001b[0;36m5.2\u001b[0m\u001b[0;34m\u001b[0m\u001b[0m\n\u001b[1;32m     32\u001b[0m \u001b[0mi\u001b[0m\u001b[0;34m.\u001b[0m\u001b[0mupper_included\u001b[0m \u001b[0;34m=\u001b[0m \u001b[0;32mFalse\u001b[0m\u001b[0;34m\u001b[0m\u001b[0m\n",
      "\u001b[0;32m~/DII/S3Model/RM/3_1_0/pylib/s3m_xdt.py\u001b[0m in \u001b[0;36mlower\u001b[0;34m(self, v)\u001b[0m\n\u001b[1;32m    564\u001b[0m                     \u001b[0mself\u001b[0m\u001b[0;34m.\u001b[0m\u001b[0m_lower\u001b[0m \u001b[0;34m=\u001b[0m \u001b[0mv\u001b[0m\u001b[0;34m\u001b[0m\u001b[0m\n\u001b[1;32m    565\u001b[0m                 \u001b[0;32melse\u001b[0m\u001b[0;34m:\u001b[0m\u001b[0;34m\u001b[0m\u001b[0m\n\u001b[0;32m--> 566\u001b[0;31m                     \u001b[0;32mraise\u001b[0m \u001b[0mValueError\u001b[0m\u001b[0;34m(\u001b[0m\u001b[0;34m\"The lower and upper types must match\"\u001b[0m\u001b[0;34m)\u001b[0m\u001b[0;34m\u001b[0m\u001b[0m\n\u001b[0m\u001b[1;32m    567\u001b[0m             \u001b[0;32melse\u001b[0m\u001b[0;34m:\u001b[0m\u001b[0;34m\u001b[0m\u001b[0m\n\u001b[1;32m    568\u001b[0m                 \u001b[0;32mraise\u001b[0m \u001b[0mValueError\u001b[0m\u001b[0;34m(\u001b[0m\u001b[0;34m\"The data type of \"\u001b[0m \u001b[0;34m+\u001b[0m \u001b[0mstr\u001b[0m\u001b[0;34m(\u001b[0m\u001b[0mv\u001b[0m\u001b[0;34m)\u001b[0m \u001b[0;34m+\u001b[0m \u001b[0;34m\" must be a valid interval type not \"\u001b[0m \u001b[0;34m+\u001b[0m \u001b[0mstr\u001b[0m\u001b[0;34m(\u001b[0m\u001b[0mtype\u001b[0m\u001b[0;34m(\u001b[0m\u001b[0mv\u001b[0m\u001b[0;34m)\u001b[0m\u001b[0;34m)\u001b[0m\u001b[0;34m)\u001b[0m\u001b[0;34m\u001b[0m\u001b[0m\n",
      "\u001b[0;31mValueError\u001b[0m: The lower and upper types must match"
     ]
    }
   ],
   "source": [
    "# create the units model\n",
    "u = XdStringType('Concentration Units')\n",
    "u.docs = \"Select the concentration units.\"\n",
    "u.definition_url = 'https://chem.libretexts.org/Textbook_Maps/Analytical_Chemistry/Book%3A_Analytical_Chemistry_2.0_(Harvey)/02_Basic_Tools_of_Analytical_Chemistry/2.2%3A_Concentration'\n",
    "# create the units options\n",
    "enums = []\n",
    "enums.append(('mmol/L', 'https://en.wikipedia.org/wiki/Molar_concentration#Units/mmol/L'))\n",
    "enums.append(('mg/dL', 'https://en.wikipedia.org/wiki/Molar_concentration#Units/mg/dL'))\n",
    "# note that we need to create URIs for each unit since they often do not exist\n",
    "u.enums = enums\n",
    "u.published = True\n",
    "\n",
    "# now the model\n",
    "d = XdQuantityType(\"Total Cholesterol\")\n",
    "d.docs = \"Record the concentration of cholesterol.\"\n",
    "d.definition_url = 'https://en.wikipedia.org/wiki/Cholesterol#Cholesterol_testing'\n",
    "d.units = u\n",
    "\n",
    "d.min_inclusive = 0  # can't have a negative amount\n",
    "d.max_inclusive = 500  # this would clearly be out of range\n",
    "d.fraction_digits = 1 # limit the decimal places\n",
    "d.total_digits = 5\n",
    "\n",
    "# define two reference ranges for the Desireable range\n",
    "mmol = ReferenceRangeType(\"Total Cholesterol Desireable Range (mmol/L)\")\n",
    "mmol.definition_url = 'https://www.mayoclinic.org/tests-procedures/cholesterol-test/about/pac-20384601#desireable/mmol'\n",
    "mmol.is_normal = True # this is considered the normal/desired range\n",
    "i = XdIntervalType(\"TCDR (mmol/L)\", Decimal)\n",
    "i.interval_units = ('mmol/L','https://en.wikipedia.org/wiki/Molar_concentration#Units/mmol/L')\n",
    "i.lower = 0\n",
    "i.upper = 5.2\n",
    "i.upper_included = False\n",
    "i.lower_included = False\n",
    "i.published = True\n",
    "mmol.interval = i\n",
    "mmol.published = True\n",
    "d.referenceranges = mmol\n",
    "\n",
    "mg = ReferenceRangeType(\"Total Cholesterol Desireable Range (mg/dL)\")\n",
    "mg.definition_url = 'https://www.mayoclinic.org/tests-procedures/cholesterol-test/about/pac-20384601#desireable/mg'\n",
    "mg.is_normal = True # this is considered the normal/desired range\n",
    "i = XdIntervalType(\"TCDR (mg/dL)\", Decimal)\n",
    "i.interval_units = ('mg/dL','https://en.wikipedia.org/wiki/Molar_concentration#Units/mg/dL')\n",
    "i.lower = 0\n",
    "i.upper = 200\n",
    "i.upper_included = False\n",
    "i.lower_included = False\n",
    "i.published = True\n",
    "mg.interval = i\n",
    "mg.published = True\n",
    "d.referenceranges = mg\n",
    "\n",
    "# define two reference ranges for the Borderline high range\n",
    "mmol = ReferenceRangeType(\"Total Cholesterol Borderline high Range (mmol/L)\")\n",
    "mmol.definition_url = 'https://www.mayoclinic.org/tests-procedures/cholesterol-test/about/pac-20384601#Borderlinehigh/mmol'\n",
    "i = XdIntervalType(\"TCBR (mmol/L)\", Decimal)\n",
    "i.interval_units = ('mmol/L','https://en.wikipedia.org/wiki/Molar_concentration#Units/mmol/L')\n",
    "i.lower = 5.2\n",
    "i.upper = 6.2\n",
    "i.upper_included = True\n",
    "i.lower_included = True\n",
    "i.published = True\n",
    "mmol.interval = i\n",
    "mmol.published = True\n",
    "d.referenceranges = mmol\n",
    "\n",
    "mg = ReferenceRangeType(\"Total Cholesterol Borderline high Range (mg/dL)\")\n",
    "mg.definition_url = 'https://www.mayoclinic.org/tests-procedures/cholesterol-test/about/pac-20384601#Borderlinehigh/mg'\n",
    "i = XdIntervalType(\"TCBR (mg/dL)\", Decimal)\n",
    "i.interval_units = ('mg/dL','https://en.wikipedia.org/wiki/Molar_concentration#Units/mg/dL')\n",
    "i.lower = 200\n",
    "i.upper = 239\n",
    "i.upper_included = True\n",
    "i.lower_included = True\n",
    "i.published = True\n",
    "mg.interval = i\n",
    "mg.published = True\n",
    "d.referenceranges = mg\n",
    "\n",
    "# define two reference ranges for the High range\n",
    "mmol = ReferenceRangeType(\"Total Cholesterol High Range (mmol/L)\")\n",
    "mmol.definition_url = 'https://www.mayoclinic.org/tests-procedures/cholesterol-test/about/pac-20384601#high/mmol'\n",
    "i = XdIntervalType(\"TCHR (mmol/L)\", Decimal)\n",
    "i.interval_units = ('mmol/L','https://en.wikipedia.org/wiki/Molar_concentration#Units/mmol/L')\n",
    "i.lower = 6.2\n",
    "i.lower_included = False\n",
    "i.upper_unbounded = True\n",
    "i.published = True\n",
    "mmol.interval = i\n",
    "mmol.published = True\n",
    "d.referenceranges = mmol\n",
    "\n",
    "mg = ReferenceRangeType(\"Total Cholesterol High Range (mg/dL)\")\n",
    "mg.definition_url = 'https://www.mayoclinic.org/tests-procedures/cholesterol-test/about/pac-20384601#high/mg'\n",
    "i = XdIntervalType(\"TCHR (mg/dL)\", Decimal)\n",
    "i.interval_units = ('mg/dL','https://en.wikipedia.org/wiki/Molar_concentration#Units/mg/dL')\n",
    "i.lower = 240\n",
    "i.lower_included = False\n",
    "i.upper_bounded = False\n",
    "i.published = True\n",
    "mg.interval = i\n",
    "mg.published = True\n",
    "d.referenceranges = mg\n",
    "\n",
    "\n",
    "print(d)"
   ]
  },
  {
   "cell_type": "markdown",
   "metadata": {},
   "source": [
    "Examine the model."
   ]
  },
  {
   "cell_type": "code",
   "execution_count": null,
   "metadata": {
    "scrolled": false
   },
   "outputs": [],
   "source": [
    "d.published = True\n",
    "print(d.getModel())"
   ]
  },
  {
   "cell_type": "markdown",
   "metadata": {},
   "source": [
    "Print an XML instance example."
   ]
  },
  {
   "cell_type": "code",
   "execution_count": null,
   "metadata": {
    "scrolled": true
   },
   "outputs": [],
   "source": [
    "d.value = 128.00\n",
    "print(d.getXMLInstance(True))"
   ]
  }
 ],
 "metadata": {
  "kernelspec": {
   "display_name": "Python [conda env:S3Model]",
   "language": "python",
   "name": "conda-env-S3Model-py"
  },
  "language_info": {
   "codemirror_mode": {
    "name": "ipython",
    "version": 3
   },
   "file_extension": ".py",
   "mimetype": "text/x-python",
   "name": "python",
   "nbconvert_exporter": "python",
   "pygments_lexer": "ipython3",
   "version": "3.7.0"
  }
 },
 "nbformat": 4,
 "nbformat_minor": 2
}

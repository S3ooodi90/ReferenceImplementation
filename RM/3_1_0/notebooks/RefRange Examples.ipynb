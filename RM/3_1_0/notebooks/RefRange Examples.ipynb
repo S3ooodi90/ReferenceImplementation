{
 "cells": [
  {
   "cell_type": "markdown",
   "metadata": {
    "slideshow": {
     "slide_type": "slide"
    }
   },
   "source": [
    "# Examples using the ReferenceRangeType & XdIntervalType"
   ]
  },
  {
   "cell_type": "markdown",
   "metadata": {
    "slideshow": {
     "slide_type": "slide"
    }
   },
   "source": [
    "**Set the path to the folder containing the library files and import the extended datatypes.**"
   ]
  },
  {
   "cell_type": "code",
   "execution_count": 1,
   "metadata": {
    "slideshow": {
     "slide_type": "fragment"
    }
   },
   "outputs": [],
   "source": [
    "import sys \n",
    "from decimal import Decimal\n",
    "\n",
    "sys.path.append(\"../pylib/\")\n",
    "from s3m_xdt import XdQuantityType, XdStringType, XdIntervalType, ReferenceRangeType"
   ]
  },
  {
   "cell_type": "markdown",
   "metadata": {
    "slideshow": {
     "slide_type": "slide"
    }
   },
   "source": [
    "Review the documentation of XdIntervalType."
   ]
  },
  {
   "cell_type": "code",
   "execution_count": 2,
   "metadata": {
    "scrolled": false,
    "slideshow": {
     "slide_type": "slide"
    }
   },
   "outputs": [],
   "source": [
    "# help(XdIntervalType)"
   ]
  },
  {
   "cell_type": "markdown",
   "metadata": {
    "slideshow": {
     "slide_type": "slide"
    }
   },
   "source": [
    "Review the documentation of ReferenceRangeType."
   ]
  },
  {
   "cell_type": "code",
   "execution_count": 3,
   "metadata": {
    "scrolled": false,
    "slideshow": {
     "slide_type": "slide"
    }
   },
   "outputs": [],
   "source": [
    "# help(ReferenceRangeType)"
   ]
  },
  {
   "cell_type": "markdown",
   "metadata": {
    "slideshow": {
     "slide_type": "slide"
    }
   },
   "source": [
    "[Reference ranges](https://en.wikipedia.org/wiki/Reference_range) can be used with any Ordered type. \n",
    "\n",
    "In this tutorial we will use a XdQuantity model instance to build a model for recording [Total cholesterol](https://en.wikipedia.org/wiki/Reference_ranges_for_blood_tests#Lipids). A real world example would build a Cluster for the entire Lipids table shown from the previous link. We also assume that this is part of a full electronic record and the person's date of birth (age) and sex (male/female) are recorded elsewhere. Normally the semantic definitions will be related directly to accepted clinical guidelines, not Wikipedia, etc. links.\n",
    "\n",
    "We need a units object to select either; mmol/L or mg/dL. \n",
    "\n",
    "We need six reference ranges, one for each units choice available and one for each range; desireable, borderline and high. Ideally there will be reference ranges defined for each age group as well as by sex. That is overkill for our basic tutorial purposes.\n"
   ]
  },
  {
   "cell_type": "code",
   "execution_count": 4,
   "metadata": {},
   "outputs": [
    {
     "name": "stdout",
     "output_type": "stream",
     "text": [
      "XdStringType : Concentration Units, ID: cjnrywgra0000pebi3itzblrs Published: True\n"
     ]
    }
   ],
   "source": [
    "# create the units model\n",
    "u = XdStringType('Concentration Units')\n",
    "u.docs = \"Select the concentration units.\"\n",
    "u.definition_url = 'https://chem.libretexts.org/Textbook_Maps/Analytical_Chemistry/Book%3A_Analytical_Chemistry_2.0_(Harvey)/02_Basic_Tools_of_Analytical_Chemistry/2.2%3A_Concentration'\n",
    "# create the units options\n",
    "enums = []\n",
    "enums.append(('mmol/L', 'https://en.wikipedia.org/wiki/Molar_concentration#Units/mmol/L'))\n",
    "enums.append(('mg/dL', 'https://en.wikipedia.org/wiki/Molar_concentration#Units/mg/dL'))\n",
    "# note that we need to create URIs for each unit since they often do not exist\n",
    "u.enums = enums\n",
    "u.published = True\n",
    "\n",
    "print(u)"
   ]
  },
  {
   "cell_type": "code",
   "execution_count": 5,
   "metadata": {},
   "outputs": [
    {
     "name": "stdout",
     "output_type": "stream",
     "text": [
      "XdQuantityType : Total Cholesterol, ID: cjnrywgrj0002pebidqqnq76o Published: False\n"
     ]
    }
   ],
   "source": [
    "# now the model\n",
    "d = XdQuantityType(\"Total Cholesterol\")\n",
    "d.docs = \"Record the concentration of cholesterol.\"\n",
    "d.definition_url = 'https://en.wikipedia.org/wiki/Cholesterol#Cholesterol_testing'\n",
    "d.units = u\n",
    "d.min_inclusive = 0  # can't have a negative amount\n",
    "d.max_inclusive = 500  # this would clearly be out of range\n",
    "d.fraction_digits = 1 # limit the decimal places\n",
    "d.total_digits = 5\n",
    "\n",
    "print(d)"
   ]
  },
  {
   "cell_type": "code",
   "execution_count": 6,
   "metadata": {},
   "outputs": [
    {
     "name": "stdout",
     "output_type": "stream",
     "text": [
      "XdIntervalType : TCDR (mmol/L), ID: cjnrywgrt0006pebi1xsr68ko Published: True\n",
      "ReferenceRangeType : Total Cholesterol Desireable Range (mmol/L), ID: cjnrywgrt0004pebiyopp33t3 Published: True\n"
     ]
    }
   ],
   "source": [
    "# define reference ranges and intervals for the Desireable range\n",
    "mmol = ReferenceRangeType(\"Total Cholesterol Desireable Range (mmol/L)\")\n",
    "mmol.definition_url = 'https://www.mayoclinic.org/tests-procedures/cholesterol-test/about/pac-20384601#desireable/mmol'\n",
    "mmol.is_normal = True # this is considered the normal/desired range\n",
    "\n",
    "i = XdIntervalType(\"TCDR (mmol/L)\", Decimal)\n",
    "i.interval_units = ('mmol/L','https://en.wikipedia.org/wiki/Molar_concentration#Units/mmol/L')\n",
    "i.definition_url = 'https://www.mayoclinic.org/tests-procedures/cholesterol-test/interval'\n",
    "\n",
    "# be sure to pass upper/lower as a string. It is coerced into the correct type upon assignment\n",
    "i.lower = '0'\n",
    "i.upper = '5.2'\n",
    "i.upper_included = False\n",
    "i.lower_included = False\n",
    "i.published = True\n",
    "print(i)\n",
    "\n",
    "mmol.interval = i\n",
    "mmol.published = True\n",
    "d.referenceranges = mmol\n",
    "\n",
    "print(mmol)"
   ]
  },
  {
   "cell_type": "code",
   "execution_count": 7,
   "metadata": {},
   "outputs": [
    {
     "name": "stdout",
     "output_type": "stream",
     "text": [
      "ReferenceRangeType : Total Cholesterol Desireable Range (mg/dL), ID: cjnrywgs60008pebisetm6ilw Published: True\n"
     ]
    }
   ],
   "source": [
    "mg = ReferenceRangeType(\"Total Cholesterol Desireable Range (mg/dL)\")\n",
    "mg.definition_url = 'https://www.mayoclinic.org/tests-procedures/cholesterol-test/about/pac-20384601#desireable/mg'\n",
    "mg.is_normal = True # this is considered the normal/desired range\n",
    "i = XdIntervalType(\"TCDR (mg/dL)\", Decimal)\n",
    "i.interval_units = ('mg/dL','https://en.wikipedia.org/wiki/Molar_concentration#Units/mg/dL')\n",
    "i.definition_url = 'https://www.mayoclinic.org/tests-procedures/cholesterol-test/interval'\n",
    "\n",
    "i.lower = '0'\n",
    "i.upper = '200'\n",
    "i.upper_included = False\n",
    "i.lower_included = False\n",
    "i.published = True\n",
    "mg.interval = i\n",
    "mg.published = True\n",
    "d.referenceranges = mg\n",
    "\n",
    "\n",
    "print(mg)"
   ]
  },
  {
   "cell_type": "code",
   "execution_count": 8,
   "metadata": {},
   "outputs": [
    {
     "name": "stdout",
     "output_type": "stream",
     "text": [
      "ReferenceRangeType : Total Cholesterol Borderline high Range (mmol/L), ID: cjnrywgsh000cpebijg0wsyse Published: True\n"
     ]
    }
   ],
   "source": [
    "# define two reference ranges for the Borderline high range\n",
    "mmol = ReferenceRangeType(\"Total Cholesterol Borderline high Range (mmol/L)\")\n",
    "mmol.definition_url = 'https://www.mayoclinic.org/tests-procedures/cholesterol-test/about/pac-20384601#Borderlinehigh/mmol'\n",
    "i = XdIntervalType(\"TCBR (mmol/L)\", Decimal)\n",
    "i.interval_units = ('mmol/L','https://en.wikipedia.org/wiki/Molar_concentration#Units/mmol/L')\n",
    "i.definition_url = 'https://www.mayoclinic.org/tests-procedures/cholesterol-test/interval'\n",
    "\n",
    "i.lower = '5.2'\n",
    "i.upper = '6.2'\n",
    "i.upper_included = True\n",
    "i.lower_included = True\n",
    "i.published = True\n",
    "mmol.interval = i\n",
    "mmol.published = True\n",
    "d.referenceranges = mmol\n",
    "\n",
    "\n",
    "\n",
    "print(mmol)"
   ]
  },
  {
   "cell_type": "code",
   "execution_count": 9,
   "metadata": {},
   "outputs": [
    {
     "name": "stdout",
     "output_type": "stream",
     "text": [
      "ReferenceRangeType : Total Cholesterol Borderline high Range (mg/dL), ID: cjnrywgst000gpebi1dfptfk2 Published: True\n"
     ]
    }
   ],
   "source": [
    "mg = ReferenceRangeType(\"Total Cholesterol Borderline high Range (mg/dL)\")\n",
    "mg.definition_url = 'https://www.mayoclinic.org/tests-procedures/cholesterol-test/about/pac-20384601#Borderlinehigh/mg'\n",
    "i = XdIntervalType(\"TCBR (mg/dL)\", Decimal)\n",
    "i.interval_units = ('mg/dL','https://en.wikipedia.org/wiki/Molar_concentration#Units/mg/dL')\n",
    "i.definition_url = 'https://www.mayoclinic.org/tests-procedures/cholesterol-test/interval'\n",
    "\n",
    "i.lower = '200'\n",
    "i.upper = '239'\n",
    "i.upper_included = True\n",
    "i.lower_included = True\n",
    "i.published = True\n",
    "mg.interval = i\n",
    "mg.published = True\n",
    "d.referenceranges = mg\n",
    "\n",
    "\n",
    "print(mg)"
   ]
  },
  {
   "cell_type": "code",
   "execution_count": 10,
   "metadata": {},
   "outputs": [
    {
     "name": "stdout",
     "output_type": "stream",
     "text": [
      "ReferenceRangeType : Total Cholesterol High Range (mmol/L), ID: cjnrywgt6000kpebiwm1l5uzv Published: True\n"
     ]
    }
   ],
   "source": [
    "# define two reference ranges for the High range\n",
    "mmol = ReferenceRangeType(\"Total Cholesterol High Range (mmol/L)\")\n",
    "mmol.definition_url = 'https://www.mayoclinic.org/tests-procedures/cholesterol-test/about/pac-20384601#high/mmol'\n",
    "i = XdIntervalType(\"TCHR (mmol/L)\", Decimal)\n",
    "i.interval_units = ('mmol/L','https://en.wikipedia.org/wiki/Molar_concentration#Units/mmol/L')\n",
    "i.definition_url = 'https://www.mayoclinic.org/tests-procedures/cholesterol-test/interval'\n",
    "\n",
    "i.lower = '6.2'\n",
    "i.lower_included = False\n",
    "i.upper_unbounded = True\n",
    "i.published = True\n",
    "mmol.interval = i\n",
    "mmol.published = True\n",
    "d.referenceranges = mmol\n",
    "\n",
    "\n",
    "\n",
    "print(mmol)"
   ]
  },
  {
   "cell_type": "code",
   "execution_count": 11,
   "metadata": {},
   "outputs": [
    {
     "name": "stdout",
     "output_type": "stream",
     "text": [
      "XdQuantityType : Total Cholesterol, ID: cjnrywgrj0002pebidqqnq76o Published: True\n"
     ]
    }
   ],
   "source": [
    "mg = ReferenceRangeType(\"Total Cholesterol High Range (mg/dL)\")\n",
    "mg.definition_url = 'https://www.mayoclinic.org/tests-procedures/cholesterol-test/about/pac-20384601#high/mg'\n",
    "i = XdIntervalType(\"TCHR (mg/dL)\", Decimal)\n",
    "i.interval_units = ('mg/dL','https://en.wikipedia.org/wiki/Molar_concentration#Units/mg/dL')\n",
    "i.definition_url = 'https://www.mayoclinic.org/tests-procedures/cholesterol-test/interval'\n",
    "\n",
    "i.lower = '240'\n",
    "i.lower_included = False\n",
    "i.upper_bounded = False\n",
    "i.published = True\n",
    "mg.interval = i\n",
    "mg.published = True\n",
    "d.referenceranges = mg\n",
    "\n",
    "d.published = True\n",
    "print(d)"
   ]
  },
  {
   "cell_type": "markdown",
   "metadata": {},
   "source": [
    "Examine the model."
   ]
  },
  {
   "cell_type": "code",
   "execution_count": 17,
   "metadata": {
    "scrolled": false
   },
   "outputs": [],
   "source": [
    "%%capture xsd\n",
    "print(d.getModel())\n",
    "with open('stub.xsd', 'w') as f:\n",
    "    f.write(\"\"\"<?xml version='1.0' encoding='UTF-8'?>\n",
    "<xs:schema xmlns:xs=\"http://www.w3.org/2001/XMLSchema\"\n",
    "  xmlns:rdfs=\"http://www.w3.org/2000/01/rdf-schema#\"\n",
    "  xmlns:rdf=\"http://www.w3.org/1999/02/22-rdf-syntax-ns#\"\n",
    "  xmlns:vc=\"http://www.w3.org/2007/XMLSchema-versioning\" xmlns:s3m=\"https://www.s3model.com/ns/s3m/\"\n",
    "  targetNamespace=\"https://www.s3model.com/ns/s3m/\">\n",
    "  <xs:include schemaLocation=\"https://www.s3model.com/ns/s3m/s3model_3_1_0.xsd\"/>\n",
    " \n",
    "<xs:element name=\"root\"/>\n",
    "\n",
    "  \"\"\")\n",
    "  \n",
    "    f.write(xsd.stdout)\n",
    "    f.write(\"</xs:schema>\")\n",
    "    \n",
    "del xsd"
   ]
  },
  {
   "cell_type": "markdown",
   "metadata": {},
   "source": [
    "Print an XML instance example."
   ]
  },
  {
   "cell_type": "code",
   "execution_count": 19,
   "metadata": {
    "scrolled": true
   },
   "outputs": [],
   "source": [
    "%%capture xml\n",
    "d.value = 128.00\n",
    "print(d.getXMLInstance())\n",
    "with open('stub.xml', 'w') as f:\n",
    "    f.write(\"\"\"<?xml version='1.0' encoding='UTF-8'?>\n",
    "<s3m:root xmlns:xs=\"http://www.w3.org/2001/XMLSchema\" \n",
    "  xmlns:s3m=\"https://www.s3model.com/ns/s3m/\"\n",
    "  targetNamespace=\"https://www.s3model.com/ns/s3m/\"\n",
    "  xmlns:xsi=\"http://www.w3.org/2001/XMLSchema-instance\"\n",
    "  xsi:schemaLocation='https://www.s3model.com/ns/s3m/ stub.xsd'\n",
    ">\n",
    "\n",
    "\"\"\")\n",
    "  \n",
    "    f.write(xml.stdout)\n",
    "    f.write(\"</s3m:root>\")\n",
    "    \n",
    "del xml"
   ]
  }
 ],
 "metadata": {
  "kernelspec": {
   "display_name": "Python [conda env:S3Model]",
   "language": "python",
   "name": "conda-env-S3Model-py"
  },
  "language_info": {
   "codemirror_mode": {
    "name": "ipython",
    "version": 3
   },
   "file_extension": ".py",
   "mimetype": "text/x-python",
   "name": "python",
   "nbconvert_exporter": "python",
   "pygments_lexer": "ipython3",
   "version": "3.7.0"
  }
 },
 "nbformat": 4,
 "nbformat_minor": 2
}

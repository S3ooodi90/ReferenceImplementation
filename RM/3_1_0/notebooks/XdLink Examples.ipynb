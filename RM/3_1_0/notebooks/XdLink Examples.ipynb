{
 "cells": [
  {
   "cell_type": "markdown",
   "metadata": {
    "slideshow": {
     "slide_type": "slide"
    }
   },
   "source": [
    "# Examples using the XdLinkType"
   ]
  },
  {
   "cell_type": "markdown",
   "metadata": {
    "slideshow": {
     "slide_type": "slide"
    }
   },
   "source": [
    "**Set the path to the folder containing the library files and import the extended datatype.**"
   ]
  },
  {
   "cell_type": "code",
   "execution_count": 1,
   "metadata": {
    "slideshow": {
     "slide_type": "fragment"
    }
   },
   "outputs": [],
   "source": [
    "import sys \n",
    "sys.path.append(\"../pylib/\")\n",
    "from s3m_xdt import XdLinkType"
   ]
  },
  {
   "cell_type": "markdown",
   "metadata": {
    "slideshow": {
     "slide_type": "slide"
    }
   },
   "source": [
    "Review the documentation of XdLinkType.\n"
   ]
  },
  {
   "cell_type": "code",
   "execution_count": 2,
   "metadata": {
    "slideshow": {
     "slide_type": "slide"
    }
   },
   "outputs": [
    {
     "name": "stdout",
     "output_type": "stream",
     "text": [
      "Help on class XdLinkType in module s3m_xdt:\n",
      "\n",
      "class XdLinkType(XdAnyType)\n",
      " |  XdLinkType(label: str, link: str, relation: str)\n",
      " |  \n",
      " |  Used to specify a Universal Resource Identifier. Set the pattern facet to accommodate your needs in the DM.\n",
      " |  Intended use is to provide a mechanism that can be used to link together Data Models.\n",
      " |  The relation element allows for the use of a descriptive term for the link with an optional URI pointing to the\n",
      " |  source vocabulary. In most usecases the modeler will define all three of these using the 'fixed' attribute.\n",
      " |  Other usecases will have the 'relation' and 'relation-uri' elements fixed and the application will provide the\n",
      " |  'link-value'.\n",
      " |  \n",
      " |  Method resolution order:\n",
      " |      XdLinkType\n",
      " |      XdAnyType\n",
      " |      abc.ABC\n",
      " |      builtins.object\n",
      " |  \n",
      " |  Methods defined here:\n",
      " |  \n",
      " |  __init__(self, label: str, link: str, relation: str)\n",
      " |      The semantic label (name of the model) is required.\n",
      " |  \n",
      " |  getModel(self)\n",
      " |      Return a XML Schema complexType definition.\n",
      " |  \n",
      " |  getXMLInstance(self)\n",
      " |      Return an example XML fragment for this model.\n",
      " |  \n",
      " |  validate(self)\n",
      " |      Every XdType must implement this method.\n",
      " |  \n",
      " |  ----------------------------------------------------------------------\n",
      " |  Data descriptors defined here:\n",
      " |  \n",
      " |  link\n",
      " |      A required URI. A URL to another Data Model or just the dm-{uuid}.\n",
      " |  \n",
      " |  relation\n",
      " |      A required term, normally drawn from a vocabulary or ontology such as the rdf:label of OBO RO.\n",
      " |  \n",
      " |  relation_uri\n",
      " |      A URI where the definition of the relation element term can be found.\n",
      " |      Normally points to an ontology such as the OBO RO http://purl.obolibrary.org/obo/ro.owl\n",
      " |  \n",
      " |  ----------------------------------------------------------------------\n",
      " |  Data and other attributes defined here:\n",
      " |  \n",
      " |  __abstractmethods__ = frozenset()\n",
      " |  \n",
      " |  ----------------------------------------------------------------------\n",
      " |  Methods inherited from XdAnyType:\n",
      " |  \n",
      " |  __str__(self)\n",
      " |      Return str(self).\n",
      " |  \n",
      " |  getJSONInstance(self)\n",
      " |      Return an example JSON fragment for this model.\n",
      " |  \n",
      " |  ----------------------------------------------------------------------\n",
      " |  Data descriptors inherited from XdAnyType:\n",
      " |  \n",
      " |  __dict__\n",
      " |      dictionary for instance variables (if defined)\n",
      " |  \n",
      " |  __weakref__\n",
      " |      list of weak references to the object (if defined)\n",
      " |  \n",
      " |  act\n",
      " |      Access Control Tag. \n",
      " |      \n",
      " |      If this is used it must contain a valid term from the Access Control System linked \n",
      " |      to by the containing Data Model 'acs' attribute. It is available as the ACS imported\n",
      " |      from s3m_dm.\n",
      " |  \n",
      " |  acuid\n",
      " |      The unique identifier of the wrapping XdAdapter of the component.\n",
      " |  \n",
      " |  adapter\n",
      " |      When True, creates an XdAdapterType wrapper.\n",
      " |  \n",
      " |  cardinality\n",
      " |      The cardinality status values.\n",
      " |      \n",
      " |      The setter method can be called by each subclass to add cardinality\n",
      " |      values for each element or change the defaults.\n",
      " |      Some elements cardinality may not be changed.\n",
      " |      Ex: XdBoolean elements are not modifiable.\n",
      " |      \n",
      " |      The cardinality dictionary uses a string representation of each\n",
      " |      property name and a list as the value.\n",
      " |      \n",
      " |      The value passed into the setter is a tuple with v[0] as a string (key) and\n",
      " |      v[1] as a list containing an integer set representing the\n",
      " |      (minimum, maximum) values. The entire value list is replaced in the dictionary.\n",
      " |      \n",
      " |      Examples\n",
      " |      --------\n",
      " |      \n",
      " |      ('vtb', [1,1]) will set the vtb value to be required.\n",
      " |      \n",
      " |      \n",
      " |      NOTES\n",
      " |      -----\n",
      " |      \n",
      " |      The cardinality for latitude and longitude are combined into one\n",
      " |      setting called 'location'.\n",
      " |      \n",
      " |      The Python value of 'None' represents the 'unbounded' XML Schema value.\n",
      " |      None is converted to Decimal('Infinity') for comparisons.\n",
      " |      The 'unbounded' value is allowed on only a few attributes.\n",
      " |  \n",
      " |  definition_url\n",
      " |      The primary definition URL for the model.\n",
      " |      Cannot be an IP address.\n",
      " |      \n",
      " |      REQUIRED\n",
      " |  \n",
      " |  docs\n",
      " |      The human readable documentation string describing the purpose of\n",
      " |      the model.\n",
      " |  \n",
      " |  ev\n",
      " |      In an invalid instance, the application can indicate here why data is\n",
      " |      missing or invalid. This is a list of ExceptionalValue subclasses.\n",
      " |      \n",
      " |      The sub-types are based on ISO 21090 NULL Flavors entries, with\n",
      " |      additions noted from real-world usage.\n",
      " |  \n",
      " |  label\n",
      " |      The semantic name of the component.\n",
      " |      \n",
      " |      REQUIRED\n",
      " |  \n",
      " |  latitude\n",
      " |      Latitude in decimal format. Value range -90.000000 to 90.000000.\n",
      " |  \n",
      " |  longitude\n",
      " |      Longitude in decimal format. Value range -180.000000 to 180.000000.\n",
      " |  \n",
      " |  mcuid\n",
      " |      The unique identifier of the component.\n",
      " |  \n",
      " |  modified\n",
      " |      Time Modified. If present this must be a valid date-time stamp.\n",
      " |      It is used to indicate the date and time the data was last changed.\n",
      " |  \n",
      " |  pred_obj_list\n",
      " |      A list of additional predicate object pairs to describe the component.\n",
      " |      \n",
      " |      Each list item is a tuple where 0 is the predicate and 1 is the object.\n",
      " |      \n",
      " |      Example:\n",
      " |      ('rdf:resource','https://www.niddk.nih.gov/health-information/health-statistics')\n",
      " |      The setter accepts the tuple and appends it to the list.\n",
      " |      If an empty list is supplied it resets the value to the empty list.\n",
      " |  \n",
      " |  published\n",
      " |      When True, prevents further model changes.\n",
      " |  \n",
      " |  tr\n",
      " |      Time Recorded. If present this must be a valid date-time.\n",
      " |      It is used to indicate the initial date and time the data was recorded.\n",
      " |  \n",
      " |  vtb\n",
      " |      Valid Time Begin. If present this must be a valid datetime including timezone.\n",
      " |      It is used to indicate the beginning time that information is considered valid.\n",
      " |  \n",
      " |  vte\n",
      " |      Valid Time End. If present this must be a valid date-time including timezone.\n",
      " |      It is used to indicate the ending time that information is considered valid\n",
      " |      or the time the information expired or will expire.\n",
      "\n"
     ]
    }
   ],
   "source": [
    "help(XdLinkType)"
   ]
  },
  {
   "cell_type": "markdown",
   "metadata": {
    "slideshow": {
     "slide_type": "slide"
    }
   },
   "source": [
    "Create a XdLink model instance. In this case we are going to set a link value to another S3Model datamodel with a semantic reference as to why these are linked."
   ]
  },
  {
   "cell_type": "code",
   "execution_count": 3,
   "metadata": {
    "slideshow": {
     "slide_type": "fragment"
    }
   },
   "outputs": [],
   "source": [
    "d = XdLinkType('Related DM')\n",
    "d.relation = \"inSubset\" "
   ]
  },
  {
   "cell_type": "markdown",
   "metadata": {
    "slideshow": {
     "slide_type": "slide"
    }
   },
   "source": [
    "Add documentation about the model. You may insert a linebreak using '\\n' any place in the string.\n",
    "This documentation is for human consumption. You should be as verbose as required to inform future users of your model about its intent."
   ]
  },
  {
   "cell_type": "code",
   "execution_count": 4,
   "metadata": {
    "slideshow": {
     "slide_type": "fragment"
    }
   },
   "outputs": [],
   "source": [
    "d.docs = \"Provide a meaningful link to another S3Model DM\""
   ]
  },
  {
   "cell_type": "markdown",
   "metadata": {
    "slideshow": {
     "slide_type": "slide"
    }
   },
   "source": [
    "# Ontological Semantics (part 1)\n",
    "It is important to understand the relationship between the model and what the model is about. \n",
    "\n",
    "tl;dr The unique ID *mcuid* is a synonym for the *label* which is the *Subject* of the *SPO triple*."
   ]
  },
  {
   "cell_type": "markdown",
   "metadata": {
    "slideshow": {
     "slide_type": "slide"
    }
   },
   "source": [
    "Add a defining URL for the model. This will be translated into machine processable instructions in RDF. This URL should define or describe the value expressed in the *label*. Again, these tutorials will often used contrived references when they are not the teaching point in the tutorial."
   ]
  },
  {
   "cell_type": "code",
   "execution_count": 5,
   "metadata": {
    "slideshow": {
     "slide_type": "slide"
    }
   },
   "outputs": [],
   "source": [
    "d.definition_url = 'https://s3model.com/examples'"
   ]
  },
  {
   "cell_type": "markdown",
   "metadata": {
    "slideshow": {
     "slide_type": "slide"
    }
   },
   "source": [
    "Check the ouput signature when printing an instance. It prints the class type, label and unique ID. This is common across all extended datatypes."
   ]
  },
  {
   "cell_type": "code",
   "execution_count": 6,
   "metadata": {
    "scrolled": true,
    "slideshow": {
     "slide_type": "fragment"
    }
   },
   "outputs": [
    {
     "name": "stdout",
     "output_type": "stream",
     "text": [
      "XdLinkType : Related DM, ID: cjnlog6tr0000bb8pymsc9h7q\n"
     ]
    }
   ],
   "source": [
    "print(d)"
   ]
  },
  {
   "cell_type": "markdown",
   "metadata": {},
   "source": [
    "Add a URL for the relationship (rel) supplied upon creation. When we use public ontologies/vocabularies we improve the semantic quality of our models and data."
   ]
  },
  {
   "cell_type": "code",
   "execution_count": 7,
   "metadata": {},
   "outputs": [],
   "source": [
    "d.relation_uri = \"http://purl.obolibrary.org/obo/BFO_0000063\""
   ]
  },
  {
   "cell_type": "markdown",
   "metadata": {
    "slideshow": {
     "slide_type": "slide"
    }
   },
   "source": [
    "# Ontological Semantics (part 2)\n",
    "In addition to the defining_url we can add more RDF semantics to the model for machine processing. \n",
    "\n",
    "We do this by passing in tuples with a predicate/object pair. \n",
    "These are part of the RDF subject, predicate, object triple concept. This is the foundation of semantic graph data. If you aren't familiar with these concepts then see: http://www.linkeddatatools.com/introducing-rdf "
   ]
  },
  {
   "cell_type": "markdown",
   "metadata": {},
   "source": [
    "If you aren't using your own vocabulary for semantic markup. Or even if you are for part of your semantics. It is a good practice to reuse publically available and commonly used vocabularies as they apply to your model. A great place to start finding vocabularies is at https://lov.linkeddata.es/dataset/lov "
   ]
  },
  {
   "cell_type": "markdown",
   "metadata": {
    "slideshow": {
     "slide_type": "slide"
    }
   },
   "source": [
    "In S3Model, the model component which is defined by the unique ID *mcuid*, is the Subject. \n",
    "So here we are adding a predicate and an object to give enhanced meaning to our model. \n",
    "The unique ID *mcuid* is a synonym for the *label*.\n",
    "\n",
    "When you review the XSD fragment model below, you can see that some default RDF is already added. The statements that connect this model to the S3Model ontology as well as the label and comment statements. The additional predicate/object pairs are added below those."
   ]
  },
  {
   "cell_type": "code",
   "execution_count": 8,
   "metadata": {
    "slideshow": {
     "slide_type": "fragment"
    }
   },
   "outputs": [],
   "source": [
    "d.pred_obj_list = ('sem:subTypeOf','https://s3model.com/dmlib/dm-cjmuxu61q0000z98p91fewlhm')\n",
    "# Publish the model before adding instance data\n",
    "d.published = True"
   ]
  },
  {
   "cell_type": "markdown",
   "metadata": {
    "slideshow": {
     "slide_type": "slide"
    }
   },
   "source": [
    "Review the XSD model. \n",
    "Note how the RDF is embeded along with the validation instructions. This provides a single file (when combined with all the other parts of a DMType) that is sharable as the author chooses; globally, a company or other defined audience. \n",
    "\n",
    "This approach completely informs the receiver of the meaning of each component. Both in human-readable as well as machine processable forms. This then pre-cludes downstream user from needing to interpret READMEs, etc. and manually add those semantics. It also empowers potential secondary data users to better understand if the data is really appropriate for their needs."
   ]
  },
  {
   "cell_type": "code",
   "execution_count": 9,
   "metadata": {
    "scrolled": true,
    "slideshow": {
     "slide_type": "slide"
    }
   },
   "outputs": [
    {
     "name": "stdout",
     "output_type": "stream",
     "text": [
      "  <xs:element name=\"ms-cjnlog6tr0000bb8pymsc9h7q\" type=\"s3m:mc-cjnlog6tr0000bb8pymsc9h7q\"/>\n",
      "  <xs:complexType name=\"mc-cjnlog6tr0000bb8pymsc9h7q\">\n",
      "    <xs:annotation>\n",
      "      <xs:documentation>\n",
      "        Provide a meaningful link to another S3Model DM\n",
      "      </xs:documentation>\n",
      "      <xs:appinfo>\n",
      "        <rdfs:Class rdf:about=\"mc-cjnlog6tr0000bb8pymsc9h7q\">\n",
      "          <rdfs:subClassOf rdf:resource=\"https://www.s3model.com/ns/s3m/s3model_3_1_0.xsd#XdLinkType\"/>\n",
      "          <rdfs:subClassOf rdf:resource=\"https://www.s3model.com/ns/s3m/s3model/RMC\"/>\n",
      "          <rdfs:isDefinedBy rdf:resource=\"https%3A//s3model.com/examples\"/>\n",
      "          <sem:subTypeOf rdf:resource=\"https%3A//s3model.com/dmlib/dm-cjmuxu61q0000z98p91fewlhm\"/>\n",
      "        </rdfs:Class>\n",
      "      </xs:appinfo>\n",
      "    </xs:annotation>\n",
      "    <xs:complexContent>\n",
      "      <xs:restriction base=\"s3m:XdLinkType\">\n",
      "        <xs:sequence>\n",
      "          <xs:element maxOccurs=\"1\" minOccurs=\"1\" name=\"label\" type=\"xs:string\" fixed=\"Related DM\"/>\n",
      "          <xs:element maxOccurs=\"1\" minOccurs=\"0\" name=\"act\" type=\"xs:string\" default=\"\"/>\n",
      "          <xs:element maxOccurs=\"unbounded\" minOccurs=\"0\" ref=\"s3m:ExceptionalValue\"/>\n",
      "          <xs:element maxOccurs=\"1\" minOccurs=\"0\" name=\"vtb\" type=\"xs:dateTime\"/>\n",
      "          <xs:element maxOccurs=\"1\" minOccurs=\"0\" name=\"vte\" type=\"xs:dateTime\"/>\n",
      "          <xs:element maxOccurs=\"1\" minOccurs=\"0\" name=\"tr\" type=\"xs:dateTime\"/>\n",
      "          <xs:element maxOccurs=\"1\" minOccurs=\"0\" name=\"modified\" type=\"xs:dateTime\"/>\n",
      "          <xs:element maxOccurs=\"1\" minOccurs=\"0\" name=\"latitude\" type=\"s3m:lattype\"/>\n",
      "          <xs:element maxOccurs=\"1\" minOccurs=\"0\" name=\"longitude\" type=\"s3m:lontype\"/>\n",
      "          <xs:element maxOccurs='1' minOccurs='1' name='link' type='xs:anyURI'fixed='https://s3model.com/dmlib/dm-cjmuxu61q0000z98p91fewlhm'/>\n",
      "          <xs:element maxOccurs='1' minOccurs='1' name='relation' type='xs:string' fixed='inSubset'/>\n",
      "          <xs:element maxOccurs='1' minOccurs='0' name='relation-uri' type='xs:anyURI' fixed='http://purl.obolibrary.org/obo/BFO_0000063'/>\n",
      "        </xs:sequence>\n",
      "      </xs:restriction>\n",
      "    </xs:complexContent>\n",
      "  </xs:complexType>\n",
      "\n"
     ]
    }
   ],
   "source": [
    "print(d.getModel())"
   ]
  },
  {
   "cell_type": "markdown",
   "metadata": {
    "slideshow": {
     "slide_type": "slide"
    }
   },
   "source": [
    "Add the link as instance data and view an example XML fragment for the above model."
   ]
  },
  {
   "cell_type": "code",
   "execution_count": 10,
   "metadata": {
    "scrolled": false,
    "slideshow": {
     "slide_type": "fragment"
    }
   },
   "outputs": [
    {
     "name": "stdout",
     "output_type": "stream",
     "text": [
      "  <ms-cjnlog6tr0000bb8pymsc9h7q>\n",
      "    <label>Related DM</label>\n",
      "    <link>https://s3model.com/dmlib/dm-cjmuxu61q0000z98p91fewlhm</link>\n",
      "    <relation>inSubset</relation>\n",
      "    <relation-uri>http://purl.obolibrary.org/obo/BFO_0000063</relation-uri>\n",
      "  </ms-cjnlog6tr0000bb8pymsc9h7q>\n",
      "\n"
     ]
    }
   ],
   "source": [
    "d.link = \"https://s3model.com/dmlib/dm-cjmuxu61q0000z98p91fewlhm\"\n",
    "\n",
    "print(d.getXMLInstance())"
   ]
  },
  {
   "cell_type": "markdown",
   "metadata": {
    "slideshow": {
     "slide_type": "slide"
    }
   },
   "source": [
    "View an example JSON fragment."
   ]
  },
  {
   "cell_type": "code",
   "execution_count": 11,
   "metadata": {
    "scrolled": false,
    "slideshow": {
     "slide_type": "fragment"
    }
   },
   "outputs": [
    {
     "name": "stdout",
     "output_type": "stream",
     "text": [
      "{\n",
      "  \"ms-cjnlog6tr0000bb8pymsc9h7q\": {\n",
      "    \"label\": \"Related DM\",\n",
      "    \"link\": \"https://s3model.com/dmlib/dm-cjmuxu61q0000z98p91fewlhm\",\n",
      "    \"relation\": \"inSubset\",\n",
      "    \"relation-uri\": \"http://purl.obolibrary.org/obo/BFO_0000063\"\n",
      "  }\n",
      "}\n"
     ]
    }
   ],
   "source": [
    "print(d.getJSONInstance())"
   ]
  },
  {
   "cell_type": "markdown",
   "metadata": {},
   "source": [
    "# Cardinality and additional Semantics\n",
    "Recall that models are immutable once we have generated a shareable schema. Therefore when we make changes to a model we need to create a new model instance with a new *mcuid*. We are going to change some cardianlity values below to demonstrate additional capabilities; therefore we create a new model instance here. "
   ]
  },
  {
   "cell_type": "code",
   "execution_count": 12,
   "metadata": {
    "slideshow": {
     "slide_type": "fragment"
    }
   },
   "outputs": [
    {
     "ename": "ValueError",
     "evalue": "The model must first be published.",
     "output_type": "error",
     "traceback": [
      "\u001b[0;31m---------------------------------------------------------------------------\u001b[0m",
      "\u001b[0;31mValueError\u001b[0m                                Traceback (most recent call last)",
      "\u001b[0;32m<ipython-input-12-e19cd1d1bbc6>\u001b[0m in \u001b[0;36m<module>\u001b[0;34m()\u001b[0m\n\u001b[1;32m      5\u001b[0m \u001b[0md\u001b[0m\u001b[0;34m.\u001b[0m\u001b[0mdocs\u001b[0m \u001b[0;34m=\u001b[0m \u001b[0;34m\"Provide a meaningful link to another S3Model DM\"\u001b[0m\u001b[0;34m\u001b[0m\u001b[0m\n\u001b[1;32m      6\u001b[0m \u001b[0md\u001b[0m\u001b[0;34m.\u001b[0m\u001b[0mdefinition_url\u001b[0m \u001b[0;34m=\u001b[0m \u001b[0;34m'https://s3model.com/examples'\u001b[0m\u001b[0;34m\u001b[0m\u001b[0m\n\u001b[0;32m----> 7\u001b[0;31m \u001b[0mprint\u001b[0m\u001b[0;34m(\u001b[0m\u001b[0md\u001b[0m\u001b[0;34m.\u001b[0m\u001b[0mgetModel\u001b[0m\u001b[0;34m(\u001b[0m\u001b[0;34m)\u001b[0m\u001b[0;34m)\u001b[0m\u001b[0;34m\u001b[0m\u001b[0m\n\u001b[0m",
      "\u001b[0;32m~/DII/S3Model/RM/3_1_0/pylib/s3m_xdt.py\u001b[0m in \u001b[0;36mgetModel\u001b[0;34m(self)\u001b[0m\n\u001b[1;32m   1234\u001b[0m         \u001b[0mpadding\u001b[0m \u001b[0;34m=\u001b[0m \u001b[0;34m(\u001b[0m\u001b[0;34m''\u001b[0m\u001b[0;34m)\u001b[0m\u001b[0;34m.\u001b[0m\u001b[0mrjust\u001b[0m\u001b[0;34m(\u001b[0m\u001b[0mindent\u001b[0m\u001b[0;34m)\u001b[0m\u001b[0;34m\u001b[0m\u001b[0m\n\u001b[1;32m   1235\u001b[0m \u001b[0;34m\u001b[0m\u001b[0m\n\u001b[0;32m-> 1236\u001b[0;31m         \u001b[0mxdstr\u001b[0m \u001b[0;34m=\u001b[0m \u001b[0msuper\u001b[0m\u001b[0;34m(\u001b[0m\u001b[0;34m)\u001b[0m\u001b[0;34m.\u001b[0m\u001b[0mgetModel\u001b[0m\u001b[0;34m(\u001b[0m\u001b[0;34m)\u001b[0m\u001b[0;34m\u001b[0m\u001b[0m\n\u001b[0m\u001b[1;32m   1237\u001b[0m         \u001b[0;31m# XdLinkType\u001b[0m\u001b[0;34m\u001b[0m\u001b[0;34m\u001b[0m\u001b[0m\n\u001b[1;32m   1238\u001b[0m         \u001b[0;32mif\u001b[0m \u001b[0;32mnot\u001b[0m \u001b[0mself\u001b[0m\u001b[0;34m.\u001b[0m\u001b[0mlink\u001b[0m\u001b[0;34m:\u001b[0m\u001b[0;34m\u001b[0m\u001b[0m\n",
      "\u001b[0;32m~/DII/S3Model/RM/3_1_0/pylib/s3m_xdt.py\u001b[0m in \u001b[0;36mgetModel\u001b[0;34m(self)\u001b[0m\n\u001b[1;32m    461\u001b[0m         \"\"\"\n\u001b[1;32m    462\u001b[0m         \u001b[0;32mif\u001b[0m \u001b[0;32mnot\u001b[0m \u001b[0mself\u001b[0m\u001b[0;34m.\u001b[0m\u001b[0mpublished\u001b[0m\u001b[0;34m:\u001b[0m\u001b[0;34m\u001b[0m\u001b[0m\n\u001b[0;32m--> 463\u001b[0;31m             \u001b[0;32mraise\u001b[0m \u001b[0mValueError\u001b[0m\u001b[0;34m(\u001b[0m\u001b[0;34m\"The model must first be published.\"\u001b[0m\u001b[0;34m)\u001b[0m\u001b[0;34m\u001b[0m\u001b[0m\n\u001b[0m\u001b[1;32m    464\u001b[0m \u001b[0;34m\u001b[0m\u001b[0m\n\u001b[1;32m    465\u001b[0m         \u001b[0mself\u001b[0m\u001b[0;34m.\u001b[0m\u001b[0mvalidate\u001b[0m\u001b[0;34m(\u001b[0m\u001b[0;34m)\u001b[0m\u001b[0;34m\u001b[0m\u001b[0m\n",
      "\u001b[0;31mValueError\u001b[0m: The model must first be published."
     ]
    }
   ],
   "source": [
    "lnk = \"https://s3model.com/dmlib/dm-cjmuxu61q0000z98p91fewlhm\"\n",
    "rel = \"inSubset\"\n",
    "d = XdLinkType('Related DM', lnk, rel)\n",
    "d.relation_uri = \"http://purl.obolibrary.org/obo/BFO_0000063\"\n",
    "d.docs = \"Provide a meaningful link to another S3Model DM\"\n",
    "d.definition_url = 'https://s3model.com/examples'\n",
    "print(d.getModel())"
   ]
  },
  {
   "cell_type": "markdown",
   "metadata": {
    "slideshow": {
     "slide_type": "slide"
    }
   },
   "source": [
    "\n",
    "# Temporal Semantics\n",
    "As discussed on a previous example. The **temporal and spatial semantics** are managed via the cardinality dictionary. Review the XSD fragment above and note that they are allowed but not required, in any data via their presence and the minOccurs=\"0\". \n",
    "\n",
    "However the modeler can require them by setting the minOccurs in the cardinality dictionary. Let's require a Valid Time Begin (vtb) and a Valid Time End (vte). \n",
    "\n",
    "Review the docs on the cardinality setter. Then review the model and the data."
   ]
  },
  {
   "cell_type": "code",
   "execution_count": null,
   "metadata": {
    "slideshow": {
     "slide_type": "fragment"
    }
   },
   "outputs": [],
   "source": [
    "d.cardinality = ('vtb', [1,1])\n",
    "d.cardinality = ('vte', [1,1])\n",
    "print(d.cardinality)"
   ]
  },
  {
   "cell_type": "markdown",
   "metadata": {
    "slideshow": {
     "slide_type": "slide"
    }
   },
   "source": [
    "Now we see in the model instance below that these two elements have a *minOccurs* set to 1 making them required in the data. "
   ]
  },
  {
   "cell_type": "code",
   "execution_count": null,
   "metadata": {
    "scrolled": true,
    "slideshow": {
     "slide_type": "slide"
    }
   },
   "outputs": [],
   "source": [
    "print(d.getModel())"
   ]
  },
  {
   "cell_type": "code",
   "execution_count": null,
   "metadata": {
    "scrolled": false,
    "slideshow": {
     "slide_type": "slide"
    }
   },
   "outputs": [],
   "source": [
    "print(d.getXMLInstance())"
   ]
  },
  {
   "cell_type": "code",
   "execution_count": null,
   "metadata": {
    "slideshow": {
     "slide_type": "fragment"
    }
   },
   "outputs": [],
   "source": [
    "# Create a new model instance for the next example.\n",
    "lnk = \"https://s3model.com/dmlib/dm-cjmuxu61q0000z98p91fewlhm\"\n",
    "rel = \"inSubset\"\n",
    "d = XdLinkType('Related DM', lnk, rel)\n",
    "d.relation_uri = \"http://purl.obolibrary.org/obo/BFO_0000063\"\n",
    "d.docs = \"Provide a meaningful link to another S3Model DM\"\n",
    "d.definition_url = 'https://s3model.com/examples'\n",
    "print(d)"
   ]
  },
  {
   "cell_type": "markdown",
   "metadata": {
    "slideshow": {
     "slide_type": "slide"
    }
   },
   "source": [
    "# Spatial Semantics\n",
    "In S3Model we only provide *latitude* and *longitude* for each XdType. \n",
    "\n",
    "Modeling altitude is a complex model based on the context. Therefore altitude should be modeled as a XdQuantity or possibly a Cluster of XdQuantity models to accommodate pressure, temperature, altitude and the contextual measurement units. \n",
    "\n",
    "Both *latitude* and *longitude* are set with one cardinality setting called *location*."
   ]
  },
  {
   "cell_type": "code",
   "execution_count": null,
   "metadata": {
    "slideshow": {
     "slide_type": "slide"
    }
   },
   "outputs": [],
   "source": [
    "d.cardinality = ('location', [1,1])\n",
    "print(d.cardinality)"
   ]
  },
  {
   "cell_type": "code",
   "execution_count": null,
   "metadata": {
    "scrolled": false,
    "slideshow": {
     "slide_type": "slide"
    }
   },
   "outputs": [],
   "source": [
    "print(d.getModel())"
   ]
  },
  {
   "cell_type": "markdown",
   "metadata": {},
   "source": [
    "Here is the result XML instance example."
   ]
  },
  {
   "cell_type": "code",
   "execution_count": null,
   "metadata": {
    "slideshow": {
     "slide_type": "slide"
    }
   },
   "outputs": [],
   "source": [
    "print(d.getXMLInstance())"
   ]
  }
 ],
 "metadata": {
  "kernelspec": {
   "display_name": "Python [conda env:S3Model]",
   "language": "python",
   "name": "conda-env-S3Model-py"
  },
  "language_info": {
   "codemirror_mode": {
    "name": "ipython",
    "version": 3
   },
   "file_extension": ".py",
   "mimetype": "text/x-python",
   "name": "python",
   "nbconvert_exporter": "python",
   "pygments_lexer": "ipython3",
   "version": "3.7.0"
  }
 },
 "nbformat": 4,
 "nbformat_minor": 2
}

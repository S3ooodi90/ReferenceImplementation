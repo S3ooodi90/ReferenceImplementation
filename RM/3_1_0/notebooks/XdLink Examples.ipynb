{
 "cells": [
  {
   "cell_type": "markdown",
   "metadata": {
    "slideshow": {
     "slide_type": "slide"
    }
   },
   "source": [
    "# Examples using the XdLinkType"
   ]
  },
  {
   "cell_type": "markdown",
   "metadata": {
    "slideshow": {
     "slide_type": "slide"
    }
   },
   "source": [
    "**Set the path to the folder containing the library files and import the extended datatype.**"
   ]
  },
  {
   "cell_type": "code",
   "execution_count": null,
   "metadata": {
    "slideshow": {
     "slide_type": "fragment"
    }
   },
   "outputs": [],
   "source": [
    "import sys \n",
    "sys.path.append(\"../pylib/\")\n",
    "from s3m_xdt import XdLinkType"
   ]
  },
  {
   "cell_type": "markdown",
   "metadata": {
    "slideshow": {
     "slide_type": "slide"
    }
   },
   "source": [
    "Review the documentation of XdLinkType.\n"
   ]
  },
  {
   "cell_type": "code",
   "execution_count": null,
   "metadata": {
    "slideshow": {
     "slide_type": "slide"
    }
   },
   "outputs": [],
   "source": [
    "help(XdLinkType)"
   ]
  },
  {
   "cell_type": "markdown",
   "metadata": {
    "slideshow": {
     "slide_type": "slide"
    }
   },
   "source": [
    "Create a XdLink instance. In this case we are going to set a link value to another S3Model datamodel with a semantic reference."
   ]
  },
  {
   "cell_type": "code",
   "execution_count": null,
   "metadata": {
    "slideshow": {
     "slide_type": "fragment"
    }
   },
   "outputs": [],
   "source": [
    "lnk = \"https://s3model.com/dmlib/dm-cjmuxu61q0000z98p91fewlhm\"\n",
    "rel = \"inSubset\"\n",
    "d = XdLinkType('Related DM', lnk, rel)"
   ]
  },
  {
   "cell_type": "markdown",
   "metadata": {},
   "source": [
    "Add a URL for the relationship (rel) supplied upon creation."
   ]
  },
  {
   "cell_type": "code",
   "execution_count": null,
   "metadata": {},
   "outputs": [],
   "source": [
    "d.relation_uri = \"http://purl.obolibrary.org/obo/BFO_0000063\""
   ]
  },
  {
   "cell_type": "markdown",
   "metadata": {
    "slideshow": {
     "slide_type": "slide"
    }
   },
   "source": [
    "Add documentation about the model. You may insert a linebreak using '\\n' any place in the string.\n",
    "This documentation is for human consumption. You should be as verbose as required to inform future users of your model about its intent."
   ]
  },
  {
   "cell_type": "code",
   "execution_count": null,
   "metadata": {
    "slideshow": {
     "slide_type": "fragment"
    }
   },
   "outputs": [],
   "source": [
    "d.docs = \"Provide a meaningful link to another S3Model DM\""
   ]
  },
  {
   "cell_type": "markdown",
   "metadata": {
    "slideshow": {
     "slide_type": "slide"
    }
   },
   "source": [
    "# Ontological Semantics (part 1)\n",
    "It is important to understand the relationship between the model and what the model is about. \n",
    "\n",
    "tl;dr The unique ID *mcuid* is a synonym for the *label* which is the *Subject* of the *SPO triple*."
   ]
  },
  {
   "cell_type": "markdown",
   "metadata": {
    "slideshow": {
     "slide_type": "slide"
    }
   },
   "source": [
    "Add a defining URL for the model. This will be translated into machine processable instructions in RDF as well as appended to the human-readable docs. This URL should define or describe the value expressed in the *label*."
   ]
  },
  {
   "cell_type": "code",
   "execution_count": null,
   "metadata": {
    "slideshow": {
     "slide_type": "slide"
    }
   },
   "outputs": [],
   "source": [
    "d.definition_url = 'https://s3model.com/examples'"
   ]
  },
  {
   "cell_type": "markdown",
   "metadata": {
    "slideshow": {
     "slide_type": "slide"
    }
   },
   "source": [
    "Check the ouput signature when printing an instance. It prints the class type, label and unique ID. This is common across all extended datatypes."
   ]
  },
  {
   "cell_type": "code",
   "execution_count": null,
   "metadata": {
    "scrolled": false,
    "slideshow": {
     "slide_type": "fragment"
    }
   },
   "outputs": [],
   "source": [
    "print(d)"
   ]
  },
  {
   "cell_type": "markdown",
   "metadata": {
    "slideshow": {
     "slide_type": "slide"
    }
   },
   "source": [
    "# Ontological Semantics (part 2)\n",
    "In addition to the defining_url we can add more RDF semantics to the model for machine processing. \n",
    "\n",
    "We do this by passing in tuples with a predicate/object pair. \n",
    "These are part of the RDF subject, predicate, object triple concept. This is the foundation of semantic graph data. If you aren't familiar with these concepts then see: http://www.linkeddatatools.com/introducing-rdf "
   ]
  },
  {
   "cell_type": "markdown",
   "metadata": {},
   "source": [
    "If you aren't using your own vocabulary for semantic markup. Or even if you are for part of your semantics. It is a good practice to reuse publically available and commonly used vocabularies as they apply to your model. A great place to start finding vocabularies is at https://lov.linkeddata.es/dataset/lov "
   ]
  },
  {
   "cell_type": "markdown",
   "metadata": {
    "slideshow": {
     "slide_type": "slide"
    }
   },
   "source": [
    "In S3Model, the model component which is defined by the unique ID *mcuid*, is the Subject. \n",
    "So here we are adding a predicate and an object to give enhanced meaning to our model. \n",
    "The unique ID *mcuid* is a synonym for the *label*.\n",
    "\n",
    "When you review the XSD fragment model below, you can see that some default RDF is already added. The statements that connect this model to the S3Model ontology as well as the label and comment statements. Then your additional predicate/object pairs are added."
   ]
  },
  {
   "cell_type": "code",
   "execution_count": null,
   "metadata": {
    "slideshow": {
     "slide_type": "fragment"
    }
   },
   "outputs": [],
   "source": [
    "d.pred_obj_list = ('sem:subTypeOf','https://s3model.com/dmlib/dm-cjmuxu61q0000z98p91fewlhm')"
   ]
  },
  {
   "cell_type": "markdown",
   "metadata": {
    "slideshow": {
     "slide_type": "slide"
    }
   },
   "source": [
    "Review the XSD model. \n",
    "Note how the RDF is embeded along with the validation instructions. This provides a single file (when combined with all the other parts of a DMType) that is sharable as the author chooses. It completely informs the receiver of the meaning of each component. Both in human-readable as well as machine processable forms."
   ]
  },
  {
   "cell_type": "code",
   "execution_count": null,
   "metadata": {
    "scrolled": true,
    "slideshow": {
     "slide_type": "slide"
    }
   },
   "outputs": [],
   "source": [
    "print(d.getModel())"
   ]
  },
  {
   "cell_type": "markdown",
   "metadata": {
    "slideshow": {
     "slide_type": "slide"
    }
   },
   "source": [
    "View an example XML fragment for the above model."
   ]
  },
  {
   "cell_type": "code",
   "execution_count": null,
   "metadata": {
    "scrolled": false,
    "slideshow": {
     "slide_type": "fragment"
    }
   },
   "outputs": [],
   "source": [
    "print(d.asXML())"
   ]
  },
  {
   "cell_type": "markdown",
   "metadata": {
    "slideshow": {
     "slide_type": "slide"
    }
   },
   "source": [
    "View an example JSON fragment."
   ]
  },
  {
   "cell_type": "code",
   "execution_count": null,
   "metadata": {
    "scrolled": false,
    "slideshow": {
     "slide_type": "fragment"
    }
   },
   "outputs": [],
   "source": [
    "print(d.asJSON())"
   ]
  },
  {
   "cell_type": "markdown",
   "metadata": {},
   "source": [
    "# Cardinality and additional Semantics\n",
    "Recall that models are immutable once we have generated a shareable schema. Therefore we need to create a new instance with a new *mcuid* to demonstrate additional capabilities. "
   ]
  },
  {
   "cell_type": "code",
   "execution_count": null,
   "metadata": {
    "slideshow": {
     "slide_type": "fragment"
    }
   },
   "outputs": [],
   "source": [
    "lnk = \"https://s3model.com/dmlib/dm-cjmuxu61q0000z98p91fewlhm\"\n",
    "rel = \"inSubset\"\n",
    "d = XdLinkType('Related DM', lnk, rel)\n",
    "d.relation_uri = \"http://purl.obolibrary.org/obo/BFO_0000063\"\n",
    "d.docs = \"Provide a meaningful link to another S3Model DM\"\n",
    "d.definition_url = 'https://s3model.com/examples'\n",
    "print(d.getModel())"
   ]
  },
  {
   "cell_type": "markdown",
   "metadata": {
    "slideshow": {
     "slide_type": "slide"
    }
   },
   "source": [
    "\n",
    "# Temporal Semantics\n",
    "As discussed on a previous example. The **temporal and spatial semantics** are managed via the cardinality dictionary. Review the XSD and note that they are allowed but not required, by default, in any data via their presence and the minOccurs=\"0\". However the modeler can require them by setting the minOccurs in the cardinality dictionary. Let's require a Valid Time Begin and a Valid Time End. Review the docs on the cardinality setter. Then review the model and the data."
   ]
  },
  {
   "cell_type": "code",
   "execution_count": null,
   "metadata": {
    "slideshow": {
     "slide_type": "fragment"
    }
   },
   "outputs": [],
   "source": [
    "d.cardinality = ('vtb', [1,1])\n",
    "d.cardinality = ('vte', [1,1])\n",
    "print(d.cardinality)"
   ]
  },
  {
   "cell_type": "markdown",
   "metadata": {
    "slideshow": {
     "slide_type": "slide"
    }
   },
   "source": [
    "Now we see in the model that these two elements have a minOccurs set to 1 making them required in the data. "
   ]
  },
  {
   "cell_type": "code",
   "execution_count": null,
   "metadata": {
    "scrolled": true,
    "slideshow": {
     "slide_type": "slide"
    }
   },
   "outputs": [],
   "source": [
    "print(d.getModel())"
   ]
  },
  {
   "cell_type": "code",
   "execution_count": null,
   "metadata": {
    "scrolled": false,
    "slideshow": {
     "slide_type": "slide"
    }
   },
   "outputs": [],
   "source": [
    "print(d.asXML())"
   ]
  },
  {
   "cell_type": "markdown",
   "metadata": {},
   "source": [
    "Create a new instance."
   ]
  },
  {
   "cell_type": "code",
   "execution_count": null,
   "metadata": {
    "slideshow": {
     "slide_type": "fragment"
    }
   },
   "outputs": [],
   "source": [
    "lnk = \"https://s3model.com/dmlib/dm-cjmuxu61q0000z98p91fewlhm\"\n",
    "rel = \"inSubset\"\n",
    "d = XdLinkType('Related DM', lnk, rel)\n",
    "d.relation_uri = \"http://purl.obolibrary.org/obo/BFO_0000063\"\n",
    "d.docs = \"Provide a meaningful link to another S3Model DM\"\n",
    "d.definition_url = 'https://s3model.com/examples'\n",
    "print(d)"
   ]
  },
  {
   "cell_type": "markdown",
   "metadata": {
    "slideshow": {
     "slide_type": "slide"
    }
   },
   "source": [
    "# Spatial Semantics\n",
    "In S3Model we only apply latitude and longitude to each element. Modeling altitude is a complex model based on the context. Therefore altitude should be modeled as a XdQuantity or possibly a Cluster of XdQuantity models to accommodate pressure, temperature, altitude and the contextual measurement units. \n",
    "Here we are going to reset the temporal requirements we set above and then set the location requirement. There is no reason that they can't both be used together. This is just an exercise to demonstrate resetting the values. "
   ]
  },
  {
   "cell_type": "code",
   "execution_count": null,
   "metadata": {
    "slideshow": {
     "slide_type": "slide"
    }
   },
   "outputs": [],
   "source": [
    "d.cardinality = ('vtb', [0,1])\n",
    "d.cardinality = ('vte', [0,1])\n",
    "d.cardinality = ('location', [1,1])\n",
    "print(d)"
   ]
  },
  {
   "cell_type": "markdown",
   "metadata": {
    "slideshow": {
     "slide_type": "slide"
    }
   },
   "source": [
    "Note that *location* causes both *latitude* and *longitude* to be required. You can verify this in the model below."
   ]
  },
  {
   "cell_type": "code",
   "execution_count": null,
   "metadata": {
    "scrolled": false,
    "slideshow": {
     "slide_type": "slide"
    }
   },
   "outputs": [],
   "source": [
    "print(d.getModel())"
   ]
  },
  {
   "cell_type": "markdown",
   "metadata": {},
   "source": [
    "Here is the result XML instance example."
   ]
  },
  {
   "cell_type": "code",
   "execution_count": null,
   "metadata": {
    "slideshow": {
     "slide_type": "slide"
    }
   },
   "outputs": [],
   "source": [
    "print(d.asXML())"
   ]
  }
 ],
 "metadata": {
  "kernelspec": {
   "display_name": "Python [conda env:S3Model]",
   "language": "python",
   "name": "conda-env-S3Model-py"
  },
  "language_info": {
   "codemirror_mode": {
    "name": "ipython",
    "version": 3
   },
   "file_extension": ".py",
   "mimetype": "text/x-python",
   "name": "python",
   "nbconvert_exporter": "python",
   "pygments_lexer": "ipython3",
   "version": "3.7.0"
  }
 },
 "nbformat": 4,
 "nbformat_minor": 2
}

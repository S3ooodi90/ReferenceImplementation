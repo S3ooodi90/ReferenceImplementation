{
 "cells": [
  {
   "cell_type": "markdown",
   "metadata": {},
   "source": [
    "Import the requirements."
   ]
  },
  {
   "cell_type": "code",
   "execution_count": 1,
   "metadata": {},
   "outputs": [],
   "source": [
    "import s3model_3_1_0 as s3m\n",
    "from collections import OrderedDict"
   ]
  },
  {
   "cell_type": "markdown",
   "metadata": {},
   "source": [
    "Create a XdLink instance.\n"
   ]
  },
  {
   "cell_type": "code",
   "execution_count": 2,
   "metadata": {},
   "outputs": [
    {
     "name": "stdout",
     "output_type": "stream",
     "text": [
      "XdLinkType : A link label., ID: cjmrs2h2s0000ig8pokm83ran\n"
     ]
    }
   ],
   "source": [
    "x = s3m.XdLinkType('A link label.')\n",
    "print(x)"
   ]
  },
  {
   "cell_type": "code",
   "execution_count": 3,
   "metadata": {},
   "outputs": [
    {
     "data": {
      "text/plain": [
       "{'act': (0, 1),\n",
       " 'ev': (0, None),\n",
       " 'vtb': (0, 1),\n",
       " 'vte': (0, 1),\n",
       " 'tr': (0, 1),\n",
       " 'modified': (0, 1),\n",
       " 'location': (0, 1),\n",
       " 'relation_uri': (0, 1)}"
      ]
     },
     "execution_count": 3,
     "metadata": {},
     "output_type": "execute_result"
    }
   ],
   "source": [
    "x.cardinality"
   ]
  },
  {
   "cell_type": "markdown",
   "metadata": {},
   "source": [
    "Make the relation_uri required."
   ]
  },
  {
   "cell_type": "code",
   "execution_count": 4,
   "metadata": {},
   "outputs": [
    {
     "data": {
      "text/plain": [
       "{'act': (0, 1),\n",
       " 'ev': (0, None),\n",
       " 'vtb': (0, 1),\n",
       " 'vte': (0, 1),\n",
       " 'tr': (0, 1),\n",
       " 'modified': (0, 1),\n",
       " 'location': (0, 1),\n",
       " 'relation_uri': (1, 1)}"
      ]
     },
     "execution_count": 4,
     "metadata": {},
     "output_type": "execute_result"
    }
   ],
   "source": [
    "x.cardinality = ('relation_uri',(1,1))\n",
    "x.cardinality"
   ]
  },
  {
   "cell_type": "markdown",
   "metadata": {},
   "source": [
    "Set the required values."
   ]
  },
  {
   "cell_type": "code",
   "execution_count": 5,
   "metadata": {},
   "outputs": [],
   "source": [
    "x.link = \"https://www.s3model.com/ns/s3m/s3model/mc-cjmrri13d00007i8pbin7gljf\"\n",
    "x.relation = \"is representative IRI for equivalence set\"\n",
    "x.relation_uri = \"http://purl.obolibrary.org/obo/RO_0002617\""
   ]
  },
  {
   "cell_type": "code",
   "execution_count": 6,
   "metadata": {},
   "outputs": [
    {
     "name": "stdout",
     "output_type": "stream",
     "text": [
      "  \n",
      "<xs:element name=\"ms-cjmrs2h2s0001ig8pbh85cttq\" substitutionGroup=\"s3m:Items\" type=\"s3m:mc-cjmrs2h2s0001ig8pbh85cttq\"/>\n",
      "  <xs:complexType name=\"mc-cjmrs2h2s0001ig8pbh85cttq\">\n",
      "    <xs:complexContent>\n",
      "      <xs:restriction base=\"s3m:XdAdapterType\">\n",
      "        <xs:sequence>\n",
      "          <xs:element maxOccurs=\"unbounded\" minOccurs=\"0\" ref=\"s3m:ms-cjmrs2h2s0000ig8pokm83ran\"/>\n",
      "        </xs:sequence>\n",
      "      </xs:restriction>\n",
      "    </xs:complexContent>\n",
      "  </xs:complexType>\n",
      "  <xs:element name=\"ms-cjmrs2h2s0000ig8pokm83ran\" substitutionGroup=\"s3m:XdAdapter-value\" type=\"s3m:mc-cjmrs2h2s0000ig8pokm83ran\"/>\n",
      "  <xs:complexType name=\"mc-cjmrs2h2s0000ig8pokm83ran\">\n",
      "    <xs:annotation>\n",
      "      <xs:documentation>\n",
      "        \n",
      "      </xs:documentation>\n",
      "      <xs:appinfo>\n",
      "        <rdfs:Class rdf:about=\"mc-cjmrs2h2s0000ig8pokm83ran\">\n",
      "          <rdfs:subClassOf rdf:resource=\"https://www.s3model.com/ns/s3m/s3model_3_1_0.xsd#XdLinkType\"/>\n",
      "          <rdfs:subClassOf rdf:resource=\"https://www.s3model.com/ns/s3m/s3model/RMC\"/>\n",
      "          <rdfs:isDefinedBy rdf:resource=\"\"/>\n",
      "        </rdfs:Class>\n",
      "      </xs:appinfo>\n",
      "    </xs:annotation>\n",
      "    <xs:complexContent>\n",
      "      <xs:restriction base=\"s3m:XdLinkType\">\n",
      "        <xs:sequence>\n",
      "          <xs:element maxOccurs=\"1\" minOccurs=\"1\" name=\"label\" type=\"xs:string\" fixed=\"A link label.\"/>\n",
      "          <xs:element maxOccurs=\"1\" minOccurs=\"0\" name=\"act\" type=\"xs:string\" default=\"\"/>\n",
      "          <xs:element maxOccurs=\"1\" minOccurs=\"0\" ref=\"s3m:ExceptionalValue\"/>\n",
      "          <xs:element maxOccurs=\"1\" minOccurs=\"0\" name=\"vtb\" type=\"xs:dateTime\"/>\n",
      "          <xs:element maxOccurs=\"1\" minOccurs=\"0\" name=\"vte\" type=\"xs:dateTime\"/>\n",
      "          <xs:element maxOccurs=\"1\" minOccurs=\"0\" name=\"tr\" type=\"xs:dateTime\"/>\n",
      "          <xs:element maxOccurs=\"1\" minOccurs=\"0\" name=\"modified\" type=\"xs:dateTime\"/>\n",
      "          <xs:element maxOccurs=\"1\" minOccurs=\"0\" name=\"latitude\" type=\"xs:decimal\"/>\n",
      "          <xs:element maxOccurs=\"1\" minOccurs=\"0\" name=\"longitude\" type=\"xs:decimal\"/>\n",
      "          <xs:element maxOccurs='1' minOccurs='1' name='link' type='xs:anyURI'fixed='https://www.s3model.com/ns/s3m/s3model/mc-cjmrri13d00007i8pbin7gljf'/>\n",
      "          <xs:element maxOccurs='1' minOccurs='1' name='relation' type='xs:string' fixed='is representative IRI for equivalence set'/>\n",
      "          <xs:element maxOccurs='1' minOccurs='1' name='relation-uri' type='xs:anyURI' fixed='http://purl.obolibrary.org/obo/RO_0002617'/>\n",
      "        </xs:sequence>\n",
      "      </xs:restriction>\n",
      "    </xs:complexContent>\n",
      "  </xs:complexType>\n",
      "\n"
     ]
    }
   ],
   "source": [
    "print(x.asXSD())"
   ]
  }
 ],
 "metadata": {
  "kernelspec": {
   "display_name": "Python [conda env:S3Model]",
   "language": "python",
   "name": "conda-env-S3Model-py"
  },
  "language_info": {
   "codemirror_mode": {
    "name": "ipython",
    "version": 3
   },
   "file_extension": ".py",
   "mimetype": "text/x-python",
   "name": "python",
   "nbconvert_exporter": "python",
   "pygments_lexer": "ipython3",
   "version": "3.7.0"
  }
 },
 "nbformat": 4,
 "nbformat_minor": 2
}

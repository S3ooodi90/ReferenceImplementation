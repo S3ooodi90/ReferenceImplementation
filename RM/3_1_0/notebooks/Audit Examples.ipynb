{
 "cells": [
  {
   "cell_type": "markdown",
   "metadata": {
    "slideshow": {
     "slide_type": "slide"
    }
   },
   "source": [
    "# Examples using the AuditType"
   ]
  },
  {
   "cell_type": "markdown",
   "metadata": {
    "slideshow": {
     "slide_type": "slide"
    }
   },
   "source": [
    "**Set the path to the folder containing the library files and import the extended datatype.**"
   ]
  },
  {
   "cell_type": "code",
   "execution_count": 1,
   "metadata": {
    "slideshow": {
     "slide_type": "fragment"
    }
   },
   "outputs": [],
   "source": [
    "import sys \n",
    "sys.path.append(\"../pylib/\")\n",
    "from s3m_xdt import XdStringType\n",
    "from s3m_struct import ClusterType\n",
    "from s3m_meta import AuditType, PartyType"
   ]
  },
  {
   "cell_type": "markdown",
   "metadata": {
    "slideshow": {
     "slide_type": "slide"
    }
   },
   "source": [
    "Review the documentation of AuditType. "
   ]
  },
  {
   "cell_type": "code",
   "execution_count": 2,
   "metadata": {
    "scrolled": false,
    "slideshow": {
     "slide_type": "slide"
    }
   },
   "outputs": [
    {
     "name": "stdout",
     "output_type": "stream",
     "text": [
      "Help on class AuditType in module s3m_meta:\n",
      "\n",
      "class AuditType(builtins.object)\n",
      " |  AuditType(label)\n",
      " |  \n",
      " |  AuditType provides a mechanism to identify the who/where/when tracking of instances as they move from system to system.\n",
      " |  \n",
      " |  Methods defined here:\n",
      " |  \n",
      " |  __init__(self, label)\n",
      " |      The semantic label (name of the model) is required.\n",
      " |  \n",
      " |  __str__(self)\n",
      " |      Return str(self).\n",
      " |  \n",
      " |  getModel(self)\n",
      " |      Return a XML Schema stub for the Audit.\n",
      " |  \n",
      " |  validate(self)\n",
      " |      Every XdType must implement this method.\n",
      " |  \n",
      " |  ----------------------------------------------------------------------\n",
      " |  Data descriptors defined here:\n",
      " |  \n",
      " |  __dict__\n",
      " |      dictionary for instance variables (if defined)\n",
      " |  \n",
      " |  __weakref__\n",
      " |      list of weak references to the object (if defined)\n",
      " |  \n",
      " |  definition_url\n",
      " |      The primary definition URL for the model.\n",
      " |      Cannot be an IP address.\n",
      " |  \n",
      " |  docs\n",
      " |      The human readable documentation string describing the purpose of\n",
      " |      the model.\n",
      " |  \n",
      " |  label\n",
      " |      The semantic name of the component.\n",
      " |  \n",
      " |  language\n",
      " |      A language of the intellectual content of the resource.\n",
      " |      \n",
      " |      Recommended best practice for the values of the Language\n",
      " |      element is defined by RFC 1766 [RFC1766] which includes\n",
      " |      a two-letter Language Code (taken from the ISO 639\n",
      " |      standard [ISO639]), followed optionally, by a two-letter\n",
      " |      Country Code (taken from the ISO 3166 standard [ISO3166]).\n",
      " |      For example, 'en' for English, 'fr' for French, or\n",
      " |      'en-uk' for English used in the United Kingdom.\n",
      " |  \n",
      " |  location\n",
      " |      Location information of the particular site/facility within an organisation which handled the item.\n",
      " |  \n",
      " |  mcuid\n",
      " |      The unique identifier of the component.\n",
      " |  \n",
      " |  pred_obj_list\n",
      " |      A list of additional predicate object pairs to describe the component.\n",
      " |      \n",
      " |      Each list item is a tuple where 0 is the predicate and 1 is the object.\n",
      " |      \n",
      " |      Example:\n",
      " |      ('rdf:resource','https://www.niddk.nih.gov/health-information/health-statistics')\n",
      " |      The setter accepts the tuple and appends it to the list.\n",
      " |      If an empty list is supplied it resets the value to the empty list.\n",
      " |  \n",
      " |  system_id\n",
      " |      Identifier of systems which created or handled the information item. \n",
      " |      'Systems' can also be defined as an individual application or a data \n",
      " |      repository in which the data was manipulated.\n",
      " |  \n",
      " |  system_user\n",
      " |      User(s) who created, committed, forwarded or otherwise handled the item.\n",
      " |  \n",
      " |  timestamp\n",
      " |      Timestamp of handling the item.\n",
      "\n"
     ]
    }
   ],
   "source": [
    "help(AuditType)"
   ]
  },
  {
   "cell_type": "markdown",
   "metadata": {
    "slideshow": {
     "slide_type": "slide"
    }
   },
   "source": [
    "Create an Audit instance and add the required *system_id, system_user and location* models."
   ]
  },
  {
   "cell_type": "code",
   "execution_count": 3,
   "metadata": {
    "slideshow": {
     "slide_type": "fragment"
    }
   },
   "outputs": [
    {
     "name": "stdout",
     "output_type": "stream",
     "text": [
      "AuditType : Test Audit, ID: cjnd0rdyp0000l38p4q1szf13 \n",
      "\n",
      "\n",
      "\n",
      "  <xs:complexType name='mc-cjnd0rdyp0000l38p4q1szf13' xml:lang=''>\n",
      "    <xs:annotation>\n",
      "    <xs:documentation>\n",
      "      An example Audit component.\n",
      "    </xs:documentation>\n",
      "    <xs:appinfo>\n",
      "    <rdfs:Class rdf:about='mc-cjnd0rdyp0000l38p4q1szf13'>\n",
      "    <rdfs:subClassOf rdf:resource='https://www.s3model.com/ns/s3m/s3model_3_1_0.xsd##AuditType'/>\n",
      "    <rdfs:subClassOf rdf:resource='https://www.s3model.com/ns/s3m/s3model/RMC'/>\n",
      "    <rdfs:label>Test Audit</rdfs:label>\n",
      "    </rdfs:Class>\n",
      "    </xs:appinfo>\n",
      "    </xs:annotation>\n",
      "    <xs:complexContent>\n",
      "      <xs:restriction base='s3m:AuditType'>\n",
      "        <xs:sequence>\n",
      "          <xs:element maxOccurs='1' minOccurs='1' name='label' type='xs:string' fixed=\"Test Audit\"/>\n",
      "          <xs:element maxOccurs='1' minOccurs='1' name='system-id' type='s3m:mc-cjnd0rdyp0001l38pm7b9ombv'/>\n",
      "          <xs:element maxOccurs='1' minOccurs='0' name='system-user' type='s3m:mc-cjnd0rdyq0003l38p4ijlswta'/>\n",
      "          <xs:element maxOccurs='1' minOccurs='0' name='location' type='s3m:mc-cjnd0rdyq0004l38p4gokva12'/>\n",
      "          <xs:element maxOccurs='1' minOccurs='1' name='timestamp' type='xs:dateTime'/>\n",
      "          </xs:sequence>\n",
      "        </xs:restriction>\n",
      "      </xs:complexContent>\n",
      "    </xs:complexType>\n",
      "\n",
      "  <xs:element name=\"ms-cjnd0rdyp0001l38pm7b9ombv\" type=\"s3m:mc-cjnd0rdyp0001l38pm7b9ombv\"/>\n",
      "  <xs:complexType name=\"mc-cjnd0rdyp0001l38pm7b9ombv\">\n",
      "    <xs:annotation>\n",
      "      <xs:documentation>\n",
      "        \n",
      "      </xs:documentation>\n",
      "      <xs:appinfo>\n",
      "        <rdfs:Class rdf:about=\"mc-cjnd0rdyp0001l38pm7b9ombv\">\n",
      "          <rdfs:subClassOf rdf:resource=\"https://www.s3model.com/ns/s3m/s3model_3_1_0.xsd#XdStringType\"/>\n",
      "          <rdfs:subClassOf rdf:resource=\"https://www.s3model.com/ns/s3m/s3model/RMC\"/>\n",
      "          <rdfs:isDefinedBy rdf:resource=\"\"/>\n",
      "        </rdfs:Class>\n",
      "      </xs:appinfo>\n",
      "    </xs:annotation>\n",
      "    <xs:complexContent>\n",
      "      <xs:restriction base=\"s3m:XdStringType\">\n",
      "        <xs:sequence>\n",
      "          <xs:element maxOccurs=\"1\" minOccurs=\"1\" name=\"label\" type=\"xs:string\" fixed=\"Test Audit System ID\"/>\n",
      "          <xs:element maxOccurs=\"1\" minOccurs=\"0\" name=\"act\" type=\"xs:string\" default=\"\"/>\n",
      "          <xs:element maxOccurs=\"1\" minOccurs=\"0\" ref=\"s3m:ExceptionalValue\"/>\n",
      "          <xs:element maxOccurs=\"1\" minOccurs=\"0\" name=\"vtb\" type=\"xs:dateTime\"/>\n",
      "          <xs:element maxOccurs=\"1\" minOccurs=\"0\" name=\"vte\" type=\"xs:dateTime\"/>\n",
      "          <xs:element maxOccurs=\"1\" minOccurs=\"0\" name=\"tr\" type=\"xs:dateTime\"/>\n",
      "          <xs:element maxOccurs=\"1\" minOccurs=\"0\" name=\"modified\" type=\"xs:dateTime\"/>\n",
      "          <xs:element maxOccurs=\"1\" minOccurs=\"0\" name=\"latitude\" type=\"s3m:lattype\"/>\n",
      "          <xs:element maxOccurs=\"1\" minOccurs=\"0\" name=\"longitude\" type=\"s3m:lontype\"/>\n",
      "          <xs:element maxOccurs='1' minOccurs='0' name='xdstring-value'>\n",
      "              <xs:simpleType>\n",
      "                <xs:restriction base='xs:string'>\n",
      "                  <xs:pattern value='[0-9]{2}-[0-9]{1}-[0-9]{3}'/>\n",
      "                </xs:restriction>\n",
      "              </xs:simpleType>\n",
      "            </xs:element>\n",
      "        </xs:sequence>\n",
      "      </xs:restriction>\n",
      "    </xs:complexContent>\n",
      "  </xs:complexType>\n",
      "\n",
      "\n",
      "  <xs:complexType name='mc-cjnd0rdyq0003l38p4ijlswta'> \n",
      "    <xs:annotation>\n",
      "    <xs:documentation>\n",
      "      \n",
      "    </xs:documentation>\n",
      "    <xs:appinfo>\n",
      "    <rdfs:Class rdf:about='mc-cjnd0rdyq0003l38p4ijlswta'>\n",
      "    <rdfs:subClassOf rdf:resource='https://www.s3model.com/ns/s3m/s3model_3_1_0.xsd#PartyType'/>\n",
      "    <rdfs:subClassOf rdf:resource='https://www.s3model.com/ns/s3m/s3model/RMC'/>\n",
      "    <rdfs:label>Test Audit System User</rdfs:label>\n",
      "    </rdfs:Class>\n",
      "    </xs:appinfo>\n",
      "    </xs:annotation>\n",
      "    <xs:complexContent>\n",
      "      <xs:restriction base='s3m:PartyType'>\n",
      "        <xs:sequence>\n",
      "          <xs:element maxOccurs='1' minOccurs='1' name='label' type='xs:string' fixed=\"Test Audit System User\"/>\n",
      "          <xs:element maxOccurs='1' minOccurs='0' name='party-name' type='xs:string'/>\n",
      "          </xs:sequence>\n",
      "        </xs:restriction>\n",
      "      </xs:complexContent>\n",
      "    </xs:complexType>\n",
      "\n",
      "  \n",
      "<xs:element name=\"ms-cjnd0rdyq0004l38p4gokva12\" substitutionGroup=\"s3m:Item\" type=\"s3m:mc-cjnd0rdyq0004l38p4gokva12\"/>\n",
      "  <xs:complexType name=\"mc-cjnd0rdyq0004l38p4gokva12\">\n",
      "    <xs:complexContent>\n",
      "      <xs:restriction base=\"s3m:ClusterType\">\n",
      "        <xs:sequence>\n",
      "          <xs:element maxOccurs=\"1\" minOccurs=\"1\" name=\"label\" type=\"xs:string\" fixed=\"Test Audit Location\"/>\n",
      "        </xs:sequence>\n",
      "      </xs:restriction>\n",
      "    </xs:complexContent>\n",
      "  </xs:complexType>\n",
      "\n",
      "\n"
     ]
    }
   ],
   "source": [
    "aud = AuditType('Test Audit')\n",
    "aud.docs = \"An example Audit component.\"\n",
    "sid = XdStringType('Test Audit System ID')\n",
    "sid.regex = '[0-9]{2}-[0-9]{1}-[0-9]{3}' # a regex for system id format \n",
    "aud.system_id = sid\n",
    "\n",
    "siu = PartyType('Test Audit System User')\n",
    "aud.system_user = siu\n",
    "\n",
    "loc = ClusterType(\"Test Audit Location\")\n",
    "aud.location = loc\n",
    "\n",
    "print(aud,'\\n')\n",
    "print(aud.getModel())"
   ]
  }
 ],
 "metadata": {
  "celltoolbar": "Slideshow",
  "kernelspec": {
   "display_name": "Python [conda env:S3Model]",
   "language": "python",
   "name": "conda-env-S3Model-py"
  },
  "language_info": {
   "codemirror_mode": {
    "name": "ipython",
    "version": 3
   },
   "file_extension": ".py",
   "mimetype": "text/x-python",
   "name": "python",
   "nbconvert_exporter": "python",
   "pygments_lexer": "ipython3",
   "version": "3.7.0"
  }
 },
 "nbformat": 4,
 "nbformat_minor": 2
}

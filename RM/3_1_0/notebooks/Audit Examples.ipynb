{
 "cells": [
  {
   "cell_type": "markdown",
   "metadata": {
    "slideshow": {
     "slide_type": "slide"
    }
   },
   "source": [
    "# Examples using the AuditType"
   ]
  },
  {
   "cell_type": "markdown",
   "metadata": {
    "slideshow": {
     "slide_type": "slide"
    }
   },
   "source": [
    "**Set the path to the folder containing the library files and import the extended datatype.**"
   ]
  },
  {
   "cell_type": "code",
   "execution_count": 4,
   "metadata": {
    "slideshow": {
     "slide_type": "fragment"
    }
   },
   "outputs": [],
   "source": [
    "import sys \n",
    "sys.path.append(\"../pylib/\")\n",
    "from s3m_xdt import XdStringType\n",
    "from s3m_struct import ClusterType, XdAdapterType\n",
    "from s3m_meta import AuditType, PartyType"
   ]
  },
  {
   "cell_type": "markdown",
   "metadata": {
    "slideshow": {
     "slide_type": "slide"
    }
   },
   "source": [
    "Review the documentation of AuditType. "
   ]
  },
  {
   "cell_type": "code",
   "execution_count": 5,
   "metadata": {
    "scrolled": false,
    "slideshow": {
     "slide_type": "slide"
    }
   },
   "outputs": [],
   "source": [
    "# help(AuditType)"
   ]
  },
  {
   "cell_type": "markdown",
   "metadata": {
    "slideshow": {
     "slide_type": "slide"
    }
   },
   "source": [
    "Create an Audit instance and add the required *system_id, system_user and location* models."
   ]
  },
  {
   "cell_type": "code",
   "execution_count": 6,
   "metadata": {
    "slideshow": {
     "slide_type": "fragment"
    }
   },
   "outputs": [
    {
     "name": "stdout",
     "output_type": "stream",
     "text": [
      "AuditType : Test Audit, ID: cjnyrmp39000734bikaqtohel \n",
      "\n",
      "\n",
      "\n",
      "  <xs:complexType name='mc-cjnyrmp39000734bikaqtohel' xml:lang=''>\n",
      "    <xs:annotation>\n",
      "    <xs:documentation>\n",
      "      An example Audit component.\n",
      "    </xs:documentation>\n",
      "    <xs:appinfo>\n",
      "    <rdfs:Class rdf:about='mc-cjnyrmp39000734bikaqtohel'>\n",
      "    <rdfs:subClassOf rdf:resource='https://www.s3model.com/ns/s3m/s3model_3_1_0.xsd##AuditType'/>\n",
      "    <rdfs:subClassOf rdf:resource='https://www.s3model.com/ns/s3m/s3model/RMC'/>\n",
      "    <rdfs:label>Test Audit</rdfs:label>\n",
      "    </rdfs:Class>\n",
      "    </xs:appinfo>\n",
      "    </xs:annotation>\n",
      "    <xs:complexContent>\n",
      "      <xs:restriction base='s3m:AuditType'>\n",
      "        <xs:sequence>\n",
      "          <xs:element maxOccurs='1' minOccurs='1' name='label' type='xs:string' fixed=\"Test Audit\"/>\n",
      "          <xs:element maxOccurs='1' minOccurs='1' name='system-id' type='s3m:mc-cjnyrmp39000834bilnsteb0t'/>\n",
      "          <xs:element maxOccurs='1' minOccurs='0' name='system-user' type='s3m:mc-cjnyrmp39000a34biepdl4bo3'/>\n",
      "          <xs:element maxOccurs='1' minOccurs='0' name='location' type='s3m:mc-cjnyrmp3a000d34bifvjd6xd1'/>\n",
      "          <xs:element maxOccurs='1' minOccurs='1' name='timestamp' type='xs:dateTime'/>\n",
      "          </xs:sequence>\n",
      "        </xs:restriction>\n",
      "      </xs:complexContent>\n",
      "    </xs:complexType>\n",
      "\n",
      "  <xs:element name=\"ms-cjnyrmp39000834bilnsteb0t\" substitutionGroup=\"s3m:XdString\" type=\"s3m:mc-cjnyrmp39000834bilnsteb0t\"/>\n",
      "  <xs:complexType name=\"mc-cjnyrmp39000834bilnsteb0t\">\n",
      "    <xs:annotation>\n",
      "      <xs:documentation>\n",
      "        An example system id.\n",
      "      </xs:documentation>\n",
      "      <xs:appinfo>\n",
      "        <rdfs:Class rdf:about=\"mc-cjnyrmp39000834bilnsteb0t\">\n",
      "          <rdfs:subClassOf rdf:resource=\"https://www.s3model.com/ns/s3m/s3model_3_1_0.xsd#XdStringType\"/>\n",
      "          <rdfs:subClassOf rdf:resource=\"https://www.s3model.com/ns/s3m/s3model/RMC\"/>\n",
      "          <rdfs:isDefinedBy rdf:resource=\"https%3A//s3model.com/examples/audit/systemid\"/>\n",
      "        </rdfs:Class>\n",
      "      </xs:appinfo>\n",
      "    </xs:annotation>\n",
      "    <xs:complexContent>\n",
      "      <xs:restriction base=\"s3m:XdStringType\">\n",
      "        <xs:sequence>\n",
      "          <xs:element maxOccurs=\"1\" minOccurs=\"1\" name=\"label\" type=\"xs:string\" fixed=\"Test Audit System ID\"/>\n",
      "          <xs:element maxOccurs=\"1\" minOccurs=\"0\" name=\"act\" type=\"xs:string\"/>\n",
      "          <xs:element maxOccurs=\"unbounded\" minOccurs=\"0\" ref=\"s3m:ExceptionalValue\"/>\n",
      "          <xs:element maxOccurs=\"1\" minOccurs=\"0\" name=\"vtb\" type=\"xs:dateTime\"/>\n",
      "          <xs:element maxOccurs=\"1\" minOccurs=\"0\" name=\"vte\" type=\"xs:dateTime\"/>\n",
      "          <xs:element maxOccurs=\"1\" minOccurs=\"0\" name=\"tr\" type=\"xs:dateTime\"/>\n",
      "          <xs:element maxOccurs=\"1\" minOccurs=\"0\" name=\"modified\" type=\"xs:dateTime\"/>\n",
      "          <xs:element maxOccurs=\"1\" minOccurs=\"0\" name=\"latitude\" type=\"s3m:lattype\"/>\n",
      "          <xs:element maxOccurs=\"1\" minOccurs=\"0\" name=\"longitude\" type=\"s3m:lontype\"/>\n",
      "          <xs:element maxOccurs='1' minOccurs='0' name='xdstring-value'>\n",
      "              <xs:simpleType>\n",
      "                <xs:restriction base='xs:string'>\n",
      "                  <xs:pattern value='[0-9]{2}-[0-9]{1}-[0-9]{3}'/>\n",
      "                </xs:restriction>\n",
      "              </xs:simpleType>\n",
      "            </xs:element>\n",
      "        </xs:sequence>\n",
      "      </xs:restriction>\n",
      "    </xs:complexContent>\n",
      "  </xs:complexType>\n",
      "\n",
      "\n",
      "  <xs:complexType name='mc-cjnyrmp39000a34biepdl4bo3'> \n",
      "    <xs:annotation>\n",
      "    <xs:documentation>\n",
      "      An example Audit system user.\n",
      "    </xs:documentation>\n",
      "    <xs:appinfo>\n",
      "    <rdfs:Class rdf:about='mc-cjnyrmp39000a34biepdl4bo3'>\n",
      "    <rdfs:subClassOf rdf:resource='https://www.s3model.com/ns/s3m/s3model_3_1_0.xsd#PartyType'/>\n",
      "    <rdfs:subClassOf rdf:resource='https://www.s3model.com/ns/s3m/s3model/RMC'/>\n",
      "    <rdfs:label>Test Audit System User</rdfs:label>\n",
      "    </rdfs:Class>\n",
      "    </xs:appinfo>\n",
      "    </xs:annotation>\n",
      "    <xs:complexContent>\n",
      "      <xs:restriction base='s3m:PartyType'>\n",
      "        <xs:sequence>\n",
      "          <xs:element maxOccurs='1' minOccurs='1' name='label' type='xs:string' fixed=\"Test Audit System User\"/>\n",
      "          <xs:element maxOccurs='1' minOccurs='0' name='party-name' type='xs:string'/>\n",
      "          </xs:sequence>\n",
      "        </xs:restriction>\n",
      "      </xs:complexContent>\n",
      "    </xs:complexType>\n",
      "\n",
      "  \n",
      "<xs:element name=\"ms-cjnyrmp3a000d34bifvjd6xd1\" substitutionGroup=\"s3m:Item\" type=\"s3m:mc-cjnyrmp3a000d34bifvjd6xd1\"/>\n",
      "  <xs:complexType name=\"mc-cjnyrmp3a000d34bifvjd6xd1\">\n",
      "    <xs:annotation>\n",
      "      <xs:documentation>\n",
      "        An example Audit location.\n",
      "      </xs:documentation>\n",
      "      <xs:appinfo>\n",
      "        <rdfs:Class rdf:about=\"mc-cjnyrmp3a000d34bifvjd6xd1\">\n",
      "          <rdfs:subClassOf rdf:resource=\"https://www.s3model.com/ns/s3m/s3model_3_1_0.xsd#ClusterType\"/>\n",
      "          <rdfs:subClassOf rdf:resource=\"https://www.s3model.com/ns/s3m/s3model/RMC\"/>\n",
      "          <rdfs:isDefinedBy rdf:resource=\"https%3A//s3model.com/examples/audit/location\"/>\n",
      "        </rdfs:Class>\n",
      "      </xs:appinfo>\n",
      "    </xs:annotation>\n",
      "    <xs:complexContent>\n",
      "      <xs:restriction base=\"s3m:ClusterType\">\n",
      "        <xs:sequence>\n",
      "          <xs:element maxOccurs=\"1\" minOccurs=\"1\" name=\"label\" type=\"xs:string\" fixed=\"Test Audit Location\"/>\n",
      "          <xs:element maxOccurs=\"1\" minOccurs=\"0\" ref=\"s3m:ms-cjnyrmp39000c34bivbgv99hi\"/>\n",
      "        </xs:sequence>\n",
      "      </xs:restriction>\n",
      "    </xs:complexContent>\n",
      "  </xs:complexType>\n",
      "\n",
      "  \n",
      "<xs:element name=\"ms-cjnyrmp39000c34bivbgv99hi\" substitutionGroup=\"s3m:Items\" type=\"s3m:mc-cjnyrmp39000c34bivbgv99hi\"/>\n",
      "  <xs:complexType name=\"mc-cjnyrmp39000c34bivbgv99hi\">\n",
      "    <xs:complexContent>\n",
      "      <xs:restriction base=\"s3m:XdAdapterType\">\n",
      "        <xs:sequence>\n",
      "          <xs:element maxOccurs=\"unbounded\" minOccurs=\"0\" ref=\"s3m:ms-cjnyrmp39000b34bic4cminnm\"/>\n",
      "        </xs:sequence>\n",
      "      </xs:restriction>\n",
      "    </xs:complexContent>\n",
      "  </xs:complexType>\n",
      "\n",
      "  <xs:element name=\"ms-cjnyrmp39000b34bic4cminnm\" substitutionGroup=\"s3m:XdAdapter-value\" type=\"s3m:mc-cjnyrmp39000b34bic4cminnm\"/>\n",
      "  <xs:complexType name=\"mc-cjnyrmp39000b34bic4cminnm\">\n",
      "    <xs:annotation>\n",
      "      <xs:documentation>\n",
      "        A location that requires lat/lon and a descriptive name for a value.\n",
      "      </xs:documentation>\n",
      "      <xs:appinfo>\n",
      "        <rdfs:Class rdf:about=\"mc-cjnyrmp39000b34bic4cminnm\">\n",
      "          <rdfs:subClassOf rdf:resource=\"https://www.s3model.com/ns/s3m/s3model_3_1_0.xsd#XdStringType\"/>\n",
      "          <rdfs:subClassOf rdf:resource=\"https://www.s3model.com/ns/s3m/s3model/RMC\"/>\n",
      "          <rdfs:isDefinedBy rdf:resource=\"https%3A//s3model.com/location\"/>\n",
      "        </rdfs:Class>\n",
      "      </xs:appinfo>\n",
      "    </xs:annotation>\n",
      "    <xs:complexContent>\n",
      "      <xs:restriction base=\"s3m:XdStringType\">\n",
      "        <xs:sequence>\n",
      "          <xs:element maxOccurs=\"1\" minOccurs=\"1\" name=\"label\" type=\"xs:string\" fixed=\"GPS Coordinates\"/>\n",
      "          <xs:element maxOccurs=\"1\" minOccurs=\"0\" name=\"act\" type=\"xs:string\"/>\n",
      "          <xs:element maxOccurs=\"unbounded\" minOccurs=\"0\" ref=\"s3m:ExceptionalValue\"/>\n",
      "          <xs:element maxOccurs=\"1\" minOccurs=\"0\" name=\"vtb\" type=\"xs:dateTime\"/>\n",
      "          <xs:element maxOccurs=\"1\" minOccurs=\"0\" name=\"vte\" type=\"xs:dateTime\"/>\n",
      "          <xs:element maxOccurs=\"1\" minOccurs=\"0\" name=\"tr\" type=\"xs:dateTime\"/>\n",
      "          <xs:element maxOccurs=\"1\" minOccurs=\"0\" name=\"modified\" type=\"xs:dateTime\"/>\n",
      "          <xs:element maxOccurs=\"1\" minOccurs=\"1\" name=\"latitude\" type=\"s3m:lattype\"/>\n",
      "          <xs:element maxOccurs=\"1\" minOccurs=\"1\" name=\"longitude\" type=\"s3m:lontype\"/>\n",
      "          <xs:element maxOccurs='1' minOccurs='0' name='xdstring-value' type='xs:string'/>\n",
      "        </xs:sequence>\n",
      "      </xs:restriction>\n",
      "    </xs:complexContent>\n",
      "  </xs:complexType>\n",
      "\n"
     ]
    }
   ],
   "source": [
    "aud = AuditType('Test Audit')\n",
    "aud.definition_url = \"https://s3model.com/examples/audit\"\n",
    "aud.docs = \"An example Audit component.\"\n",
    "\n",
    "sid = XdStringType('Test Audit System ID')\n",
    "sid.definition_url = \"https://s3model.com/examples/audit/systemid\"\n",
    "sid.docs = \"An example system id.\"\n",
    "sid.regex = '[0-9]{2}-[0-9]{1}-[0-9]{3}' # a regex for system id format \n",
    "sid.published = True\n",
    "aud.system_id = sid\n",
    "\n",
    "siu = PartyType('Test Audit System User')\n",
    "siu.definition_url = \"https://s3model.com/examples/systemuser\"\n",
    "siu.docs = \"An example Audit system user.\"\n",
    "siu.published = True\n",
    "aud.system_user = siu\n",
    "\n",
    "d = XdStringType('GPS Coordinates')\n",
    "d.docs = \"A location that requires lat/lon and a descriptive name for a value.\"\n",
    "d.definition_url = 'https://s3model.com/location'\n",
    "d.cardinality = ('location', [1,1])\n",
    "d.published = True\n",
    "a = XdAdapterType()\n",
    "a.value = d  \n",
    "\n",
    "loc = ClusterType(\"Test Audit Location\")\n",
    "loc.definition_url = \"https://s3model.com/examples/audit/location\"\n",
    "loc.docs = \"An example Audit location.\"\n",
    "loc.items = a\n",
    "loc.published = True\n",
    "aud.location = loc\n",
    "\n",
    "print(aud,'\\n')\n",
    "aud.published = True\n",
    "print(aud.getModel())"
   ]
  }
 ],
 "metadata": {
  "celltoolbar": "Slideshow",
  "kernelspec": {
   "display_name": "Python [conda env:S3Model]",
   "language": "python",
   "name": "conda-env-S3Model-py"
  },
  "language_info": {
   "codemirror_mode": {
    "name": "ipython",
    "version": 3
   },
   "file_extension": ".py",
   "mimetype": "text/x-python",
   "name": "python",
   "nbconvert_exporter": "python",
   "pygments_lexer": "ipython3",
   "version": "3.7.0"
  }
 },
 "nbformat": 4,
 "nbformat_minor": 2
}

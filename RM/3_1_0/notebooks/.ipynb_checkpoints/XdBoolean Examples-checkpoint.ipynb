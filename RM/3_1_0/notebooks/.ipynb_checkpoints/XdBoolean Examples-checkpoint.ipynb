{
 "cells": [
  {
   "cell_type": "markdown",
   "metadata": {
    "slideshow": {
     "slide_type": "slide"
    }
   },
   "source": [
    "# Examples using the XdBooleanType"
   ]
  },
  {
   "cell_type": "markdown",
   "metadata": {
    "slideshow": {
     "slide_type": "slide"
    }
   },
   "source": [
    "**Set the path to the folder containing the library files and import the extended datatype.**"
   ]
  },
  {
   "cell_type": "code",
   "execution_count": 1,
   "metadata": {
    "slideshow": {
     "slide_type": "fragment"
    }
   },
   "outputs": [],
   "source": [
    "import sys \n",
    "sys.path.append(\"../pylib/\")\n",
    "from xdt import XdBooleanType"
   ]
  },
  {
   "cell_type": "markdown",
   "metadata": {
    "slideshow": {
     "slide_type": "slide"
    }
   },
   "source": [
    "Review the documentation of XdBooleanType. Note the class signature requires a *label* (string name) and an *opt* (options dictionary)."
   ]
  },
  {
   "cell_type": "code",
   "execution_count": 2,
   "metadata": {
    "slideshow": {
     "slide_type": "slide"
    }
   },
   "outputs": [
    {
     "name": "stdout",
     "output_type": "stream",
     "text": [
      "Help on class XdBooleanType in module xdt:\n",
      "\n",
      "class XdBooleanType(XdAnyType)\n",
      " |  XdBooleanType(label: str, opt: dict)\n",
      " |  \n",
      " |  An enumerated type which represents boolean decisions such as true/false \n",
      " |  or yes/no answers. \n",
      " |  \n",
      " |  Useful where it is essential to devise the meanings (often questions in \n",
      " |  subjective data) carefully so that the only allowed result values result \n",
      " |  in one of the options; true or false but are presented to the user as \n",
      " |  a list of options. \n",
      " |  \n",
      " |  The possible choices for True or False are values in a dictionary. \n",
      " |  The class defines 'true_value' and 'false_value'. \n",
      " |  The instance implementation is restricted to only have a value for one of \n",
      " |  them based on the user choice from the options dictionary.\n",
      " |  \n",
      " |  The XdBooleanType should not be used as a replacement for enumerated choice \n",
      " |  types such as male/female, or similar choice sets. \n",
      " |  Such values should be modeled as XdStrings with enumerations and may reference \n",
      " |  a controlled vocabulary. \n",
      " |  In any case, the choice set often has more than two values.\n",
      " |  \n",
      " |  Method resolution order:\n",
      " |      XdBooleanType\n",
      " |      XdAnyType\n",
      " |      abc.ABC\n",
      " |      builtins.object\n",
      " |  \n",
      " |  Methods defined here:\n",
      " |  \n",
      " |  __init__(self, label: str, opt: dict)\n",
      " |      Create an instance of a XdBooleanType.\n",
      " |      \n",
      " |      Parameters\n",
      " |      ----------\n",
      " |      label: str\n",
      " |          A human readable name lending semantics to the purpose of the model.\n",
      " |      opt: dictionary\n",
      " |          A dictionary where the two allowed keys are 'trues' and 'falses'.\n",
      " |          The items associated with these keys are a list of options for the user to \n",
      " |          choose from.\n",
      " |  \n",
      " |  asJSON(self)\n",
      " |      Return an example JSON fragment for this model.\n",
      " |  \n",
      " |  asXML(self)\n",
      " |      Return an example XML fragment for this model.\n",
      " |      \n",
      " |      The core elements are included even though they may not be \n",
      " |      required via cardinality. Therefore this example may be considerably \n",
      " |      larger than an actual implementation.\n",
      " |  \n",
      " |  asXSD(self)\n",
      " |      Return a XML Schema complexType definition.\n",
      " |  \n",
      " |  ----------------------------------------------------------------------\n",
      " |  Data descriptors defined here:\n",
      " |  \n",
      " |  false_value\n",
      " |      A string that represents a boolean False in the implementation. These are constrained by a set of enumerations.\n",
      " |  \n",
      " |  true_value\n",
      " |      A string that represents a boolean True in the implementation. These are constrained by a set of enumerations.\n",
      " |  \n",
      " |  ----------------------------------------------------------------------\n",
      " |  Data and other attributes defined here:\n",
      " |  \n",
      " |  __abstractmethods__ = frozenset()\n",
      " |  \n",
      " |  ----------------------------------------------------------------------\n",
      " |  Methods inherited from XdAnyType:\n",
      " |  \n",
      " |  __str__(self)\n",
      " |      Return str(self).\n",
      " |  \n",
      " |  ----------------------------------------------------------------------\n",
      " |  Data descriptors inherited from XdAnyType:\n",
      " |  \n",
      " |  __dict__\n",
      " |      dictionary for instance variables (if defined)\n",
      " |  \n",
      " |  __weakref__\n",
      " |      list of weak references to the object (if defined)\n",
      " |  \n",
      " |  act\n",
      " |      Access Control Tag. If this is used it must contain a valid term from \n",
      " |      the Access Control System linked to by the containing Data Model \n",
      " |      'acs' attribute.\n",
      " |  \n",
      " |  acuid\n",
      " |      The unique identifier of the wrapping XdAdapter of the component.\n",
      " |  \n",
      " |  cardinality\n",
      " |      The cardinality status values. \n",
      " |      \n",
      " |      The setter method can be called by each subclass to add cardinality \n",
      " |      values for each element or change the defaults. \n",
      " |      Some elements cardinality may not be changed. \n",
      " |      Ex: XdBoolean elements are not modifiable.\n",
      " |      \n",
      " |      The cardinality dictionary uses a string representation of each \n",
      " |      property name and a tuple as the value.\n",
      " |      \n",
      " |      The value passed into the setter is a tuple with v[0] as a string and \n",
      " |      v[1] as a tuple containing an integer set representing the \n",
      " |      (minimum, maximum) values. \n",
      " |      \n",
      " |      Examples\n",
      " |      --------\n",
      " |      \n",
      " |      ('vtb', (1,1)) will set the vtb value to be required.\n",
      " |      \n",
      " |              \n",
      " |      NOTES\n",
      " |      -----\n",
      " |      \n",
      " |      The cardinality for latitude and longitude are combined into one \n",
      " |      setting called 'location'.\n",
      " |      \n",
      " |      The Python value of 'None' represents the 'unbounded' XML Schema value.\n",
      " |      The 'unbounded' value is allowed on only a few attributes.\n",
      " |  \n",
      " |  definition_url\n",
      " |      The primary definition URL for the model.\n",
      " |      Cannot be an IP address.\n",
      " |  \n",
      " |  docs\n",
      " |      The human readable documentation string describing the purpose of \n",
      " |      the model.\n",
      " |  \n",
      " |  ev\n",
      " |      In an invalid instance, the application can indicate here why data is \n",
      " |      missing or invalid. \n",
      " |      The sub-types are based on ISO 21090 NULL Flavors entries, with \n",
      " |      additions noted from real-world usage.\n",
      " |  \n",
      " |  label\n",
      " |      The semantic name of the component.\n",
      " |  \n",
      " |  latitude\n",
      " |      Latitude in decimal format. Value range -90.000000 to 90.000000.\n",
      " |  \n",
      " |  longitude\n",
      " |      Longitude in decimal format. Value range -180.000000 to 180.000000.\n",
      " |  \n",
      " |  mcuid\n",
      " |      The unique identifier of the component.\n",
      " |  \n",
      " |  modified\n",
      " |      Time Modified. If present this must be a valid date-time stamp. \n",
      " |      It is used to indicate the date and time the data was last changed.\n",
      " |  \n",
      " |  pred_obj_list\n",
      " |      A list of additional predicate object pairs to describe the component.\n",
      " |      \n",
      " |      Each list item is a tuple where 0 is the predicate and 1 is the object.\n",
      " |      \n",
      " |      Example: \n",
      " |      ('rdf:resource','https://www.niddk.nih.gov/health-information/health-statistics')\n",
      " |      The setter accepts the tuple and appends it to the list.\n",
      " |      If an empty list is supplied it resets the value to the empty list.\n",
      " |  \n",
      " |  tr\n",
      " |      Time Recorded. If present this must be a valid date-time. \n",
      " |      It is used to indicate the initial date and time the data was recorded.\n",
      " |  \n",
      " |  vtb\n",
      " |      Valid Time Begin. If present this must be a valid datetime including timezone. \n",
      " |      It is used to indicate the beginning time that information is considered valid.\n",
      " |  \n",
      " |  vte\n",
      " |      Valid Time End. If present this must be a valid date-time including timezone. \n",
      " |      It is used to indicate the ending time that information is considered valid \n",
      " |      or the time the information expired or will expire.\n",
      "\n"
     ]
    }
   ],
   "source": [
    "help(XdBooleanType)"
   ]
  },
  {
   "cell_type": "markdown",
   "metadata": {
    "slideshow": {
     "slide_type": "slide"
    }
   },
   "source": [
    "Create a XdBoolean instance. Set some values. Note the format for the *options* dictionary. We also must pass in the *label* as a string. \n",
    "\n",
    "In this case we are going to set a boolean value based on reactions to a book called *Can it happen here?*"
   ]
  },
  {
   "cell_type": "code",
   "execution_count": 15,
   "metadata": {
    "slideshow": {
     "slide_type": "fragment"
    }
   },
   "outputs": [],
   "source": [
    "opt = {'trues':['Yes','Maybe','Possible'], 'falses':['No','Unlikely','Impossible']}\n",
    "d = XdBooleanType('Can it happen here?', opt)"
   ]
  },
  {
   "cell_type": "markdown",
   "metadata": {
    "slideshow": {
     "slide_type": "slide"
    }
   },
   "source": [
    "Check the ouput signature when printing an instance. It prints the class type, label and unique ID. This is common across all extended datatypes."
   ]
  },
  {
   "cell_type": "code",
   "execution_count": 4,
   "metadata": {
    "scrolled": true,
    "slideshow": {
     "slide_type": "fragment"
    }
   },
   "outputs": [
    {
     "name": "stdout",
     "output_type": "stream",
     "text": [
      "XdBooleanType : Can it happen here?, ID: cjmuxu61q0000z98p91fewlhm\n"
     ]
    }
   ],
   "source": [
    "print(d)"
   ]
  },
  {
   "cell_type": "markdown",
   "metadata": {
    "slideshow": {
     "slide_type": "slide"
    }
   },
   "source": [
    "Add documentation about the model. You may insert a linebreak using '\\n' any place in the string.\n",
    "This documentation is for human consumption. You should be as verbose as required to inform future users of your model about its intent."
   ]
  },
  {
   "cell_type": "code",
   "execution_count": 5,
   "metadata": {
    "slideshow": {
     "slide_type": "fragment"
    }
   },
   "outputs": [],
   "source": [
    "d.docs = \"Provide a True/False result based on user selected option from pulldown or radio button style UI. \\nWhat is their reaction to the book?\""
   ]
  },
  {
   "cell_type": "code",
   "execution_count": 6,
   "metadata": {
    "scrolled": true,
    "slideshow": {
     "slide_type": "subslide"
    }
   },
   "outputs": [
    {
     "name": "stdout",
     "output_type": "stream",
     "text": [
      "Provide a True/False result based on user selected option from pulldown or radio button style UI. \n",
      "What is their reaction to the book?\n"
     ]
    }
   ],
   "source": [
    "print(d.docs)"
   ]
  },
  {
   "cell_type": "markdown",
   "metadata": {
    "slideshow": {
     "slide_type": "slide"
    }
   },
   "source": [
    "# Semantics (part 1)\n",
    "It is important to understand the relationship between the model and what the model is about. \n",
    "\n",
    "tl;dr The unique ID *mcuid* is a synonym for the *label* which is the *Subject* of the *SPO triple*."
   ]
  },
  {
   "cell_type": "markdown",
   "metadata": {
    "slideshow": {
     "slide_type": "slide"
    }
   },
   "source": [
    "Add a defining URL for the model. This will be translated into machine processable instructions in RDF as well as appended to the human-readable docs. This URL should define or describe the value expressed in the *label*.\n",
    "\n",
    "If you do not want it to appear in your docs, then set the definition_url before setting your docs string."
   ]
  },
  {
   "cell_type": "code",
   "execution_count": 7,
   "metadata": {
    "slideshow": {
     "slide_type": "slide"
    }
   },
   "outputs": [],
   "source": [
    "d.definition_url = 'https://www.harpercollins.com/9780062696199/can-it-happen-here/'"
   ]
  },
  {
   "cell_type": "code",
   "execution_count": 8,
   "metadata": {
    "slideshow": {
     "slide_type": "fragment"
    }
   },
   "outputs": [
    {
     "name": "stdout",
     "output_type": "stream",
     "text": [
      "Provide a True/False result based on user selected option from pulldown or radio button style UI. \n",
      "What is their reaction to the book?\n",
      "\n",
      "Definition: https%3A//www.harpercollins.com/9780062696199/can-it-happen-here/\n"
     ]
    }
   ],
   "source": [
    "print(d.docs)"
   ]
  },
  {
   "cell_type": "markdown",
   "metadata": {
    "slideshow": {
     "slide_type": "slide"
    }
   },
   "source": [
    "# Semantics (part 2)\n",
    "In addition to the defining_url we can add more RDF semantics to the model for machine processing. \n",
    "\n",
    "We do this by passing in tuples with a predicate/object pair. \n",
    "These are part of the RDF subject, predicate, object triple concept. This is the foundation of semantic graph data. If you aren't familiar with these concepts then see: http://www.linkeddatatools.com/introducing-rdf "
   ]
  },
  {
   "cell_type": "markdown",
   "metadata": {
    "slideshow": {
     "slide_type": "slide"
    }
   },
   "source": [
    "In S3Model, the model component which is defined by the unique ID *mcuid*, is the Subject. \n",
    "So here we are adding a predicate and an object to give enhanced meaning to our model. \n",
    "The unique ID *mcuid* is a synonym for the *label*.\n",
    "\n",
    "When you review the XSD fragment model below, you can see that some default RDF is already added. The statements that connect this model to the S3Model ontology as well as the label and comment statements. Then your additional predicate/object pairs are added."
   ]
  },
  {
   "cell_type": "code",
   "execution_count": 9,
   "metadata": {
    "slideshow": {
     "slide_type": "fragment"
    }
   },
   "outputs": [],
   "source": [
    "d.pred_obj_list = ('sioc:topic','https://en.wikipedia.org/wiki/Political_science')\n",
    "d.pred_obj_list = ('dc:creator','https://www.harpercollins.com/author/123554/cass-r-sunstein/')"
   ]
  },
  {
   "cell_type": "markdown",
   "metadata": {
    "slideshow": {
     "slide_type": "slide"
    }
   },
   "source": [
    "Review the XSD model. \n",
    "Note how the RDF is embeded along with the validation instructions. This provides a single file (when combined with all the other parts of a DMType) that is sharable as the author chooses. It completely informs the receiver of the meaning of each component. Both in human-readable as well as machine processable forms.\n",
    "\n",
    "\n",
    "Note how the **options** are used as enumerations to constrain each of the two elements. The model requires (via xs:choice) that only a *true-value* or a *false-value* is allowed in the data."
   ]
  },
  {
   "cell_type": "code",
   "execution_count": 10,
   "metadata": {
    "scrolled": false,
    "slideshow": {
     "slide_type": "slide"
    }
   },
   "outputs": [
    {
     "name": "stdout",
     "output_type": "stream",
     "text": [
      "  \n",
      "<xs:element name=\"ms-cjmuxu61q0001z98pmwww2q5n\" substitutionGroup=\"s3m:Items\" type=\"s3m:mc-cjmuxu61q0001z98pmwww2q5n\"/>\n",
      "  <xs:complexType name=\"mc-cjmuxu61q0001z98pmwww2q5n\">\n",
      "    <xs:complexContent>\n",
      "      <xs:restriction base=\"s3m:XdAdapterType\">\n",
      "        <xs:sequence>\n",
      "          <xs:element maxOccurs=\"unbounded\" minOccurs=\"0\" ref=\"s3m:ms-cjmuxu61q0000z98p91fewlhm\"/>\n",
      "        </xs:sequence>\n",
      "      </xs:restriction>\n",
      "    </xs:complexContent>\n",
      "  </xs:complexType>\n",
      "  <xs:element name=\"ms-cjmuxu61q0000z98p91fewlhm\" substitutionGroup=\"s3m:XdAdapter-value\" type=\"s3m:mc-cjmuxu61q0000z98p91fewlhm\"/>\n",
      "  <xs:complexType name=\"mc-cjmuxu61q0000z98p91fewlhm\">\n",
      "    <xs:annotation>\n",
      "      <xs:documentation>\n",
      "        Provide a True/False result based on user selected option from pulldown or radio button style UI. \n",
      "What is their reaction to the book?\n",
      "\n",
      "Definition: https%3A//www.harpercollins.com/9780062696199/can-it-happen-here/\n",
      "      </xs:documentation>\n",
      "      <xs:appinfo>\n",
      "        <rdfs:Class rdf:about=\"mc-cjmuxu61q0000z98p91fewlhm\">\n",
      "          <rdfs:subClassOf rdf:resource=\"https://www.s3model.com/ns/s3m/s3model_3_1_0.xsd#XdBooleanType\"/>\n",
      "          <rdfs:subClassOf rdf:resource=\"https://www.s3model.com/ns/s3m/s3model/RMC\"/>\n",
      "          <rdfs:label rdf:resource=\"Can it happen here?\"/>\n",
      "          <rdfs:isDefinedBy rdf:resource=\"https%3A//www.harpercollins.com/9780062696199/can-it-happen-here/\"/>\n",
      "          <rdfs:comment rdf:resource=\"Provide a True/False result based on user selected option from pulldown or radio button style UI. \n",
      "What is their reaction to the book?\n",
      "\n",
      "Definition: https%3A//www.harpercollins.com/9780062696199/can-it-happen-here/\"/>\n",
      "          <sioc:topic rdf:resource=\"https%3A//en.wikipedia.org/wiki/Political_science\"/>\n",
      "          <dc:creator rdf:resource=\"https%3A//www.harpercollins.com/author/123554/cass-r-sunstein/\"/>\n",
      "        </rdfs:Class>\n",
      "      </xs:appinfo>\n",
      "    </xs:annotation>\n",
      "    <xs:complexContent>\n",
      "      <xs:restriction base=\"s3m:XdBooleanType\">\n",
      "        <xs:sequence>\n",
      "          <xs:element maxOccurs=\"1\" minOccurs=\"1\" name=\"label\" type=\"xs:string\" fixed=\"Can it happen here?\"/>\n",
      "          <xs:element maxOccurs=\"1\" minOccurs=\"0\" name=\"act\" type=\"xs:string\" default=\"\"/>\n",
      "          <xs:element maxOccurs=\"1\" minOccurs=\"0\" ref=\"s3m:ExceptionalValue\"/>\n",
      "          <xs:element maxOccurs=\"1\" minOccurs=\"0\" name=\"vtb\" type=\"xs:dateTime\"/>\n",
      "          <xs:element maxOccurs=\"1\" minOccurs=\"0\" name=\"vte\" type=\"xs:dateTime\"/>\n",
      "          <xs:element maxOccurs=\"1\" minOccurs=\"0\" name=\"tr\" type=\"xs:dateTime\"/>\n",
      "          <xs:element maxOccurs=\"1\" minOccurs=\"0\" name=\"modified\" type=\"xs:dateTime\"/>\n",
      "          <xs:element maxOccurs=\"1\" minOccurs=\"0\" name=\"latitude\" type=\"xs:decimal\"/>\n",
      "          <xs:element maxOccurs=\"1\" minOccurs=\"0\" name=\"longitude\" type=\"xs:decimal\"/>\n",
      "          <xs:choice maxOccurs='1' minOccurs='1'>\n",
      "          <xs:element name='true-value'>\n",
      "            <xs:simpleType>\n",
      "              <xs:restriction base='xs:string'>\n",
      "                  <xs:enumeration value='Yes'/>\n",
      "                  <xs:enumeration value='Maybe'/>\n",
      "                  <xs:enumeration value='Possible'/>\n",
      "              </xs:restriction>\n",
      "            </xs:simpleType>\n",
      "          </xs:element>\n",
      "          <xs:element name='false-value'>\n",
      "            <xs:simpleType>\n",
      "              <xs:restriction base='xs:string'>\n",
      "                  <xs:enumeration value='No'/>\n",
      "                  <xs:enumeration value='Unlikely'/>\n",
      "                  <xs:enumeration value='Impossible'/>\n",
      "              </xs:restriction>\n",
      "            </xs:simpleType>\n",
      "          </xs:element>\n",
      "          </xs:choice>\n",
      "        </xs:sequence>\n",
      "      </xs:restriction>\n",
      "    </xs:complexContent>\n",
      "  </xs:complexType>\n",
      "\n"
     ]
    }
   ],
   "source": [
    "print(d.asXSD())"
   ]
  },
  {
   "cell_type": "markdown",
   "metadata": {
    "slideshow": {
     "slide_type": "slide"
    }
   },
   "source": [
    "View an example XML fragment."
   ]
  },
  {
   "cell_type": "code",
   "execution_count": 11,
   "metadata": {
    "scrolled": true,
    "slideshow": {
     "slide_type": "subslide"
    }
   },
   "outputs": [
    {
     "name": "stdout",
     "output_type": "stream",
     "text": [
      "  <ms-cjmuxu61q0000z98p91fewlhm>\n",
      "    <label>Can it happen here?</label>\n",
      "    <act>Super Secret</act>\n",
      "    <OTH>\n",
      "      <ev-name>Other</ev-name>  # example exceptional value\n",
      "    </OTH>\n",
      "    <vtb>2006-06-04T18:13:51.0</vtb>\n",
      "    <vte>2026-05-04T18:13:51.0</vte>\n",
      "    <tr>2006-05-04T18:13:51.0</tr>\n",
      "    <modified>2006-05-04T18:13:51.0</modified>\n",
      "    <latitude>-22.456</latitude>\n",
      "    <longitude>123.654</longitude>\n",
      "    <false-value>No</false-value>\n",
      "  </ms-cjmuxu61q0000z98p91fewlhm>\n",
      "\n"
     ]
    }
   ],
   "source": [
    "print(d.asXML())"
   ]
  },
  {
   "cell_type": "markdown",
   "metadata": {
    "slideshow": {
     "slide_type": "slide"
    }
   },
   "source": [
    "View an example JSON fragment."
   ]
  },
  {
   "cell_type": "code",
   "execution_count": 12,
   "metadata": {
    "slideshow": {
     "slide_type": "subslide"
    }
   },
   "outputs": [
    {
     "name": "stdout",
     "output_type": "stream",
     "text": [
      "{\n",
      "  \"ms-cjmuxu61q0000z98p91fewlhm\": {\n",
      "    \"label\": \"Can it happen here?\",\n",
      "    \"act\": \"Super Secret\",\n",
      "    \"OTH\": {\n",
      "      \"ev-name\": \"Other\",\n",
      "      \"#text\": \"# example exceptional value\"\n",
      "    },\n",
      "    \"vtb\": \"2006-06-04T18:13:51.0\",\n",
      "    \"vte\": \"2026-05-04T18:13:51.0\",\n",
      "    \"tr\": \"2006-05-04T18:13:51.0\",\n",
      "    \"modified\": \"2006-05-04T18:13:51.0\",\n",
      "    \"latitude\": \"-22.456\",\n",
      "    \"longitude\": \"123.654\",\n",
      "    \"false-value\": \"Impossible\"\n",
      "  }\n",
      "}\n"
     ]
    }
   ],
   "source": [
    "print(d.asJSON())"
   ]
  }
 ],
 "metadata": {
  "celltoolbar": "Raw Cell Format",
  "kernelspec": {
   "display_name": "Python [conda env:S3Model]",
   "language": "python",
   "name": "conda-env-S3Model-py"
  },
  "language_info": {
   "codemirror_mode": {
    "name": "ipython",
    "version": 3
   },
   "file_extension": ".py",
   "mimetype": "text/x-python",
   "name": "python",
   "nbconvert_exporter": "python",
   "pygments_lexer": "ipython3",
   "version": "3.7.0"
  }
 },
 "nbformat": 4,
 "nbformat_minor": 2
}

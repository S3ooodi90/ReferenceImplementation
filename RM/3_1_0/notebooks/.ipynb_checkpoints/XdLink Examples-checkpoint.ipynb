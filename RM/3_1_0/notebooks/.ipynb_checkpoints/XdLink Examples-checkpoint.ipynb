{
 "cells": [
  {
   "cell_type": "markdown",
   "metadata": {},
   "source": [
    "Import the requirements."
   ]
  },
  {
   "cell_type": "code",
   "execution_count": 1,
   "metadata": {},
   "outputs": [],
   "source": [
    "import s3model_3_1_0 as s3m\n",
    "from collections import OrderedDict"
   ]
  },
  {
   "cell_type": "markdown",
   "metadata": {},
   "source": [
    "Create a XdLink instance.\n"
   ]
  },
  {
   "cell_type": "code",
   "execution_count": 9,
   "metadata": {},
   "outputs": [
    {
     "name": "stdout",
     "output_type": "stream",
     "text": [
      "XdLinkType : A link label., ID: cjmlzbbiq00020x8p6tpc6k8y\n"
     ]
    }
   ],
   "source": [
    "x = s3m.XdLinkType('A link label.')\n",
    "print(x)"
   ]
  },
  {
   "cell_type": "code",
   "execution_count": 10,
   "metadata": {},
   "outputs": [
    {
     "data": {
      "text/plain": [
       "{'act': (0, 1),\n",
       " 'ev': (0, None),\n",
       " 'vtb': (0, 1),\n",
       " 'vte': (0, 1),\n",
       " 'tr': (0, 1),\n",
       " 'modified': (0, 1),\n",
       " 'location': (0, 1),\n",
       " 'relation_uri': (0, 1)}"
      ]
     },
     "execution_count": 10,
     "metadata": {},
     "output_type": "execute_result"
    }
   ],
   "source": [
    "x.cardinality"
   ]
  },
  {
   "cell_type": "markdown",
   "metadata": {},
   "source": [
    "Make the relation_uri required."
   ]
  },
  {
   "cell_type": "code",
   "execution_count": 11,
   "metadata": {},
   "outputs": [
    {
     "data": {
      "text/plain": [
       "{'act': (0, 1),\n",
       " 'ev': (0, None),\n",
       " 'vtb': (0, 1),\n",
       " 'vte': (0, 1),\n",
       " 'tr': (0, 1),\n",
       " 'modified': (0, 1),\n",
       " 'location': (0, 1),\n",
       " 'relation_uri': (1, 1)}"
      ]
     },
     "execution_count": 11,
     "metadata": {},
     "output_type": "execute_result"
    }
   ],
   "source": [
    "x.cardinality = ('relation_uri',(1,1))\n",
    "x.cardinality"
   ]
  },
  {
   "cell_type": "code",
   "execution_count": 14,
   "metadata": {},
   "outputs": [
    {
     "data": {
      "text/plain": [
       "{'act': (0, 1),\n",
       " 'ev': (0, None),\n",
       " 'vtb': (0, 1),\n",
       " 'vte': (0, 1),\n",
       " 'tr': (0, 1),\n",
       " 'modified': (0, 1),\n",
       " 'location': (0, 1),\n",
       " 'relation_uri': (1, 1)}"
      ]
     },
     "execution_count": 14,
     "metadata": {},
     "output_type": "execute_result"
    }
   ],
   "source": [
    "x.cardinality = ('vtb',(0,1))\n",
    "x.cardinality"
   ]
  }
 ],
 "metadata": {
  "kernelspec": {
   "display_name": "Python [conda env:S3Model]",
   "language": "python",
   "name": "conda-env-S3Model-py"
  },
  "language_info": {
   "codemirror_mode": {
    "name": "ipython",
    "version": 3
   },
   "file_extension": ".py",
   "mimetype": "text/x-python",
   "name": "python",
   "nbconvert_exporter": "python",
   "pygments_lexer": "ipython3",
   "version": "3.7.0"
  }
 },
 "nbformat": 4,
 "nbformat_minor": 2
}

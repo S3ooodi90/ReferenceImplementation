{
 "cells": [
  {
   "cell_type": "markdown",
   "metadata": {
    "slideshow": {
     "slide_type": "slide"
    }
   },
   "source": [
    "# Examples using the XdLinkType"
   ]
  },
  {
   "cell_type": "markdown",
   "metadata": {
    "slideshow": {
     "slide_type": "slide"
    }
   },
   "source": [
    "**Set the path to the folder containing the library files and import the extended datatype.**"
   ]
  },
  {
   "cell_type": "code",
   "execution_count": 1,
   "metadata": {
    "slideshow": {
     "slide_type": "fragment"
    }
   },
   "outputs": [],
   "source": [
    "import sys \n",
    "sys.path.append(\"../pylib/\")\n",
    "from xdt import XdLinkType"
   ]
  },
  {
   "cell_type": "markdown",
   "metadata": {
    "slideshow": {
     "slide_type": "slide"
    }
   },
   "source": [
    "Review the documentation of XdLinkType. Note the class signature requires a *label* (string name) and a *link* a URI or preferably a URL.\n"
   ]
  },
  {
   "cell_type": "code",
   "execution_count": 2,
   "metadata": {
    "slideshow": {
     "slide_type": "slide"
    }
   },
   "outputs": [
    {
     "name": "stdout",
     "output_type": "stream",
     "text": [
      "Help on class XdLinkType in module xdt:\n",
      "\n",
      "class XdLinkType(XdAnyType)\n",
      " |  XdLinkType(label: str, link: str, relation: str)\n",
      " |  \n",
      " |  Used to specify a Universal Resource Identifier. Set the pattern facet to accommodate your needs in the DM. \n",
      " |  Intended use is to provide a mechanism that can be used to link together Data Models. \n",
      " |  The relation element allows for the use of a descriptive term for the link with an optional URI pointing to the \n",
      " |  source vocabulary. In most usecases the modeler will define all three of these using the 'fixed' attribute. \n",
      " |  Other usecases will have the 'relation' and 'relation-uri' elements fixed and the application will provide the \n",
      " |  'link-value'.\n",
      " |  \n",
      " |  Method resolution order:\n",
      " |      XdLinkType\n",
      " |      XdAnyType\n",
      " |      abc.ABC\n",
      " |      builtins.object\n",
      " |  \n",
      " |  Methods defined here:\n",
      " |  \n",
      " |  __init__(self, label: str, link: str, relation: str)\n",
      " |      The semantic label (name of the model) is required.\n",
      " |  \n",
      " |  asJSON(self)\n",
      " |      Return an example JSON fragment for this model.\n",
      " |  \n",
      " |  asXML(self)\n",
      " |      Return an example XML fragment for this model.\n",
      " |      \n",
      " |      The core elements are included even though they may not be \n",
      " |      required via cardinality. Therefore this example may be considerably \n",
      " |      larger than an actual implementation.\n",
      " |  \n",
      " |  asXSD(self)\n",
      " |      Return a XML Schema complexType definition.\n",
      " |  \n",
      " |  ----------------------------------------------------------------------\n",
      " |  Data descriptors defined here:\n",
      " |  \n",
      " |  link\n",
      " |      A required URI. A URL to another Data Model or just the dm-{uuid}.\n",
      " |  \n",
      " |  relation\n",
      " |      A required term, normally drawn from a vocabulary or ontology such as the rdf:label of OBO RO.\n",
      " |  \n",
      " |  relation_uri\n",
      " |      A URI where the definition of the relation element term can be found. \n",
      " |      Normally points to an ontology such as the OBO RO http://purl.obolibrary.org/obo/ro.owl\n",
      " |  \n",
      " |  ----------------------------------------------------------------------\n",
      " |  Data and other attributes defined here:\n",
      " |  \n",
      " |  __abstractmethods__ = frozenset()\n",
      " |  \n",
      " |  ----------------------------------------------------------------------\n",
      " |  Methods inherited from XdAnyType:\n",
      " |  \n",
      " |  __str__(self)\n",
      " |      Return str(self).\n",
      " |  \n",
      " |  ----------------------------------------------------------------------\n",
      " |  Data descriptors inherited from XdAnyType:\n",
      " |  \n",
      " |  __dict__\n",
      " |      dictionary for instance variables (if defined)\n",
      " |  \n",
      " |  __weakref__\n",
      " |      list of weak references to the object (if defined)\n",
      " |  \n",
      " |  act\n",
      " |      Access Control Tag. If this is used it must contain a valid term from \n",
      " |      the Access Control System linked to by the containing Data Model \n",
      " |      'acs' attribute.\n",
      " |  \n",
      " |  acuid\n",
      " |      The unique identifier of the wrapping XdAdapter of the component.\n",
      " |  \n",
      " |  cardinality\n",
      " |      The cardinality status values. \n",
      " |      \n",
      " |      The setter method can be called by each subclass to add cardinality \n",
      " |      values for each element or change the defaults. \n",
      " |      Some elements cardinality may not be changed. \n",
      " |      Ex: XdBoolean elements are not modifiable.\n",
      " |      \n",
      " |      The cardinality dictionary uses a string representation of each \n",
      " |      property name and a tuple as the value.\n",
      " |      \n",
      " |      The value passed into the setter is a tuple with v[0] as a string (key) and \n",
      " |      v[1] as a tuple containing an integer set representing the \n",
      " |      (minimum, maximum) values. The entire tuple is replaced in the dictionary. \n",
      " |      \n",
      " |      Examples\n",
      " |      --------\n",
      " |      \n",
      " |      ('vtb', (1,1)) will set the vtb value to be required.\n",
      " |      \n",
      " |              \n",
      " |      NOTES\n",
      " |      -----\n",
      " |      \n",
      " |      The cardinality for latitude and longitude are combined into one \n",
      " |      setting called 'location'.\n",
      " |      \n",
      " |      The Python value of 'None' represents the 'unbounded' XML Schema value.\n",
      " |      The 'unbounded' value is allowed on only a few attributes.\n",
      " |  \n",
      " |  definition_url\n",
      " |      The primary definition URL for the model.\n",
      " |      Cannot be an IP address.\n",
      " |  \n",
      " |  docs\n",
      " |      The human readable documentation string describing the purpose of \n",
      " |      the model.\n",
      " |  \n",
      " |  ev\n",
      " |      In an invalid instance, the application can indicate here why data is \n",
      " |      missing or invalid. \n",
      " |      The sub-types are based on ISO 21090 NULL Flavors entries, with \n",
      " |      additions noted from real-world usage.\n",
      " |  \n",
      " |  label\n",
      " |      The semantic name of the component.\n",
      " |  \n",
      " |  latitude\n",
      " |      Latitude in decimal format. Value range -90.000000 to 90.000000.\n",
      " |  \n",
      " |  longitude\n",
      " |      Longitude in decimal format. Value range -180.000000 to 180.000000.\n",
      " |  \n",
      " |  mcuid\n",
      " |      The unique identifier of the component.\n",
      " |  \n",
      " |  modified\n",
      " |      Time Modified. If present this must be a valid date-time stamp. \n",
      " |      It is used to indicate the date and time the data was last changed.\n",
      " |  \n",
      " |  pred_obj_list\n",
      " |      A list of additional predicate object pairs to describe the component.\n",
      " |      \n",
      " |      Each list item is a tuple where 0 is the predicate and 1 is the object.\n",
      " |      \n",
      " |      Example: \n",
      " |      ('rdf:resource','https://www.niddk.nih.gov/health-information/health-statistics')\n",
      " |      The setter accepts the tuple and appends it to the list.\n",
      " |      If an empty list is supplied it resets the value to the empty list.\n",
      " |  \n",
      " |  tr\n",
      " |      Time Recorded. If present this must be a valid date-time. \n",
      " |      It is used to indicate the initial date and time the data was recorded.\n",
      " |  \n",
      " |  vtb\n",
      " |      Valid Time Begin. If present this must be a valid datetime including timezone. \n",
      " |      It is used to indicate the beginning time that information is considered valid.\n",
      " |  \n",
      " |  vte\n",
      " |      Valid Time End. If present this must be a valid date-time including timezone. \n",
      " |      It is used to indicate the ending time that information is considered valid \n",
      " |      or the time the information expired or will expire.\n",
      "\n"
     ]
    }
   ],
   "source": [
    "help(XdLinkType)"
   ]
  },
  {
   "cell_type": "markdown",
   "metadata": {
    "slideshow": {
     "slide_type": "slide"
    }
   },
   "source": [
    "Create a XdLink instance. In this case we are going to set a link value to another S3Model datamodel with a semantic reference."
   ]
  },
  {
   "cell_type": "code",
   "execution_count": 3,
   "metadata": {
    "slideshow": {
     "slide_type": "fragment"
    }
   },
   "outputs": [],
   "source": [
    "lnk = \"https://s3model.com/dmlib/dm-cjmuxu61q0000z98p91fewlhm\"\n",
    "rel = \"inSubset\"\n",
    "d = XdLinkType('Related DM', lnk, rel)"
   ]
  },
  {
   "cell_type": "markdown",
   "metadata": {
    "slideshow": {
     "slide_type": "slide"
    }
   },
   "source": [
    "Check the ouput signature when printing an instance. It prints the class type, label and unique ID. This is common across all extended datatypes."
   ]
  },
  {
   "cell_type": "code",
   "execution_count": 4,
   "metadata": {
    "scrolled": false,
    "slideshow": {
     "slide_type": "fragment"
    }
   },
   "outputs": [
    {
     "name": "stdout",
     "output_type": "stream",
     "text": [
      "XdLinkType : Related DM, ID: cjmw4htka0000l08p8l9cw3ps\n"
     ]
    }
   ],
   "source": [
    "print(d)"
   ]
  },
  {
   "cell_type": "markdown",
   "metadata": {},
   "source": [
    "Add a URL for the relationship (rel) supplied upon creation."
   ]
  },
  {
   "cell_type": "code",
   "execution_count": 5,
   "metadata": {},
   "outputs": [],
   "source": [
    "d.relation_uri = \"http://purl.obolibrary.org/obo/BFO_0000063\""
   ]
  },
  {
   "cell_type": "markdown",
   "metadata": {
    "slideshow": {
     "slide_type": "slide"
    }
   },
   "source": [
    "Add documentation about the model. You may insert a linebreak using '\\n' any place in the string.\n",
    "This documentation is for human consumption. You should be as verbose as required to inform future users of your model about its intent."
   ]
  },
  {
   "cell_type": "code",
   "execution_count": 6,
   "metadata": {
    "slideshow": {
     "slide_type": "fragment"
    }
   },
   "outputs": [],
   "source": [
    "d.docs = \"Provide a meaningful link to another S3Model DM\""
   ]
  },
  {
   "cell_type": "code",
   "execution_count": 7,
   "metadata": {
    "scrolled": true,
    "slideshow": {
     "slide_type": "subslide"
    }
   },
   "outputs": [
    {
     "name": "stdout",
     "output_type": "stream",
     "text": [
      "Provide a meaningful link to another S3Model DM\n"
     ]
    }
   ],
   "source": [
    "print(d.docs)"
   ]
  },
  {
   "cell_type": "markdown",
   "metadata": {
    "slideshow": {
     "slide_type": "slide"
    }
   },
   "source": [
    "# Ontological Semantics (part 1)\n",
    "It is important to understand the relationship between the model and what the model is about. \n",
    "\n",
    "tl;dr The unique ID *mcuid* is a synonym for the *label* which is the *Subject* of the *SPO triple*."
   ]
  },
  {
   "cell_type": "markdown",
   "metadata": {
    "slideshow": {
     "slide_type": "slide"
    }
   },
   "source": [
    "Add a defining URL for the model. This will be translated into machine processable instructions in RDF as well as appended to the human-readable docs. This URL should define or describe the value expressed in the *label*.\n",
    "\n",
    "If you do not want it to appear in your docs, then set the definition_url before setting your docs string."
   ]
  },
  {
   "cell_type": "code",
   "execution_count": 8,
   "metadata": {
    "slideshow": {
     "slide_type": "slide"
    }
   },
   "outputs": [],
   "source": [
    "d.definition_url = 'https://s3model.com/examples'"
   ]
  },
  {
   "cell_type": "code",
   "execution_count": 9,
   "metadata": {
    "scrolled": true,
    "slideshow": {
     "slide_type": "fragment"
    }
   },
   "outputs": [
    {
     "name": "stdout",
     "output_type": "stream",
     "text": [
      "Provide a meaningful link to another S3Model DM\n",
      "\n",
      "Definition: https%3A//s3model.com/examples\n"
     ]
    }
   ],
   "source": [
    "print(d.docs)"
   ]
  },
  {
   "cell_type": "markdown",
   "metadata": {
    "slideshow": {
     "slide_type": "slide"
    }
   },
   "source": [
    "# Ontological Semantics (part 2)\n",
    "In addition to the defining_url we can add more RDF semantics to the model for machine processing. \n",
    "\n",
    "We do this by passing in tuples with a predicate/object pair. \n",
    "These are part of the RDF subject, predicate, object triple concept. This is the foundation of semantic graph data. If you aren't familiar with these concepts then see: http://www.linkeddatatools.com/introducing-rdf "
   ]
  },
  {
   "cell_type": "markdown",
   "metadata": {},
   "source": [
    "If you aren't using your own vocabulary for semantic markup. Or even if you are for part of your semantics. It is a good practice to reuse publically available and commonly used vocabularies as they apply to your model. A great place to start finding vocabularies is at https://lov.linkeddata.es/dataset/lov "
   ]
  },
  {
   "cell_type": "markdown",
   "metadata": {
    "slideshow": {
     "slide_type": "slide"
    }
   },
   "source": [
    "In S3Model, the model component which is defined by the unique ID *mcuid*, is the Subject. \n",
    "So here we are adding a predicate and an object to give enhanced meaning to our model. \n",
    "The unique ID *mcuid* is a synonym for the *label*.\n",
    "\n",
    "When you review the XSD fragment model below, you can see that some default RDF is already added. The statements that connect this model to the S3Model ontology as well as the label and comment statements. Then your additional predicate/object pairs are added."
   ]
  },
  {
   "cell_type": "code",
   "execution_count": 10,
   "metadata": {
    "slideshow": {
     "slide_type": "fragment"
    }
   },
   "outputs": [],
   "source": [
    "d.pred_obj_list = ('sem:subTypeOf','https://s3model.com/dmlib/dm-cjmuxu61q0000z98p91fewlhm')"
   ]
  },
  {
   "cell_type": "markdown",
   "metadata": {
    "slideshow": {
     "slide_type": "slide"
    }
   },
   "source": [
    "Review the XSD model. \n",
    "Note how the RDF is embeded along with the validation instructions. This provides a single file (when combined with all the other parts of a DMType) that is sharable as the author chooses. It completely informs the receiver of the meaning of each component. Both in human-readable as well as machine processable forms."
   ]
  },
  {
   "cell_type": "code",
   "execution_count": 11,
   "metadata": {
    "scrolled": true,
    "slideshow": {
     "slide_type": "slide"
    }
   },
   "outputs": [
    {
     "name": "stdout",
     "output_type": "stream",
     "text": [
      "  \n",
      "<xs:element name=\"ms-cjmw4htka0001l08p9sp4ahce\" substitutionGroup=\"s3m:Items\" type=\"s3m:mc-cjmw4htka0001l08p9sp4ahce\"/>\n",
      "  <xs:complexType name=\"mc-cjmw4htka0001l08p9sp4ahce\">\n",
      "    <xs:complexContent>\n",
      "      <xs:restriction base=\"s3m:XdAdapterType\">\n",
      "        <xs:sequence>\n",
      "          <xs:element maxOccurs=\"unbounded\" minOccurs=\"0\" ref=\"s3m:ms-cjmw4htka0000l08p8l9cw3ps\"/>\n",
      "        </xs:sequence>\n",
      "      </xs:restriction>\n",
      "    </xs:complexContent>\n",
      "  </xs:complexType>\n",
      "  <xs:element name=\"ms-cjmw4htka0000l08p8l9cw3ps\" substitutionGroup=\"s3m:XdAdapter-value\" type=\"s3m:mc-cjmw4htka0000l08p8l9cw3ps\"/>\n",
      "  <xs:complexType name=\"mc-cjmw4htka0000l08p8l9cw3ps\">\n",
      "    <xs:annotation>\n",
      "      <xs:documentation>\n",
      "        Provide a meaningful link to another S3Model DM\n",
      "\n",
      "Definition: https%3A//s3model.com/examples\n",
      "      </xs:documentation>\n",
      "      <xs:appinfo>\n",
      "        <rdfs:Class rdf:about=\"mc-cjmw4htka0000l08p8l9cw3ps\">\n",
      "          <rdfs:subClassOf rdf:resource=\"https://www.s3model.com/ns/s3m/s3model_3_1_0.xsd#XdLinkType\"/>\n",
      "          <rdfs:subClassOf rdf:resource=\"https://www.s3model.com/ns/s3m/s3model/RMC\"/>\n",
      "          <rdfs:isDefinedBy rdf:resource=\"https%3A//s3model.com/examples\"/>\n",
      "          <sem:subTypeOf rdf:resource=\"https%3A//s3model.com/dmlib/dm-cjmuxu61q0000z98p91fewlhm\"/>\n",
      "        </rdfs:Class>\n",
      "      </xs:appinfo>\n",
      "    </xs:annotation>\n",
      "    <xs:complexContent>\n",
      "      <xs:restriction base=\"s3m:XdLinkType\">\n",
      "        <xs:sequence>\n",
      "          <xs:element maxOccurs=\"1\" minOccurs=\"1\" name=\"label\" type=\"xs:string\" fixed=\"Related DM\"/>\n",
      "          <xs:element maxOccurs=\"1\" minOccurs=\"0\" name=\"act\" type=\"xs:string\" default=\"\"/>\n",
      "          <xs:element maxOccurs=\"1\" minOccurs=\"0\" ref=\"s3m:ExceptionalValue\"/>\n",
      "          <xs:element maxOccurs=\"1\" minOccurs=\"0\" name=\"vtb\" type=\"xs:dateTime\"/>\n",
      "          <xs:element maxOccurs=\"1\" minOccurs=\"0\" name=\"vte\" type=\"xs:dateTime\"/>\n",
      "          <xs:element maxOccurs=\"1\" minOccurs=\"0\" name=\"tr\" type=\"xs:dateTime\"/>\n",
      "          <xs:element maxOccurs=\"1\" minOccurs=\"0\" name=\"modified\" type=\"xs:dateTime\"/>\n",
      "          <xs:element maxOccurs=\"1\" minOccurs=\"0\" name=\"latitude\" type=\"xs:decimal\"/>\n",
      "          <xs:element maxOccurs=\"1\" minOccurs=\"0\" name=\"longitude\" type=\"xs:decimal\"/>\n",
      "          <xs:element maxOccurs='1' minOccurs='1' name='link' type='xs:anyURI'fixed='https://s3model.com/dmlib/dm-cjmuxu61q0000z98p91fewlhm'/>\n",
      "          <xs:element maxOccurs='1' minOccurs='1' name='relation' type='xs:string' fixed='inSubset'/>\n",
      "          <xs:element maxOccurs='1' minOccurs='1' name='relation-uri' type='xs:anyURI' fixed='http://purl.obolibrary.org/obo/BFO_0000063'/>\n",
      "        </xs:sequence>\n",
      "      </xs:restriction>\n",
      "    </xs:complexContent>\n",
      "  </xs:complexType>\n",
      "\n"
     ]
    }
   ],
   "source": [
    "print(d.asXSD())"
   ]
  },
  {
   "cell_type": "markdown",
   "metadata": {
    "slideshow": {
     "slide_type": "slide"
    }
   },
   "source": [
    "View an example XML fragment for the above model."
   ]
  },
  {
   "cell_type": "code",
   "execution_count": 12,
   "metadata": {
    "scrolled": false,
    "slideshow": {
     "slide_type": "fragment"
    }
   },
   "outputs": [
    {
     "name": "stdout",
     "output_type": "stream",
     "text": [
      "  <ms-cjmw4htka0000l08p8l9cw3ps>\n",
      "    <label>Related DM</label>\n",
      "    <link>https://s3model.com/dmlib/dm-cjmuxu61q0000z98p91fewlhm</link>\n",
      "    <relation>inSubset</relation>\n",
      "    <relation-uri>http://purl.obolibrary.org/obo/BFO_0000063</relation-uri>\n",
      "  </ms-cjmw4htka0000l08p8l9cw3ps>\n",
      "\n"
     ]
    }
   ],
   "source": [
    "print(d.asXML())"
   ]
  },
  {
   "cell_type": "markdown",
   "metadata": {
    "slideshow": {
     "slide_type": "slide"
    }
   },
   "source": [
    "View an example JSON fragment."
   ]
  },
  {
   "cell_type": "code",
   "execution_count": 13,
   "metadata": {
    "scrolled": false,
    "slideshow": {
     "slide_type": "fragment"
    }
   },
   "outputs": [
    {
     "name": "stdout",
     "output_type": "stream",
     "text": [
      "{\n",
      "  \"ms-cjmw4htka0000l08p8l9cw3ps\": {\n",
      "    \"label\": \"Related DM\",\n",
      "    \"link\": \"https://s3model.com/dmlib/dm-cjmuxu61q0000z98p91fewlhm\",\n",
      "    \"relation\": \"inSubset\",\n",
      "    \"relation-uri\": \"http://purl.obolibrary.org/obo/BFO_0000063\"\n",
      "  }\n",
      "}\n"
     ]
    }
   ],
   "source": [
    "print(d.asJSON())"
   ]
  },
  {
   "cell_type": "markdown",
   "metadata": {
    "slideshow": {
     "slide_type": "slide"
    }
   },
   "source": [
    "\n",
    "# Temporal Semantics\n",
    "As discussed on a previous example. The **temporal and spatial semantics** are managed via the cardinality dictionary. Review the XSD and note that they are allowed but not required, by default, in any data via their presence and the minOccurs=\"0\". However the modeler can require them by setting the minOccurs in the cardinality dictionary. Let's require a Valid Time Begin and a Valid Time End. Review the docs on the cardinality setter. Then review the model and the data."
   ]
  },
  {
   "cell_type": "code",
   "execution_count": 14,
   "metadata": {
    "slideshow": {
     "slide_type": "fragment"
    }
   },
   "outputs": [
    {
     "name": "stdout",
     "output_type": "stream",
     "text": [
      "{'act': (0, 1), 'ev': (0, None), 'vtb': (1, 1), 'vte': (1, 1), 'tr': (0, 1), 'modified': (0, 1), 'location': (0, 1), 'relation_uri': (0, 1)}\n"
     ]
    }
   ],
   "source": [
    "d.cardinality = ('vtb', (1,1))\n",
    "d.cardinality = ('vte', (1,1))\n",
    "print(d.cardinality)"
   ]
  },
  {
   "cell_type": "markdown",
   "metadata": {
    "slideshow": {
     "slide_type": "slide"
    }
   },
   "source": [
    "Now we see in the model that these two elements have a minOccurs set to 1 making them required in the data. "
   ]
  },
  {
   "cell_type": "code",
   "execution_count": 15,
   "metadata": {
    "scrolled": true,
    "slideshow": {
     "slide_type": "slide"
    }
   },
   "outputs": [
    {
     "name": "stdout",
     "output_type": "stream",
     "text": [
      "  \n",
      "<xs:element name=\"ms-cjmw4htka0001l08p9sp4ahce\" substitutionGroup=\"s3m:Items\" type=\"s3m:mc-cjmw4htka0001l08p9sp4ahce\"/>\n",
      "  <xs:complexType name=\"mc-cjmw4htka0001l08p9sp4ahce\">\n",
      "    <xs:complexContent>\n",
      "      <xs:restriction base=\"s3m:XdAdapterType\">\n",
      "        <xs:sequence>\n",
      "          <xs:element maxOccurs=\"unbounded\" minOccurs=\"0\" ref=\"s3m:ms-cjmw4htka0000l08p8l9cw3ps\"/>\n",
      "        </xs:sequence>\n",
      "      </xs:restriction>\n",
      "    </xs:complexContent>\n",
      "  </xs:complexType>\n",
      "  <xs:element name=\"ms-cjmw4htka0000l08p8l9cw3ps\" substitutionGroup=\"s3m:XdAdapter-value\" type=\"s3m:mc-cjmw4htka0000l08p8l9cw3ps\"/>\n",
      "  <xs:complexType name=\"mc-cjmw4htka0000l08p8l9cw3ps\">\n",
      "    <xs:annotation>\n",
      "      <xs:documentation>\n",
      "        Provide a meaningful link to another S3Model DM\n",
      "\n",
      "Definition: https%3A//s3model.com/examples\n",
      "      </xs:documentation>\n",
      "      <xs:appinfo>\n",
      "        <rdfs:Class rdf:about=\"mc-cjmw4htka0000l08p8l9cw3ps\">\n",
      "          <rdfs:subClassOf rdf:resource=\"https://www.s3model.com/ns/s3m/s3model_3_1_0.xsd#XdLinkType\"/>\n",
      "          <rdfs:subClassOf rdf:resource=\"https://www.s3model.com/ns/s3m/s3model/RMC\"/>\n",
      "          <rdfs:isDefinedBy rdf:resource=\"https%3A//s3model.com/examples\"/>\n",
      "          <sem:subTypeOf rdf:resource=\"https%3A//s3model.com/dmlib/dm-cjmuxu61q0000z98p91fewlhm\"/>\n",
      "        </rdfs:Class>\n",
      "      </xs:appinfo>\n",
      "    </xs:annotation>\n",
      "    <xs:complexContent>\n",
      "      <xs:restriction base=\"s3m:XdLinkType\">\n",
      "        <xs:sequence>\n",
      "          <xs:element maxOccurs=\"1\" minOccurs=\"1\" name=\"label\" type=\"xs:string\" fixed=\"Related DM\"/>\n",
      "          <xs:element maxOccurs=\"1\" minOccurs=\"0\" name=\"act\" type=\"xs:string\" default=\"\"/>\n",
      "          <xs:element maxOccurs=\"1\" minOccurs=\"0\" ref=\"s3m:ExceptionalValue\"/>\n",
      "          <xs:element maxOccurs=\"1\" minOccurs=\"1\" name=\"vtb\" type=\"xs:dateTime\"/>\n",
      "          <xs:element maxOccurs=\"1\" minOccurs=\"1\" name=\"vte\" type=\"xs:dateTime\"/>\n",
      "          <xs:element maxOccurs=\"1\" minOccurs=\"0\" name=\"tr\" type=\"xs:dateTime\"/>\n",
      "          <xs:element maxOccurs=\"1\" minOccurs=\"0\" name=\"modified\" type=\"xs:dateTime\"/>\n",
      "          <xs:element maxOccurs=\"1\" minOccurs=\"0\" name=\"latitude\" type=\"xs:decimal\"/>\n",
      "          <xs:element maxOccurs=\"1\" minOccurs=\"0\" name=\"longitude\" type=\"xs:decimal\"/>\n",
      "          <xs:element maxOccurs='1' minOccurs='1' name='link' type='xs:anyURI'fixed='https://s3model.com/dmlib/dm-cjmuxu61q0000z98p91fewlhm'/>\n",
      "          <xs:element maxOccurs='1' minOccurs='1' name='relation' type='xs:string' fixed='inSubset'/>\n",
      "          <xs:element maxOccurs='1' minOccurs='1' name='relation-uri' type='xs:anyURI' fixed='http://purl.obolibrary.org/obo/BFO_0000063'/>\n",
      "        </xs:sequence>\n",
      "      </xs:restriction>\n",
      "    </xs:complexContent>\n",
      "  </xs:complexType>\n",
      "\n"
     ]
    }
   ],
   "source": [
    "print(d.asXSD())"
   ]
  },
  {
   "cell_type": "code",
   "execution_count": 16,
   "metadata": {
    "scrolled": true,
    "slideshow": {
     "slide_type": "slide"
    }
   },
   "outputs": [
    {
     "name": "stdout",
     "output_type": "stream",
     "text": [
      "  <ms-cjmw4htka0000l08p8l9cw3ps>\n",
      "    <label>Related DM</label>\n",
      "    <vtb>2006-06-04T18:13:51.0</vtb>\n",
      "    <vte>2026-05-04T18:13:51.0</vte>\n",
      "    <link>https://s3model.com/dmlib/dm-cjmuxu61q0000z98p91fewlhm</link>\n",
      "    <relation>inSubset</relation>\n",
      "    <relation-uri>http://purl.obolibrary.org/obo/BFO_0000063</relation-uri>\n",
      "  </ms-cjmw4htka0000l08p8l9cw3ps>\n",
      "\n"
     ]
    }
   ],
   "source": [
    "print(d.asXML())"
   ]
  },
  {
   "cell_type": "markdown",
   "metadata": {
    "slideshow": {
     "slide_type": "slide"
    }
   },
   "source": [
    "# Spatial Semantics\n",
    "In S3Model we only apply latitude and longitude to each element. Modeling altitude is a complex model based on the context. Therefore altitude should be modeled as a XdQuantity or possibly a Cluster of XdQuantity models to accommodate pressure, temperature, altitude and the contextual measurement units. \n",
    "Here we are going to reset the temporal requirements we set above and then set the location requirement. There is no reason that they can't both be used together. This is just an exercise to demonstrate resetting the values. "
   ]
  },
  {
   "cell_type": "code",
   "execution_count": 17,
   "metadata": {
    "slideshow": {
     "slide_type": "slide"
    }
   },
   "outputs": [
    {
     "name": "stdout",
     "output_type": "stream",
     "text": [
      "{'act': (0, 1), 'ev': (0, None), 'vtb': (0, 1), 'vte': (0, 1), 'tr': (0, 1), 'modified': (0, 1), 'location': (1, 1), 'relation_uri': (0, 1)}\n"
     ]
    }
   ],
   "source": [
    "d.cardinality = ('vtb', (0,1))\n",
    "d.cardinality = ('vte', (0,1))\n",
    "d.cardinality = ('location', (1,1))\n",
    "print(d.cardinality)"
   ]
  },
  {
   "cell_type": "markdown",
   "metadata": {
    "slideshow": {
     "slide_type": "slide"
    }
   },
   "source": [
    "Note that *location* requires both *latitude* and *longitude*. "
   ]
  },
  {
   "cell_type": "code",
   "execution_count": 18,
   "metadata": {
    "slideshow": {
     "slide_type": "slide"
    }
   },
   "outputs": [
    {
     "name": "stdout",
     "output_type": "stream",
     "text": [
      "  \n",
      "<xs:element name=\"ms-cjmw4htka0001l08p9sp4ahce\" substitutionGroup=\"s3m:Items\" type=\"s3m:mc-cjmw4htka0001l08p9sp4ahce\"/>\n",
      "  <xs:complexType name=\"mc-cjmw4htka0001l08p9sp4ahce\">\n",
      "    <xs:complexContent>\n",
      "      <xs:restriction base=\"s3m:XdAdapterType\">\n",
      "        <xs:sequence>\n",
      "          <xs:element maxOccurs=\"unbounded\" minOccurs=\"0\" ref=\"s3m:ms-cjmw4htka0000l08p8l9cw3ps\"/>\n",
      "        </xs:sequence>\n",
      "      </xs:restriction>\n",
      "    </xs:complexContent>\n",
      "  </xs:complexType>\n",
      "  <xs:element name=\"ms-cjmw4htka0000l08p8l9cw3ps\" substitutionGroup=\"s3m:XdAdapter-value\" type=\"s3m:mc-cjmw4htka0000l08p8l9cw3ps\"/>\n",
      "  <xs:complexType name=\"mc-cjmw4htka0000l08p8l9cw3ps\">\n",
      "    <xs:annotation>\n",
      "      <xs:documentation>\n",
      "        Provide a meaningful link to another S3Model DM\n",
      "\n",
      "Definition: https%3A//s3model.com/examples\n",
      "      </xs:documentation>\n",
      "      <xs:appinfo>\n",
      "        <rdfs:Class rdf:about=\"mc-cjmw4htka0000l08p8l9cw3ps\">\n",
      "          <rdfs:subClassOf rdf:resource=\"https://www.s3model.com/ns/s3m/s3model_3_1_0.xsd#XdLinkType\"/>\n",
      "          <rdfs:subClassOf rdf:resource=\"https://www.s3model.com/ns/s3m/s3model/RMC\"/>\n",
      "          <rdfs:isDefinedBy rdf:resource=\"https%3A//s3model.com/examples\"/>\n",
      "          <sem:subTypeOf rdf:resource=\"https%3A//s3model.com/dmlib/dm-cjmuxu61q0000z98p91fewlhm\"/>\n",
      "        </rdfs:Class>\n",
      "      </xs:appinfo>\n",
      "    </xs:annotation>\n",
      "    <xs:complexContent>\n",
      "      <xs:restriction base=\"s3m:XdLinkType\">\n",
      "        <xs:sequence>\n",
      "          <xs:element maxOccurs=\"1\" minOccurs=\"1\" name=\"label\" type=\"xs:string\" fixed=\"Related DM\"/>\n",
      "          <xs:element maxOccurs=\"1\" minOccurs=\"0\" name=\"act\" type=\"xs:string\" default=\"\"/>\n",
      "          <xs:element maxOccurs=\"1\" minOccurs=\"0\" ref=\"s3m:ExceptionalValue\"/>\n",
      "          <xs:element maxOccurs=\"1\" minOccurs=\"0\" name=\"vtb\" type=\"xs:dateTime\"/>\n",
      "          <xs:element maxOccurs=\"1\" minOccurs=\"0\" name=\"vte\" type=\"xs:dateTime\"/>\n",
      "          <xs:element maxOccurs=\"1\" minOccurs=\"0\" name=\"tr\" type=\"xs:dateTime\"/>\n",
      "          <xs:element maxOccurs=\"1\" minOccurs=\"0\" name=\"modified\" type=\"xs:dateTime\"/>\n",
      "          <xs:element maxOccurs=\"1\" minOccurs=\"1\" name=\"latitude\" type=\"xs:decimal\"/>\n",
      "          <xs:element maxOccurs=\"1\" minOccurs=\"1\" name=\"longitude\" type=\"xs:decimal\"/>\n",
      "          <xs:element maxOccurs='1' minOccurs='1' name='link' type='xs:anyURI'fixed='https://s3model.com/dmlib/dm-cjmuxu61q0000z98p91fewlhm'/>\n",
      "          <xs:element maxOccurs='1' minOccurs='1' name='relation' type='xs:string' fixed='inSubset'/>\n",
      "          <xs:element maxOccurs='1' minOccurs='1' name='relation-uri' type='xs:anyURI' fixed='http://purl.obolibrary.org/obo/BFO_0000063'/>\n",
      "        </xs:sequence>\n",
      "      </xs:restriction>\n",
      "    </xs:complexContent>\n",
      "  </xs:complexType>\n",
      "\n"
     ]
    }
   ],
   "source": [
    "print(d.asXSD())"
   ]
  },
  {
   "cell_type": "code",
   "execution_count": 19,
   "metadata": {
    "slideshow": {
     "slide_type": "slide"
    }
   },
   "outputs": [
    {
     "name": "stdout",
     "output_type": "stream",
     "text": [
      "  <ms-cjmw4htka0000l08p8l9cw3ps>\n",
      "    <label>Related DM</label>\n",
      "    <latitude>-22.456</latitude>\n",
      "    <longitude>123.654</longitude>\n",
      "    <link>https://s3model.com/dmlib/dm-cjmuxu61q0000z98p91fewlhm</link>\n",
      "    <relation>inSubset</relation>\n",
      "    <relation-uri>http://purl.obolibrary.org/obo/BFO_0000063</relation-uri>\n",
      "  </ms-cjmw4htka0000l08p8l9cw3ps>\n",
      "\n"
     ]
    }
   ],
   "source": [
    "print(d.asXML())"
   ]
  }
 ],
 "metadata": {
  "kernelspec": {
   "display_name": "Python [conda env:S3Model]",
   "language": "python",
   "name": "conda-env-S3Model-py"
  },
  "language_info": {
   "codemirror_mode": {
    "name": "ipython",
    "version": 3
   },
   "file_extension": ".py",
   "mimetype": "text/x-python",
   "name": "python",
   "nbconvert_exporter": "python",
   "pygments_lexer": "ipython3",
   "version": "3.7.0"
  }
 },
 "nbformat": 4,
 "nbformat_minor": 2
}

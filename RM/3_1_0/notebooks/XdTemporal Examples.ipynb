{
 "cells": [
  {
   "cell_type": "markdown",
   "metadata": {
    "slideshow": {
     "slide_type": "slide"
    }
   },
   "source": [
    "# Examples using the XdTemporalType"
   ]
  },
  {
   "cell_type": "markdown",
   "metadata": {
    "slideshow": {
     "slide_type": "slide"
    }
   },
   "source": [
    "**Set the path to the folder containing the library files and import the extended datatypes.**"
   ]
  },
  {
   "cell_type": "code",
   "execution_count": null,
   "metadata": {
    "slideshow": {
     "slide_type": "fragment"
    }
   },
   "outputs": [],
   "source": [
    "import sys \n",
    "sys.path.append(\"../pylib/\")\n",
    "from s3m_xdt import XdTemporalType"
   ]
  },
  {
   "cell_type": "markdown",
   "metadata": {
    "slideshow": {
     "slide_type": "slide"
    }
   },
   "source": [
    "Review the documentation of XdRatioType."
   ]
  },
  {
   "cell_type": "code",
   "execution_count": null,
   "metadata": {
    "scrolled": false,
    "slideshow": {
     "slide_type": "slide"
    }
   },
   "outputs": [],
   "source": [
    "help(XdTemporalType)"
   ]
  },
  {
   "cell_type": "markdown",
   "metadata": {
    "slideshow": {
     "slide_type": "slide"
    }
   },
   "source": [
    "Create a XdTemporal instance and provide a *label* as per all Xd Types. Require a full ISO date and disallow all other temporals. "
   ]
  },
  {
   "cell_type": "code",
   "execution_count": null,
   "metadata": {},
   "outputs": [],
   "source": [
    "d = XdTemporalType(\"A Date Only\")\n",
    "d.docs = \"Require a full date. Disallow all others.\"\n",
    "d.definition_url = 'http://s3model.com/examples/dates'\n",
    "d.cardinality = ('date', [1,1])\n",
    "d.cardinality = ('time', [0,0])\n",
    "d.cardinality = ('datetime', [0,0])\n",
    "d.cardinality = ('day', [0,0])\n",
    "d.cardinality = ('month', [0,0])\n",
    "d.cardinality = ('year', [0,0])\n",
    "d.cardinality = ('year_month', [0,0])\n",
    "d.cardinality = ('month_day', [0,0])\n",
    "d.cardinality = ('duration', [0,0])\n",
    "print(d)\n",
    "print('\\n\\n')\n",
    "print(d.getModel())"
   ]
  },
  {
   "cell_type": "markdown",
   "metadata": {
    "slideshow": {
     "slide_type": "slide"
    }
   },
   "source": [
    "Create a XdTemporal instance and provide a *label* as per all Xd Types. Allow a full ISO date or year_month and disallow all other temporals. Note that it is non-sensical to **require** an attribute and then allow others. "
   ]
  },
  {
   "cell_type": "code",
   "execution_count": null,
   "metadata": {},
   "outputs": [],
   "source": [
    "d = XdTemporalType(\"Date or Month/Year\")\n",
    "d.docs = \"Allow Date or Month/Year. Disallow all others.\"\n",
    "d.definition_url = 'http://s3model.com/examples/dates'\n",
    "d.cardinality = ('date', [0,1])\n",
    "d.cardinality = ('time', [0,0])\n",
    "d.cardinality = ('datetime', [0,0])\n",
    "d.cardinality = ('day', [0,0])\n",
    "d.cardinality = ('month', [0,0])\n",
    "d.cardinality = ('year', [0,0])\n",
    "d.cardinality = ('year_month', [0,1])\n",
    "d.cardinality = ('month_day', [0,0])\n",
    "d.cardinality = ('duration', [0,0])\n",
    "print(d)\n",
    "print('\\n\\n')\n",
    "print(d.getModel())"
   ]
  }
 ],
 "metadata": {
  "kernelspec": {
   "display_name": "Python [conda env:S3Model]",
   "language": "python",
   "name": "conda-env-S3Model-py"
  },
  "language_info": {
   "codemirror_mode": {
    "name": "ipython",
    "version": 3
   },
   "file_extension": ".py",
   "mimetype": "text/x-python",
   "name": "python",
   "nbconvert_exporter": "python",
   "pygments_lexer": "ipython3",
   "version": "3.7.0"
  }
 },
 "nbformat": 4,
 "nbformat_minor": 2
}

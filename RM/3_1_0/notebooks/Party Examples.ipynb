{
 "cells": [
  {
   "cell_type": "markdown",
   "metadata": {
    "slideshow": {
     "slide_type": "slide"
    }
   },
   "source": [
    "# Examples using the PartyType"
   ]
  },
  {
   "cell_type": "markdown",
   "metadata": {
    "slideshow": {
     "slide_type": "slide"
    }
   },
   "source": [
    "**Set the path to the folder containing the library files and import the extended datatype.**"
   ]
  },
  {
   "cell_type": "code",
   "execution_count": null,
   "metadata": {
    "slideshow": {
     "slide_type": "fragment"
    }
   },
   "outputs": [],
   "source": [
    "import sys \n",
    "sys.path.append(\"../pylib/\")\n",
    "from s3m_xdt import XdLinkType, XdStringType\n",
    "from s3m_struct import ClusterType, XdAdapterType, ItemType\n",
    "from s3m_meta import PartyType"
   ]
  },
  {
   "cell_type": "markdown",
   "metadata": {
    "slideshow": {
     "slide_type": "slide"
    }
   },
   "source": [
    "Review the documentation of PartyType. "
   ]
  },
  {
   "cell_type": "code",
   "execution_count": null,
   "metadata": {
    "scrolled": false,
    "slideshow": {
     "slide_type": "slide"
    }
   },
   "outputs": [],
   "source": [
    "help(PartyType)"
   ]
  },
  {
   "cell_type": "markdown",
   "metadata": {
    "slideshow": {
     "slide_type": "slide"
    }
   },
   "source": [
    "Create an Party model instance."
   ]
  },
  {
   "cell_type": "code",
   "execution_count": null,
   "metadata": {
    "slideshow": {
     "slide_type": "fragment"
    }
   },
   "outputs": [],
   "source": [
    "pty = PartyType('Test Party Model')\n",
    "pty.definition_url = 'http://s3model.com/examples/partytest'\n",
    "pty.docs = \"Describe a party to some data model.\"\n",
    "\n",
    "# create the required contents and any optionals that we want \n",
    "s = XdStringType(\"Some details\") # this will be in the details cluster\n",
    "s.definition_url = 'http://s3model.com/examples/somedetails'\n",
    "s.published = True\n",
    "a = XdAdapterType() # in a cluster we need an adapter\n",
    "a.value = s\n",
    "\n",
    "lnk = XdLinkType(\"Party Reference Link\")\n",
    "lnk.fixed = False\n",
    "lnk.relation = 'party reference'\n",
    "lnk.relation_uri = \"http://s3model.com/dm-cjn9dpaqt000lb18pyzhhrhj1\"\n",
    "lnk.docs = \"A link to model of more information about the party.\"\n",
    "lnk.definition_url = 'http://s3model.com/examples/party_ref'\n",
    "lnk.published = True\n",
    "\n",
    "loc = ClusterType(\"Test Party Location\")\n",
    "loc.docs = \"A structure of a model for details about the location of the party.\"\n",
    "loc.definition_url = 'http://s3model.com/examples/party_location_details'\n",
    "loc.items = a # in real world situations a details cluster would be an expansive structure with several items\n",
    "loc.published = True\n",
    "\n",
    "# add content to the PartyType instance\n",
    "pty.party_details = loc\n",
    "pty.party_ref = lnk\n",
    "\n",
    "print(pty)"
   ]
  },
  {
   "cell_type": "code",
   "execution_count": null,
   "metadata": {},
   "outputs": [],
   "source": [
    "# Review the model\n",
    "pty.published = True\n",
    "print(pty.getModel())"
   ]
  }
 ],
 "metadata": {
  "celltoolbar": "Slideshow",
  "kernelspec": {
   "display_name": "Python [conda env:S3Model]",
   "language": "python",
   "name": "conda-env-S3Model-py"
  },
  "language_info": {
   "codemirror_mode": {
    "name": "ipython",
    "version": 3
   },
   "file_extension": ".py",
   "mimetype": "text/x-python",
   "name": "python",
   "nbconvert_exporter": "python",
   "pygments_lexer": "ipython3",
   "version": "3.7.0"
  }
 },
 "nbformat": 4,
 "nbformat_minor": 2
}

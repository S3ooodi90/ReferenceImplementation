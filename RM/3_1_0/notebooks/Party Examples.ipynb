{
 "cells": [
  {
   "cell_type": "markdown",
   "metadata": {
    "slideshow": {
     "slide_type": "slide"
    }
   },
   "source": [
    "# Examples using the PartyType"
   ]
  },
  {
   "cell_type": "markdown",
   "metadata": {
    "slideshow": {
     "slide_type": "slide"
    }
   },
   "source": [
    "**Set the path to the folder containing the library files and import the extended datatype.**"
   ]
  },
  {
   "cell_type": "code",
   "execution_count": 1,
   "metadata": {
    "slideshow": {
     "slide_type": "fragment"
    }
   },
   "outputs": [],
   "source": [
    "import sys \n",
    "sys.path.append(\"../pylib/\")\n",
    "from s3m_xdt import XdLinkType, XdStringType\n",
    "from s3m_struct import ClusterType, XdAdapterType, ItemType\n",
    "from s3m_meta import PartyType"
   ]
  },
  {
   "cell_type": "markdown",
   "metadata": {
    "slideshow": {
     "slide_type": "slide"
    }
   },
   "source": [
    "Review the documentation of PartyType. "
   ]
  },
  {
   "cell_type": "code",
   "execution_count": 2,
   "metadata": {
    "scrolled": false,
    "slideshow": {
     "slide_type": "slide"
    }
   },
   "outputs": [
    {
     "name": "stdout",
     "output_type": "stream",
     "text": [
      "Help on class PartyType in module s3m_meta:\n",
      "\n",
      "class PartyType(MetaCommon)\n",
      " |  PartyType(label: str)\n",
      " |  \n",
      " |  Description of a party, including an optional external link to data for this \n",
      " |  party in a demographic or other identity management system. An additional \n",
      " |  details element provides for the inclusion of information related to this \n",
      " |  party directly. \n",
      " |  \n",
      " |  If the party information is to be anonymous then do not include the details element.\n",
      " |  \n",
      " |  Method resolution order:\n",
      " |      PartyType\n",
      " |      MetaCommon\n",
      " |      abc.ABC\n",
      " |      builtins.object\n",
      " |  \n",
      " |  Methods defined here:\n",
      " |  \n",
      " |  __init__(self, label: str)\n",
      " |      The semantic label (name of the model) is required.\n",
      " |  \n",
      " |  getModel(self)\n",
      " |  \n",
      " |  validate(self)\n",
      " |      Every Type must implement this method.\n",
      " |  \n",
      " |  ----------------------------------------------------------------------\n",
      " |  Data descriptors defined here:\n",
      " |  \n",
      " |  party_details\n",
      " |      Structural details about the party.\n",
      " |  \n",
      " |  party_name\n",
      " |      Optional human-readable name (in String form)\n",
      " |  \n",
      " |  party_ref\n",
      " |      Optional reference to more detailed demographic or identification \n",
      " |      information for this party, in an external system.\n",
      " |  \n",
      " |  ----------------------------------------------------------------------\n",
      " |  Data and other attributes defined here:\n",
      " |  \n",
      " |  __abstractmethods__ = frozenset()\n",
      " |  \n",
      " |  ----------------------------------------------------------------------\n",
      " |  Methods inherited from MetaCommon:\n",
      " |  \n",
      " |  __str__(self)\n",
      " |      Return str(self).\n",
      " |  \n",
      " |  ----------------------------------------------------------------------\n",
      " |  Data descriptors inherited from MetaCommon:\n",
      " |  \n",
      " |  __dict__\n",
      " |      dictionary for instance variables (if defined)\n",
      " |  \n",
      " |  __weakref__\n",
      " |      list of weak references to the object (if defined)\n",
      " |  \n",
      " |  cardinality\n",
      " |      The cardinality status values for meta classes.\n",
      " |      \n",
      " |      The setter method can be called by each subclass to add cardinality\n",
      " |      values for each element.\n",
      " |      Some elements cardinality may not be changed such as most of the maxOccurs.\n",
      " |      \n",
      " |      The cardinality dictionary uses a string representation of each\n",
      " |      property name and a list as the value.\n",
      " |      \n",
      " |      The value passed into the setter is a tuple with v[0] as a string (key) and\n",
      " |      v[1] as a list containing an integer set representing the\n",
      " |      (minimum, maximum) values. The entire value list is replaced in the dictionary.\n",
      " |      \n",
      " |      Example\n",
      " |      --------\n",
      " |      \n",
      " |      ('committer', [1,1]) will set the committer value (Attestation) to be required.\n",
      " |      \n",
      " |      \n",
      " |      NOTES\n",
      " |      -----\n",
      " |      The Python value of 'None' represents the 'unbounded' XML Schema value.\n",
      " |      None is converted to Decimal('Infinity') for comparisons in the setter.\n",
      " |      The 'unbounded' value is allowed on only a few attributes.\n",
      " |  \n",
      " |  definition_url\n",
      " |      The primary definition URL for the model.\n",
      " |      Cannot be an IP address.\n",
      " |  \n",
      " |  docs\n",
      " |      The human readable documentation string describing the purpose of\n",
      " |      the model.\n",
      " |  \n",
      " |  label\n",
      " |      The semantic name of the component.\n",
      " |  \n",
      " |  mcuid\n",
      " |      The unique identifier of the component.\n",
      " |  \n",
      " |  pred_obj_list\n",
      " |      A list of additional predicate object pairs to describe the component.\n",
      " |      \n",
      " |      Each list item is a tuple where 0 is the predicate and 1 is the object.\n",
      " |      \n",
      " |      Example:\n",
      " |      ('rdf:resource','https://www.niddk.nih.gov/health-information/health-statistics')\n",
      " |      The setter accepts the tuple and appends it to the list.\n",
      " |      If an empty list is supplied it resets the value to the empty list.\n",
      "\n"
     ]
    }
   ],
   "source": [
    "help(PartyType)"
   ]
  },
  {
   "cell_type": "markdown",
   "metadata": {
    "slideshow": {
     "slide_type": "slide"
    }
   },
   "source": [
    "Create an Party instance."
   ]
  },
  {
   "cell_type": "code",
   "execution_count": 4,
   "metadata": {
    "slideshow": {
     "slide_type": "fragment"
    }
   },
   "outputs": [
    {
     "name": "stdout",
     "output_type": "stream",
     "text": [
      "PartyType : Test Party Model, ID: cjnh36z3f0006k58p19ytvhzh\n"
     ]
    }
   ],
   "source": [
    "\n",
    "pty = PartyType('Test Party Model')\n",
    "pty.definition_url = 'http://s3model.com/examples/partytest'\n",
    "# create the required contents and any optionals that we want \n",
    "s = XdStringType(\"Some details\") # this will be in the details cluster\n",
    "s.definition_url = 'http://s3model.com/examples/somedetails'\n",
    "a = XdAdapterType() # in a cluster we need an adapter\n",
    "a.value = s\n",
    "\n",
    "lnk = XdLinkType(\"Party Reference Link\", \"dm-cjn9dpaqt000lb18pyzhhrhj1\", \"party reference\")\n",
    "lnk.relation_uri = \"http://s3model.com/dm-cjn9dpaqt000lb18pyzhhrhj1\"\n",
    "lnk.docs = \"A link to model of more information about the party.\"\n",
    "lnk.definition_url = 'http://s3model.com/examples/party_ref'\n",
    "\n",
    "\n",
    "loc = ClusterType(\"Test Party Location\")\n",
    "loc.docs = \"A structure of a model for details about the location of the party.\"\n",
    "loc.definition_url = 'http://s3model.com/examples/party_location_details'\n",
    "loc.items = a # in real world situations a details cluster would be an expansive structure with several items\n",
    "\n",
    "# add content to the PartyType instance\n",
    "pty.party_details = loc\n",
    "pty.party_ref = lnk\n",
    "\n",
    "print(pty)"
   ]
  },
  {
   "cell_type": "code",
   "execution_count": null,
   "metadata": {},
   "outputs": [],
   "source": [
    "# Review the model\n",
    "print(pty.getModel())"
   ]
  }
 ],
 "metadata": {
  "celltoolbar": "Slideshow",
  "kernelspec": {
   "display_name": "Python [conda env:S3Model]",
   "language": "python",
   "name": "conda-env-S3Model-py"
  },
  "language_info": {
   "codemirror_mode": {
    "name": "ipython",
    "version": 3
   },
   "file_extension": ".py",
   "mimetype": "text/x-python",
   "name": "python",
   "nbconvert_exporter": "python",
   "pygments_lexer": "ipython3",
   "version": "3.7.0"
  }
 },
 "nbformat": 4,
 "nbformat_minor": 2
}

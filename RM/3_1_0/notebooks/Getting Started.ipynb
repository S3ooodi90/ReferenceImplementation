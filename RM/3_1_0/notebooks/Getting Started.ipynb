{
 "cells": [
  {
   "cell_type": "markdown",
   "metadata": {},
   "source": [
    "<div class=\"logo-container\">\n",
    "  <div class=\"logo\"><img src=\"images/DataInsights.png\" height=\"100\" width=\"120\"/></div>\n",
    "  <div class=\"logo\"><img src=\"images/S3M.png\" height=\"70\" width=\"70\"/></div>\n",
    "</div>"
   ]
  },
  {
   "cell_type": "markdown",
   "metadata": {},
   "source": [
    "\n",
    "# Getting Started with S3Model\n"
   ]
  },
  {
   "cell_type": "markdown",
   "metadata": {},
   "source": [
    "This notebook will guide you through a logical sequence for you to become familiar with S3Model and how to use the library in your applications to build semantically rich, coherent data models. "
   ]
  },
  {
   "cell_type": "markdown",
   "metadata": {},
   "source": [
    "## Multi-level Models vs. Instances\n",
    "It is essential to understand that these library classes represent the S3Model Reference Model (RM). The instances of these classes express constraints on those RM classes. These constraints define a specific model that is identified by a *collision-resistant unique identifier* (CUID). Once defined, these models are immutable under the guidelines of S3Model. Since shareability is a cornerstone of the S3Model approach these models can be serialized to a XML Schema making them easily shareable across all platforms.\n",
    "\n",
    "In the tutorials linked here, we are building only model components one at a time and not as part of a complete data model. An advanced tutorial as well as documentation for Kunteksto and the Infotropic Tools Suite describe creating complete, functional data models. "
   ]
  },
  {
   "cell_type": "markdown",
   "metadata": {},
   "source": [
    "**eXtended datatypes**\n",
    "\n",
    "The Xd* datatypes provide the capability of adding ontological, spatial and temporal semantics to simple datatypes.\n",
    "\n",
    "You should go through each of these interactive notebooks in sequence. Not all features are expressed in each notebook. Each notebook does build on the previous notebooks. "
   ]
  },
  {
   "cell_type": "markdown",
   "metadata": {},
   "source": [
    "1. [XdBooleanType](XdBoolean%20Examples.ipynb)"
   ]
  },
  {
   "cell_type": "markdown",
   "metadata": {},
   "source": [
    "2. [XdLinkType](XdLink%20Examples.ipynb)"
   ]
  },
  {
   "cell_type": "markdown",
   "metadata": {},
   "source": [
    "3. [XdStringType](XdString%20Examples.ipynb)"
   ]
  },
  {
   "cell_type": "markdown",
   "metadata": {},
   "source": [
    "4. [XdFileType](XdFile%20Examples.ipynb)"
   ]
  },
  {
   "cell_type": "markdown",
   "metadata": {},
   "source": [
    "5. [XdOrdinalType](XdOrdinal%20Examples.ipynb)"
   ]
  },
  {
   "cell_type": "markdown",
   "metadata": {},
   "source": [
    "6. [XdCountType](XdCount%20Examples.ipynb)"
   ]
  },
  {
   "cell_type": "markdown",
   "metadata": {},
   "source": [
    "7. [XdQuantityType](XdQuantity%20Examples.ipynb)"
   ]
  },
  {
   "cell_type": "markdown",
   "metadata": {},
   "source": [
    "8. [XdFloatType](XdFloat%20Examples.ipynb)"
   ]
  },
  {
   "cell_type": "markdown",
   "metadata": {},
   "source": [
    "9. [XdRatioType](XdRatio%20Examples.ipynb)"
   ]
  },
  {
   "cell_type": "markdown",
   "metadata": {},
   "source": [
    "10. [XdTemporalType](XdTemporal%20Examples.ipynb)"
   ]
  },
  {
   "cell_type": "markdown",
   "metadata": {},
   "source": [
    "**Structures**\n",
    "\n",
    "There are actually two structural *Items*. The XdAdapterType and the ClusterType. The XdAdapter is used to wrap any XdType so it can be included in a Cluster. When an XdType is used as another attribute, such as a XdStringType being used as a XdCount.units, then it doesn't need the XdAdapterType wrapper. \n",
    "\n",
    "You have already seen that XdAdapters get created along with the XdType unless the XdType.adapter is specifically set to False."
   ]
  },
  {
   "cell_type": "markdown",
   "metadata": {},
   "source": [
    "1. [ClusterType](ClusterType%20Examples.ipynb)"
   ]
  },
  {
   "cell_type": "markdown",
   "metadata": {},
   "source": [
    "**Meta Information**"
   ]
  },
  {
   "cell_type": "markdown",
   "metadata": {},
   "source": [
    "**Data Model** Wrapper"
   ]
  },
  {
   "cell_type": "markdown",
   "metadata": {},
   "source": [
    "**STOP:** You've reached the end of the chapter. Ignore the code below, it's just here to make the page pretty:"
   ]
  },
  {
   "cell_type": "code",
   "execution_count": null,
   "metadata": {},
   "outputs": [],
   "source": [
    "from IPython.core.display import HTML\n",
    "def css_styling():\n",
    "    styles = open(\"styles/custom.css\", \"r\").read()\n",
    "    return HTML(styles)\n",
    "css_styling()"
   ]
  }
 ],
 "metadata": {
  "kernelspec": {
   "display_name": "Python [conda env:S3Model]",
   "language": "python",
   "name": "conda-env-S3Model-py"
  },
  "language_info": {
   "codemirror_mode": {
    "name": "ipython",
    "version": 3
   },
   "file_extension": ".py",
   "mimetype": "text/x-python",
   "name": "python",
   "nbconvert_exporter": "python",
   "pygments_lexer": "ipython3",
   "version": "3.7.0"
  }
 },
 "nbformat": 4,
 "nbformat_minor": 2
}

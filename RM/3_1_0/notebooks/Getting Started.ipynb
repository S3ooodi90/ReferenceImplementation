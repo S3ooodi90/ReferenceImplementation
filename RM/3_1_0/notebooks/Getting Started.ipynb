{
 "cells": [
  {
   "cell_type": "markdown",
   "metadata": {},
   "source": [
    "<div class=\"logo-container\">\n",
    "  <div class=\"logo\"><img src=\"images/DataInsights.png\" height=\"100\" width=\"120\"/></div>\n",
    "  <div class=\"logo\"><img src=\"images/S3M.png\" height=\"70\" width=\"70\"/></div>\n",
    "</div>"
   ]
  },
  {
   "cell_type": "markdown",
   "metadata": {},
   "source": [
    "# Using the tutorials\n",
    "There are some great things about notebooks and some drawbacks. \n",
    "It is important to realize that using S3Model in a notebook is **not** the recommended approach. You should write an appropriate application to build a model. \n",
    "\n",
    "When executing the tutorials you **must** always execute the cells in the sequence from top to bottom. Anything else is precarious. If you want to experiment with changing values in a cell then be sure to use the *Cell->Run All Above* option from the menu.  "
   ]
  },
  {
   "cell_type": "markdown",
   "metadata": {},
   "source": [
    "\n",
    "# Getting Started with S3Model\n"
   ]
  },
  {
   "cell_type": "markdown",
   "metadata": {},
   "source": [
    "This notebook will guide you through a logical sequence for you to become familiar with S3Model and how to use the library in your applications to build semantically rich, coherent data models. These tutorials provide an introduction only. To become fully versed in the use of S3Model consider taking the online certification course and purchasing the book *Infotropic*. The course includes access to the online *Infotropic Tools Suite* that provides enhanced modeling capability without the need to write code."
   ]
  },
  {
   "cell_type": "markdown",
   "metadata": {},
   "source": [
    "## Multi-level Models vs. Instances\n",
    "It is essential to understand that these library classes represent the S3Model Reference Model (RM). The instances of these classes express constraints on those RM classes. These constraints define a specific model that is identified by a *collision-resistant unique identifier* (CUID). Once defined, these models are immutable under the guidelines of S3Model. Since shareability is a cornerstone of the S3Model approach these models can be serialized to a XML Schema making them easily shareable across all platforms.\n",
    "\n",
    "In the tutorials linked here, we are building only model components one at a time and not as part of a complete data model. An advanced tutorial as well as documentation for Kunteksto and the Infotropic Tools Suite describe creating complete, functional data models. "
   ]
  },
  {
   "cell_type": "markdown",
   "metadata": {},
   "source": [
    "**eXtended datatypes**\n",
    "\n",
    "The Xd* datatypes provide the capability of adding ontological, spatial and temporal semantics to simple datatypes.\n",
    "\n",
    "You should go through each of these interactive notebooks in sequence. Not all features are expressed in each notebook. Each notebook does build on the previous notebooks. \n",
    "\n",
    "Reference Ranges and Intervals are covered in the XdQuantity examples."
   ]
  },
  {
   "cell_type": "markdown",
   "metadata": {},
   "source": [
    "1. [XdBooleanType](XdBoolean%20Examples.ipynb)"
   ]
  },
  {
   "cell_type": "markdown",
   "metadata": {},
   "source": [
    "2. [XdLinkType](XdLink%20Examples.ipynb)"
   ]
  },
  {
   "cell_type": "markdown",
   "metadata": {},
   "source": [
    "3. [XdStringType](XdString%20Examples.ipynb)"
   ]
  },
  {
   "cell_type": "markdown",
   "metadata": {},
   "source": [
    "4. [XdFileType](XdFile%20Examples.ipynb)"
   ]
  },
  {
   "cell_type": "markdown",
   "metadata": {},
   "source": [
    "5. [XdOrdinalType](XdOrdinal%20Examples.ipynb)"
   ]
  },
  {
   "cell_type": "markdown",
   "metadata": {},
   "source": [
    "6. [XdCountType](XdCount%20Examples.ipynb)"
   ]
  },
  {
   "cell_type": "markdown",
   "metadata": {},
   "source": [
    "7. [XdQuantityType](XdQuantity%20Examples.ipynb)"
   ]
  },
  {
   "cell_type": "markdown",
   "metadata": {},
   "source": [
    "8. [XdFloatType](XdFloat%20Examples.ipynb)"
   ]
  },
  {
   "cell_type": "markdown",
   "metadata": {},
   "source": [
    "9. [XdRatioType](XdRatio%20Examples.ipynb)"
   ]
  },
  {
   "cell_type": "markdown",
   "metadata": {},
   "source": [
    "10. [XdTemporalType](XdTemporal%20Examples.ipynb)"
   ]
  },
  {
   "cell_type": "markdown",
   "metadata": {},
   "source": [
    "**Structures**\n",
    "\n",
    "There are actually two structural *Items*. The XdAdapterType and the ClusterType. The XdAdapter is used to wrap any XdType so it can be included in a Cluster. When an XdType is used as another attribute, such as a XdStringType being used as a XdCount.units, then it doesn't need the XdAdapterType wrapper. \n",
    "\n",
    "There is no separate tutorial for XdAdapterTypes."
   ]
  },
  {
   "cell_type": "markdown",
   "metadata": {},
   "source": [
    "1. [ClusterType](ClusterType%20Examples.ipynb)"
   ]
  },
  {
   "cell_type": "markdown",
   "metadata": {},
   "source": [
    "**Meta Information**\n",
    "\n",
    "A data model is incomplete without computable meta-information to provide provenence and trust. This information may include who (person, company, etc.) the data is about, who participated and in what ways, data audit trail, workflow status, attestations of snapshots, protocols used in specifying the model. The components in this section allow the modeler to build any required model to track this information. \n",
    "\n",
    "1. [PartyType](Party%20Examples.ipynb)\n",
    "2. [AuditType](Audit%20Examples.ipynb)\n",
    "3. [AttestationType](Attestation%20Examples.ipynb)\n",
    "4. [ParticipationType](Participation%20Examples.ipynb)"
   ]
  },
  {
   "cell_type": "markdown",
   "metadata": {},
   "source": [
    "The **Data Model** wrapper takes all of the above components and gathers them into one cohesive, computable, shareable document like structure. This includes meta-data concerning the design of the model (author, licensing, publication, etc. \n",
    "\n",
    "This data provides down-stream users of the information to fully understand the meaning of the data and do so without manual intervention, re-interpreting and retyping the meta-data.\n",
    "\n",
    "1.  [DMType](DMType%20Examples.ipynb)"
   ]
  },
  {
   "cell_type": "markdown",
   "metadata": {},
   "source": [
    "**STOP:** You've reached the end of the chapter. Ignore the code below, it's just here to make the page pretty:"
   ]
  },
  {
   "cell_type": "code",
   "execution_count": 1,
   "metadata": {},
   "outputs": [
    {
     "data": {
      "text/html": [
       "\n",
       "<style>\n",
       "    @import url(http://fonts.googleapis.com/css?family=Roboto:400,300,300italic,400italic,700,700italic);\n",
       "\n",
       "    div.cell{\n",
       "        font-family:'roboto','helvetica','sans';\n",
       "        color:#444;\n",
       "        width:800px;\n",
       "        margin-left:16% !important;\n",
       "        margin-right:auto;\n",
       "    }\n",
       "\n",
       "    div.text_cell_render{\n",
       "        font-family: 'roboto','helvetica','sans';\n",
       "        line-height: 145%;\n",
       "        font-size: 120%;\n",
       "        color:#444;\n",
       "        width:800px;\n",
       "        margin-left:auto;\n",
       "        margin-right:auto;\n",
       "    }\n",
       "    .CodeMirror{\n",
       "            font-family: \"Menlo\", source-code-pro,Consolas, monospace;\n",
       "    }\n",
       "    .prompt{\n",
       "        display: None;\n",
       "    }    \n",
       "    .warning{\n",
       "        color: rgb( 240, 20, 20 )\n",
       "        }\n",
       "        \n",
       "    .logo-container {\n",
       "        display: flex;\n",
       "        flex-wrap: wrap;\n",
       "        }\n",
       "        \n",
       "        .logo {\n",
       "        flex: 0 0 50%;\n",
       "        padding: 10px;\n",
       "        vertical-align: middle;\n",
       "        }\n",
       "        \n",
       "        * {\n",
       "        margin: 0;\n",
       "        box-sizing: border-box;\n",
       "          }\n",
       "</style>\n",
       "<script>\n",
       "    MathJax.Hub.Config({\n",
       "                        TeX: {\n",
       "                           extensions: [\"AMSmath.js\"]\n",
       "                           },\n",
       "                tex2jax: {\n",
       "                    inlineMath: [ ['$','$'], [\"\\\\(\",\"\\\\)\"] ],\n",
       "                    displayMath: [ ['$$','$$'], [\"\\\\[\",\"\\\\]\"] ]\n",
       "                },\n",
       "                displayAlign: 'center', // Change this to 'center' to center equations.\n",
       "                \"HTML-CSS\": {\n",
       "                    styles: {'.MathJax_Display': {\"margin\": 4}}\n",
       "                }\n",
       "        });\n",
       "</script>"
      ],
      "text/plain": [
       "<IPython.core.display.HTML object>"
      ]
     },
     "execution_count": 1,
     "metadata": {},
     "output_type": "execute_result"
    }
   ],
   "source": [
    "from IPython.core.display import HTML\n",
    "def css_styling():\n",
    "    styles = open(\"styles/custom.css\", \"r\").read()\n",
    "    return HTML(styles)\n",
    "css_styling()"
   ]
  },
  {
   "cell_type": "code",
   "execution_count": null,
   "metadata": {},
   "outputs": [],
   "source": []
  }
 ],
 "metadata": {
  "kernelspec": {
   "display_name": "Python [conda env:S3Model]",
   "language": "python",
   "name": "conda-env-S3Model-py"
  },
  "language_info": {
   "codemirror_mode": {
    "name": "ipython",
    "version": 3
   },
   "file_extension": ".py",
   "mimetype": "text/x-python",
   "name": "python",
   "nbconvert_exporter": "python",
   "pygments_lexer": "ipython3",
   "version": "3.7.0"
  }
 },
 "nbformat": 4,
 "nbformat_minor": 2
}

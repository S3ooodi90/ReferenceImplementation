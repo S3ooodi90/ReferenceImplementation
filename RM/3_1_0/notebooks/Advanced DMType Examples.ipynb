{
 "cells": [
  {
   "cell_type": "markdown",
   "metadata": {
    "slideshow": {
     "slide_type": "slide"
    }
   },
   "source": [
    "# Advanced Example using the DMType"
   ]
  },
  {
   "cell_type": "markdown",
   "metadata": {},
   "source": [
    "# 2017 US 1040A Tax Return Form"
   ]
  },
  {
   "cell_type": "markdown",
   "metadata": {
    "slideshow": {
     "slide_type": "slide"
    }
   },
   "source": [
    "**Set the path to the folder containing the library files and import the extended datatypes.**"
   ]
  },
  {
   "cell_type": "code",
   "execution_count": 1,
   "metadata": {
    "slideshow": {
     "slide_type": "fragment"
    }
   },
   "outputs": [],
   "source": [
    "import sys \n",
    "sys.path.append(\"../pylib/\")\n",
    "from s3m_dm import DMType\n",
    "from s3m_struct import ClusterType, XdAdapterType\n",
    "from s3m_xdt import XdStringType, XdTemporalType, XdOrdinalType, XdCountType, XdBooleanType, XdQuantityType, XdTemporalType, XdOrdinalType, XdFileType"
   ]
  },
  {
   "cell_type": "markdown",
   "metadata": {
    "slideshow": {
     "slide_type": "slide"
    }
   },
   "source": [
    "Uncomment the line below to review the documentation of DMType. "
   ]
  },
  {
   "cell_type": "code",
   "execution_count": 2,
   "metadata": {
    "scrolled": true,
    "slideshow": {
     "slide_type": "slide"
    }
   },
   "outputs": [],
   "source": [
    "# help(DMType)"
   ]
  },
  {
   "cell_type": "code",
   "execution_count": 3,
   "metadata": {},
   "outputs": [],
   "source": [
    "US1040a = DMType(\"1040A for 2017\")"
   ]
  },
  {
   "cell_type": "code",
   "execution_count": 4,
   "metadata": {},
   "outputs": [],
   "source": [
    "# build the components and a cluster for the personal information\n",
    "pi = ClusterType('Personal Information')\n",
    "pi.definition_url = 'https://www.irs.gov/pub/irs-pdf/i1040a.pdf/page15'"
   ]
  },
  {
   "cell_type": "code",
   "execution_count": 5,
   "metadata": {},
   "outputs": [],
   "source": [
    "fname = XdStringType(\"First name and middle initial\")\n",
    "fname.definition_url = 'https://www.irs.gov/pub/irs-pdf/i1040a.pdf/page15#fname'\n",
    "fname.description = \"Your first name and initial\"\n",
    "#fname.pred_obj_list = ('','')\n",
    "fname.published = True\n",
    "a = XdAdapterType()\n",
    "a.value = fname\n",
    "pi.items = a"
   ]
  },
  {
   "cell_type": "code",
   "execution_count": 6,
   "metadata": {},
   "outputs": [],
   "source": [
    "lname = XdStringType(\"Last name\")\n",
    "lname.definition_url = 'https://www.irs.gov/pub/irs-pdf/i1040a.pdf/page15#lname'\n",
    "lname.description = \"Your last name\"\n",
    "#lname.pred_obj_list = ('','')\n",
    "lname.published = True\n",
    "a = XdAdapterType()\n",
    "a.value = lname\n",
    "pi.items = a\n"
   ]
  },
  {
   "cell_type": "code",
   "execution_count": 7,
   "metadata": {},
   "outputs": [],
   "source": [
    "ssn = XdStringType(\"Social Security Number\")\n",
    "ssn.definition_url = 'https://www.irs.gov/pub/irs-pdf/i1040a.pdf/page15#ssn'\n",
    "ssn.description = \"Your SSN\"\n",
    "ssn.regex = '[0-9]{3}-[0-9]{2}-[0-9]{4}'\n",
    "#ssn.pred_obj_list = ('','')\n",
    "ssn.published = True\n",
    "a = XdAdapterType()\n",
    "a.value = ssn\n",
    "pi.items = a\n"
   ]
  },
  {
   "cell_type": "code",
   "execution_count": 8,
   "metadata": {},
   "outputs": [],
   "source": [
    "s_fname = XdStringType(\"Spouse's first name and middle initial\")\n",
    "s_fname.definition_url = 'https://www.irs.gov/pub/irs-pdf/i1040a.pdf/page15#s_fname'\n",
    "s_fname.description = \"Spouse's first name and middle initial\"\n",
    "#s_fname.pred_obj_list = ('','')\n",
    "s_fname.published = True\n",
    "a = XdAdapterType()\n",
    "a.value = s_fname\n",
    "pi.items = a\n"
   ]
  },
  {
   "cell_type": "code",
   "execution_count": 9,
   "metadata": {},
   "outputs": [],
   "source": [
    "s_lname = XdStringType(\"Spouse's last name\")\n",
    "s_lname.definition_url = 'https://www.irs.gov/pub/irs-pdf/i1040a.pdf/page15#s_lname'\n",
    "s_lname.description = \"Spouse's last name.\"\n",
    "#s_lname.pred_obj_list = ('','')\n",
    "s_lname.published = True\n",
    "a = XdAdapterType()\n",
    "a.value = s_lname\n",
    "pi.items = a\n"
   ]
  },
  {
   "cell_type": "code",
   "execution_count": 10,
   "metadata": {},
   "outputs": [],
   "source": [
    "s_ssn = XdStringType(\"Spouse's Social Security Number\")\n",
    "s_ssn.definition_url = 'https://www.irs.gov/pub/irs-pdf/i1040a.pdf/page15#s_ssn'\n",
    "s_ssn.regex = '[0-9]{3}-[0-9]{2}-[0-9]{4}'\n",
    "s_ssn.description = \"Spouse's Social Security Number.\"\n",
    "#s_ssn.pred_obj_list = ('','')\n",
    "s_ssn.published = True\n",
    "a = XdAdapterType()\n",
    "a.value = s_ssn\n",
    "pi.items = a\n"
   ]
  },
  {
   "cell_type": "code",
   "execution_count": 11,
   "metadata": {},
   "outputs": [],
   "source": [
    "street_name = XdStringType(\"Street name\")\n",
    "street_name.definition_url = 'https://www.irs.gov/pub/irs-pdf/i1040a.pdf/page15#street_name'\n",
    "street_name.description = \"Home address street. If you have a P.O. box, see instructions.\"\n",
    "#street_name.pred_obj_list = ('','')\n",
    "street_name.published = True\n",
    "a = XdAdapterType()\n",
    "a.value = street_name\n",
    "pi.items = a\n"
   ]
  },
  {
   "cell_type": "code",
   "execution_count": 12,
   "metadata": {},
   "outputs": [],
   "source": [
    "street_num = XdStringType(\"Street number\")\n",
    "street_num.definition_url = 'https://www.irs.gov/pub/irs-pdf/i1040a.pdf/page15#street_number'\n",
    "street_num.description = \"Home address number.\"\n",
    "#street_num.pred_obj_list = ('','')\n",
    "street_num.published = True\n",
    "a = XdAdapterType()\n",
    "a.value = street_num\n",
    "pi.items = a\n"
   ]
  },
  {
   "cell_type": "code",
   "execution_count": 13,
   "metadata": {},
   "outputs": [],
   "source": [
    "appt_num = XdStringType(\"Apartment number\")\n",
    "appt_num.definition_url = 'https://www.irs.gov/pub/irs-pdf/i1040a.pdf/page15#street_number'\n",
    "appt_num.description = \"Home address apartment number.\"\n",
    "#appt_num.pred_obj_list = ('','')\n",
    "appt_num.published = True\n",
    "a = XdAdapterType()\n",
    "a.value = appt_num\n",
    "pi.items = a"
   ]
  },
  {
   "cell_type": "code",
   "execution_count": 14,
   "metadata": {},
   "outputs": [],
   "source": [
    "city = XdStringType(\"US City\")\n",
    "city.definition_url = 'https://www.irs.gov/pub/irs-pdf/i1040a.pdf/page15#city'\n",
    "city.description = \"City, town or post office in the United States\"\n",
    "#city.pred_obj_list = ('','')\n",
    "city.published = True\n",
    "a = XdAdapterType()\n",
    "a.value = city\n",
    "pi.items = a\n"
   ]
  },
  {
   "cell_type": "code",
   "execution_count": 15,
   "metadata": {},
   "outputs": [],
   "source": [
    "state = XdStringType(\"State\")\n",
    "state.definition_url = 'https://www.irs.gov/pub/irs-pdf/i1040a.pdf/page15#state'\n",
    "state.description = \"US State\"\n",
    "#state.pred_obj_list = ('','')\n",
    "state.published = True\n",
    "a = XdAdapterType()\n",
    "a.value = state\n",
    "pi.items = a\n"
   ]
  },
  {
   "cell_type": "code",
   "execution_count": 16,
   "metadata": {},
   "outputs": [],
   "source": [
    "pc = XdStringType(\"US Zip Code\")\n",
    "pc.definition_url = 'https://www.irs.gov/pub/irs-pdf/i1040a.pdf/page15#zipcode'\n",
    "pc.description = \"US Zip code.\"\n",
    "#pc.pred_obj_list = ('','')\n",
    "pc.published = True\n",
    "a = XdAdapterType()\n",
    "a.value = pc\n",
    "pi.items = a"
   ]
  },
  {
   "cell_type": "code",
   "execution_count": 17,
   "metadata": {},
   "outputs": [],
   "source": [
    "country = XdStringType(\"Foreign Country\")\n",
    "country.definition_url = 'https://www.irs.gov/pub/irs-pdf/i1040a.pdf/page15#country'\n",
    "country.description = \"Foreign country if not in the United States.\"\n",
    "#country.pred_obj_list = ('','')\n",
    "country.published = True\n",
    "a = XdAdapterType()\n",
    "a.value = country\n",
    "pi.items = a"
   ]
  },
  {
   "cell_type": "code",
   "execution_count": 18,
   "metadata": {},
   "outputs": [],
   "source": [
    "fstate = XdStringType(\"Foreign State\")\n",
    "fstate.definition_url = 'https://www.irs.gov/pub/irs-pdf/i1040a.pdf/page15#state'\n",
    "fstate.description = \"Foreign province/state/county\"\n",
    "#fstate.pred_obj_list = ('','')\n",
    "fstate.published = True\n",
    "a = XdAdapterType()\n",
    "a.value = fstate\n",
    "pi.items = a\n"
   ]
  },
  {
   "cell_type": "code",
   "execution_count": 19,
   "metadata": {},
   "outputs": [],
   "source": [
    "fpc = XdStringType(\"Postal Code\")\n",
    "fpc.definition_url = 'https://www.irs.gov/pub/irs-pdf/i1040a.pdf/page15#zipcode'\n",
    "fpc.description = \"Foreign postal code.\"\n",
    "#fpc.pred_obj_list = ('','')\n",
    "fpc.published = True\n",
    "a = XdAdapterType()\n",
    "a.value = fpc\n",
    "pi.items = a\n"
   ]
  },
  {
   "cell_type": "code",
   "execution_count": 20,
   "metadata": {},
   "outputs": [],
   "source": [
    "opt = {'trues':['Yes'], 'falses':['No']}\n",
    "pec = XdBooleanType(\"Presidential Election Campaign\", opt)\n",
    "pec.definition_url = 'https://www.irs.gov/pub/irs-pdf/i1040a.pdf/page16#pec'\n",
    "pec.description = \"Select Yes if you, want $3 to go to this fund.\"\n",
    "#pec.pred_obj_list = ('','')\n",
    "pec.published = True\n",
    "a = XdAdapterType()\n",
    "a.value = pec\n",
    "pi.items = a\n"
   ]
  },
  {
   "cell_type": "code",
   "execution_count": 32,
   "metadata": {},
   "outputs": [],
   "source": [
    "s_pec = XdBooleanType(\"Spouse Presidential Election Campaign\", opt)\n",
    "s_pec.definition_url = 'https://www.irs.gov/pub/irs-pdf/i1040a.pdf/page16#pec'\n",
    "s_pec.description = \"Select Yes if your spouse, wants $3 to go to this fund.\"\n",
    "#s_pec.pred_obj_list = ('','')\n",
    "s_pec.published = True\n",
    "a = XdAdapterType()\n",
    "a.value = s_pec\n",
    "pi.items = a\n",
    "pi.published = True"
   ]
  },
  {
   "cell_type": "code",
   "execution_count": 33,
   "metadata": {},
   "outputs": [
    {
     "name": "stdout",
     "output_type": "stream",
     "text": [
      "ClusterType : Personal Information, ID: cjod10n0100019tbizc9syz5o Published: True\n"
     ]
    }
   ],
   "source": [
    "print(pi)"
   ]
  },
  {
   "cell_type": "code",
   "execution_count": 23,
   "metadata": {},
   "outputs": [],
   "source": [
    "# build the components and a cluster for filing status and exemptions\n",
    "fs = ClusterType('Filing Status')\n",
    "fs.definition_url = 'https://www.irs.gov/pub/irs-pdf/i1040a.pdf/page16'"
   ]
  },
  {
   "cell_type": "code",
   "execution_count": 24,
   "metadata": {},
   "outputs": [],
   "source": [
    "fstatus = XdStringType(\"Filing Status Selection\")\n",
    "fstatus.definition_url = 'https://www.irs.gov/pub/irs-pdf/i1040a.pdf/page16#status'\n",
    "fstatus.description = \"\"\"Select a filing status.The ones that will usually give you the lowest tax are listed last:\n",
    "- Married filing separately.\n",
    "- Single.\n",
    "- Head of household.\n",
    "- Married filing jointly.\n",
    "- Qualifying widow(er).\n",
    "\"\"\"\n",
    "enums = []\n",
    "enums.append(('Married Filing Separately', 'https://www.irs.gov/pub/irs-pdf/i1040a.pdf/page16#line3'))\n",
    "enums.append(('Single', 'https://www.irs.gov/pub/irs-pdf/i1040a.pdf/page16#line1'))\n",
    "enums.append(('Head of Household', 'https://www.irs.gov/pub/irs-pdf/i1040a.pdf/page16#line4'))\n",
    "enums.append(('Married Filing Jointly', 'https://www.irs.gov/pub/irs-pdf/i1040a.pdf/page16#line2'))\n",
    "enums.append(('Qualifying Widow(er)', 'https://www.irs.gov/pub/irs-pdf/i1040a.pdf/page16#line5'))\n",
    "#fstatus.pred_obj_list = ('','')\n",
    "fstatus.published = True\n",
    "a = XdAdapterType()\n",
    "a.value = fstatus\n",
    "fs.items = a"
   ]
  },
  {
   "cell_type": "code",
   "execution_count": null,
   "metadata": {},
   "outputs": [],
   "source": []
  },
  {
   "cell_type": "code",
   "execution_count": 25,
   "metadata": {},
   "outputs": [],
   "source": [
    "# build the components and a cluster for income"
   ]
  },
  {
   "cell_type": "code",
   "execution_count": 26,
   "metadata": {},
   "outputs": [],
   "source": [
    "# build the components and a cluster for adjusted income"
   ]
  },
  {
   "cell_type": "code",
   "execution_count": 27,
   "metadata": {},
   "outputs": [],
   "source": [
    "# build the components and a cluster for Tax, credits, and payments"
   ]
  },
  {
   "cell_type": "code",
   "execution_count": 28,
   "metadata": {},
   "outputs": [],
   "source": [
    "# build the components and a cluster for refund and Amount you owe"
   ]
  },
  {
   "cell_type": "code",
   "execution_count": 29,
   "metadata": {},
   "outputs": [],
   "source": [
    "# build the components and a cluster for third party"
   ]
  },
  {
   "cell_type": "code",
   "execution_count": 30,
   "metadata": {},
   "outputs": [],
   "source": [
    "# build the components and a cluster for signature"
   ]
  },
  {
   "cell_type": "code",
   "execution_count": 31,
   "metadata": {},
   "outputs": [],
   "source": [
    "# build the components and a cluster for Paid preparer"
   ]
  }
 ],
 "metadata": {
  "kernelspec": {
   "display_name": "Python 3",
   "language": "python",
   "name": "python3"
  },
  "language_info": {
   "codemirror_mode": {
    "name": "ipython",
    "version": 3
   },
   "file_extension": ".py",
   "mimetype": "text/x-python",
   "name": "python",
   "nbconvert_exporter": "python",
   "pygments_lexer": "ipython3",
   "version": "3.7.1"
  }
 },
 "nbformat": 4,
 "nbformat_minor": 2
}

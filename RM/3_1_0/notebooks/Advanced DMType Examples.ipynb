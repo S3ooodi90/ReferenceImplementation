{
 "cells": [
  {
   "cell_type": "markdown",
   "metadata": {
    "slideshow": {
     "slide_type": "slide"
    }
   },
   "source": [
    "# Advanced Example using the DMType"
   ]
  },
  {
   "cell_type": "markdown",
   "metadata": {},
   "source": [
    "# 2017 US 1040A Tax Return Form"
   ]
  },
  {
   "cell_type": "markdown",
   "metadata": {
    "slideshow": {
     "slide_type": "slide"
    }
   },
   "source": [
    "**Set the path to the folder containing the library files and import the extended datatypes.**"
   ]
  },
  {
   "cell_type": "code",
   "execution_count": 1,
   "metadata": {
    "slideshow": {
     "slide_type": "fragment"
    }
   },
   "outputs": [],
   "source": [
    "import sys \n",
    "sys.path.append(\"../pylib/\")\n",
    "from s3m_dm import DMType\n",
    "from s3m_meta import PartyType, AuditType, AttestationType\n",
    "from s3m_struct import ClusterType, XdAdapterType\n",
    "from s3m_xdt import XdStringType, XdTemporalType, XdOrdinalType, XdCountType, XdBooleanType, XdQuantityType, XdTemporalType, XdOrdinalType, XdFileType"
   ]
  },
  {
   "cell_type": "markdown",
   "metadata": {
    "slideshow": {
     "slide_type": "slide"
    }
   },
   "source": [
    "Uncomment the line below and run the cell to review the documentation of DMType. "
   ]
  },
  {
   "cell_type": "code",
   "execution_count": 2,
   "metadata": {
    "scrolled": true,
    "slideshow": {
     "slide_type": "slide"
    }
   },
   "outputs": [],
   "source": [
    "# help(DMType)"
   ]
  },
  {
   "cell_type": "code",
   "execution_count": 3,
   "metadata": {},
   "outputs": [],
   "source": [
    "tree = ClusterType('Data Tree Container')\n",
    "tree.definition_url = 'https://www.irs.gov/pub/irs-pdf/i1040a.pdf'\n",
    "tree.docs = \"The container for all data clusters created below.\"\n",
    "#tree.pred_obj_list = ('','')\n",
    "subject = PartyType(\"Subject of the form\")\n",
    "subject.docs = \"Contains the Personal Information section\"\n",
    "subject.cardinality = ('party_details', [1,1])\n",
    "#subject.pred_obj_list = ('','')\n",
    "provider = PartyType(\"Service Provider\")\n",
    "provider.docs = \"Contains the paid preparer section\"\n",
    "provider.cardinality = ('party_details', [1,1])\n",
    "#provider.pred_obj_list = ('','')\n",
    "audit = AuditType(\"Audit of the form\")\n",
    "audit.docs = \"Contains an audit of the form\"\n",
    "#audit.pred_obj_list = ('','')\n",
    "attestation = AttestationType(\"Attestation of the form\")\n",
    "attestation.docs = \"Contains the signature section\"\n",
    "#attestation.pred_obj_list = ('','')"
   ]
  },
  {
   "cell_type": "code",
   "execution_count": 4,
   "metadata": {},
   "outputs": [],
   "source": [
    "# build the components and a cluster for the personal information\n",
    "pi = ClusterType('Personal Information')\n",
    "pi.definition_url = 'https://www.irs.gov/pub/irs-pdf/i1040a.pdf/page15'\n",
    "#pi.pred_obj_list = ('','')"
   ]
  },
  {
   "cell_type": "code",
   "execution_count": 5,
   "metadata": {},
   "outputs": [],
   "source": [
    "fname = XdStringType(\"First name and middle initial\")\n",
    "fname.definition_url = 'https://www.irs.gov/pub/irs-pdf/i1040a.pdf/page15#fname'\n",
    "fname.docs = \"Your first name and initial\"\n",
    "#fname.pred_obj_list = ('','')\n",
    "fname.published = True\n",
    "a = XdAdapterType()\n",
    "a.value = fname\n",
    "pi.items = a"
   ]
  },
  {
   "cell_type": "code",
   "execution_count": 6,
   "metadata": {},
   "outputs": [],
   "source": [
    "lname = XdStringType(\"Last name\")\n",
    "lname.definition_url = 'https://www.irs.gov/pub/irs-pdf/i1040a.pdf/page15#lname'\n",
    "lname.docs = \"Your last name\"\n",
    "#lname.pred_obj_list = ('','')\n",
    "lname.published = True\n",
    "a = XdAdapterType()\n",
    "a.value = lname\n",
    "pi.items = a\n"
   ]
  },
  {
   "cell_type": "code",
   "execution_count": 7,
   "metadata": {},
   "outputs": [],
   "source": [
    "ssn = XdStringType(\"Social Security Number\")\n",
    "ssn.definition_url = 'https://www.irs.gov/pub/irs-pdf/i1040a.pdf/page15#ssn'\n",
    "ssn.docs = \"Your SSN\"\n",
    "ssn.regex = '[0-9]{3}-[0-9]{2}-[0-9]{4}'\n",
    "#ssn.pred_obj_list = ('','')\n",
    "ssn.published = True\n",
    "a = XdAdapterType()\n",
    "a.value = ssn\n",
    "pi.items = a\n"
   ]
  },
  {
   "cell_type": "code",
   "execution_count": 8,
   "metadata": {},
   "outputs": [],
   "source": [
    "s_fname = XdStringType(\"Spouse's first name and middle initial\")\n",
    "s_fname.definition_url = 'https://www.irs.gov/pub/irs-pdf/i1040a.pdf/page15#s_fname'\n",
    "s_fname.docs = \"Spouse's first name and middle initial\"\n",
    "#s_fname.pred_obj_list = ('','')\n",
    "s_fname.published = True\n",
    "a = XdAdapterType()\n",
    "a.value = s_fname\n",
    "pi.items = a\n"
   ]
  },
  {
   "cell_type": "code",
   "execution_count": 9,
   "metadata": {},
   "outputs": [],
   "source": [
    "s_lname = XdStringType(\"Spouse's last name\")\n",
    "s_lname.definition_url = 'https://www.irs.gov/pub/irs-pdf/i1040a.pdf/page15#s_lname'\n",
    "s_lname.docs = \"Spouse's last name.\"\n",
    "#s_lname.pred_obj_list = ('','')\n",
    "s_lname.published = True\n",
    "a = XdAdapterType()\n",
    "a.value = s_lname\n",
    "pi.items = a\n"
   ]
  },
  {
   "cell_type": "code",
   "execution_count": 10,
   "metadata": {},
   "outputs": [],
   "source": [
    "s_ssn = XdStringType(\"Spouse's Social Security Number\")\n",
    "s_ssn.definition_url = 'https://www.irs.gov/pub/irs-pdf/i1040a.pdf/page15#s_ssn'\n",
    "s_ssn.regex = '[0-9]{3}-[0-9]{2}-[0-9]{4}'\n",
    "s_ssn.docs = \"Spouse's Social Security Number.\"\n",
    "#s_ssn.pred_obj_list = ('','')\n",
    "s_ssn.published = True\n",
    "a = XdAdapterType()\n",
    "a.value = s_ssn\n",
    "pi.items = a\n"
   ]
  },
  {
   "cell_type": "code",
   "execution_count": 11,
   "metadata": {},
   "outputs": [],
   "source": [
    "street_name = XdStringType(\"Street name\")\n",
    "street_name.definition_url = 'https://www.irs.gov/pub/irs-pdf/i1040a.pdf/page15#street_name'\n",
    "street_name.docs = \"Home address street. If you have a P.O. box, see instructions.\"\n",
    "#street_name.pred_obj_list = ('','')\n",
    "street_name.published = True\n",
    "a = XdAdapterType()\n",
    "a.value = street_name\n",
    "pi.items = a\n"
   ]
  },
  {
   "cell_type": "code",
   "execution_count": 12,
   "metadata": {},
   "outputs": [],
   "source": [
    "street_num = XdStringType(\"Street number\")\n",
    "street_num.definition_url = 'https://www.irs.gov/pub/irs-pdf/i1040a.pdf/page15#street_number'\n",
    "street_num.docs = \"Home address number.\"\n",
    "#street_num.pred_obj_list = ('','')\n",
    "street_num.published = True\n",
    "a = XdAdapterType()\n",
    "a.value = street_num\n",
    "pi.items = a\n"
   ]
  },
  {
   "cell_type": "code",
   "execution_count": 13,
   "metadata": {},
   "outputs": [],
   "source": [
    "appt_num = XdStringType(\"Apartment number\")\n",
    "appt_num.definition_url = 'https://www.irs.gov/pub/irs-pdf/i1040a.pdf/page15#street_number'\n",
    "appt_num.docs = \"Home address apartment number.\"\n",
    "#appt_num.pred_obj_list = ('','')\n",
    "appt_num.published = True\n",
    "a = XdAdapterType()\n",
    "a.value = appt_num\n",
    "pi.items = a"
   ]
  },
  {
   "cell_type": "code",
   "execution_count": 14,
   "metadata": {},
   "outputs": [],
   "source": [
    "city = XdStringType(\"US City\")\n",
    "city.definition_url = 'https://www.irs.gov/pub/irs-pdf/i1040a.pdf/page15#city'\n",
    "city.docs = \"City, town or post office in the United States\"\n",
    "#city.pred_obj_list = ('','')\n",
    "city.published = True\n",
    "a = XdAdapterType()\n",
    "a.value = city\n",
    "pi.items = a\n"
   ]
  },
  {
   "cell_type": "code",
   "execution_count": 15,
   "metadata": {},
   "outputs": [],
   "source": [
    "state = XdStringType(\"State\")\n",
    "state.definition_url = 'https://www.irs.gov/pub/irs-pdf/i1040a.pdf/page15#state'\n",
    "state.docs = \"US State\"\n",
    "#state.pred_obj_list = ('','')\n",
    "state.published = True\n",
    "a = XdAdapterType()\n",
    "a.value = state\n",
    "pi.items = a\n"
   ]
  },
  {
   "cell_type": "code",
   "execution_count": 16,
   "metadata": {},
   "outputs": [],
   "source": [
    "pc = XdStringType(\"US Zip Code\")\n",
    "pc.definition_url = 'https://www.irs.gov/pub/irs-pdf/i1040a.pdf/page15#zipcode'\n",
    "pc.docs = \"US Zip code.\"\n",
    "#pc.pred_obj_list = ('','')\n",
    "pc.published = True\n",
    "a = XdAdapterType()\n",
    "a.value = pc\n",
    "pi.items = a"
   ]
  },
  {
   "cell_type": "code",
   "execution_count": 17,
   "metadata": {},
   "outputs": [],
   "source": [
    "country = XdStringType(\"Foreign Country\")\n",
    "country.definition_url = 'https://www.irs.gov/pub/irs-pdf/i1040a.pdf/page15#country'\n",
    "country.docs = \"Foreign country if not in the United States.\"\n",
    "#country.pred_obj_list = ('','')\n",
    "country.published = True\n",
    "a = XdAdapterType()\n",
    "a.value = country\n",
    "pi.items = a"
   ]
  },
  {
   "cell_type": "code",
   "execution_count": 18,
   "metadata": {},
   "outputs": [],
   "source": [
    "fstate = XdStringType(\"Foreign State\")\n",
    "fstate.definition_url = 'https://www.irs.gov/pub/irs-pdf/i1040a.pdf/page15#state'\n",
    "fstate.docs = \"Foreign province/state/county\"\n",
    "#fstate.pred_obj_list = ('','')\n",
    "fstate.published = True\n",
    "a = XdAdapterType()\n",
    "a.value = fstate\n",
    "pi.items = a\n"
   ]
  },
  {
   "cell_type": "code",
   "execution_count": 19,
   "metadata": {},
   "outputs": [],
   "source": [
    "fpc = XdStringType(\"Postal Code\")\n",
    "fpc.definition_url = 'https://www.irs.gov/pub/irs-pdf/i1040a.pdf/page15#zipcode'\n",
    "fpc.docs = \"Foreign postal code.\"\n",
    "#fpc.pred_obj_list = ('','')\n",
    "fpc.published = True\n",
    "a = XdAdapterType()\n",
    "a.value = fpc\n",
    "pi.items = a\n"
   ]
  },
  {
   "cell_type": "code",
   "execution_count": 20,
   "metadata": {},
   "outputs": [],
   "source": [
    "opt = {'trues':['Yes'], 'falses':['No']}\n",
    "pec = XdBooleanType(\"Presidential Election Campaign\", opt)\n",
    "pec.definition_url = 'https://www.irs.gov/pub/irs-pdf/i1040a.pdf/page16#pec'\n",
    "pec.docs = \"Select Yes if you, want $3 to go to this fund.\"\n",
    "#pec.pred_obj_list = ('','')\n",
    "pec.published = True\n",
    "a = XdAdapterType()\n",
    "a.value = pec\n",
    "pi.items = a\n"
   ]
  },
  {
   "cell_type": "code",
   "execution_count": 21,
   "metadata": {},
   "outputs": [],
   "source": [
    "s_pec = XdBooleanType(\"Spouse Presidential Election Campaign\", opt)\n",
    "s_pec.definition_url = 'https://www.irs.gov/pub/irs-pdf/i1040a.pdf/page16#pec'\n",
    "s_pec.docs = \"Select Yes if your spouse, wants $3 to go to this fund.\"\n",
    "#s_pec.pred_obj_list = ('','')\n",
    "s_pec.published = True\n",
    "a = XdAdapterType()\n",
    "a.value = s_pec\n",
    "pi.items = a\n",
    "pi.published = True"
   ]
  },
  {
   "cell_type": "code",
   "execution_count": 22,
   "metadata": {},
   "outputs": [
    {
     "name": "stdout",
     "output_type": "stream",
     "text": [
      "ClusterType : Personal Information, ID: cjog2vq730005kubi6oo961om Published: True\n"
     ]
    }
   ],
   "source": [
    "print(pi)\n",
    "subject.party_details = pi"
   ]
  },
  {
   "cell_type": "code",
   "execution_count": 23,
   "metadata": {},
   "outputs": [],
   "source": [
    "# build the components and a cluster for filing status\n",
    "fs = ClusterType('Filing Status')\n",
    "fs.definition_url = 'https://www.irs.gov/pub/irs-pdf/i1040a.pdf/page16'"
   ]
  },
  {
   "cell_type": "code",
   "execution_count": 24,
   "metadata": {},
   "outputs": [
    {
     "name": "stdout",
     "output_type": "stream",
     "text": [
      "ClusterType : Filing Status, ID: cjog2vqcu0014kubi5oyzbs1k Published: True\n"
     ]
    }
   ],
   "source": [
    "fstatus = XdStringType(\"Filing Status Selection\")\n",
    "fstatus.definition_url = 'https://www.irs.gov/pub/irs-pdf/i1040a.pdf/page16#status'\n",
    "fstatus.docs = \"\"\"Select a filing status.The ones that will usually give you the lowest tax are listed last:\n",
    "- Married filing separately.\n",
    "- Single.\n",
    "- Head of household.\n",
    "- Married filing jointly.\n",
    "- Qualifying widow(er).\n",
    "\"\"\"\n",
    "enums = []\n",
    "enums.append(('Married Filing Separately', 'https://www.irs.gov/pub/irs-pdf/i1040a.pdf/page16#line3'))\n",
    "enums.append(('Single', 'https://www.irs.gov/pub/irs-pdf/i1040a.pdf/page16#line1'))\n",
    "enums.append(('Head of Household', 'https://www.irs.gov/pub/irs-pdf/i1040a.pdf/page16#line4'))\n",
    "enums.append(('Married Filing Jointly', 'https://www.irs.gov/pub/irs-pdf/i1040a.pdf/page16#line2'))\n",
    "enums.append(('Qualifying Widow(er)', 'https://www.irs.gov/pub/irs-pdf/i1040a.pdf/page16#line5'))\n",
    "#fstatus.pred_obj_list = ('','')\n",
    "fstatus.published = True\n",
    "a = XdAdapterType()\n",
    "a.value = fstatus\n",
    "fs.items = a\n",
    "fs.published = True\n",
    "print(fs)\n",
    "tree.items = fs"
   ]
  },
  {
   "cell_type": "code",
   "execution_count": 25,
   "metadata": {},
   "outputs": [],
   "source": [
    "# build the components and a cluster for exemptions\n",
    "ex = ClusterType('Exemptions')\n",
    "ex.definition_url = 'https://www.irs.gov/pub/irs-pdf/i1040a.pdf/page18'\n",
    "#ex.pred_obj_list = ('','')"
   ]
  },
  {
   "cell_type": "code",
   "execution_count": 26,
   "metadata": {},
   "outputs": [],
   "source": [
    "opt = {'trues':['Yes'], 'falses':['No']}\n",
    "ye = XdBooleanType('Self - Exemption', opt)\n",
    "ye.definition_url = 'https://www.irs.gov/pub/irs-pdf/i1040a.pdf/page18#line6a'\n",
    "#ye.pred_obj_list = ('','')\n",
    "ye.published = True\n",
    "a = XdAdapterType()\n",
    "a.value = ye\n",
    "ex.items = a"
   ]
  },
  {
   "cell_type": "code",
   "execution_count": 27,
   "metadata": {},
   "outputs": [],
   "source": [
    "se = XdBooleanType('Spouse - Exemption', opt)\n",
    "se.definition_url = 'https://www.irs.gov/pub/irs-pdf/i1040a.pdf/page18#line6b'\n",
    "#se.pred_obj_list = ('','')\n",
    "se.published = True\n",
    "a = XdAdapterType()\n",
    "a.value = se\n",
    "ex.items = a"
   ]
  },
  {
   "cell_type": "code",
   "execution_count": 28,
   "metadata": {},
   "outputs": [],
   "source": [
    "dep = ClusterType('Dependents')\n",
    "dep.definition_url = 'https://www.irs.gov/pub/irs-pdf/i1040a.pdf/page19#line6c'\n",
    "#dep.pred_obj_list = ('','')"
   ]
  },
  {
   "cell_type": "code",
   "execution_count": 29,
   "metadata": {},
   "outputs": [],
   "source": [
    "d_fname = XdStringType(\"Dependent's first name\")\n",
    "d_fname.definition_url = 'https://www.irs.gov/pub/irs-pdf/i1040a.pdf/page19#d_fname'\n",
    "d_fname.docs = \"Dependent's first name\"\n",
    "#d_fname.pred_obj_list = ('','')\n",
    "d_fname.published = True\n",
    "a = XdAdapterType()\n",
    "a.value = d_fname\n",
    "dep.items = a"
   ]
  },
  {
   "cell_type": "code",
   "execution_count": 30,
   "metadata": {},
   "outputs": [],
   "source": [
    "d_lname = XdStringType(\"Dependent's last name\")\n",
    "d_lname.definition_url = 'https://www.irs.gov/pub/irs-pdf/i1040a.pdf/page19#d_lname'\n",
    "d_lname.docs = \"Dependent's last name.\"\n",
    "#d_lname.pred_obj_list = ('','')\n",
    "d_lname.published = True\n",
    "a = XdAdapterType()\n",
    "a.value = d_lname\n",
    "dep.items = a"
   ]
  },
  {
   "cell_type": "code",
   "execution_count": 31,
   "metadata": {},
   "outputs": [],
   "source": [
    "d_ssn = XdStringType(\"Dependent's Social Security Number\")\n",
    "d_ssn.definition_url = 'https://www.irs.gov/pub/irs-pdf/i1040a.pdf/page19#d_ssn'\n",
    "d_ssn.regex = '[0-9]{3}-[0-9]{2}-[0-9]{4}'\n",
    "d_ssn.docs = \"Dependent's Social Security Number.\"\n",
    "#d_ssn.pred_obj_list = ('','')\n",
    "d_ssn.published = True\n",
    "a = XdAdapterType()\n",
    "a.value = d_ssn\n",
    "dep.items = a"
   ]
  },
  {
   "cell_type": "code",
   "execution_count": 32,
   "metadata": {},
   "outputs": [],
   "source": [
    "d_rel = XdStringType(\"Dependent's relationship\")\n",
    "d_rel.definition_url = 'https://www.irs.gov/pub/irs-pdf/i1040a.pdf/page19#d_rel'\n",
    "d_rel.docs = \"Dependent's relationship to you.\"\n",
    "#d_rel.pred_obj_list = ('','')\n",
    "d_rel.published = True\n",
    "a = XdAdapterType()\n",
    "a.value = d_rel\n",
    "dep.items = a"
   ]
  },
  {
   "cell_type": "code",
   "execution_count": 33,
   "metadata": {},
   "outputs": [
    {
     "name": "stdout",
     "output_type": "stream",
     "text": [
      "ClusterType : Dependents, ID: cjog2vqeo001ckubiisrxutwu Published: True\n"
     ]
    }
   ],
   "source": [
    "opt = {'trues':['Checked'], 'falses':['Unchecked']}\n",
    "d_qual = XdBooleanType('Qualifying Dependent', opt)\n",
    "d_qual.definition_url = 'https://www.irs.gov/pub/irs-pdf/i1040a.pdf/page19#d_qual'\n",
    "d_qual.docs = \"If child under age 17 qualifying for child tax credit (see instructions)\"\n",
    "#d_qual.pred_obj_list = ('','')\n",
    "d_qual.published = True\n",
    "a = XdAdapterType()\n",
    "a.value = d_qual\n",
    "dep.items = a\n",
    "dep.published = True\n",
    "print(dep)"
   ]
  },
  {
   "cell_type": "code",
   "execution_count": 34,
   "metadata": {},
   "outputs": [
    {
     "name": "stdout",
     "output_type": "stream",
     "text": [
      "ClusterType : Exemptions, ID: cjog2vqdk0017kubi6c671bod Published: True\n"
     ]
    }
   ],
   "source": [
    "ex.items = dep # adding a cluster to a cluster\n",
    "ex.published = True\n",
    "print(ex)\n",
    "tree.items = ex"
   ]
  },
  {
   "cell_type": "code",
   "execution_count": 35,
   "metadata": {},
   "outputs": [],
   "source": [
    "# build the components and a cluster for income\n",
    "income = ClusterType('Income')\n",
    "income.definition_url = 'https://www.irs.gov/pub/irs-pdf/i1040a.pdf/page24'\n",
    "#income.pred_obj_list = ('','')"
   ]
  },
  {
   "cell_type": "code",
   "execution_count": 36,
   "metadata": {},
   "outputs": [
    {
     "name": "stdout",
     "output_type": "stream",
     "text": [
      "XdStringType : Currency, ID: cjog2vqh3001okubib0wf3rpx Published: True\n"
     ]
    }
   ],
   "source": [
    "# create the units model\n",
    "currency = XdStringType('Currency')\n",
    "currency.docs = \"Only US Dollars are allowed.\"\n",
    "currency.definition_url = 'https://www.iso.org/iso-4217-currency-codes.html'\n",
    "currency.docs = \"\"\"The three-digit numeric code is useful when currency codes need to be understood in countries that do not use Latin scripts and for computerised systems. Where possible the 3 digit numeric code is the same as the numeric country code.\"\"\"\n",
    "# create the units options\n",
    "enums = []\n",
    "enums.append(('USD', 'https://www.iso.org/iso-4217-currency-codes.html/840'))\n",
    "currency.enums = enums\n",
    "#currency.pred_obj_list = ('','')\n",
    "currency.published = True\n",
    "print(currency)"
   ]
  },
  {
   "cell_type": "code",
   "execution_count": 37,
   "metadata": {},
   "outputs": [
    {
     "name": "stdout",
     "output_type": "stream",
     "text": [
      "XdQuantityType : Wages, salaries, tips, etc., ID: cjog2vqhh001qkubi8cagrjpi Published: True\n"
     ]
    }
   ],
   "source": [
    "wages = XdQuantityType(\"Wages, salaries, tips, etc.\")\n",
    "wages.docs = \"Wages, salaries, tips, etc. Attach Form(s) W-2.\"\n",
    "wages.definition_url = 'https://www.irs.gov/pub/irs-pdf/i1040a.pdf/page24#line7'\n",
    "wages.min_inclusive = 0  # can't have a negative amount\n",
    "wages.fraction_digits = 2 # currency is recorded with only two decimal places\n",
    "wages.units = currency\n",
    "#wages.pred_obj_list = ('','')\n",
    "wages.published = True\n",
    "a = XdAdapterType()\n",
    "a.value = wages\n",
    "income.items = a\n",
    "print(wages)"
   ]
  },
  {
   "cell_type": "code",
   "execution_count": 38,
   "metadata": {},
   "outputs": [
    {
     "name": "stdout",
     "output_type": "stream",
     "text": [
      "XdQuantityType : Tax-exempt interest., ID: cjog2vqhr001skubiq8vf66hv Published: True\n"
     ]
    }
   ],
   "source": [
    "interest = XdQuantityType(\"Tax-exempt interest.\")\n",
    "interest.docs = \"Tax-exempt interest. Do not include on line 8a.\"\n",
    "interest.definition_url = 'https://www.irs.gov/pub/irs-pdf/i1040a.pdf/page25#line8b'\n",
    "interest.min_inclusive = 0  # can't have a negative amount\n",
    "interest.fraction_digits = 2 # currency is recorded with only two decimal places\n",
    "interest.units = currency\n",
    "#interest.pred_obj_list = ('','')\n",
    "interest.published = True\n",
    "a = XdAdapterType()\n",
    "a.value = interest\n",
    "income.items = a\n",
    "print(interest)"
   ]
  },
  {
   "cell_type": "code",
   "execution_count": 39,
   "metadata": {},
   "outputs": [
    {
     "name": "stdout",
     "output_type": "stream",
     "text": [
      "XdQuantityType : Tax-exempt interest., ID: cjog2vqi2001ukubi0oekt7oh Published: True\n"
     ]
    }
   ],
   "source": [
    "te_interest = XdQuantityType(\"Tax-exempt interest.\")\n",
    "te_interest.docs = \"Tax-exempt interest. Do not include on line 8a.\"\n",
    "te_interest.definition_url = 'https://www.irs.gov/pub/irs-pdf/i1040a.pdf/page25#line8a'\n",
    "te_interest.min_inclusive = 0  # can't have a negative amount\n",
    "te_interest.fraction_digits = 2 # currency is recorded with only two decimal places\n",
    "te_interest.units = currency\n",
    "#te_interest.pred_obj_list = ('','')\n",
    "te_interest.published = True\n",
    "a = XdAdapterType()\n",
    "a.value = te_interest\n",
    "income.items = a\n",
    "print(te_interest)"
   ]
  },
  {
   "cell_type": "code",
   "execution_count": 40,
   "metadata": {},
   "outputs": [],
   "source": [
    "# build the components and a cluster for adjusted income"
   ]
  },
  {
   "cell_type": "code",
   "execution_count": 41,
   "metadata": {},
   "outputs": [],
   "source": [
    "# build the components and a cluster for Tax, credits, and payments"
   ]
  },
  {
   "cell_type": "code",
   "execution_count": 42,
   "metadata": {},
   "outputs": [],
   "source": [
    "# build the components and a cluster for refund and Amount you owe"
   ]
  },
  {
   "cell_type": "code",
   "execution_count": 43,
   "metadata": {},
   "outputs": [],
   "source": [
    "# build the components and a cluster for third party"
   ]
  },
  {
   "cell_type": "code",
   "execution_count": 44,
   "metadata": {},
   "outputs": [],
   "source": [
    "# build the components and a cluster for signature"
   ]
  },
  {
   "cell_type": "code",
   "execution_count": 45,
   "metadata": {},
   "outputs": [],
   "source": [
    "# build the components and a cluster for Paid preparer"
   ]
  },
  {
   "cell_type": "code",
   "execution_count": 47,
   "metadata": {},
   "outputs": [
    {
     "name": "stdout",
     "output_type": "stream",
     "text": [
      "DMType : 1040A for 2017, ID: cjog2wg45001xkubimofab7dn\n"
     ]
    }
   ],
   "source": [
    "US1040a = DMType(\"1040A for 2017\") # the outer wrapper\n",
    "print(US1040a)"
   ]
  }
 ],
 "metadata": {
  "kernelspec": {
   "display_name": "Python 3",
   "language": "python",
   "name": "python3"
  },
  "language_info": {
   "codemirror_mode": {
    "name": "ipython",
    "version": 3
   },
   "file_extension": ".py",
   "mimetype": "text/x-python",
   "name": "python",
   "nbconvert_exporter": "python",
   "pygments_lexer": "ipython3",
   "version": "3.7.1"
  }
 },
 "nbformat": 4,
 "nbformat_minor": 2
}

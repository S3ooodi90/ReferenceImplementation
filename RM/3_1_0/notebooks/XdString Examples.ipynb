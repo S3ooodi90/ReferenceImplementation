{
 "cells": [
  {
   "cell_type": "markdown",
   "metadata": {
    "slideshow": {
     "slide_type": "slide"
    }
   },
   "source": [
    "# Examples using the XdStringType"
   ]
  },
  {
   "cell_type": "markdown",
   "metadata": {
    "slideshow": {
     "slide_type": "slide"
    }
   },
   "source": [
    "**Set the path to the folder containing the library files and import the extended datatype.**"
   ]
  },
  {
   "cell_type": "code",
   "execution_count": 1,
   "metadata": {
    "slideshow": {
     "slide_type": "fragment"
    }
   },
   "outputs": [],
   "source": [
    "import sys \n",
    "sys.path.append(\"../pylib/\")\n",
    "from xdt import XdStringType"
   ]
  },
  {
   "cell_type": "markdown",
   "metadata": {
    "slideshow": {
     "slide_type": "slide"
    }
   },
   "source": [
    "Review the documentation of XdStringType. Note the class signature requires a *label* (string name)."
   ]
  },
  {
   "cell_type": "code",
   "execution_count": 2,
   "metadata": {
    "slideshow": {
     "slide_type": "slide"
    }
   },
   "outputs": [
    {
     "name": "stdout",
     "output_type": "stream",
     "text": [
      "Help on class XdStringType in module xdt:\n",
      "\n",
      "class XdStringType(XdAnyType)\n",
      " |  XdStringType(label)\n",
      " |  \n",
      " |  The string data type can contain characters, line feeds, carriage returns, and tab characters. \n",
      " |  The use cases are for any free form text entry or for any enumerated lists. \n",
      " |  Additionally the minimum and maximum lengths may be set and regular expression patterns may be specified.\n",
      " |  \n",
      " |  Method resolution order:\n",
      " |      XdStringType\n",
      " |      XdAnyType\n",
      " |      abc.ABC\n",
      " |      builtins.object\n",
      " |  \n",
      " |  Methods defined here:\n",
      " |  \n",
      " |  __init__(self, label)\n",
      " |      The semantic label (name of the model) is required.\n",
      " |  \n",
      " |  asJSON(self)\n",
      " |      Return an example JSON fragment for this model.\n",
      " |  \n",
      " |  asXML(self)\n",
      " |      Return an example XML fragment for this model.\n",
      " |      \n",
      " |      The core elements are included even though they may not be \n",
      " |      required via cardinality. Therefore this example may be considerably \n",
      " |      larger than an actual implementation.\n",
      " |  \n",
      " |  asXSD(self)\n",
      " |      Return a XML Schema complexType definition.\n",
      " |  \n",
      " |  ----------------------------------------------------------------------\n",
      " |  Data descriptors defined here:\n",
      " |  \n",
      " |  default\n",
      " |      The default value for the string value of the item.\n",
      " |  \n",
      " |  enums\n",
      " |      A list of two member tuples (enumeration, URI semantics for the enumeration). \n",
      " |      \n",
      " |      The enumerations are string values used to constrain the value of the item.\n",
      " |      The URI semantics for the enumeration provides a definition (preferable a URL) for the enumeration.\n",
      " |      Example: ('Blue','http://www.color-wheel-pro.com/color-meaning.html#Blue')\n",
      " |  \n",
      " |  length\n",
      " |      The length constraints on the xdstring_value.\n",
      " |      The value can be an integer which will set the exact length constraint or it can be a tuple of the min/max length pair.\n",
      " |      The values inside the tuple can be integers or the None value wich will cause the min or max value to not be set.\n",
      " |  \n",
      " |  regex\n",
      " |      A regular expression to constrain the string value. The regualr expression must meet the constraints for XML Schema.\n",
      " |      See: https://www.regular-expressions.info/xml.html\n",
      " |  \n",
      " |  xdstring_language\n",
      " |      Optional indicator of the localised language in which this data-type is written. \n",
      " |      Only required when the language used here is different from the enclosing Data Model.\n",
      " |  \n",
      " |  xdstring_value\n",
      " |      The string value of the item.\n",
      " |  \n",
      " |  ----------------------------------------------------------------------\n",
      " |  Data and other attributes defined here:\n",
      " |  \n",
      " |  __abstractmethods__ = frozenset()\n",
      " |  \n",
      " |  ----------------------------------------------------------------------\n",
      " |  Methods inherited from XdAnyType:\n",
      " |  \n",
      " |  __str__(self)\n",
      " |      Return str(self).\n",
      " |  \n",
      " |  ----------------------------------------------------------------------\n",
      " |  Data descriptors inherited from XdAnyType:\n",
      " |  \n",
      " |  __dict__\n",
      " |      dictionary for instance variables (if defined)\n",
      " |  \n",
      " |  __weakref__\n",
      " |      list of weak references to the object (if defined)\n",
      " |  \n",
      " |  act\n",
      " |      Access Control Tag. If this is used it must contain a valid term from \n",
      " |      the Access Control System linked to by the containing Data Model \n",
      " |      'acs' attribute.\n",
      " |  \n",
      " |  acuid\n",
      " |      The unique identifier of the wrapping XdAdapter of the component.\n",
      " |  \n",
      " |  cardinality\n",
      " |      The cardinality status values. \n",
      " |      \n",
      " |      The setter method can be called by each subclass to add cardinality \n",
      " |      values for each element or change the defaults. \n",
      " |      Some elements cardinality may not be changed. \n",
      " |      Ex: XdBoolean elements are not modifiable.\n",
      " |      \n",
      " |      The cardinality dictionary uses a string representation of each \n",
      " |      property name and a tuple as the value.\n",
      " |      \n",
      " |      The value passed into the setter is a tuple with v[0] as a string and \n",
      " |      v[1] as a tuple containing an integer set representing the \n",
      " |      (minimum, maximum) values. \n",
      " |      \n",
      " |      Examples\n",
      " |      --------\n",
      " |      \n",
      " |      ('vtb', (1,1)) will set the vtb value to be required.\n",
      " |      \n",
      " |              \n",
      " |      NOTES\n",
      " |      -----\n",
      " |      \n",
      " |      The cardinality for latitude and longitude are combined into one \n",
      " |      setting called 'location'.\n",
      " |      \n",
      " |      The Python value of 'None' represents the 'unbounded' XML Schema value.\n",
      " |      The 'unbounded' value is allowed on only a few attributes.\n",
      " |  \n",
      " |  definition_url\n",
      " |      The primary definition URL for the model.\n",
      " |      Cannot be an IP address.\n",
      " |  \n",
      " |  docs\n",
      " |      The human readable documentation string describing the purpose of \n",
      " |      the model.\n",
      " |  \n",
      " |  ev\n",
      " |      In an invalid instance, the application can indicate here why data is \n",
      " |      missing or invalid. \n",
      " |      The sub-types are based on ISO 21090 NULL Flavors entries, with \n",
      " |      additions noted from real-world usage.\n",
      " |  \n",
      " |  label\n",
      " |      The semantic name of the component.\n",
      " |  \n",
      " |  latitude\n",
      " |      Latitude in decimal format. Value range -90.000000 to 90.000000.\n",
      " |  \n",
      " |  longitude\n",
      " |      Longitude in decimal format. Value range -180.000000 to 180.000000.\n",
      " |  \n",
      " |  mcuid\n",
      " |      The unique identifier of the component.\n",
      " |  \n",
      " |  modified\n",
      " |      Time Modified. If present this must be a valid date-time stamp. \n",
      " |      It is used to indicate the date and time the data was last changed.\n",
      " |  \n",
      " |  pred_obj_list\n",
      " |      A list of additional predicate object pairs to describe the component.\n",
      " |      \n",
      " |      Each list item is a tuple where 0 is the predicate and 1 is the object.\n",
      " |      \n",
      " |      Example: \n",
      " |      ('rdf:resource','https://www.niddk.nih.gov/health-information/health-statistics')\n",
      " |      The setter accepts the tuple and appends it to the list.\n",
      " |      If an empty list is supplied it resets the value to the empty list.\n",
      " |  \n",
      " |  tr\n",
      " |      Time Recorded. If present this must be a valid date-time. \n",
      " |      It is used to indicate the initial date and time the data was recorded.\n",
      " |  \n",
      " |  vtb\n",
      " |      Valid Time Begin. If present this must be a valid datetime including timezone. \n",
      " |      It is used to indicate the beginning time that information is considered valid.\n",
      " |  \n",
      " |  vte\n",
      " |      Valid Time End. If present this must be a valid date-time including timezone. \n",
      " |      It is used to indicate the ending time that information is considered valid \n",
      " |      or the time the information expired or will expire.\n",
      "\n"
     ]
    }
   ],
   "source": [
    "help(XdStringType)"
   ]
  },
  {
   "cell_type": "markdown",
   "metadata": {
    "slideshow": {
     "slide_type": "slide"
    }
   },
   "source": [
    "Create a XdString instance. In this case we are going to set a string value for the color of an item chosen by a customer."
   ]
  },
  {
   "cell_type": "code",
   "execution_count": 3,
   "metadata": {
    "slideshow": {
     "slide_type": "fragment"
    }
   },
   "outputs": [],
   "source": [
    "d = XdStringType('Selected Color')"
   ]
  },
  {
   "cell_type": "markdown",
   "metadata": {
    "slideshow": {
     "slide_type": "slide"
    }
   },
   "source": [
    "Check the ouput signature when printing an instance. It prints the class type, label and unique ID. This is common across all extended datatypes."
   ]
  },
  {
   "cell_type": "code",
   "execution_count": 4,
   "metadata": {
    "scrolled": false,
    "slideshow": {
     "slide_type": "fragment"
    }
   },
   "outputs": [
    {
     "name": "stdout",
     "output_type": "stream",
     "text": [
      "XdStringType : Selected Color, ID: cjmvzkq5z0000ck8px5rirl2c\n"
     ]
    }
   ],
   "source": [
    "print(d)"
   ]
  },
  {
   "cell_type": "markdown",
   "metadata": {
    "slideshow": {
     "slide_type": "slide"
    }
   },
   "source": [
    "Add documentation about the model. You may insert a linebreak using '\\n' any place in the string.\n",
    "This documentation is for human consumption. You should be as verbose as required to inform future users of your model about its intent."
   ]
  },
  {
   "cell_type": "code",
   "execution_count": 5,
   "metadata": {
    "slideshow": {
     "slide_type": "fragment"
    }
   },
   "outputs": [],
   "source": [
    "d.docs = \"This is the color chosen by the customer.\""
   ]
  },
  {
   "cell_type": "code",
   "execution_count": 6,
   "metadata": {
    "scrolled": true,
    "slideshow": {
     "slide_type": "fragment"
    }
   },
   "outputs": [
    {
     "name": "stdout",
     "output_type": "stream",
     "text": [
      "This is the color chosen by the customer.\n"
     ]
    }
   ],
   "source": [
    "print(d.docs)"
   ]
  },
  {
   "cell_type": "markdown",
   "metadata": {
    "slideshow": {
     "slide_type": "slide"
    }
   },
   "source": [
    "# Semantics (part 1)\n",
    "It is important to understand the relationship between the model and what the model is about. \n",
    "\n",
    "tl;dr The unique ID *mcuid* is a synonym for the *label* which is the *Subject* of the *SPO triple*."
   ]
  },
  {
   "cell_type": "markdown",
   "metadata": {
    "slideshow": {
     "slide_type": "slide"
    }
   },
   "source": [
    "Add a defining URL for the model. This will be translated into machine processable instructions in RDF as well as appended to the human-readable docs. This URL should define or describe the value expressed in the *label*.\n",
    "\n",
    "If you do not want it to appear in your docs, then set the definition_url before setting your docs string.\n"
   ]
  },
  {
   "cell_type": "code",
   "execution_count": 7,
   "metadata": {
    "slideshow": {
     "slide_type": "slide"
    }
   },
   "outputs": [],
   "source": [
    "d.definition_url = 'https://s3model.com/items/colors'"
   ]
  },
  {
   "cell_type": "code",
   "execution_count": 8,
   "metadata": {
    "scrolled": true,
    "slideshow": {
     "slide_type": "fragment"
    }
   },
   "outputs": [
    {
     "name": "stdout",
     "output_type": "stream",
     "text": [
      "This is the color chosen by the customer.\n",
      "\n",
      "Definition: https%3A//s3model.com/items/colors\n"
     ]
    }
   ],
   "source": [
    "print(d.docs)"
   ]
  },
  {
   "cell_type": "markdown",
   "metadata": {
    "slideshow": {
     "slide_type": "slide"
    }
   },
   "source": [
    "# Semantics (part 2)\n",
    "In addition to the defining_url we can add more RDF semantics to the model for machine processing. \n",
    "\n",
    "We do this by passing in tuples with a predicate/object pair. \n",
    "These are part of the RDF subject, predicate, object triple concept. This is the foundation of semantic graph data. If you aren't familiar with these concepts then see: http://www.linkeddatatools.com/introducing-rdf "
   ]
  },
  {
   "cell_type": "markdown",
   "metadata": {
    "slideshow": {
     "slide_type": "slide"
    }
   },
   "source": [
    "If you aren't using your own vocabulary for semantic markup. Or even if you are for part of your semantics. It is a good practice to reuse publically available and commonly used vocabularies as they apply to your model. A great place to start finding vocabularies is at https://lov.linkeddata.es/dataset/lov "
   ]
  },
  {
   "cell_type": "markdown",
   "metadata": {
    "slideshow": {
     "slide_type": "slide"
    }
   },
   "source": [
    "In S3Model, the model component which is defined by the unique ID *mcuid*, is the Subject. \n",
    "So here we are adding a predicate and an object to give enhanced meaning to our model. \n",
    "The unique ID *mcuid* is a synonym for the *label*.\n",
    "\n",
    "When you review the XSD fragment model below, you can see that some default RDF is already added. The statements that connect this model to the S3Model ontology as well as the label and comment statements. Then your additional predicate/object pairs are added."
   ]
  },
  {
   "cell_type": "code",
   "execution_count": 9,
   "metadata": {
    "slideshow": {
     "slide_type": "fragment"
    }
   },
   "outputs": [],
   "source": [
    "d.pred_obj_list = ('rdfs:isDefinedBy','http://www.joehallock.com/edu/COM498/associations.html')"
   ]
  },
  {
   "cell_type": "markdown",
   "metadata": {
    "slideshow": {
     "slide_type": "slide"
    }
   },
   "source": [
    "Review the XSD model. \n",
    "Note how the RDF is embeded along with the validation instructions. This provides a single file (when combined with all the other parts of a DMType) that is sharable as the author chooses. It completely informs the receiver of the meaning of each component. Both in human-readable as well as machine processable forms."
   ]
  },
  {
   "cell_type": "code",
   "execution_count": 10,
   "metadata": {
    "scrolled": true,
    "slideshow": {
     "slide_type": "slide"
    }
   },
   "outputs": [
    {
     "name": "stdout",
     "output_type": "stream",
     "text": [
      "  \n",
      "<xs:element name=\"ms-cjmvzkq5z0001ck8p0oe0g0dq\" substitutionGroup=\"s3m:Items\" type=\"s3m:mc-cjmvzkq5z0001ck8p0oe0g0dq\"/>\n",
      "  <xs:complexType name=\"mc-cjmvzkq5z0001ck8p0oe0g0dq\">\n",
      "    <xs:complexContent>\n",
      "      <xs:restriction base=\"s3m:XdAdapterType\">\n",
      "        <xs:sequence>\n",
      "          <xs:element maxOccurs=\"unbounded\" minOccurs=\"0\" ref=\"s3m:ms-cjmvzkq5z0000ck8px5rirl2c\"/>\n",
      "        </xs:sequence>\n",
      "      </xs:restriction>\n",
      "    </xs:complexContent>\n",
      "  </xs:complexType>\n",
      "  <xs:element name=\"ms-cjmvzkq5z0000ck8px5rirl2c\" substitutionGroup=\"s3m:XdAdapter-value\" type=\"s3m:mc-cjmvzkq5z0000ck8px5rirl2c\"/>\n",
      "  <xs:complexType name=\"mc-cjmvzkq5z0000ck8px5rirl2c\">\n",
      "    <xs:annotation>\n",
      "      <xs:documentation>\n",
      "        This is the color chosen by the customer.\n",
      "\n",
      "Definition: https%3A//s3model.com/items/colors\n",
      "      </xs:documentation>\n",
      "      <xs:appinfo>\n",
      "        <rdfs:Class rdf:about=\"mc-cjmvzkq5z0000ck8px5rirl2c\">\n",
      "          <rdfs:subClassOf rdf:resource=\"https://www.s3model.com/ns/s3m/s3model_3_1_0.xsd#XdStringType\"/>\n",
      "          <rdfs:subClassOf rdf:resource=\"https://www.s3model.com/ns/s3m/s3model/RMC\"/>\n",
      "          <rdfs:isDefinedBy rdf:resource=\"https%3A//s3model.com/items/colors\"/>\n",
      "          <rdfs:isDefinedBy rdf:resource=\"http%3A//www.joehallock.com/edu/COM498/associations.html\"/>\n",
      "        </rdfs:Class>\n",
      "      </xs:appinfo>\n",
      "    </xs:annotation>\n",
      "    <xs:complexContent>\n",
      "      <xs:restriction base=\"s3m:XdStringType\">\n",
      "        <xs:sequence>\n",
      "          <xs:element maxOccurs=\"1\" minOccurs=\"1\" name=\"label\" type=\"xs:string\" fixed=\"Selected Color\"/>\n",
      "          <xs:element maxOccurs=\"1\" minOccurs=\"0\" name=\"act\" type=\"xs:string\" default=\"\"/>\n",
      "          <xs:element maxOccurs=\"1\" minOccurs=\"0\" ref=\"s3m:ExceptionalValue\"/>\n",
      "          <xs:element maxOccurs=\"1\" minOccurs=\"0\" name=\"vtb\" type=\"xs:dateTime\"/>\n",
      "          <xs:element maxOccurs=\"1\" minOccurs=\"0\" name=\"vte\" type=\"xs:dateTime\"/>\n",
      "          <xs:element maxOccurs=\"1\" minOccurs=\"0\" name=\"tr\" type=\"xs:dateTime\"/>\n",
      "          <xs:element maxOccurs=\"1\" minOccurs=\"0\" name=\"modified\" type=\"xs:dateTime\"/>\n",
      "          <xs:element maxOccurs=\"1\" minOccurs=\"0\" name=\"latitude\" type=\"xs:decimal\"/>\n",
      "          <xs:element maxOccurs=\"1\" minOccurs=\"0\" name=\"longitude\" type=\"xs:decimal\"/>\n",
      "          <xs:element maxOccurs='1' minOccurs='1' name='xdstring-value' type='xs:string'/>\n",
      "          <xs:element maxOccurs='1' minOccurs='0' name='xdstring-language' type='xs:language' default=''/>\n",
      "        </xs:sequence>\n",
      "      </xs:restriction>\n",
      "    </xs:complexContent>\n",
      "  </xs:complexType>\n",
      "\n"
     ]
    }
   ],
   "source": [
    "print(d.asXSD())"
   ]
  },
  {
   "cell_type": "markdown",
   "metadata": {
    "slideshow": {
     "slide_type": "slide"
    }
   },
   "source": [
    "View an example XML fragment."
   ]
  },
  {
   "cell_type": "code",
   "execution_count": 11,
   "metadata": {
    "scrolled": true,
    "slideshow": {
     "slide_type": "fragment"
    }
   },
   "outputs": [
    {
     "name": "stdout",
     "output_type": "stream",
     "text": [
      "  <ms-cjmvzkq5z0000ck8px5rirl2c>\n",
      "    <label>Selected Color</label>\n",
      "    <xdstring-value>Default String</xdstring-value>\n",
      "  </ms-cjmvzkq5z0000ck8px5rirl2c>\n",
      "\n"
     ]
    }
   ],
   "source": [
    "print(d.asXML())"
   ]
  },
  {
   "cell_type": "markdown",
   "metadata": {
    "slideshow": {
     "slide_type": "slide"
    }
   },
   "source": [
    "View an example JSON fragment."
   ]
  },
  {
   "cell_type": "code",
   "execution_count": 12,
   "metadata": {
    "slideshow": {
     "slide_type": "fragment"
    }
   },
   "outputs": [
    {
     "name": "stdout",
     "output_type": "stream",
     "text": [
      "{\n",
      "  \"ms-cjmvzkq5z0000ck8px5rirl2c\": {\n",
      "    \"label\": \"Selected Color\",\n",
      "    \"xdstring-value\": \"Default String\"\n",
      "  }\n",
      "}\n"
     ]
    }
   ],
   "source": [
    "print(d.asJSON())"
   ]
  },
  {
   "cell_type": "markdown",
   "metadata": {
    "slideshow": {
     "slide_type": "slide"
    }
   },
   "source": [
    "# Constraints (part 1)\n",
    "We didn't constrain the user to select a valid color. So we got 'Default String' instead. \n",
    "Now we will constrain the input to be *Red, Yellow, Blue, or Green*. \n",
    "\n",
    "We do this by creating a list of enumerations for the model. The *enums* attribute holds this list of two member tuples where the first string is the actual enumeration value and the second member is a resource for the predicate rdfs:isDefinedBy."
   ]
  },
  {
   "cell_type": "markdown",
   "metadata": {
    "slideshow": {
     "slide_type": "slide"
    }
   },
   "source": [
    "Create an empty list and then append each tuple."
   ]
  },
  {
   "cell_type": "code",
   "execution_count": 13,
   "metadata": {
    "slideshow": {
     "slide_type": "fragment"
    }
   },
   "outputs": [
    {
     "name": "stdout",
     "output_type": "stream",
     "text": [
      "('Red', 'https://www.canva.com/learn/color-meanings-symbolism/#Red')\n",
      "('Yellow', 'https://www.canva.com/learn/color-meanings-symbolism/#Yellow')\n",
      "('Blue', 'https://www.canva.com/learn/color-meanings-symbolism/#Blue')\n",
      "('Green', 'https://www.canva.com/learn/color-meanings-symbolism/#Green')\n"
     ]
    }
   ],
   "source": [
    "enums = []\n",
    "enums.append(('Red', 'https://www.canva.com/learn/color-meanings-symbolism/#Red'))\n",
    "enums.append(('Yellow', 'https://www.canva.com/learn/color-meanings-symbolism/#Yellow'))\n",
    "enums.append(('Blue', 'https://www.canva.com/learn/color-meanings-symbolism/#Blue'))\n",
    "enums.append(('Green', 'https://www.canva.com/learn/color-meanings-symbolism/#Green'))\n",
    "d.enums = enums"
   ]
  },
  {
   "cell_type": "code",
   "execution_count": 14,
   "metadata": {
    "scrolled": true,
    "slideshow": {
     "slide_type": "slide"
    }
   },
   "outputs": [
    {
     "name": "stdout",
     "output_type": "stream",
     "text": [
      "  \n",
      "<xs:element name=\"ms-cjmvzkq5z0001ck8p0oe0g0dq\" substitutionGroup=\"s3m:Items\" type=\"s3m:mc-cjmvzkq5z0001ck8p0oe0g0dq\"/>\n",
      "  <xs:complexType name=\"mc-cjmvzkq5z0001ck8p0oe0g0dq\">\n",
      "    <xs:complexContent>\n",
      "      <xs:restriction base=\"s3m:XdAdapterType\">\n",
      "        <xs:sequence>\n",
      "          <xs:element maxOccurs=\"unbounded\" minOccurs=\"0\" ref=\"s3m:ms-cjmvzkq5z0000ck8px5rirl2c\"/>\n",
      "        </xs:sequence>\n",
      "      </xs:restriction>\n",
      "    </xs:complexContent>\n",
      "  </xs:complexType>\n",
      "  <xs:element name=\"ms-cjmvzkq5z0000ck8px5rirl2c\" substitutionGroup=\"s3m:XdAdapter-value\" type=\"s3m:mc-cjmvzkq5z0000ck8px5rirl2c\"/>\n",
      "  <xs:complexType name=\"mc-cjmvzkq5z0000ck8px5rirl2c\">\n",
      "    <xs:annotation>\n",
      "      <xs:documentation>\n",
      "        This is the color chosen by the customer.\n",
      "\n",
      "Definition: https%3A//s3model.com/items/colors\n",
      "      </xs:documentation>\n",
      "      <xs:appinfo>\n",
      "        <rdfs:Class rdf:about=\"mc-cjmvzkq5z0000ck8px5rirl2c\">\n",
      "          <rdfs:subClassOf rdf:resource=\"https://www.s3model.com/ns/s3m/s3model_3_1_0.xsd#XdStringType\"/>\n",
      "          <rdfs:subClassOf rdf:resource=\"https://www.s3model.com/ns/s3m/s3model/RMC\"/>\n",
      "          <rdfs:isDefinedBy rdf:resource=\"https%3A//s3model.com/items/colors\"/>\n",
      "          <rdfs:isDefinedBy rdf:resource=\"http%3A//www.joehallock.com/edu/COM498/associations.html\"/>\n",
      "        </rdfs:Class>\n",
      "      </xs:appinfo>\n",
      "    </xs:annotation>\n",
      "    <xs:complexContent>\n",
      "      <xs:restriction base=\"s3m:XdStringType\">\n",
      "        <xs:sequence>\n",
      "          <xs:element maxOccurs=\"1\" minOccurs=\"1\" name=\"label\" type=\"xs:string\" fixed=\"Selected Color\"/>\n",
      "          <xs:element maxOccurs=\"1\" minOccurs=\"0\" name=\"act\" type=\"xs:string\" default=\"\"/>\n",
      "          <xs:element maxOccurs=\"1\" minOccurs=\"0\" ref=\"s3m:ExceptionalValue\"/>\n",
      "          <xs:element maxOccurs=\"1\" minOccurs=\"0\" name=\"vtb\" type=\"xs:dateTime\"/>\n",
      "          <xs:element maxOccurs=\"1\" minOccurs=\"0\" name=\"vte\" type=\"xs:dateTime\"/>\n",
      "          <xs:element maxOccurs=\"1\" minOccurs=\"0\" name=\"tr\" type=\"xs:dateTime\"/>\n",
      "          <xs:element maxOccurs=\"1\" minOccurs=\"0\" name=\"modified\" type=\"xs:dateTime\"/>\n",
      "          <xs:element maxOccurs=\"1\" minOccurs=\"0\" name=\"latitude\" type=\"xs:decimal\"/>\n",
      "          <xs:element maxOccurs=\"1\" minOccurs=\"0\" name=\"longitude\" type=\"xs:decimal\"/>\n",
      "          <xs:element maxOccurs='1' minOccurs='1' name='xdstring-value' type='xs:string'/>\n",
      "          <xs:element maxOccurs='1' minOccurs='1' name='xdstring-value'>\n",
      "              <xs:simpleType>\n",
      "                <xs:restriction base='xs:string'>\n",
      "                  <xs:enumeration value='Red'>\n",
      "                  <xs:annotation>\n",
      "                    <xs:appinfo>\n",
      "                      <rdfs:Class rdf:about='mc-cjmvzkq5z0000ck8px5rirl2c/xdstring-value/Red'>\n",
      "                        <rdfs:subPropertyOf rdf:resource='mc-cjmvzkq5z0000ck8px5rirl2c'/>\n",
      "                        <rdfs:label>Red</rdfs:label>\n",
      "                        <rdfs:isDefinedBy>https://www.canva.com/learn/color-meanings-symbolism/#Red</rdfs:isDefinedBy>\n",
      "                      </rdfs:Class>\n",
      "                    </xs:appinfo>\n",
      "                  </xs:annotation>\n",
      "                  </xs:enumeration>\n",
      "                  <xs:enumeration value='Yellow'>\n",
      "                  <xs:annotation>\n",
      "                    <xs:appinfo>\n",
      "                      <rdfs:Class rdf:about='mc-cjmvzkq5z0000ck8px5rirl2c/xdstring-value/Yellow'>\n",
      "                        <rdfs:subPropertyOf rdf:resource='mc-cjmvzkq5z0000ck8px5rirl2c'/>\n",
      "                        <rdfs:label>Yellow</rdfs:label>\n",
      "                        <rdfs:isDefinedBy>https://www.canva.com/learn/color-meanings-symbolism/#Yellow</rdfs:isDefinedBy>\n",
      "                      </rdfs:Class>\n",
      "                    </xs:appinfo>\n",
      "                  </xs:annotation>\n",
      "                  </xs:enumeration>\n",
      "                  <xs:enumeration value='Blue'>\n",
      "                  <xs:annotation>\n",
      "                    <xs:appinfo>\n",
      "                      <rdfs:Class rdf:about='mc-cjmvzkq5z0000ck8px5rirl2c/xdstring-value/Blue'>\n",
      "                        <rdfs:subPropertyOf rdf:resource='mc-cjmvzkq5z0000ck8px5rirl2c'/>\n",
      "                        <rdfs:label>Blue</rdfs:label>\n",
      "                        <rdfs:isDefinedBy>https://www.canva.com/learn/color-meanings-symbolism/#Blue</rdfs:isDefinedBy>\n",
      "                      </rdfs:Class>\n",
      "                    </xs:appinfo>\n",
      "                  </xs:annotation>\n",
      "                  </xs:enumeration>\n",
      "                  <xs:enumeration value='Green'>\n",
      "                  <xs:annotation>\n",
      "                    <xs:appinfo>\n",
      "                      <rdfs:Class rdf:about='mc-cjmvzkq5z0000ck8px5rirl2c/xdstring-value/Green'>\n",
      "                        <rdfs:subPropertyOf rdf:resource='mc-cjmvzkq5z0000ck8px5rirl2c'/>\n",
      "                        <rdfs:label>Green</rdfs:label>\n",
      "                        <rdfs:isDefinedBy>https://www.canva.com/learn/color-meanings-symbolism/#Green</rdfs:isDefinedBy>\n",
      "                      </rdfs:Class>\n",
      "                    </xs:appinfo>\n",
      "                  </xs:annotation>\n",
      "                  </xs:enumeration>\n",
      "                </xs:restriction>\n",
      "              </xs:simpleType>\n",
      "            </xs:element>\n",
      "          <xs:element maxOccurs='1' minOccurs='0' name='xdstring-language' type='xs:language' default=''/>\n",
      "        </xs:sequence>\n",
      "      </xs:restriction>\n",
      "    </xs:complexContent>\n",
      "  </xs:complexType>\n",
      "\n"
     ]
    }
   ],
   "source": [
    "print(d.asXSD())"
   ]
  },
  {
   "cell_type": "code",
   "execution_count": 15,
   "metadata": {
    "slideshow": {
     "slide_type": "slide"
    }
   },
   "outputs": [
    {
     "name": "stdout",
     "output_type": "stream",
     "text": [
      "  <ms-cjmvzkq5z0000ck8px5rirl2c>\n",
      "    <label>Selected Color</label>\n",
      "    <xdstring-value>Red</xdstring-value>\n",
      "  </ms-cjmvzkq5z0000ck8px5rirl2c>\n",
      "\n"
     ]
    }
   ],
   "source": [
    "print(d.asXML())"
   ]
  },
  {
   "cell_type": "markdown",
   "metadata": {
    "slideshow": {
     "slide_type": "slide"
    }
   },
   "source": [
    "# Constraints (part 2)\n",
    "We can set a default value so that when no color is selected we choose for them."
   ]
  },
  {
   "cell_type": "code",
   "execution_count": 16,
   "metadata": {
    "slideshow": {
     "slide_type": "slide"
    }
   },
   "outputs": [
    {
     "name": "stdout",
     "output_type": "stream",
     "text": [
      "  \n",
      "<xs:element name=\"ms-cjmvzkq5z0001ck8p0oe0g0dq\" substitutionGroup=\"s3m:Items\" type=\"s3m:mc-cjmvzkq5z0001ck8p0oe0g0dq\"/>\n",
      "  <xs:complexType name=\"mc-cjmvzkq5z0001ck8p0oe0g0dq\">\n",
      "    <xs:complexContent>\n",
      "      <xs:restriction base=\"s3m:XdAdapterType\">\n",
      "        <xs:sequence>\n",
      "          <xs:element maxOccurs=\"unbounded\" minOccurs=\"0\" ref=\"s3m:ms-cjmvzkq5z0000ck8px5rirl2c\"/>\n",
      "        </xs:sequence>\n",
      "      </xs:restriction>\n",
      "    </xs:complexContent>\n",
      "  </xs:complexType>\n",
      "  <xs:element name=\"ms-cjmvzkq5z0000ck8px5rirl2c\" substitutionGroup=\"s3m:XdAdapter-value\" type=\"s3m:mc-cjmvzkq5z0000ck8px5rirl2c\"/>\n",
      "  <xs:complexType name=\"mc-cjmvzkq5z0000ck8px5rirl2c\">\n",
      "    <xs:annotation>\n",
      "      <xs:documentation>\n",
      "        This is the color chosen by the customer.\n",
      "\n",
      "Definition: https%3A//s3model.com/items/colors\n",
      "      </xs:documentation>\n",
      "      <xs:appinfo>\n",
      "        <rdfs:Class rdf:about=\"mc-cjmvzkq5z0000ck8px5rirl2c\">\n",
      "          <rdfs:subClassOf rdf:resource=\"https://www.s3model.com/ns/s3m/s3model_3_1_0.xsd#XdStringType\"/>\n",
      "          <rdfs:subClassOf rdf:resource=\"https://www.s3model.com/ns/s3m/s3model/RMC\"/>\n",
      "          <rdfs:isDefinedBy rdf:resource=\"https%3A//s3model.com/items/colors\"/>\n",
      "          <rdfs:isDefinedBy rdf:resource=\"http%3A//www.joehallock.com/edu/COM498/associations.html\"/>\n",
      "        </rdfs:Class>\n",
      "      </xs:appinfo>\n",
      "    </xs:annotation>\n",
      "    <xs:complexContent>\n",
      "      <xs:restriction base=\"s3m:XdStringType\">\n",
      "        <xs:sequence>\n",
      "          <xs:element maxOccurs=\"1\" minOccurs=\"1\" name=\"label\" type=\"xs:string\" fixed=\"Selected Color\"/>\n",
      "          <xs:element maxOccurs=\"1\" minOccurs=\"0\" name=\"act\" type=\"xs:string\" default=\"\"/>\n",
      "          <xs:element maxOccurs=\"1\" minOccurs=\"0\" ref=\"s3m:ExceptionalValue\"/>\n",
      "          <xs:element maxOccurs=\"1\" minOccurs=\"0\" name=\"vtb\" type=\"xs:dateTime\"/>\n",
      "          <xs:element maxOccurs=\"1\" minOccurs=\"0\" name=\"vte\" type=\"xs:dateTime\"/>\n",
      "          <xs:element maxOccurs=\"1\" minOccurs=\"0\" name=\"tr\" type=\"xs:dateTime\"/>\n",
      "          <xs:element maxOccurs=\"1\" minOccurs=\"0\" name=\"modified\" type=\"xs:dateTime\"/>\n",
      "          <xs:element maxOccurs=\"1\" minOccurs=\"0\" name=\"latitude\" type=\"xs:decimal\"/>\n",
      "          <xs:element maxOccurs=\"1\" minOccurs=\"0\" name=\"longitude\" type=\"xs:decimal\"/>\n",
      "          <xs:element maxOccurs='1' minOccurs='1' name='xdstring-value' type='xs:string' default='Blue'/>\n",
      "          <xs:element maxOccurs='1' minOccurs='1' name='xdstring-value'>\n",
      "              <xs:simpleType>\n",
      "                <xs:restriction base='xs:string'>\n",
      "                  <xs:enumeration value='Red'>\n",
      "                  <xs:annotation>\n",
      "                    <xs:appinfo>\n",
      "                      <rdfs:Class rdf:about='mc-cjmvzkq5z0000ck8px5rirl2c/xdstring-value/Red'>\n",
      "                        <rdfs:subPropertyOf rdf:resource='mc-cjmvzkq5z0000ck8px5rirl2c'/>\n",
      "                        <rdfs:label>Red</rdfs:label>\n",
      "                        <rdfs:isDefinedBy>https://www.canva.com/learn/color-meanings-symbolism/#Red</rdfs:isDefinedBy>\n",
      "                      </rdfs:Class>\n",
      "                    </xs:appinfo>\n",
      "                  </xs:annotation>\n",
      "                  </xs:enumeration>\n",
      "                  <xs:enumeration value='Yellow'>\n",
      "                  <xs:annotation>\n",
      "                    <xs:appinfo>\n",
      "                      <rdfs:Class rdf:about='mc-cjmvzkq5z0000ck8px5rirl2c/xdstring-value/Yellow'>\n",
      "                        <rdfs:subPropertyOf rdf:resource='mc-cjmvzkq5z0000ck8px5rirl2c'/>\n",
      "                        <rdfs:label>Yellow</rdfs:label>\n",
      "                        <rdfs:isDefinedBy>https://www.canva.com/learn/color-meanings-symbolism/#Yellow</rdfs:isDefinedBy>\n",
      "                      </rdfs:Class>\n",
      "                    </xs:appinfo>\n",
      "                  </xs:annotation>\n",
      "                  </xs:enumeration>\n",
      "                  <xs:enumeration value='Blue'>\n",
      "                  <xs:annotation>\n",
      "                    <xs:appinfo>\n",
      "                      <rdfs:Class rdf:about='mc-cjmvzkq5z0000ck8px5rirl2c/xdstring-value/Blue'>\n",
      "                        <rdfs:subPropertyOf rdf:resource='mc-cjmvzkq5z0000ck8px5rirl2c'/>\n",
      "                        <rdfs:label>Blue</rdfs:label>\n",
      "                        <rdfs:isDefinedBy>https://www.canva.com/learn/color-meanings-symbolism/#Blue</rdfs:isDefinedBy>\n",
      "                      </rdfs:Class>\n",
      "                    </xs:appinfo>\n",
      "                  </xs:annotation>\n",
      "                  </xs:enumeration>\n",
      "                  <xs:enumeration value='Green'>\n",
      "                  <xs:annotation>\n",
      "                    <xs:appinfo>\n",
      "                      <rdfs:Class rdf:about='mc-cjmvzkq5z0000ck8px5rirl2c/xdstring-value/Green'>\n",
      "                        <rdfs:subPropertyOf rdf:resource='mc-cjmvzkq5z0000ck8px5rirl2c'/>\n",
      "                        <rdfs:label>Green</rdfs:label>\n",
      "                        <rdfs:isDefinedBy>https://www.canva.com/learn/color-meanings-symbolism/#Green</rdfs:isDefinedBy>\n",
      "                      </rdfs:Class>\n",
      "                    </xs:appinfo>\n",
      "                  </xs:annotation>\n",
      "                  </xs:enumeration>\n",
      "                </xs:restriction>\n",
      "              </xs:simpleType>\n",
      "            </xs:element>\n",
      "          <xs:element maxOccurs='1' minOccurs='0' name='xdstring-language' type='xs:language' default=''/>\n",
      "        </xs:sequence>\n",
      "      </xs:restriction>\n",
      "    </xs:complexContent>\n",
      "  </xs:complexType>\n",
      "\n"
     ]
    }
   ],
   "source": [
    "d.default = 'Blue'\n",
    "print(d.asXSD())"
   ]
  },
  {
   "cell_type": "code",
   "execution_count": 17,
   "metadata": {
    "slideshow": {
     "slide_type": "slide"
    }
   },
   "outputs": [
    {
     "name": "stdout",
     "output_type": "stream",
     "text": [
      "  <ms-cjmvzkq5z0000ck8px5rirl2c>\n",
      "    <label>Selected Color</label>\n",
      "    <xdstring-value>Blue</xdstring-value>\n",
      "  </ms-cjmvzkq5z0000ck8px5rirl2c>\n",
      "\n"
     ]
    }
   ],
   "source": [
    "print(d.asXML())"
   ]
  },
  {
   "cell_type": "markdown",
   "metadata": {
    "slideshow": {
     "slide_type": "slide"
    }
   },
   "source": [
    "# Constraints (part 3)\n",
    "Other constraints can be applied such as a regular expression, or minimum, maximum or exact length restrictions. Some of these are mutually exclusive so it requires resetting others as we demonstrate them or create a new model with the defaults. Also, not all constraints make sense in certain contexts. For example the lengths or regex doesn't make sense with our color selection model we created above. "
   ]
  },
  {
   "cell_type": "markdown",
   "metadata": {
    "slideshow": {
     "slide_type": "slide"
    }
   },
   "source": [
    "We create a new model for US Social Security Numbers to demonstrate the regular expression constraint to a pattern. "
   ]
  },
  {
   "cell_type": "code",
   "execution_count": 18,
   "metadata": {
    "slideshow": {
     "slide_type": "fragment"
    }
   },
   "outputs": [
    {
     "name": "stdout",
     "output_type": "stream",
     "text": [
      "XdStringType : US Social Security Number, ID: cjmvzkrnh0002ck8pq6bxz60b\n"
     ]
    }
   ],
   "source": [
    "d = XdStringType('US Social Security Number')\n",
    "d.docs = 'In the United States, a Social Security number (SSN) is a nine-digit number issued to U.S. citizens, permanent residents, and temporary (working) residents under section 205(c)(2) of the Social Security Act, codified as 42 U.S.C. § 405(c)(2). The number is issued to an individual by the Social Security Administration, an independent agency of the United States government. Although its primary purpose is to track individuals for Social Security purposes, the Social Security number has become a de facto national identification number for taxation and other purposes.'\n",
    "d.definition_url = 'https://secure.ssa.gov/apps10/poms.nsf/lnx/0110201035'\n",
    "d.regex = '[0-9]{3}-[0-9]{2}-[0-9]{4}'\n",
    "print(d)"
   ]
  },
  {
   "cell_type": "code",
   "execution_count": 19,
   "metadata": {
    "scrolled": true,
    "slideshow": {
     "slide_type": "slide"
    }
   },
   "outputs": [
    {
     "name": "stdout",
     "output_type": "stream",
     "text": [
      "  \n",
      "<xs:element name=\"ms-cjmvzkrnh0003ck8pr444zbv7\" substitutionGroup=\"s3m:Items\" type=\"s3m:mc-cjmvzkrnh0003ck8pr444zbv7\"/>\n",
      "  <xs:complexType name=\"mc-cjmvzkrnh0003ck8pr444zbv7\">\n",
      "    <xs:complexContent>\n",
      "      <xs:restriction base=\"s3m:XdAdapterType\">\n",
      "        <xs:sequence>\n",
      "          <xs:element maxOccurs=\"unbounded\" minOccurs=\"0\" ref=\"s3m:ms-cjmvzkrnh0002ck8pq6bxz60b\"/>\n",
      "        </xs:sequence>\n",
      "      </xs:restriction>\n",
      "    </xs:complexContent>\n",
      "  </xs:complexType>\n",
      "  <xs:element name=\"ms-cjmvzkrnh0002ck8pq6bxz60b\" substitutionGroup=\"s3m:XdAdapter-value\" type=\"s3m:mc-cjmvzkrnh0002ck8pq6bxz60b\"/>\n",
      "  <xs:complexType name=\"mc-cjmvzkrnh0002ck8pq6bxz60b\">\n",
      "    <xs:annotation>\n",
      "      <xs:documentation>\n",
      "        In the United States, a Social Security number (SSN) is a nine-digit number issued to U.S. citizens, permanent residents, and temporary (working) residents under section 205(c)(2) of the Social Security Act, codified as 42 U.S.C. § 405(c)(2). The number is issued to an individual by the Social Security Administration, an independent agency of the United States government. Although its primary purpose is to track individuals for Social Security purposes, the Social Security number has become a de facto national identification number for taxation and other purposes.\n",
      "\n",
      "Definition: https%3A//secure.ssa.gov/apps10/poms.nsf/lnx/0110201035\n",
      "      </xs:documentation>\n",
      "      <xs:appinfo>\n",
      "        <rdfs:Class rdf:about=\"mc-cjmvzkrnh0002ck8pq6bxz60b\">\n",
      "          <rdfs:subClassOf rdf:resource=\"https://www.s3model.com/ns/s3m/s3model_3_1_0.xsd#XdStringType\"/>\n",
      "          <rdfs:subClassOf rdf:resource=\"https://www.s3model.com/ns/s3m/s3model/RMC\"/>\n",
      "          <rdfs:isDefinedBy rdf:resource=\"https%3A//secure.ssa.gov/apps10/poms.nsf/lnx/0110201035\"/>\n",
      "        </rdfs:Class>\n",
      "      </xs:appinfo>\n",
      "    </xs:annotation>\n",
      "    <xs:complexContent>\n",
      "      <xs:restriction base=\"s3m:XdStringType\">\n",
      "        <xs:sequence>\n",
      "          <xs:element maxOccurs=\"1\" minOccurs=\"1\" name=\"label\" type=\"xs:string\" fixed=\"US Social Security Number\"/>\n",
      "          <xs:element maxOccurs=\"1\" minOccurs=\"0\" name=\"act\" type=\"xs:string\" default=\"\"/>\n",
      "          <xs:element maxOccurs=\"1\" minOccurs=\"0\" ref=\"s3m:ExceptionalValue\"/>\n",
      "          <xs:element maxOccurs=\"1\" minOccurs=\"0\" name=\"vtb\" type=\"xs:dateTime\"/>\n",
      "          <xs:element maxOccurs=\"1\" minOccurs=\"0\" name=\"vte\" type=\"xs:dateTime\"/>\n",
      "          <xs:element maxOccurs=\"1\" minOccurs=\"0\" name=\"tr\" type=\"xs:dateTime\"/>\n",
      "          <xs:element maxOccurs=\"1\" minOccurs=\"0\" name=\"modified\" type=\"xs:dateTime\"/>\n",
      "          <xs:element maxOccurs=\"1\" minOccurs=\"0\" name=\"latitude\" type=\"xs:decimal\"/>\n",
      "          <xs:element maxOccurs=\"1\" minOccurs=\"0\" name=\"longitude\" type=\"xs:decimal\"/>\n",
      "          <xs:element maxOccurs='1' minOccurs='1' name='xdstring-value'>\n",
      "              <xs:simpleType>\n",
      "                <xs:restriction base='xs:string'>\n",
      "                  <xs:pattern value='[0-9]{3}-[0-9]{2}-[0-9]{4}'/>\n",
      "                </xs:restriction>\n",
      "              </xs:simpleType>\n",
      "            </xs:element>\n",
      "          <xs:element maxOccurs='1' minOccurs='1' name='xdstring-value' type='xs:string'/>\n",
      "          <xs:element maxOccurs='1' minOccurs='0' name='xdstring-language' type='xs:language' default=''/>\n",
      "        </xs:sequence>\n",
      "      </xs:restriction>\n",
      "    </xs:complexContent>\n",
      "  </xs:complexType>\n",
      "\n"
     ]
    }
   ],
   "source": [
    "print(d.asXSD())"
   ]
  },
  {
   "cell_type": "markdown",
   "metadata": {
    "slideshow": {
     "slide_type": "slide"
    }
   },
   "source": [
    "In the sample XML generator we a tool called exrex https://pypi.org/project/exrex/ to generate a sample. Notice that the xdstring-value element contains a validly formatted SSN."
   ]
  },
  {
   "cell_type": "code",
   "execution_count": 20,
   "metadata": {
    "scrolled": false,
    "slideshow": {
     "slide_type": "fragment"
    }
   },
   "outputs": [
    {
     "name": "stdout",
     "output_type": "stream",
     "text": [
      "  <ms-cjmvzkrnh0002ck8pq6bxz60b>\n",
      "    <label>US Social Security Number</label>\n",
      "    <xdstring-value>592-53-5086</xdstring-value>\n",
      "  </ms-cjmvzkrnh0002ck8pq6bxz60b>\n",
      "\n"
     ]
    }
   ],
   "source": [
    "print(d.asXML())"
   ]
  },
  {
   "cell_type": "markdown",
   "metadata": {
    "slideshow": {
     "slide_type": "slide"
    }
   },
   "source": [
    "# Constraints (part 4)\n",
    "As mentioned before, there are other constraints concerning lengths that make sense in some contexts. Can you think of these contexts and define a model for them? Be sure to add some documentation and get a defining_url.\n",
    "Also experiement with setting cardinality values."
   ]
  }
 ],
 "metadata": {
  "celltoolbar": "Slideshow",
  "kernelspec": {
   "display_name": "Python [conda env:S3Model]",
   "language": "python",
   "name": "conda-env-S3Model-py"
  },
  "language_info": {
   "codemirror_mode": {
    "name": "ipython",
    "version": 3
   },
   "file_extension": ".py",
   "mimetype": "text/x-python",
   "name": "python",
   "nbconvert_exporter": "python",
   "pygments_lexer": "ipython3",
   "version": "3.7.0"
  }
 },
 "nbformat": 4,
 "nbformat_minor": 2
}

{
 "cells": [
  {
   "cell_type": "markdown",
   "metadata": {},
   "source": [
    "Import the requirements."
   ]
  },
  {
   "cell_type": "code",
   "execution_count": 1,
   "metadata": {},
   "outputs": [],
   "source": [
    "import s3model_3_1_0 as s3m"
   ]
  },
  {
   "cell_type": "markdown",
   "metadata": {},
   "source": [
    "Create a XdString instance. We will set the label to the words 'Item Colors'. We then look at the signature of the instance and see that it returns the class type, the label and the unique identifier. "
   ]
  },
  {
   "cell_type": "code",
   "execution_count": 2,
   "metadata": {
    "scrolled": true
   },
   "outputs": [
    {
     "name": "stdout",
     "output_type": "stream",
     "text": [
      "XdStringType : Item Colors, ID: cjmscg8kn0000vs8p1rebsvxt\n"
     ]
    }
   ],
   "source": [
    "s = s3m.XdStringType('Item Colors')\n",
    "print(s)"
   ]
  },
  {
   "cell_type": "code",
   "execution_count": 3,
   "metadata": {},
   "outputs": [
    {
     "data": {
      "text/plain": [
       "{'act': (0, 1),\n",
       " 'ev': (0, None),\n",
       " 'vtb': (0, 1),\n",
       " 'vte': (0, 1),\n",
       " 'tr': (0, 1),\n",
       " 'modified': (0, 1),\n",
       " 'location': (0, 1),\n",
       " 'xdstring_value': (0, 1),\n",
       " 'xdstring_language': (0, 1)}"
      ]
     },
     "execution_count": 3,
     "metadata": {},
     "output_type": "execute_result"
    }
   ],
   "source": [
    "s.cardinality"
   ]
  },
  {
   "cell_type": "markdown",
   "metadata": {},
   "source": [
    "Examine the XSD model component."
   ]
  },
  {
   "cell_type": "code",
   "execution_count": 4,
   "metadata": {
    "scrolled": true
   },
   "outputs": [
    {
     "name": "stdout",
     "output_type": "stream",
     "text": [
      "  \n",
      "<xs:element name=\"ms-cjmscg8kn0001vs8pzmpde4f0\" substitutionGroup=\"s3m:Items\" type=\"s3m:mc-cjmscg8kn0001vs8pzmpde4f0\"/>\n",
      "  <xs:complexType name=\"mc-cjmscg8kn0001vs8pzmpde4f0\">\n",
      "    <xs:complexContent>\n",
      "      <xs:restriction base=\"s3m:XdAdapterType\">\n",
      "        <xs:sequence>\n",
      "          <xs:element maxOccurs=\"unbounded\" minOccurs=\"0\" ref=\"s3m:ms-cjmscg8kn0000vs8p1rebsvxt\"/>\n",
      "        </xs:sequence>\n",
      "      </xs:restriction>\n",
      "    </xs:complexContent>\n",
      "  </xs:complexType>\n",
      "  <xs:element name=\"ms-cjmscg8kn0000vs8p1rebsvxt\" substitutionGroup=\"s3m:XdAdapter-value\" type=\"s3m:mc-cjmscg8kn0000vs8p1rebsvxt\"/>\n",
      "  <xs:complexType name=\"mc-cjmscg8kn0000vs8p1rebsvxt\">\n",
      "    <xs:annotation>\n",
      "      <xs:documentation>\n",
      "        \n",
      "      </xs:documentation>\n",
      "      <xs:appinfo>\n",
      "        <rdfs:Class rdf:about=\"mc-cjmscg8kn0000vs8p1rebsvxt\">\n",
      "          <rdfs:subClassOf rdf:resource=\"https://www.s3model.com/ns/s3m/s3model_3_1_0.xsd#XdStringType\"/>\n",
      "          <rdfs:subClassOf rdf:resource=\"https://www.s3model.com/ns/s3m/s3model/RMC\"/>\n",
      "          <rdfs:isDefinedBy rdf:resource=\"\"/>\n",
      "        </rdfs:Class>\n",
      "      </xs:appinfo>\n",
      "    </xs:annotation>\n",
      "    <xs:complexContent>\n",
      "      <xs:restriction base=\"s3m:XdStringType\">\n",
      "        <xs:sequence>\n",
      "          <xs:element maxOccurs=\"1\" minOccurs=\"1\" name=\"label\" type=\"xs:string\" fixed=\"Item Colors\"/>\n",
      "          <xs:element maxOccurs=\"1\" minOccurs=\"0\" name=\"act\" type=\"xs:string\" default=\"\"/>\n",
      "          <xs:element maxOccurs=\"1\" minOccurs=\"0\" ref=\"s3m:ExceptionalValue\"/>\n",
      "          <xs:element maxOccurs=\"1\" minOccurs=\"0\" name=\"vtb\" type=\"xs:dateTime\"/>\n",
      "          <xs:element maxOccurs=\"1\" minOccurs=\"0\" name=\"vte\" type=\"xs:dateTime\"/>\n",
      "          <xs:element maxOccurs=\"1\" minOccurs=\"0\" name=\"tr\" type=\"xs:dateTime\"/>\n",
      "          <xs:element maxOccurs=\"1\" minOccurs=\"0\" name=\"modified\" type=\"xs:dateTime\"/>\n",
      "          <xs:element maxOccurs=\"1\" minOccurs=\"0\" name=\"latitude\" type=\"xs:decimal\"/>\n",
      "          <xs:element maxOccurs=\"1\" minOccurs=\"0\" name=\"longitude\" type=\"xs:decimal\"/>\n",
      "          <xs:element maxOccurs='1' minOccurs='1' name='xdstring-value' type='xs:string'/>\n",
      "          <xs:element maxOccurs='1' minOccurs='0' name='xdstring-language' type='xs:language' default=''/>\n",
      "        </xs:sequence>\n",
      "      </xs:restriction>\n",
      "    </xs:complexContent>\n",
      "  </xs:complexType>\n",
      "\n"
     ]
    }
   ],
   "source": [
    "print(s.asXSD())"
   ]
  },
  {
   "cell_type": "markdown",
   "metadata": {},
   "source": [
    "Set some enumerations to constrain the valid values to Blue, Red and Green. Note that the enumerations are a list of tuples.\n",
    "Then examine the new model."
   ]
  },
  {
   "cell_type": "code",
   "execution_count": 5,
   "metadata": {
    "scrolled": false
   },
   "outputs": [
    {
     "name": "stdout",
     "output_type": "stream",
     "text": [
      "  \n",
      "<xs:element name=\"ms-cjmscg8kn0001vs8pzmpde4f0\" substitutionGroup=\"s3m:Items\" type=\"s3m:mc-cjmscg8kn0001vs8pzmpde4f0\"/>\n",
      "  <xs:complexType name=\"mc-cjmscg8kn0001vs8pzmpde4f0\">\n",
      "    <xs:complexContent>\n",
      "      <xs:restriction base=\"s3m:XdAdapterType\">\n",
      "        <xs:sequence>\n",
      "          <xs:element maxOccurs=\"unbounded\" minOccurs=\"0\" ref=\"s3m:ms-cjmscg8kn0000vs8p1rebsvxt\"/>\n",
      "        </xs:sequence>\n",
      "      </xs:restriction>\n",
      "    </xs:complexContent>\n",
      "  </xs:complexType>\n",
      "  <xs:element name=\"ms-cjmscg8kn0000vs8p1rebsvxt\" substitutionGroup=\"s3m:XdAdapter-value\" type=\"s3m:mc-cjmscg8kn0000vs8p1rebsvxt\"/>\n",
      "  <xs:complexType name=\"mc-cjmscg8kn0000vs8p1rebsvxt\">\n",
      "    <xs:annotation>\n",
      "      <xs:documentation>\n",
      "        \n",
      "      </xs:documentation>\n",
      "      <xs:appinfo>\n",
      "        <rdfs:Class rdf:about=\"mc-cjmscg8kn0000vs8p1rebsvxt\">\n",
      "          <rdfs:subClassOf rdf:resource=\"https://www.s3model.com/ns/s3m/s3model_3_1_0.xsd#XdStringType\"/>\n",
      "          <rdfs:subClassOf rdf:resource=\"https://www.s3model.com/ns/s3m/s3model/RMC\"/>\n",
      "          <rdfs:isDefinedBy rdf:resource=\"\"/>\n",
      "        </rdfs:Class>\n",
      "      </xs:appinfo>\n",
      "    </xs:annotation>\n",
      "    <xs:complexContent>\n",
      "      <xs:restriction base=\"s3m:XdStringType\">\n",
      "        <xs:sequence>\n",
      "          <xs:element maxOccurs=\"1\" minOccurs=\"1\" name=\"label\" type=\"xs:string\" fixed=\"Item Colors\"/>\n",
      "          <xs:element maxOccurs=\"1\" minOccurs=\"0\" name=\"act\" type=\"xs:string\" default=\"\"/>\n",
      "          <xs:element maxOccurs=\"1\" minOccurs=\"0\" ref=\"s3m:ExceptionalValue\"/>\n",
      "          <xs:element maxOccurs=\"1\" minOccurs=\"0\" name=\"vtb\" type=\"xs:dateTime\"/>\n",
      "          <xs:element maxOccurs=\"1\" minOccurs=\"0\" name=\"vte\" type=\"xs:dateTime\"/>\n",
      "          <xs:element maxOccurs=\"1\" minOccurs=\"0\" name=\"tr\" type=\"xs:dateTime\"/>\n",
      "          <xs:element maxOccurs=\"1\" minOccurs=\"0\" name=\"modified\" type=\"xs:dateTime\"/>\n",
      "          <xs:element maxOccurs=\"1\" minOccurs=\"0\" name=\"latitude\" type=\"xs:decimal\"/>\n",
      "          <xs:element maxOccurs=\"1\" minOccurs=\"0\" name=\"longitude\" type=\"xs:decimal\"/>\n",
      "          <xs:element maxOccurs='1' minOccurs='1' name='xdstring-value' type='xs:string'/>\n",
      "          <xs:element maxOccurs='1' minOccurs='1' name='xdstring-value'>\n",
      "              <xs:simpleType>\n",
      "                <xs:restriction base='xs:string'>\n",
      "                  <xs:enumeration value='Blue'>\n",
      "                  <xs:annotation>\n",
      "                    <xs:appinfo>\n",
      "                      <rdfs:Class rdf:about='mc-cjmscg8kn0000vs8p1rebsvxt/xdstring-value/Blue'>\n",
      "                        <rdfs:subPropertyOf rdf:resource='mc-cjmscg8kn0000vs8p1rebsvxt'/>\n",
      "                        <rdfs:label>Blue</rdfs:label>\n",
      "                        <rdfs:isDefinedBy>http://www.color-wheel-pro.com/color-meaning.html#Blue</rdfs:isDefinedBy>\n",
      "                      </rdfs:Class>\n",
      "                    </xs:appinfo>\n",
      "                  </xs:annotation>\n",
      "                  </xs:enumeration>\n",
      "                  <xs:enumeration value='Red'>\n",
      "                  <xs:annotation>\n",
      "                    <xs:appinfo>\n",
      "                      <rdfs:Class rdf:about='mc-cjmscg8kn0000vs8p1rebsvxt/xdstring-value/Red'>\n",
      "                        <rdfs:subPropertyOf rdf:resource='mc-cjmscg8kn0000vs8p1rebsvxt'/>\n",
      "                        <rdfs:label>Red</rdfs:label>\n",
      "                        <rdfs:isDefinedBy>http://www.color-wheel-pro.com/color-meaning.html#Red</rdfs:isDefinedBy>\n",
      "                      </rdfs:Class>\n",
      "                    </xs:appinfo>\n",
      "                  </xs:annotation>\n",
      "                  </xs:enumeration>\n",
      "                  <xs:enumeration value='Green'>\n",
      "                  <xs:annotation>\n",
      "                    <xs:appinfo>\n",
      "                      <rdfs:Class rdf:about='mc-cjmscg8kn0000vs8p1rebsvxt/xdstring-value/Green'>\n",
      "                        <rdfs:subPropertyOf rdf:resource='mc-cjmscg8kn0000vs8p1rebsvxt'/>\n",
      "                        <rdfs:label>Green</rdfs:label>\n",
      "                        <rdfs:isDefinedBy>http://www.color-wheel-pro.com/color-meaning.html#Green</rdfs:isDefinedBy>\n",
      "                      </rdfs:Class>\n",
      "                    </xs:appinfo>\n",
      "                  </xs:annotation>\n",
      "                  </xs:enumeration>\n",
      "                </xs:restriction>\n",
      "              </xs:simpleType>\n",
      "            </xs:element>\n",
      "          <xs:element maxOccurs='1' minOccurs='0' name='xdstring-language' type='xs:language' default=''/>\n",
      "        </xs:sequence>\n",
      "      </xs:restriction>\n",
      "    </xs:complexContent>\n",
      "  </xs:complexType>\n",
      "\n"
     ]
    }
   ],
   "source": [
    "s.enums = [('Blue','http://www.color-wheel-pro.com/color-meaning.html#Blue'),('Red','http://www.color-wheel-pro.com/color-meaning.html#Red'),('Green','http://www.color-wheel-pro.com/color-meaning.html#Green')]\n",
    "print(s.asXSD())"
   ]
  },
  {
   "cell_type": "markdown",
   "metadata": {},
   "source": [
    "Set a regular expression pattern to constrain the valid values. Note that length, enums and regex are mutually exclusive so length is set to None and the enums value must be reset to [] (the empty list). We will then set the pattern to only accept a string formatted for US Social Security Numbers. We also set the label to 'Social Security Number'. Then check the new model."
   ]
  },
  {
   "cell_type": "code",
   "execution_count": 6,
   "metadata": {
    "scrolled": true
   },
   "outputs": [
    {
     "name": "stdout",
     "output_type": "stream",
     "text": [
      "  \n",
      "<xs:element name=\"ms-cjmscg8zq0003vs8pz2ue3sxc\" substitutionGroup=\"s3m:Items\" type=\"s3m:mc-cjmscg8zq0003vs8pz2ue3sxc\"/>\n",
      "  <xs:complexType name=\"mc-cjmscg8zq0003vs8pz2ue3sxc\">\n",
      "    <xs:complexContent>\n",
      "      <xs:restriction base=\"s3m:XdAdapterType\">\n",
      "        <xs:sequence>\n",
      "          <xs:element maxOccurs=\"unbounded\" minOccurs=\"0\" ref=\"s3m:ms-cjmscg8zq0002vs8p1lotrl4w\"/>\n",
      "        </xs:sequence>\n",
      "      </xs:restriction>\n",
      "    </xs:complexContent>\n",
      "  </xs:complexType>\n",
      "  <xs:element name=\"ms-cjmscg8zq0002vs8p1lotrl4w\" substitutionGroup=\"s3m:XdAdapter-value\" type=\"s3m:mc-cjmscg8zq0002vs8p1lotrl4w\"/>\n",
      "  <xs:complexType name=\"mc-cjmscg8zq0002vs8p1lotrl4w\">\n",
      "    <xs:annotation>\n",
      "      <xs:documentation>\n",
      "        \n",
      "      </xs:documentation>\n",
      "      <xs:appinfo>\n",
      "        <rdfs:Class rdf:about=\"mc-cjmscg8zq0002vs8p1lotrl4w\">\n",
      "          <rdfs:subClassOf rdf:resource=\"https://www.s3model.com/ns/s3m/s3model_3_1_0.xsd#XdStringType\"/>\n",
      "          <rdfs:subClassOf rdf:resource=\"https://www.s3model.com/ns/s3m/s3model/RMC\"/>\n",
      "          <rdfs:isDefinedBy rdf:resource=\"\"/>\n",
      "        </rdfs:Class>\n",
      "      </xs:appinfo>\n",
      "    </xs:annotation>\n",
      "    <xs:complexContent>\n",
      "      <xs:restriction base=\"s3m:XdStringType\">\n",
      "        <xs:sequence>\n",
      "          <xs:element maxOccurs=\"1\" minOccurs=\"1\" name=\"label\" type=\"xs:string\" fixed=\"Social Security Number\"/>\n",
      "          <xs:element maxOccurs=\"1\" minOccurs=\"0\" name=\"act\" type=\"xs:string\" default=\"\"/>\n",
      "          <xs:element maxOccurs=\"1\" minOccurs=\"0\" ref=\"s3m:ExceptionalValue\"/>\n",
      "          <xs:element maxOccurs=\"1\" minOccurs=\"0\" name=\"vtb\" type=\"xs:dateTime\"/>\n",
      "          <xs:element maxOccurs=\"1\" minOccurs=\"0\" name=\"vte\" type=\"xs:dateTime\"/>\n",
      "          <xs:element maxOccurs=\"1\" minOccurs=\"0\" name=\"tr\" type=\"xs:dateTime\"/>\n",
      "          <xs:element maxOccurs=\"1\" minOccurs=\"0\" name=\"modified\" type=\"xs:dateTime\"/>\n",
      "          <xs:element maxOccurs=\"1\" minOccurs=\"0\" name=\"latitude\" type=\"xs:decimal\"/>\n",
      "          <xs:element maxOccurs=\"1\" minOccurs=\"0\" name=\"longitude\" type=\"xs:decimal\"/>\n",
      "          <xs:element maxOccurs='1' minOccurs='1' name='xdstring-value'>\n",
      "              <xs:simpleType>\n",
      "                <xs:restriction base='xs:string'>\n",
      "                  <xs:pattern value='[0-9]{3}-[0-9]{2}-[0-9]{4}'/>\n",
      "                </xs:restriction>\n",
      "              </xs:simpleType>\n",
      "            </xs:element>\n",
      "          <xs:element maxOccurs='1' minOccurs='1' name='xdstring-value' type='xs:string'/>\n",
      "          <xs:element maxOccurs='1' minOccurs='0' name='xdstring-language' type='xs:language' default=''/>\n",
      "        </xs:sequence>\n",
      "      </xs:restriction>\n",
      "    </xs:complexContent>\n",
      "  </xs:complexType>\n",
      "\n"
     ]
    }
   ],
   "source": [
    "s.length = None\n",
    "s.enums = []\n",
    "s = s3m.XdStringType('Social Security Number')\n",
    "s.regex = \"[0-9]{3}-[0-9]{2}-[0-9]{4}\"\n",
    "print(s.asXSD())"
   ]
  },
  {
   "cell_type": "markdown",
   "metadata": {},
   "source": [
    "Set an exact length by setting self.length to an integer. Note that we need to set regex to None."
   ]
  },
  {
   "cell_type": "code",
   "execution_count": 7,
   "metadata": {
    "scrolled": true
   },
   "outputs": [
    {
     "name": "stdout",
     "output_type": "stream",
     "text": [
      "  \n",
      "<xs:element name=\"ms-cjmscg8zq0003vs8pz2ue3sxc\" substitutionGroup=\"s3m:Items\" type=\"s3m:mc-cjmscg8zq0003vs8pz2ue3sxc\"/>\n",
      "  <xs:complexType name=\"mc-cjmscg8zq0003vs8pz2ue3sxc\">\n",
      "    <xs:complexContent>\n",
      "      <xs:restriction base=\"s3m:XdAdapterType\">\n",
      "        <xs:sequence>\n",
      "          <xs:element maxOccurs=\"unbounded\" minOccurs=\"0\" ref=\"s3m:ms-cjmscg8zq0002vs8p1lotrl4w\"/>\n",
      "        </xs:sequence>\n",
      "      </xs:restriction>\n",
      "    </xs:complexContent>\n",
      "  </xs:complexType>\n",
      "  <xs:element name=\"ms-cjmscg8zq0002vs8p1lotrl4w\" substitutionGroup=\"s3m:XdAdapter-value\" type=\"s3m:mc-cjmscg8zq0002vs8p1lotrl4w\"/>\n",
      "  <xs:complexType name=\"mc-cjmscg8zq0002vs8p1lotrl4w\">\n",
      "    <xs:annotation>\n",
      "      <xs:documentation>\n",
      "        \n",
      "      </xs:documentation>\n",
      "      <xs:appinfo>\n",
      "        <rdfs:Class rdf:about=\"mc-cjmscg8zq0002vs8p1lotrl4w\">\n",
      "          <rdfs:subClassOf rdf:resource=\"https://www.s3model.com/ns/s3m/s3model_3_1_0.xsd#XdStringType\"/>\n",
      "          <rdfs:subClassOf rdf:resource=\"https://www.s3model.com/ns/s3m/s3model/RMC\"/>\n",
      "          <rdfs:isDefinedBy rdf:resource=\"\"/>\n",
      "        </rdfs:Class>\n",
      "      </xs:appinfo>\n",
      "    </xs:annotation>\n",
      "    <xs:complexContent>\n",
      "      <xs:restriction base=\"s3m:XdStringType\">\n",
      "        <xs:sequence>\n",
      "          <xs:element maxOccurs=\"1\" minOccurs=\"1\" name=\"label\" type=\"xs:string\" fixed=\"Social Security Number\"/>\n",
      "          <xs:element maxOccurs=\"1\" minOccurs=\"0\" name=\"act\" type=\"xs:string\" default=\"\"/>\n",
      "          <xs:element maxOccurs=\"1\" minOccurs=\"0\" ref=\"s3m:ExceptionalValue\"/>\n",
      "          <xs:element maxOccurs=\"1\" minOccurs=\"0\" name=\"vtb\" type=\"xs:dateTime\"/>\n",
      "          <xs:element maxOccurs=\"1\" minOccurs=\"0\" name=\"vte\" type=\"xs:dateTime\"/>\n",
      "          <xs:element maxOccurs=\"1\" minOccurs=\"0\" name=\"tr\" type=\"xs:dateTime\"/>\n",
      "          <xs:element maxOccurs=\"1\" minOccurs=\"0\" name=\"modified\" type=\"xs:dateTime\"/>\n",
      "          <xs:element maxOccurs=\"1\" minOccurs=\"0\" name=\"latitude\" type=\"xs:decimal\"/>\n",
      "          <xs:element maxOccurs=\"1\" minOccurs=\"0\" name=\"longitude\" type=\"xs:decimal\"/>\n",
      "          <xs:element maxOccurs='1' minOccurs='1' name='xdstring-value'>\n",
      "            <xs:simpleType>\n",
      "              <xs:restriction base='xs:string'>\n",
      "                <xs:length value='10'/>\n",
      "              </xs:restriction>\n",
      "            </xs:simpleType>\n",
      "          </xs:element>\n",
      "          <xs:element maxOccurs='1' minOccurs='0' name='xdstring-language' type='xs:language' default=''/>\n",
      "        </xs:sequence>\n",
      "      </xs:restriction>\n",
      "    </xs:complexContent>\n",
      "  </xs:complexType>\n",
      "\n"
     ]
    }
   ],
   "source": [
    "s.regex = None\n",
    "s.length = 10\n",
    "print(s.asXSD())"
   ]
  }
 ],
 "metadata": {
  "kernelspec": {
   "display_name": "Python [conda env:S3Model]",
   "language": "python",
   "name": "conda-env-S3Model-py"
  },
  "language_info": {
   "codemirror_mode": {
    "name": "ipython",
    "version": 3
   },
   "file_extension": ".py",
   "mimetype": "text/x-python",
   "name": "python",
   "nbconvert_exporter": "python",
   "pygments_lexer": "ipython3",
   "version": "3.7.0"
  }
 },
 "nbformat": 4,
 "nbformat_minor": 2
}

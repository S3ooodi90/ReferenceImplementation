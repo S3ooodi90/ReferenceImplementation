{
 "cells": [
  {
   "cell_type": "markdown",
   "metadata": {
    "slideshow": {
     "slide_type": "slide"
    }
   },
   "source": [
    "# Examples using the XdRatioType"
   ]
  },
  {
   "cell_type": "markdown",
   "metadata": {
    "slideshow": {
     "slide_type": "slide"
    }
   },
   "source": [
    "**Set the path to the folder containing the library files and import the extended datatypes.**"
   ]
  },
  {
   "cell_type": "code",
   "execution_count": 1,
   "metadata": {
    "slideshow": {
     "slide_type": "fragment"
    }
   },
   "outputs": [],
   "source": [
    "import sys \n",
    "sys.path.append(\"../pylib/\")\n",
    "from s3m_xdt import XdRatioType, XdStringType"
   ]
  },
  {
   "cell_type": "markdown",
   "metadata": {
    "slideshow": {
     "slide_type": "slide"
    }
   },
   "source": [
    "Review the documentation of XdRatioType. Note the class signature requires a *label* (string name) \n"
   ]
  },
  {
   "cell_type": "code",
   "execution_count": 2,
   "metadata": {
    "scrolled": false,
    "slideshow": {
     "slide_type": "slide"
    }
   },
   "outputs": [
    {
     "name": "stdout",
     "output_type": "stream",
     "text": [
      "Help on class XdRatioType in module s3m_xdt:\n",
      "\n",
      "class XdRatioType(XdQuantifiedType)\n",
      " |  XdRatioType(label)\n",
      " |  \n",
      " |  Models a ratio of values, i.e. where the numerator and denominator are both pure numbers. Should not be used to represent things like blood pressure which are often written using a ‘/’ character, giving the misleading impression that the item is a ratio,\n",
      " |  when in fact it is a structured value. Similarly, visual acuity, often written as (e.g.) “20/20” in clinical notes is not a ratio but an ordinal (which includes non-numeric symbols like CF = count fingers etc). Should not be used for formulations. Used for modeling; ratios, rates or proportions.\n",
      " |  \n",
      " |  Method resolution order:\n",
      " |      XdRatioType\n",
      " |      XdQuantifiedType\n",
      " |      XdOrderedType\n",
      " |      XdAnyType\n",
      " |      abc.ABC\n",
      " |      builtins.object\n",
      " |  \n",
      " |  Methods defined here:\n",
      " |  \n",
      " |  __init__(self, label)\n",
      " |      The semantic label (name of the model) is required.\n",
      " |  \n",
      " |  asXSD(self)\n",
      " |      Return a XML Schema complexType definition.\n",
      " |  \n",
      " |  ----------------------------------------------------------------------\n",
      " |  Data descriptors defined here:\n",
      " |  \n",
      " |  denominator\n",
      " |      Denominator of ratio.\n",
      " |  \n",
      " |  denominator_units\n",
      " |      Used to convey the meaning of the denominator. Typically units such as; minutes, hours, days, years, months, etc.\n",
      " |      May or may not come from a standard terminology.\n",
      " |  \n",
      " |  numerator\n",
      " |      Numerator of ratio.\n",
      " |  \n",
      " |  numerator_units\n",
      " |      Used to convey the meaning of the numerator. Typically countable units such as; cigarettes, drinks,\n",
      " |      exercise periods, etc. May or may not come from a terminology.\n",
      " |  \n",
      " |  ratio_type\n",
      " |      Indicates specific type of ratio modeled in the DM as a 'ratio','rate', or 'proportion'.\n",
      " |  \n",
      " |  xdratio_units\n",
      " |      Used to convey the meaning of the xdratio-value. May or may not come from a standard terminology.\n",
      " |  \n",
      " |  xdratio_value\n",
      " |      Numeric value of the ratio.\n",
      " |  \n",
      " |  ----------------------------------------------------------------------\n",
      " |  Data and other attributes defined here:\n",
      " |  \n",
      " |  __abstractmethods__ = frozenset()\n",
      " |  \n",
      " |  ----------------------------------------------------------------------\n",
      " |  Methods inherited from XdQuantifiedType:\n",
      " |  \n",
      " |  asXML(self)\n",
      " |      Return an example XML fragment for this model.\n",
      " |  \n",
      " |  ----------------------------------------------------------------------\n",
      " |  Data descriptors inherited from XdQuantifiedType:\n",
      " |  \n",
      " |  accuracy\n",
      " |      Accuracy of the value in the magnitude attribute in the range 0% to (+/-)100%.\n",
      " |      A value of 0 means that the accuracy is unknown.\n",
      " |  \n",
      " |  error\n",
      " |      Error margin of measurement, as an integer indicating error in the recording method or instrument (+/- %).\n",
      " |      A logical value of 0 indicates 100% accuracy, i.e. no error.\n",
      " |  \n",
      " |  magnitude_status\n",
      " |      MagnitudeStatus provides a general indication of the accuracy of the magnitude expressed in the XdQuantified\n",
      " |      subtypes. Should be used to inform users and not for decision support uses.\n",
      " |      Must be one of: None,'equal','less_than', 'greater_than', 'less_than_or_equal', 'greater_than_or_equal', 'approximate'\n",
      " |  \n",
      " |  ----------------------------------------------------------------------\n",
      " |  Data descriptors inherited from XdOrderedType:\n",
      " |  \n",
      " |  normal_status\n",
      " |      Optional normal status indicator of value with respect to normal range\n",
      " |      for this value.\n",
      " |      \n",
      " |      Often used in situations such as medical lab results when coded by\n",
      " |      ordinals in series such as; HHH, HH, H, (nothing), L, LL, LLL, etc.\n",
      " |  \n",
      " |  referenceranges\n",
      " |      Optional list of ReferenceRanges for this value in its\n",
      " |      particular measurement context.\n",
      " |  \n",
      " |  ----------------------------------------------------------------------\n",
      " |  Methods inherited from XdAnyType:\n",
      " |  \n",
      " |  __str__(self)\n",
      " |      Return str(self).\n",
      " |  \n",
      " |  asJSON(self)\n",
      " |      Return an example JSON fragment for this model.\n",
      " |  \n",
      " |  ----------------------------------------------------------------------\n",
      " |  Data descriptors inherited from XdAnyType:\n",
      " |  \n",
      " |  __dict__\n",
      " |      dictionary for instance variables (if defined)\n",
      " |  \n",
      " |  __weakref__\n",
      " |      list of weak references to the object (if defined)\n",
      " |  \n",
      " |  act\n",
      " |      Access Control Tag. If this is used it must contain a valid term from\n",
      " |      the Access Control System linked to by the containing Data Model\n",
      " |      'acs' attribute.\n",
      " |  \n",
      " |  acuid\n",
      " |      The unique identifier of the wrapping XdAdapter of the component.\n",
      " |  \n",
      " |  adapter\n",
      " |      When True, creates an XdAdapterType wrapper.\n",
      " |  \n",
      " |  cardinality\n",
      " |      The cardinality status values.\n",
      " |      \n",
      " |      The setter method can be called by each subclass to add cardinality\n",
      " |      values for each element or change the defaults.\n",
      " |      Some elements cardinality may not be changed.\n",
      " |      Ex: XdBoolean elements are not modifiable.\n",
      " |      \n",
      " |      The cardinality dictionary uses a string representation of each\n",
      " |      property name and a tuple as the value.\n",
      " |      \n",
      " |      The value passed into the setter is a tuple with v[0] as a string (key) and\n",
      " |      v[1] as a tuple containing an integer set representing the\n",
      " |      (minimum, maximum) values. The entire tuple is replaced in the dictionary.\n",
      " |      \n",
      " |      Examples\n",
      " |      --------\n",
      " |      \n",
      " |      ('vtb', (1,1)) will set the vtb value to be required.\n",
      " |      \n",
      " |      \n",
      " |      NOTES\n",
      " |      -----\n",
      " |      \n",
      " |      The cardinality for latitude and longitude are combined into one\n",
      " |      setting called 'location'.\n",
      " |      \n",
      " |      The Python value of 'None' represents the 'unbounded' XML Schema value.\n",
      " |      The 'unbounded' value is allowed on only a few attributes.\n",
      " |  \n",
      " |  definition_url\n",
      " |      The primary definition URL for the model.\n",
      " |      Cannot be an IP address.\n",
      " |  \n",
      " |  docs\n",
      " |      The human readable documentation string describing the purpose of\n",
      " |      the model.\n",
      " |  \n",
      " |  ev\n",
      " |      In an invalid instance, the application can indicate here why data is\n",
      " |      missing or invalid.\n",
      " |      The sub-types are based on ISO 21090 NULL Flavors entries, with\n",
      " |      additions noted from real-world usage.\n",
      " |  \n",
      " |  label\n",
      " |      The semantic name of the component.\n",
      " |  \n",
      " |  latitude\n",
      " |      Latitude in decimal format. Value range -90.000000 to 90.000000.\n",
      " |  \n",
      " |  longitude\n",
      " |      Longitude in decimal format. Value range -180.000000 to 180.000000.\n",
      " |  \n",
      " |  mcuid\n",
      " |      The unique identifier of the component.\n",
      " |  \n",
      " |  modified\n",
      " |      Time Modified. If present this must be a valid date-time stamp.\n",
      " |      It is used to indicate the date and time the data was last changed.\n",
      " |  \n",
      " |  pred_obj_list\n",
      " |      A list of additional predicate object pairs to describe the component.\n",
      " |      \n",
      " |      Each list item is a tuple where 0 is the predicate and 1 is the object.\n",
      " |      \n",
      " |      Example:\n",
      " |      ('rdf:resource','https://www.niddk.nih.gov/health-information/health-statistics')\n",
      " |      The setter accepts the tuple and appends it to the list.\n",
      " |      If an empty list is supplied it resets the value to the empty list.\n",
      " |  \n",
      " |  tr\n",
      " |      Time Recorded. If present this must be a valid date-time.\n",
      " |      It is used to indicate the initial date and time the data was recorded.\n",
      " |  \n",
      " |  vtb\n",
      " |      Valid Time Begin. If present this must be a valid datetime including timezone.\n",
      " |      It is used to indicate the beginning time that information is considered valid.\n",
      " |  \n",
      " |  vte\n",
      " |      Valid Time End. If present this must be a valid date-time including timezone.\n",
      " |      It is used to indicate the ending time that information is considered valid\n",
      " |      or the time the information expired or will expire.\n",
      "\n"
     ]
    }
   ],
   "source": [
    "help(XdRatioType)"
   ]
  },
  {
   "cell_type": "markdown",
   "metadata": {
    "slideshow": {
     "slide_type": "slide"
    }
   },
   "source": [
    "Create a XdRatio instance and provide a *label* as per all Xd Types. A units object, which is a XdStringType, is optional for the ratio value, the numerator and denominator. This Xd accommodates *ratios, proportions and rates*.\n",
    "\n"
   ]
  },
  {
   "cell_type": "code",
   "execution_count": 3,
   "metadata": {},
   "outputs": [
    {
     "name": "stdout",
     "output_type": "stream",
     "text": [
      "XdRatioType : A Ratio, ID: cjn52e4ch0000c28pleod8v9b\n"
     ]
    }
   ],
   "source": [
    "# A ratio model\n",
    "d = XdRatioType(\"A Ratio\")\n",
    "d.docs = \"Model a ratio with units on numerator and denominator.\"\n",
    "d.ratio_type = 'ratio'\n",
    "print(d)"
   ]
  },
  {
   "cell_type": "code",
   "execution_count": 4,
   "metadata": {},
   "outputs": [
    {
     "name": "stdout",
     "output_type": "stream",
     "text": [
      "XdRatioType : A Rate, ID: cjn52e4fb0002c28pnril1tz1\n"
     ]
    }
   ],
   "source": [
    "# A rate model\n",
    "d = XdRatioType(\"A Rate\")\n",
    "d.docs = \"Model a rate.\"\n",
    "d.ratio_type = 'rate'\n",
    "print(d)"
   ]
  },
  {
   "cell_type": "code",
   "execution_count": 5,
   "metadata": {},
   "outputs": [
    {
     "name": "stdout",
     "output_type": "stream",
     "text": [
      "XdRatioType : A Proportion, ID: cjn52e4iz0004c28pi306kslq\n"
     ]
    }
   ],
   "source": [
    "# A proportion model\n",
    "d = XdRatioType(\"A Proportion\")\n",
    "d.docs = \"Model a proportion.\"\n",
    "d.ratio_type = 'proportion'\n",
    "print(d)"
   ]
  }
 ],
 "metadata": {
  "kernelspec": {
   "display_name": "Python [conda env:S3Model]",
   "language": "python",
   "name": "conda-env-S3Model-py"
  },
  "language_info": {
   "codemirror_mode": {
    "name": "ipython",
    "version": 3
   },
   "file_extension": ".py",
   "mimetype": "text/x-python",
   "name": "python",
   "nbconvert_exporter": "python",
   "pygments_lexer": "ipython3",
   "version": "3.7.0"
  }
 },
 "nbformat": 4,
 "nbformat_minor": 2
}

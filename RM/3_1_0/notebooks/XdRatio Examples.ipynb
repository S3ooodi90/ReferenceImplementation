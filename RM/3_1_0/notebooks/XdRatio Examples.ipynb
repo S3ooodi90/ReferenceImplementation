{
 "cells": [
  {
   "cell_type": "markdown",
   "metadata": {
    "slideshow": {
     "slide_type": "slide"
    }
   },
   "source": [
    "# Examples using the XdRatioType"
   ]
  },
  {
   "cell_type": "markdown",
   "metadata": {
    "slideshow": {
     "slide_type": "slide"
    }
   },
   "source": [
    "**Set the path to the folder containing the library files and import the extended datatypes.**"
   ]
  },
  {
   "cell_type": "code",
   "execution_count": null,
   "metadata": {
    "slideshow": {
     "slide_type": "fragment"
    }
   },
   "outputs": [],
   "source": [
    "import sys \n",
    "sys.path.append(\"../pylib/\")\n",
    "from s3m_xdt import XdRatioType, XdStringType"
   ]
  },
  {
   "cell_type": "markdown",
   "metadata": {
    "slideshow": {
     "slide_type": "slide"
    }
   },
   "source": [
    "Models a ratio of values, i.e. where the numerator and denominator are both pure numbers. \n",
    "*Should not be used for formulations.* \n",
    "\n",
    "Used for modeling; *ratios*, *rates* or *proportions*.\n",
    "\n",
    "Review the documentation of XdRatioType."
   ]
  },
  {
   "cell_type": "code",
   "execution_count": null,
   "metadata": {
    "scrolled": true,
    "slideshow": {
     "slide_type": "slide"
    }
   },
   "outputs": [],
   "source": [
    "help(XdRatioType)"
   ]
  },
  {
   "cell_type": "markdown",
   "metadata": {},
   "source": [
    "*In the examples below, for completeness, we present the instance data as well as the model parameters. In the code we demonstrate the focus on the model.*"
   ]
  },
  {
   "cell_type": "markdown",
   "metadata": {
    "slideshow": {
     "slide_type": "slide"
    }
   },
   "source": [
    "## Ratio:\n",
    "\n",
    "Division of any 2 numbers in the real set is a ratio. \n",
    "\n",
    "This tutorial’s example will use a very popular form of ratio, the odds.\n",
    "\n",
    "Odds can be defined by a ratio between the number of successes and the number of failures in an event that happens repeatedly.\n",
    "\n",
    "Number of successes \n",
    "Number of failures\n",
    "\n",
    "Imagine that a horse ran 70 times in a given season and the results were:\n",
    "\n",
    "\\begin{equation*}\n",
    "\\frac{The horse won 10 times}{The horse lost 60 times} = \\frac{10}{60} = \\frac{1}{6}\n",
    "\\end{equation*}\n",
    "\n",
    "\n",
    "So, for every time this horse won, it lost 6. Thus, the odds for this horse is 1 / 6.\n",
    "\n",
    "For this XdRatioType we will model wins/losses.\n"
   ]
  },
  {
   "cell_type": "code",
   "execution_count": null,
   "metadata": {},
   "outputs": [],
   "source": [
    "# Define the ratio model\n",
    "ratio = XdRatioType(\"Wins vs. Losses\")\n",
    "ratio.docs = \"Model a ratio with wins in the numerator and losses in the denominator.\"\n",
    "ratio.ratio_type = 'ratio'\n",
    "ratio.definition_url = 'http://en.wikipedia.org/wiki/Odds'\n",
    "# Define the units\n",
    "nu = XdStringType('Wins')\n",
    "nu.definition_url = 'http://www.merriam-webster.com/dictionary/win/2a'\n",
    "nu.enums = [('Wins', 'http://www.merriam-webster.com/dictionary/win/2a')]\n",
    "nu.docs = 'Numerator units for Wins vs. Losses'\n",
    "du = XdStringType('Losses')\n",
    "du.definition_url = 'http://www.merriam-webster.com/dictionary/loss/4a'\n",
    "du.enums = [('Losses', 'http://www.merriam-webster.com/dictionary/loss/4a')]\n",
    "du.docs = 'Denominator units for Wins vs. Losses'\n",
    "\n",
    "ratio.numerator_units = nu\n",
    "ratio.denominator_units = du\n",
    "\n",
    "print(ratio)"
   ]
  },
  {
   "cell_type": "markdown",
   "metadata": {},
   "source": [
    "## Rate:\n",
    "\n",
    "Rates are ratios of counts. Ratios count different things in the numerator than in the denominator. The denominator set of things does not contain the numerator set of things. The solution of a ratio is a rational number.\n",
    "There is not a biunivocal relationship between the numerator and the denominator in a rate.\n",
    "\n",
    "It is very common to find rates where the numerator expresses repeated episodes of events occurred with the subjects counted in the denominator.\n",
    "\n",
    "Imagine that a shop manager wants to know how many items an average each customer buys, in order to better plan the size of shopping carts or baskets. For that, he would have to know, for a specific period of time, the total number of items purchased in the shop and the number of customer visits (customers that bought something) the shop had in the same period of time. If he sold 15,000 items and had 5,000 customers, the results will be:\n",
    "\n",
    "\n",
    "\n",
    "\\begin{equation*}\n",
    "\\frac{Total numbers of items purchased by the costumers}{Number of customer visits} = \\frac{15,000}{5,000} = 3\n",
    "\\end{equation*}\n",
    "\n",
    "Thus, each customer buys in average 3 items each visit to the shop.\n",
    "\n",
    "Another common type of rate is counting the events occurred in individuals and using a person-time denominator. When the population of individuals is dynamic, i.e., the individuals can enter and exit the population at any time during the observation, it is wrong to count the individuals as units with the same weight. One individual that stays in the population the whole period of observation should be weighted more than another individual that stays just half of the period of observation.\n",
    "\n",
    "This type of rate is often used in workforce monitoring. A very common indicator is the absenteeism rate. Let’s see an example for a single month.\n",
    "\n",
    "The absenteeism rate counts the total number of missing days of work during a given month (the numerator) and the number of worker-days (the denominator). A worker that worked the whole month counts 30 worker-days. A worker that was admitted on the 15th day of the month counts 15 worker-days. A worker that got fired on the 10th day of the month counts 10 worker-days. To create the denominator all the individual worker-days are summed together.\n",
    "\n",
    "Imagine that a company had 150 missing days of work and it has a total of 3,000 worker-days in a given month. We divide 150 by 3,000, which results in 1 missing day for each 20 worker-days, or 0.05/day.\n",
    "\n",
    "\n",
    "\\begin{equation*}\n",
    "\\frac{Total number of missing days of work}{Total number of worker-days} = \\frac{150}{3,000} = \\frac{1}{20} = 0.05/day\n",
    "\\end{equation*}\n"
   ]
  },
  {
   "cell_type": "code",
   "execution_count": null,
   "metadata": {},
   "outputs": [],
   "source": [
    "# A rate model\n",
    "rate = XdRatioType(\"Items purchased per visit\")\n",
    "rate.docs = \"Model a rate for the number of items puchased per visit.\"\n",
    "rate.ratio_type = 'rate'\n",
    "rate.definition_url = 'https://s3model.com/examples/ippv'\n",
    "# Define the units\n",
    "nu = XdStringType('Number of items purchased')\n",
    "nu.definition_url = 'https://s3model.com/examples/nip'\n",
    "nu.enums = [('Number of items', 'https://s3model.com/examples/nip')]\n",
    "nu.docs = 'Numerator units for Items purchased per visit.'\n",
    "du = XdStringType('Number of visits')\n",
    "du.definition_url = 'https://s3model.com/examples/niv'\n",
    "du.enums = [('Numbr of visits', 'https://s3model.com/examples/niv')]\n",
    "du.docs = 'Denominator units for Items purchased per visit.'\n",
    "\n",
    "rate.numerator_units = nu\n",
    "rate.denominator_units = du\n",
    "print(rate)"
   ]
  },
  {
   "cell_type": "markdown",
   "metadata": {},
   "source": [
    "**Challenge:**\n",
    "In the cell below, create a rate model for the second rate example above. Try to find formal definitions online for the model and the units."
   ]
  },
  {
   "cell_type": "code",
   "execution_count": null,
   "metadata": {},
   "outputs": [],
   "source": []
  },
  {
   "cell_type": "markdown",
   "metadata": {},
   "source": [
    "## Proportion:\n",
    "\n",
    "Proportions are a special case of ratios in which the numerator is contained in the denominator. Numerator and denominator count the same thing, and the numerator is a subset of the denominator that has a specific feature of interest.\n",
    "\n",
    "In Proportions there is a biunivocal relationship between the numerator and the denominator: things are counted just once in the denominator (person-time is not allowed!) and the things counted in the denominator that have the feature of interest are counted just once in the numerator (repeated episodes are not allowed!).\n",
    "Proportions only allow values between 0 and 1 included (in percentage, 0% to 100%).\n",
    "\n",
    "The voting turnout is a very good example of proportion, because each citizen can be registered just once in one precinct for a certain election, and the voter can vote just once in a given election. Imagine that in a given precinct there were 1,000 voters registered and 260 showed up to vote. The voting turnout in this precinct was obtained by dividing 260 by 1,000, yielding a voting turnout of 26%.\n",
    "\n",
    "\n",
    "\\begin{equation*}\n",
    "\\frac{Number of registered voters that voted}{Total number of registered voters} = \\frac{260}{1,000} = 0.26 = 26\\%\n",
    "\\end{equation*}\n"
   ]
  },
  {
   "cell_type": "code",
   "execution_count": null,
   "metadata": {},
   "outputs": [],
   "source": [
    "# A proportion model\n",
    "prop = XdRatioType(\"Voter turnout\")\n",
    "prop.docs = \"Model a proportion of registered voters that actually voted.\"\n",
    "prop.ratio_type = 'proportion'\n",
    "prop.definition_url = 'https://www.fairvote.org/voter_turnout#voter_turnout_101'\n",
    "# Define the units\n",
    "nu = XdStringType('Number of registered voters that voted')\n",
    "nu.definition_url = 'https://en.wikipedia.org/wiki/Voter_registration#voted'\n",
    "nu.enums = [('Voted', 'https://en.wikipedia.org/wiki/Voter_registration#voted')]\n",
    "nu.docs = 'Numerator units for Voter turnout.'\n",
    "du = XdStringType('Number of registered voters')\n",
    "du.definition_url = 'https://en.wikipedia.org/wiki/Voter_registration#registered'\n",
    "du.enums = [('Registered', 'https://en.wikipedia.org/wiki/Voter_registration#registered')]\n",
    "du.docs = 'Denominator units for Voter turnout.'\n",
    "\n",
    "prop.numerator_units = nu\n",
    "prop.denominator_units = du\n",
    "print(prop)"
   ]
  },
  {
   "cell_type": "markdown",
   "metadata": {},
   "source": [
    "## Final Remarks:\n",
    "\n",
    "Rates are ratios, proportions are ratios, but not all ratios are rates and proportions. Rates are a special case of ratios, and proportions are a special case of rates.\n",
    "\n",
    "Example: Odds are ratios, but odds are not rates or proportions.\n",
    "\n",
    "As you could see from the examples, in the real world, rates and ratios are usually time and space constrained. \n",
    "\n",
    "Thinking about the examples shown, the results are only informative if you know of which place we are talking about and when the research was done. \n",
    "\n",
    "Examples:\n",
    "\n",
    "The odds example: a horse called Beautiful Sunset in the Sky during the 2016 season.\n",
    "\n",
    "The rate example 1: Bloomingdale’s in NY in December 2017. \n",
    "\n",
    "The rate example 2: the Home Depot in Jacksonville, TN, on March 2018.\n",
    "\n",
    "The proportion example: US midterms in 2018 in the state of Minnesota. \n",
    "\n",
    "This is why the S3Model approach is so insistent about defining as precisely as possible the spatial and temporal contexts.\n"
   ]
  }
 ],
 "metadata": {
  "kernelspec": {
   "display_name": "Python [conda env:S3Model]",
   "language": "python",
   "name": "conda-env-S3Model-py"
  },
  "language_info": {
   "codemirror_mode": {
    "name": "ipython",
    "version": 3
   },
   "file_extension": ".py",
   "mimetype": "text/x-python",
   "name": "python",
   "nbconvert_exporter": "python",
   "pygments_lexer": "ipython3",
   "version": "3.7.0"
  }
 },
 "nbformat": 4,
 "nbformat_minor": 2
}

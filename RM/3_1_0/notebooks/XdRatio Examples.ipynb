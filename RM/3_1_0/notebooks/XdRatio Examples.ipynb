{
 "cells": [
  {
   "cell_type": "markdown",
   "metadata": {
    "slideshow": {
     "slide_type": "slide"
    }
   },
   "source": [
    "# Examples using the XdRatioType"
   ]
  },
  {
   "cell_type": "markdown",
   "metadata": {
    "slideshow": {
     "slide_type": "slide"
    }
   },
   "source": [
    "**Set the path to the folder containing the library files and import the extended datatypes.**"
   ]
  },
  {
   "cell_type": "code",
   "execution_count": 1,
   "metadata": {
    "slideshow": {
     "slide_type": "fragment"
    }
   },
   "outputs": [],
   "source": [
    "import sys \n",
    "sys.path.append(\"../pylib/\")\n",
    "from s3m_utils import xsdstub, xmlstub\n",
    "from s3m_xdt import XdRatioType, XdStringType"
   ]
  },
  {
   "cell_type": "markdown",
   "metadata": {
    "slideshow": {
     "slide_type": "slide"
    }
   },
   "source": [
    "Models a ratio of values, i.e. where the numerator and denominator are both pure numbers. \n",
    "*Should not be used for formulations.* \n",
    "\n",
    "Used for modeling; *ratios*, *rates* or *proportions*.\n",
    "\n",
    "Review the documentation of XdRatioType."
   ]
  },
  {
   "cell_type": "code",
   "execution_count": 2,
   "metadata": {
    "scrolled": true,
    "slideshow": {
     "slide_type": "slide"
    }
   },
   "outputs": [
    {
     "name": "stdout",
     "output_type": "stream",
     "text": [
      "Help on class XdRatioType in module s3m_xdt:\n",
      "\n",
      "class XdRatioType(XdQuantifiedType)\n",
      " |  XdRatioType(label)\n",
      " |  \n",
      " |  Models a ratio of values, i.e. where the numerator and denominator are both pure numbers. \n",
      " |  \n",
      " |  Should not be used for formulations. Used for modeling; ratios, rates or proportions.\n",
      " |  \n",
      " |  Method resolution order:\n",
      " |      XdRatioType\n",
      " |      XdQuantifiedType\n",
      " |      XdOrderedType\n",
      " |      XdAnyType\n",
      " |      abc.ABC\n",
      " |      builtins.object\n",
      " |  \n",
      " |  Methods defined here:\n",
      " |  \n",
      " |  __init__(self, label)\n",
      " |      The semantic label (name of the model) is required.\n",
      " |  \n",
      " |  getModel(self)\n",
      " |      Return a XML Schema complexType definition.\n",
      " |  \n",
      " |  getXMLInstance(self, example=False)\n",
      " |      Return an XML fragment for this model.\n",
      " |  \n",
      " |  validate(self)\n",
      " |      Every XdType must implement this method.\n",
      " |  \n",
      " |  ----------------------------------------------------------------------\n",
      " |  Data descriptors defined here:\n",
      " |  \n",
      " |  den_max_exclusive\n",
      " |      An exclusive maximum value.\n",
      " |  \n",
      " |  den_max_inclusive\n",
      " |      An inclusive maximum value.\n",
      " |  \n",
      " |  den_min_exclusive\n",
      " |      An exclusive minimum value.\n",
      " |  \n",
      " |  den_min_inclusive\n",
      " |      An inclusive minimum value.\n",
      " |  \n",
      " |  denominator\n",
      " |      Denominator of ratio.\n",
      " |  \n",
      " |  denominator_units\n",
      " |      Used to convey the meaning of the denominator. Typically units such as; minutes, hours, days, years, months, etc.\n",
      " |      May or may not come from a standard terminology.\n",
      " |  \n",
      " |  num_max_exclusive\n",
      " |      An exclusive maximum value.\n",
      " |  \n",
      " |  num_max_inclusive\n",
      " |      An inclusive maximum value.\n",
      " |  \n",
      " |  num_min_exclusive\n",
      " |      An exclusive minimum value.\n",
      " |  \n",
      " |  num_min_inclusive\n",
      " |      An inclusive minimum value.\n",
      " |  \n",
      " |  numerator\n",
      " |      Numerator of ratio.\n",
      " |  \n",
      " |  numerator_units\n",
      " |      Used to convey the meaning of the numerator. Typically countable units such as; cigarettes, drinks,\n",
      " |      exercise periods, etc. May or may not come from a terminology.\n",
      " |  \n",
      " |  ratio\n",
      " |      Numerator of ratio.\n",
      " |  \n",
      " |  ratio_type\n",
      " |      Indicates specific type of ratio modeled in the DM as a 'ratio','rate', or 'proportion'.\n",
      " |  \n",
      " |  ratio_units\n",
      " |      Used to convey the meaning of the ratio.\n",
      " |  \n",
      " |  ----------------------------------------------------------------------\n",
      " |  Data and other attributes defined here:\n",
      " |  \n",
      " |  __abstractmethods__ = frozenset()\n",
      " |  \n",
      " |  ----------------------------------------------------------------------\n",
      " |  Data descriptors inherited from XdQuantifiedType:\n",
      " |  \n",
      " |  accuracy\n",
      " |      Accuracy of the value in the magnitude attribute in the range 0% to (+/-)100%.\n",
      " |      A value of 0 means that the accuracy is unknown.\n",
      " |  \n",
      " |  error\n",
      " |      Error margin of measurement, as an integer indicating error in the recording method or instrument (+/- %).\n",
      " |      A logical value of 0 indicates 100% accuracy, i.e. no error.\n",
      " |  \n",
      " |  magnitude_status\n",
      " |      MagnitudeStatus provides a general indication of the accuracy of the magnitude expressed in the XdQuantified\n",
      " |      subtypes. Should be used to inform users and not for decision support uses.\n",
      " |      Must be one of: None,'equal','less_than', 'greater_than', 'less_than_or_equal', 'greater_than_or_equal', 'approximate'\n",
      " |  \n",
      " |  ----------------------------------------------------------------------\n",
      " |  Data descriptors inherited from XdOrderedType:\n",
      " |  \n",
      " |  normal_status\n",
      " |      Optional normal status indicator of value with respect to normal range\n",
      " |      for this value.\n",
      " |      \n",
      " |      Often used in situations such as medical lab results when coded by\n",
      " |      ordinals in series such as; HHH, HH, H, (nothing), L, LL, LLL, etc.\n",
      " |  \n",
      " |  referenceranges\n",
      " |      Optional list of ReferenceRanges for this value in its\n",
      " |      particular measurement context.\n",
      " |  \n",
      " |  ----------------------------------------------------------------------\n",
      " |  Methods inherited from XdAnyType:\n",
      " |  \n",
      " |  __str__(self)\n",
      " |      Return str(self).\n",
      " |  \n",
      " |  getJSONInstance(self, example=False)\n",
      " |      Return an example JSON fragment for this model.\n",
      " |  \n",
      " |  ----------------------------------------------------------------------\n",
      " |  Data descriptors inherited from XdAnyType:\n",
      " |  \n",
      " |  __dict__\n",
      " |      dictionary for instance variables (if defined)\n",
      " |  \n",
      " |  __weakref__\n",
      " |      list of weak references to the object (if defined)\n",
      " |  \n",
      " |  act\n",
      " |      Access Control Tag. \n",
      " |      \n",
      " |      If this is used it must contain a valid term from the Access Control System linked \n",
      " |      to by the containing Data Model 'acs' attribute. It is available as the ACS imported\n",
      " |      from s3m_dm.\n",
      " |  \n",
      " |  acuid\n",
      " |      The unique identifier of the wrapping XdAdapter of the component.\n",
      " |  \n",
      " |  adapter\n",
      " |      When True, creates an XdAdapterType wrapper.\n",
      " |  \n",
      " |  cardinality\n",
      " |      The cardinality status values.\n",
      " |      \n",
      " |      The setter method can be called by each subclass to add cardinality\n",
      " |      values for each element or change the defaults.\n",
      " |      Some elements cardinality may not be changed.\n",
      " |      Ex: XdBoolean elements are not modifiable.\n",
      " |      \n",
      " |      The cardinality dictionary uses a string representation of each\n",
      " |      property name and a list as the value.\n",
      " |      \n",
      " |      The value passed into the setter is a tuple with v[0] as a string (key) and\n",
      " |      v[1] as a list containing an integer set representing the\n",
      " |      (minimum, maximum) values. The entire value list is replaced in the dictionary.\n",
      " |      \n",
      " |      Examples\n",
      " |      --------\n",
      " |      \n",
      " |      ('vtb', [1,1]) will set the vtb value to be required.\n",
      " |      \n",
      " |      \n",
      " |      NOTES\n",
      " |      -----\n",
      " |      \n",
      " |      The cardinality for latitude and longitude are combined into one\n",
      " |      setting called 'location'.\n",
      " |      \n",
      " |      The Python value of 'None' represents the 'unbounded' XML Schema value.\n",
      " |      None is converted to Decimal('Infinity') for comparisons.\n",
      " |      The 'unbounded' value is allowed on only a few attributes.\n",
      " |  \n",
      " |  definition_url\n",
      " |      The primary definition URL for the model.\n",
      " |      Cannot be an IP address.\n",
      " |      \n",
      " |      REQUIRED\n",
      " |  \n",
      " |  docs\n",
      " |      The human readable documentation string describing the purpose of\n",
      " |      the model.\n",
      " |  \n",
      " |  ev\n",
      " |      In an invalid instance, the application can indicate here why data is\n",
      " |      missing or invalid. This is a list of ExceptionalValue subclasses.\n",
      " |      \n",
      " |      The sub-types are based on ISO 21090 NULL Flavors entries, with\n",
      " |      additions noted from real-world usage.\n",
      " |  \n",
      " |  label\n",
      " |      The semantic name of the component.\n",
      " |      \n",
      " |      REQUIRED\n",
      " |  \n",
      " |  latitude\n",
      " |      Latitude in decimal format. Value range -90.000000 to 90.000000.\n",
      " |  \n",
      " |  longitude\n",
      " |      Longitude in decimal format. Value range -180.000000 to 180.000000.\n",
      " |  \n",
      " |  mcuid\n",
      " |      The unique identifier of the component.\n",
      " |  \n",
      " |  modified\n",
      " |      Time Modified. If present this must be a valid date-time stamp.\n",
      " |      It is used to indicate the date and time the data was last changed.\n",
      " |  \n",
      " |  pred_obj_list\n",
      " |      A list of additional predicate object pairs to describe the component.\n",
      " |      \n",
      " |      Each list item is a tuple where 0 is the predicate and 1 is the object.\n",
      " |      \n",
      " |      Example:\n",
      " |      ('rdf:resource','https://www.niddk.nih.gov/health-information/health-statistics')\n",
      " |      The setter accepts the tuple and appends it to the list.\n",
      " |      If an empty list is supplied it resets the value to the empty list.\n",
      " |  \n",
      " |  published\n",
      " |      When True, prevents further model changes.\n",
      " |  \n",
      " |  tr\n",
      " |      Time Recorded. If present this must be a valid date-time.\n",
      " |      It is used to indicate the initial date and time the data was recorded.\n",
      " |  \n",
      " |  vtb\n",
      " |      Valid Time Begin. If present this must be a valid datetime including timezone.\n",
      " |      It is used to indicate the beginning time that information is considered valid.\n",
      " |  \n",
      " |  vte\n",
      " |      Valid Time End. If present this must be a valid date-time including timezone.\n",
      " |      It is used to indicate the ending time that information is considered valid\n",
      " |      or the time the information expired or will expire.\n",
      "\n"
     ]
    }
   ],
   "source": [
    "help(XdRatioType)"
   ]
  },
  {
   "cell_type": "markdown",
   "metadata": {},
   "source": [
    "*In the examples below, for completeness, we present the instance data as well as the model parameters. In the code we demonstrate the focus on the model.*"
   ]
  },
  {
   "cell_type": "markdown",
   "metadata": {
    "slideshow": {
     "slide_type": "slide"
    }
   },
   "source": [
    "## Ratio:\n",
    "\n",
    "Division of any 2 numbers in the real set is a ratio. \n",
    "\n",
    "This tutorial’s example will use a very popular form of ratio, the odds.\n",
    "\n",
    "Odds can be defined by a ratio between the number of successes and the number of failures in an event that happens repeatedly.\n",
    "\n",
    "Number of successes \n",
    "Number of failures\n",
    "\n",
    "Imagine that a horse ran 70 times in a given season and the results were:\n",
    "\n",
    "\\begin{equation*}\n",
    "\\frac{The horse won 10 times}{The horse lost 60 times} = \\frac{10}{60} = \\frac{1}{6}\n",
    "\\end{equation*}\n",
    "\n",
    "\n",
    "So, for every time this horse won, it lost 6. Thus, the odds for this horse is 1 / 6.\n",
    "\n",
    "For this XdRatioType we will model wins/losses.\n"
   ]
  },
  {
   "cell_type": "code",
   "execution_count": 3,
   "metadata": {},
   "outputs": [
    {
     "name": "stdout",
     "output_type": "stream",
     "text": [
      "XdRatioType : Wins vs. Losses, ID: cjo1ju8970000d8bibmlsoy74 Published: True\n"
     ]
    }
   ],
   "source": [
    "# Define the ratio model\n",
    "ratio = XdRatioType(\"Wins vs. Losses\")\n",
    "ratio.docs = \"Model a ratio with wins in the numerator and losses in the denominator.\"\n",
    "ratio.ratio_type = 'ratio'\n",
    "ratio.definition_url = 'http://en.wikipedia.org/wiki/Odds'\n",
    "\n",
    "# Define the units\n",
    "nu = XdStringType('Wins')\n",
    "nu.definition_url = 'http://www.merriam-webster.com/dictionary/win/2a'\n",
    "nu.enums = [('Wins', 'http://www.merriam-webster.com/dictionary/win/2a')]\n",
    "nu.docs = 'Numerator units for Wins vs. Losses'\n",
    "nu.published = True\n",
    "\n",
    "du = XdStringType('Losses')\n",
    "du.definition_url = 'http://www.merriam-webster.com/dictionary/loss/4a'\n",
    "du.enums = [('Losses', 'http://www.merriam-webster.com/dictionary/loss/4a')]\n",
    "du.docs = 'Denominator units for Wins vs. Losses'\n",
    "du.published = True\n",
    "\n",
    "ratio.numerator_units = nu\n",
    "ratio.denominator_units = du\n",
    "ratio.published = True\n",
    "print(ratio)"
   ]
  },
  {
   "cell_type": "markdown",
   "metadata": {},
   "source": [
    "## Rate:\n",
    "\n",
    "Rates are ratios of counts. Ratios count different things in the numerator than in the denominator. The denominator set of things does not contain the numerator set of things. The solution of a ratio is a rational number.\n",
    "There is not a biunivocal relationship between the numerator and the denominator in a rate.\n",
    "\n",
    "It is very common to find rates where the numerator expresses repeated episodes of events occurred with the subjects counted in the denominator.\n",
    "\n",
    "Imagine that a shop manager wants to know how many items an average each customer buys, in order to better plan the size of shopping carts or baskets. For that, he would have to know, for a specific period of time, the total number of items purchased in the shop and the number of customer visits (customers that bought something) the shop had in the same period of time. If he sold 15,000 items and had 5,000 customers, the results will be:\n",
    "\n",
    "\n",
    "\n",
    "\\begin{equation*}\n",
    "\\frac{Total numbers of items purchased by the costumers}{Number of customer visits} = \\frac{15,000}{5,000} = 3\n",
    "\\end{equation*}\n",
    "\n",
    "Thus, each customer buys in average 3 items each visit to the shop.\n",
    "\n",
    "Another common type of rate is counting the events occurred in individuals and using a person-time denominator. When the population of individuals is dynamic, i.e., the individuals can enter and exit the population at any time during the observation, it is wrong to count the individuals as units with the same weight. One individual that stays in the population the whole period of observation should be weighted more than another individual that stays just half of the period of observation.\n",
    "\n",
    "This type of rate is often used in workforce monitoring. A very common indicator is the absenteeism rate. Let’s see an example for a single month.\n",
    "\n",
    "The absenteeism rate counts the total number of missing days of work during a given month (the numerator) and the number of worker-days (the denominator). A worker that worked the whole month counts 30 worker-days. A worker that was admitted on the 15th day of the month counts 15 worker-days. A worker that got fired on the 10th day of the month counts 10 worker-days. To create the denominator all the individual worker-days are summed together.\n",
    "\n",
    "Imagine that a company had 150 missing days of work and it has a total of 3,000 worker-days in a given month. We divide 150 by 3,000, which results in 1 missing day for each 20 worker-days, or 0.05/day.\n",
    "\n",
    "\n",
    "\\begin{equation*}\n",
    "\\frac{Total number of missing days of work}{Total number of worker-days} = \\frac{150}{3,000} = \\frac{1}{20} = 0.05/day\n",
    "\\end{equation*}\n"
   ]
  },
  {
   "cell_type": "code",
   "execution_count": 4,
   "metadata": {},
   "outputs": [
    {
     "name": "stdout",
     "output_type": "stream",
     "text": [
      "XdRatioType : Items purchased per visit, ID: cjo1ju89k0006d8bihurzf3bv Published: True\n"
     ]
    }
   ],
   "source": [
    "# A rate model\n",
    "rate = XdRatioType(\"Items purchased per visit\")\n",
    "rate.docs = \"Model a rate for the number of items puchased per visit.\"\n",
    "rate.ratio_type = 'rate'\n",
    "rate.definition_url = 'https://s3model.com/examples/ippv'\n",
    "\n",
    "# Define the units\n",
    "nu = XdStringType('Number of items purchased')\n",
    "nu.definition_url = 'https://s3model.com/examples/nip'\n",
    "nu.enums = [('Number of items', 'https://s3model.com/examples/nip')]\n",
    "nu.docs = 'Numerator units for Items purchased per visit.'\n",
    "nu.published = True\n",
    "\n",
    "du = XdStringType('Number of visits')\n",
    "du.definition_url = 'https://s3model.com/examples/niv'\n",
    "du.enums = [('Numbr of visits', 'https://s3model.com/examples/niv')]\n",
    "du.docs = 'Denominator units for Items purchased per visit.'\n",
    "du.published = True\n",
    "\n",
    "rate.numerator_units = nu\n",
    "rate.denominator_units = du\n",
    "rate.published = True\n",
    "print(rate)"
   ]
  },
  {
   "cell_type": "markdown",
   "metadata": {},
   "source": [
    "**Challenge:**\n",
    "In the cell below, create a rate model for the second rate example above. Try to find formal definitions online for the model and the units."
   ]
  },
  {
   "cell_type": "code",
   "execution_count": null,
   "metadata": {},
   "outputs": [],
   "source": []
  },
  {
   "cell_type": "markdown",
   "metadata": {},
   "source": [
    "## Proportion:\n",
    "\n",
    "Proportions are a special case of ratios in which the numerator is contained in the denominator. Numerator and denominator count the same thing, and the numerator is a subset of the denominator that has a specific feature of interest.\n",
    "\n",
    "In Proportions there is a biunivocal relationship between the numerator and the denominator: things are counted just once in the denominator (person-time is not allowed!) and the things counted in the denominator that have the feature of interest are counted just once in the numerator (repeated episodes are not allowed!).\n",
    "Proportions only allow values between 0 and 1 included (in percentage, 0% to 100%).\n",
    "\n",
    "The voting turnout is a very good example of proportion, because each citizen can be registered just once in one precinct for a certain election, and the voter can vote just once in a given election. Imagine that in a given precinct there were 1,000 voters registered and 260 showed up to vote. The voting turnout in this precinct was obtained by dividing 260 by 1,000, yielding a voting turnout of 26%.\n",
    "\n",
    "\n",
    "\\begin{equation*}\n",
    "\\frac{Number of registered voters that voted}{Total number of registered voters} = \\frac{260}{1,000} = 0.26 = 26\\%\n",
    "\\end{equation*}\n"
   ]
  },
  {
   "cell_type": "code",
   "execution_count": 5,
   "metadata": {},
   "outputs": [
    {
     "name": "stdout",
     "output_type": "stream",
     "text": [
      "XdRatioType : Voter turnout, ID: cjo1ju89u000cd8bidzdt81ku Published: True\n"
     ]
    }
   ],
   "source": [
    "# A proportion model\n",
    "prop = XdRatioType(\"Voter turnout\")\n",
    "prop.docs = \"Model a proportion of registered voters that actually voted.\"\n",
    "prop.ratio_type = 'proportion'\n",
    "prop.definition_url = 'https://www.fairvote.org/voter_turnout#voter_turnout_101'\n",
    "\n",
    "# Define the units\n",
    "nu = XdStringType('Number of registered voters that voted')\n",
    "nu.definition_url = 'https://en.wikipedia.org/wiki/Voter_registration#voted'\n",
    "nu.enums = [('Voted', 'https://en.wikipedia.org/wiki/Voter_registration#voted')]\n",
    "nu.docs = 'Numerator units for Voter turnout.'\n",
    "nu.published = True\n",
    "\n",
    "du = XdStringType('Number of registered voters')\n",
    "du.definition_url = 'https://en.wikipedia.org/wiki/Voter_registration#registered'\n",
    "du.enums = [('Registered', 'https://en.wikipedia.org/wiki/Voter_registration#registered')]\n",
    "du.docs = 'Denominator units for Voter turnout.'\n",
    "du.published = True\n",
    "\n",
    "prop.numerator_units = nu\n",
    "prop.denominator_units = du\n",
    "prop.published = True\n",
    "print(prop)"
   ]
  },
  {
   "cell_type": "markdown",
   "metadata": {},
   "source": [
    "## Final Remarks:\n",
    "\n",
    "Rates are ratios, proportions are ratios, but not all ratios are rates and proportions. Rates are a special case of ratios, and proportions are a special case of rates.\n",
    "\n",
    "Example: Odds are ratios, but odds are not rates or proportions.\n",
    "\n",
    "As you could see from the examples, in the real world, rates and ratios are usually time and space constrained. \n",
    "\n",
    "Thinking about the examples shown, the results are only informative if you know of which place we are talking about and when the research was done. \n",
    "\n",
    "Examples:\n",
    "\n",
    "The odds example: a horse called Beautiful Sunset in the Sky during the 2016 season.\n",
    "\n",
    "The rate example 1: Bloomingdale’s in NY in December 2017. \n",
    "\n",
    "The rate example 2: the Home Depot in Jacksonville, TN, on March 2018.\n",
    "\n",
    "The proportion example: US midterms in 2018 in the state of Minnesota. \n",
    "\n",
    "This is why the S3Model approach is so insistent about defining as precisely as possible the spatial and temporal contexts.\n"
   ]
  },
  {
   "cell_type": "markdown",
   "metadata": {},
   "source": [
    "If you want to review the models and generate an example instance of each you may do so in the cells below. Execute each cell one at a time since they all write to the same files; stub.xsd and stub.xml.\n",
    "\n",
    "The values passed are the models created above. For the XML instance we also pass a *True* to generate example instance data."
   ]
  },
  {
   "cell_type": "code",
   "execution_count": 6,
   "metadata": {},
   "outputs": [
    {
     "name": "stdout",
     "output_type": "stream",
     "text": [
      "Writing model for  XdRatioType : Wins vs. Losses, ID: cjo1ju8970000d8bibmlsoy74 Published: True  to stub.xsd\n",
      "Writing data instance for  XdRatioType : Wins vs. Losses, ID: cjo1ju8970000d8bibmlsoy74 Published: True  to stub.xml\n"
     ]
    }
   ],
   "source": [
    "# Ratio model\n",
    "xsdstub(ratio)\n",
    "xmlstub(ratio,True)"
   ]
  }
 ],
 "metadata": {
  "kernelspec": {
   "display_name": "Python [conda env:S3Model]",
   "language": "python",
   "name": "conda-env-S3Model-py"
  },
  "language_info": {
   "codemirror_mode": {
    "name": "ipython",
    "version": 3
   },
   "file_extension": ".py",
   "mimetype": "text/x-python",
   "name": "python",
   "nbconvert_exporter": "python",
   "pygments_lexer": "ipython3",
   "version": "3.7.0"
  }
 },
 "nbformat": 4,
 "nbformat_minor": 2
}

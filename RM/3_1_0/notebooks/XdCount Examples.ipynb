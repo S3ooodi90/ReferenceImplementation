{
 "cells": [
  {
   "cell_type": "markdown",
   "metadata": {
    "slideshow": {
     "slide_type": "slide"
    }
   },
   "source": [
    "# Examples using the XdCountType"
   ]
  },
  {
   "cell_type": "markdown",
   "metadata": {
    "slideshow": {
     "slide_type": "slide"
    }
   },
   "source": [
    "**Set the path to the folder containing the library files and import the extended datatypes.**"
   ]
  },
  {
   "cell_type": "code",
   "execution_count": 1,
   "metadata": {
    "slideshow": {
     "slide_type": "fragment"
    }
   },
   "outputs": [],
   "source": [
    "import sys \n",
    "sys.path.append(\"../pylib/\")\n",
    "from s3m_xdt import XdCountType, XdStringType"
   ]
  },
  {
   "cell_type": "markdown",
   "metadata": {
    "slideshow": {
     "slide_type": "slide"
    }
   },
   "source": [
    "Review the documentation of XdCountType. Note the class signature requires a *label* (string name) \n"
   ]
  },
  {
   "cell_type": "code",
   "execution_count": 2,
   "metadata": {
    "scrolled": false,
    "slideshow": {
     "slide_type": "slide"
    }
   },
   "outputs": [
    {
     "name": "stdout",
     "output_type": "stream",
     "text": [
      "Help on class XdCountType in module s3m_xdt:\n",
      "\n",
      "class XdCountType(XdQuantifiedType)\n",
      " |  XdCountType(label: str)\n",
      " |  \n",
      " |  Countable quantities as an integer. \n",
      " |  \n",
      " |  Used for countable types such as pregnancies or steps taken by a \n",
      " |  physiotherapy patient, number of cigarettes smoked in a day, etc. \n",
      " |  \n",
      " |  The thing(s) being counted must be represented in the units element.\n",
      " |  \n",
      " |  Misuse: Not used for amounts of physical entities which all have \n",
      " |  standardized units as opposed to physical things counted.\n",
      " |  \n",
      " |  Method resolution order:\n",
      " |      XdCountType\n",
      " |      XdQuantifiedType\n",
      " |      XdOrderedType\n",
      " |      XdAnyType\n",
      " |      abc.ABC\n",
      " |      builtins.object\n",
      " |  \n",
      " |  Methods defined here:\n",
      " |  \n",
      " |  __init__(self, label: str)\n",
      " |      The semantic label (name of the model) is required.\n",
      " |  \n",
      " |  asXML(self)\n",
      " |      Return an example XML fragment for this model.\n",
      " |  \n",
      " |  asXSD(self)\n",
      " |      Return a XML Schema complexType definition.\n",
      " |  \n",
      " |  ----------------------------------------------------------------------\n",
      " |  Data descriptors defined here:\n",
      " |  \n",
      " |  max_exclusive\n",
      " |      An exclusive maximum value.\n",
      " |  \n",
      " |  max_inclusive\n",
      " |      An inclusive maximum value.\n",
      " |  \n",
      " |  min_exclusive\n",
      " |      An exclusive minimum value.\n",
      " |  \n",
      " |  min_inclusive\n",
      " |      An inclusive minimum value.\n",
      " |  \n",
      " |  total_digits\n",
      " |      A maximum total digits constraint.\n",
      " |  \n",
      " |  xdcount_units\n",
      " |      The name or type of the items counted. Examples are cigarettes, drinks, pregnancies, episodes, etc. \n",
      " |      May or may not come from a standard terminology.\n",
      " |  \n",
      " |  xdcount_value\n",
      " |      Integer value of the counted items.\n",
      " |  \n",
      " |  ----------------------------------------------------------------------\n",
      " |  Data and other attributes defined here:\n",
      " |  \n",
      " |  __abstractmethods__ = frozenset()\n",
      " |  \n",
      " |  ----------------------------------------------------------------------\n",
      " |  Data descriptors inherited from XdQuantifiedType:\n",
      " |  \n",
      " |  accuracy\n",
      " |      Accuracy of the value in the magnitude attribute in the range 0% to (+/-)100%. \n",
      " |      A value of 0 means that the accuracy is unknown.\n",
      " |  \n",
      " |  error\n",
      " |      Error margin of measurement, as an integer indicating error in the recording method or instrument (+/- %). \n",
      " |      A logical value of 0 indicates 100% accuracy, i.e. no error.\n",
      " |  \n",
      " |  magnitude_status\n",
      " |      MagnitudeStatus provides a general indication of the accuracy of the magnitude expressed in the XdQuantified \n",
      " |      subtypes. Should be used to inform users and not for decision support uses.\n",
      " |      Must be one of: None,'equal','less_than', 'greater_than', 'less_than_or_equal', 'greater_than_or_equal', 'approximate'\n",
      " |  \n",
      " |  ----------------------------------------------------------------------\n",
      " |  Data descriptors inherited from XdOrderedType:\n",
      " |  \n",
      " |  normal_status\n",
      " |      Optional normal status indicator of value with respect to normal range \n",
      " |      for this value.\n",
      " |      \n",
      " |      Often used in situations such as medical lab results when coded by \n",
      " |      ordinals in series such as; HHH, HH, H, (nothing), L, LL, LLL, etc.\n",
      " |  \n",
      " |  referenceranges\n",
      " |      Optional list of ReferenceRanges for this value in its \n",
      " |      particular measurement context.\n",
      " |  \n",
      " |  ----------------------------------------------------------------------\n",
      " |  Methods inherited from XdAnyType:\n",
      " |  \n",
      " |  __str__(self)\n",
      " |      Return str(self).\n",
      " |  \n",
      " |  asJSON(self)\n",
      " |      Return an example JSON fragment for this model.\n",
      " |  \n",
      " |  ----------------------------------------------------------------------\n",
      " |  Data descriptors inherited from XdAnyType:\n",
      " |  \n",
      " |  __dict__\n",
      " |      dictionary for instance variables (if defined)\n",
      " |  \n",
      " |  __weakref__\n",
      " |      list of weak references to the object (if defined)\n",
      " |  \n",
      " |  act\n",
      " |      Access Control Tag. If this is used it must contain a valid term from \n",
      " |      the Access Control System linked to by the containing Data Model \n",
      " |      'acs' attribute.\n",
      " |  \n",
      " |  acuid\n",
      " |      The unique identifier of the wrapping XdAdapter of the component.\n",
      " |  \n",
      " |  adapter\n",
      " |  \n",
      " |  cardinality\n",
      " |      The cardinality status values. \n",
      " |      \n",
      " |      The setter method can be called by each subclass to add cardinality \n",
      " |      values for each element or change the defaults. \n",
      " |      Some elements cardinality may not be changed. \n",
      " |      Ex: XdBoolean elements are not modifiable.\n",
      " |      \n",
      " |      The cardinality dictionary uses a string representation of each \n",
      " |      property name and a tuple as the value.\n",
      " |      \n",
      " |      The value passed into the setter is a tuple with v[0] as a string (key) and \n",
      " |      v[1] as a tuple containing an integer set representing the \n",
      " |      (minimum, maximum) values. The entire tuple is replaced in the dictionary. \n",
      " |      \n",
      " |      Examples\n",
      " |      --------\n",
      " |      \n",
      " |      ('vtb', (1,1)) will set the vtb value to be required.\n",
      " |      \n",
      " |      \n",
      " |      NOTES\n",
      " |      -----\n",
      " |      \n",
      " |      The cardinality for latitude and longitude are combined into one \n",
      " |      setting called 'location'.\n",
      " |      \n",
      " |      The Python value of 'None' represents the 'unbounded' XML Schema value.\n",
      " |      The 'unbounded' value is allowed on only a few attributes.\n",
      " |  \n",
      " |  definition_url\n",
      " |      The primary definition URL for the model.\n",
      " |      Cannot be an IP address.\n",
      " |  \n",
      " |  docs\n",
      " |      The human readable documentation string describing the purpose of \n",
      " |      the model.\n",
      " |  \n",
      " |  ev\n",
      " |      In an invalid instance, the application can indicate here why data is \n",
      " |      missing or invalid. \n",
      " |      The sub-types are based on ISO 21090 NULL Flavors entries, with \n",
      " |      additions noted from real-world usage.\n",
      " |  \n",
      " |  label\n",
      " |      The semantic name of the component.\n",
      " |  \n",
      " |  latitude\n",
      " |      Latitude in decimal format. Value range -90.000000 to 90.000000.\n",
      " |  \n",
      " |  longitude\n",
      " |      Longitude in decimal format. Value range -180.000000 to 180.000000.\n",
      " |  \n",
      " |  mcuid\n",
      " |      The unique identifier of the component.\n",
      " |  \n",
      " |  modified\n",
      " |      Time Modified. If present this must be a valid date-time stamp. \n",
      " |      It is used to indicate the date and time the data was last changed.\n",
      " |  \n",
      " |  pred_obj_list\n",
      " |      A list of additional predicate object pairs to describe the component.\n",
      " |      \n",
      " |      Each list item is a tuple where 0 is the predicate and 1 is the object.\n",
      " |      \n",
      " |      Example: \n",
      " |      ('rdf:resource','https://www.niddk.nih.gov/health-information/health-statistics')\n",
      " |      The setter accepts the tuple and appends it to the list.\n",
      " |      If an empty list is supplied it resets the value to the empty list.\n",
      " |  \n",
      " |  tr\n",
      " |      Time Recorded. If present this must be a valid date-time. \n",
      " |      It is used to indicate the initial date and time the data was recorded.\n",
      " |  \n",
      " |  vtb\n",
      " |      Valid Time Begin. If present this must be a valid datetime including timezone. \n",
      " |      It is used to indicate the beginning time that information is considered valid.\n",
      " |  \n",
      " |  vte\n",
      " |      Valid Time End. If present this must be a valid date-time including timezone. \n",
      " |      It is used to indicate the ending time that information is considered valid \n",
      " |      or the time the information expired or will expire.\n",
      "\n"
     ]
    }
   ],
   "source": [
    "help(XdCountType)"
   ]
  },
  {
   "cell_type": "markdown",
   "metadata": {
    "slideshow": {
     "slide_type": "slide"
    }
   },
   "source": [
    "Create a XdCount instance. We must provide a *label* as per all Xd Types. We also need a units object which is a XdStringType. Usually the modeler will provide a selection of options for the end-user to choose from when selecting a units value. With XdCountTypes though there is often only one type of unit allowed. In our contrived model here we will count widgets and they can be recorded in individuals, dozens or cases. This is so you can see the flexibility in modeling. The word *cases* will only make sense if you provide context; how many widgets are in a case?"
   ]
  },
  {
   "cell_type": "code",
   "execution_count": 3,
   "metadata": {},
   "outputs": [
    {
     "name": "stdout",
     "output_type": "stream",
     "text": [
      "('individuals', 'https://s3model.com/widget/units#individuals')\n",
      "('dozens', 'https://s3model.com/widget/units#dozens')\n",
      "('cases', 'https://s3model.com/widget/units#cases')\n",
      "XdCountType : Widgets Count, ID: cjn38t3dk0002yv8pfjjzf26j\n"
     ]
    }
   ],
   "source": [
    "# create the units model\n",
    "u = XdStringType('Widgets Units')\n",
    "u.docs = \"Flag the number of widgets by individuals, dozens or cases.\"\n",
    "u.definition_url = 'https://s3model.com/widget/units'\n",
    "# create the units options\n",
    "enums = []\n",
    "enums.append(('individuals', 'https://s3model.com/widget/units#individuals'))\n",
    "enums.append(('dozens', 'https://s3model.com/widget/units#dozens'))\n",
    "enums.append(('cases', 'https://s3model.com/widget/units#cases'))\n",
    "u.enums = enums\n",
    "\n",
    "# this is not used inside a Cluster, it is a units in a XdCount. Do not create an adapter\n",
    "u.adapter = False\n",
    "\n",
    "# now the count model\n",
    "d = XdCountType(\"Widgets Count\")\n",
    "d.docs = \"Record the number of widgets in inventory.\"\n",
    "d.xdcount_units = u\n",
    "print(d)"
   ]
  },
  {
   "cell_type": "code",
   "execution_count": 4,
   "metadata": {
    "scrolled": false
   },
   "outputs": [
    {
     "name": "stdout",
     "output_type": "stream",
     "text": [
      "  \n",
      "<xs:element name=\"ms-cjn38t3dk0003yv8pd6328r08\" substitutionGroup=\"s3m:Items\" type=\"s3m:mc-cjn38t3dk0003yv8pd6328r08\"/>\n",
      "  <xs:complexType name=\"mc-cjn38t3dk0003yv8pd6328r08\">\n",
      "    <xs:complexContent>\n",
      "      <xs:restriction base=\"s3m:XdAdapterType\">\n",
      "        <xs:sequence>\n",
      "          <xs:element maxOccurs=\"unbounded\" minOccurs=\"0\" ref=\"s3m:ms-cjn38t3dk0002yv8pfjjzf26j\"/>\n",
      "        </xs:sequence>\n",
      "      </xs:restriction>\n",
      "    </xs:complexContent>\n",
      "  </xs:complexType>\n",
      "  <xs:element name=\"ms-cjn38t3dk0002yv8pfjjzf26j\" substitutionGroup=\"s3m:XdAdapter-value\" type=\"s3m:mc-cjn38t3dk0002yv8pfjjzf26j\"/>\n",
      "  <xs:complexType name=\"mc-cjn38t3dk0002yv8pfjjzf26j\">\n",
      "    <xs:annotation>\n",
      "      <xs:documentation>\n",
      "        Record the number of widgets in inventory.\n",
      "      </xs:documentation>\n",
      "      <xs:appinfo>\n",
      "        <rdfs:Class rdf:about=\"mc-cjn38t3dk0002yv8pfjjzf26j\">\n",
      "          <rdfs:subClassOf rdf:resource=\"https://www.s3model.com/ns/s3m/s3model_3_1_0.xsd#XdCountType\"/>\n",
      "          <rdfs:subClassOf rdf:resource=\"https://www.s3model.com/ns/s3m/s3model/RMC\"/>\n",
      "          <rdfs:isDefinedBy rdf:resource=\"\"/>\n",
      "        </rdfs:Class>\n",
      "      </xs:appinfo>\n",
      "    </xs:annotation>\n",
      "    <xs:complexContent>\n",
      "      <xs:restriction base=\"s3m:XdCountType\">\n",
      "        <xs:sequence>\n",
      "          <xs:element maxOccurs=\"1\" minOccurs=\"1\" name=\"label\" type=\"xs:string\" fixed=\"Widgets Count\"/>\n",
      "          <xs:element maxOccurs=\"1\" minOccurs=\"0\" name=\"act\" type=\"xs:string\" default=\"\"/>\n",
      "          <xs:element maxOccurs=\"1\" minOccurs=\"0\" ref=\"s3m:ExceptionalValue\"/>\n",
      "          <xs:element maxOccurs=\"1\" minOccurs=\"0\" name=\"vtb\" type=\"xs:dateTime\"/>\n",
      "          <xs:element maxOccurs=\"1\" minOccurs=\"0\" name=\"vte\" type=\"xs:dateTime\"/>\n",
      "          <xs:element maxOccurs=\"1\" minOccurs=\"0\" name=\"tr\" type=\"xs:dateTime\"/>\n",
      "          <xs:element maxOccurs=\"1\" minOccurs=\"0\" name=\"modified\" type=\"xs:dateTime\"/>\n",
      "          <xs:element maxOccurs=\"1\" minOccurs=\"0\" name=\"latitude\" type=\"xs:decimal\"/>\n",
      "          <xs:element maxOccurs=\"1\" minOccurs=\"0\" name=\"longitude\" type=\"xs:decimal\"/>\n",
      "          <xs:element maxOccurs='1' minOccurs='0' name='magnitude-status' type='s3m:MagnitudeStatus'/>\n",
      "          <xs:element maxOccurs='1' minOccurs='1' name='error'  type='xs:int' default='0'/>\n",
      "          <xs:element maxOccurs='1' minOccurs='1' name='accuracy' type='xs:int' default='0'/>\n",
      "          <xs:element maxOccurs='1' minOccurs='1'  name='xdcount-value'>\n",
      "            <xs:simpleType>\n",
      "            <xs:restriction base='xs:int'>\n",
      "            </xs:restriction>\n",
      "            </xs:simpleType>\n",
      "          </xs:element>\n",
      "          <xs:element maxOccurs='1' minOccurs='1' name='xdcount-units' type='s3m:mc-cjn38t3dh0000yv8p7vkaicfh'/> \n",
      "          </xs:sequence>\n",
      "        </xs:restriction>\n",
      "      </xs:complexContent>\n",
      "    </xs:complexType>\n",
      "\n",
      "  <xs:element name=\"ms-cjn38t3dh0000yv8p7vkaicfh\" type=\"s3m:mc-cjn38t3dh0000yv8p7vkaicfh\"/>\n",
      "  <xs:complexType name=\"mc-cjn38t3dh0000yv8p7vkaicfh\">\n",
      "    <xs:annotation>\n",
      "      <xs:documentation>\n",
      "        Flag the number of widgets by individuals, dozens or cases.\n",
      "\n",
      "Definition: https%3A//s3model.com/widget/units\n",
      "      </xs:documentation>\n",
      "      <xs:appinfo>\n",
      "        <rdfs:Class rdf:about=\"mc-cjn38t3dh0000yv8p7vkaicfh\">\n",
      "          <rdfs:subClassOf rdf:resource=\"https://www.s3model.com/ns/s3m/s3model_3_1_0.xsd#XdStringType\"/>\n",
      "          <rdfs:subClassOf rdf:resource=\"https://www.s3model.com/ns/s3m/s3model/RMC\"/>\n",
      "          <rdfs:isDefinedBy rdf:resource=\"https%3A//s3model.com/widget/units\"/>\n",
      "        </rdfs:Class>\n",
      "      </xs:appinfo>\n",
      "    </xs:annotation>\n",
      "    <xs:complexContent>\n",
      "      <xs:restriction base=\"s3m:XdStringType\">\n",
      "        <xs:sequence>\n",
      "          <xs:element maxOccurs=\"1\" minOccurs=\"1\" name=\"label\" type=\"xs:string\" fixed=\"Widgets Units\"/>\n",
      "          <xs:element maxOccurs=\"1\" minOccurs=\"0\" name=\"act\" type=\"xs:string\" default=\"\"/>\n",
      "          <xs:element maxOccurs=\"1\" minOccurs=\"0\" ref=\"s3m:ExceptionalValue\"/>\n",
      "          <xs:element maxOccurs=\"1\" minOccurs=\"0\" name=\"vtb\" type=\"xs:dateTime\"/>\n",
      "          <xs:element maxOccurs=\"1\" minOccurs=\"0\" name=\"vte\" type=\"xs:dateTime\"/>\n",
      "          <xs:element maxOccurs=\"1\" minOccurs=\"0\" name=\"tr\" type=\"xs:dateTime\"/>\n",
      "          <xs:element maxOccurs=\"1\" minOccurs=\"0\" name=\"modified\" type=\"xs:dateTime\"/>\n",
      "          <xs:element maxOccurs=\"1\" minOccurs=\"0\" name=\"latitude\" type=\"xs:decimal\"/>\n",
      "          <xs:element maxOccurs=\"1\" minOccurs=\"0\" name=\"longitude\" type=\"xs:decimal\"/>\n",
      "          <xs:element maxOccurs='1' minOccurs='1' name='xdstring-value' type='xs:string'/>\n",
      "          <xs:element maxOccurs='1' minOccurs='1' name='xdstring-value'>\n",
      "              <xs:simpleType>\n",
      "                <xs:restriction base='xs:string'>\n",
      "                  <xs:enumeration value='individuals'>\n",
      "                  <xs:annotation>\n",
      "                    <xs:appinfo>\n",
      "                      <rdfs:Class rdf:about='mc-cjn38t3dh0000yv8p7vkaicfh/xdstring-value/individuals'>\n",
      "                        <rdfs:subPropertyOf rdf:resource='mc-cjn38t3dh0000yv8p7vkaicfh'/>\n",
      "                        <rdfs:label>individuals</rdfs:label>\n",
      "                        <rdfs:isDefinedBy>https://s3model.com/widget/units#individuals</rdfs:isDefinedBy>\n",
      "                      </rdfs:Class>\n",
      "                    </xs:appinfo>\n",
      "                  </xs:annotation>\n",
      "                  </xs:enumeration>\n",
      "                  <xs:enumeration value='dozens'>\n",
      "                  <xs:annotation>\n",
      "                    <xs:appinfo>\n",
      "                      <rdfs:Class rdf:about='mc-cjn38t3dh0000yv8p7vkaicfh/xdstring-value/dozens'>\n",
      "                        <rdfs:subPropertyOf rdf:resource='mc-cjn38t3dh0000yv8p7vkaicfh'/>\n",
      "                        <rdfs:label>dozens</rdfs:label>\n",
      "                        <rdfs:isDefinedBy>https://s3model.com/widget/units#dozens</rdfs:isDefinedBy>\n",
      "                      </rdfs:Class>\n",
      "                    </xs:appinfo>\n",
      "                  </xs:annotation>\n",
      "                  </xs:enumeration>\n",
      "                  <xs:enumeration value='cases'>\n",
      "                  <xs:annotation>\n",
      "                    <xs:appinfo>\n",
      "                      <rdfs:Class rdf:about='mc-cjn38t3dh0000yv8p7vkaicfh/xdstring-value/cases'>\n",
      "                        <rdfs:subPropertyOf rdf:resource='mc-cjn38t3dh0000yv8p7vkaicfh'/>\n",
      "                        <rdfs:label>cases</rdfs:label>\n",
      "                        <rdfs:isDefinedBy>https://s3model.com/widget/units#cases</rdfs:isDefinedBy>\n",
      "                      </rdfs:Class>\n",
      "                    </xs:appinfo>\n",
      "                  </xs:annotation>\n",
      "                  </xs:enumeration>\n",
      "                </xs:restriction>\n",
      "              </xs:simpleType>\n",
      "            </xs:element>\n",
      "          <xs:element maxOccurs='1' minOccurs='0' name='xdstring-language' type='xs:language' default=''/>\n",
      "        </xs:sequence>\n",
      "      </xs:restriction>\n",
      "    </xs:complexContent>\n",
      "  </xs:complexType>\n",
      "\n"
     ]
    }
   ],
   "source": [
    "print(d.asXSD())"
   ]
  },
  {
   "cell_type": "markdown",
   "metadata": {},
   "source": [
    "The shareable model is quite large and carries a lot of information. That information is only recorded one time and allows for small data instances. We have the option to not include the *error* and *accuracy* elements if they do not fit our use case. "
   ]
  },
  {
   "cell_type": "code",
   "execution_count": 5,
   "metadata": {
    "scrolled": true
   },
   "outputs": [
    {
     "name": "stdout",
     "output_type": "stream",
     "text": [
      "  <ms-cjn38t3dk0002yv8pfjjzf26j>\n",
      "    <label>Widgets Count</label>\n",
      "    <error>0</error>\n",
      "    <accuracy>0</accuracy>\n",
      "    <xdcount-value>0</xdcount-value>\n",
      "      <ms-cjn38t3dh0000yv8p7vkaicfh>\n",
      "    <label>Widgets Units</label>\n",
      "    <xdstring-value>individuals</xdstring-value>\n",
      "  </ms-cjn38t3dh0000yv8p7vkaicfh>\n",
      "    </ms-cjn38t3dk0002yv8pfjjzf26j>\n",
      "\n"
     ]
    }
   ],
   "source": [
    "\n",
    "print(d.asXML())"
   ]
  },
  {
   "cell_type": "markdown",
   "metadata": {},
   "source": [
    "## Additional constraints\n",
    "Much of the time we will want to build models that have min/max values or restrict the total number of digits. \n",
    "The next examples cover those use cases."
   ]
  },
  {
   "cell_type": "code",
   "execution_count": null,
   "metadata": {},
   "outputs": [],
   "source": []
  }
 ],
 "metadata": {
  "kernelspec": {
   "display_name": "Python [conda env:S3Model]",
   "language": "python",
   "name": "conda-env-S3Model-py"
  },
  "language_info": {
   "codemirror_mode": {
    "name": "ipython",
    "version": 3
   },
   "file_extension": ".py",
   "mimetype": "text/x-python",
   "name": "python",
   "nbconvert_exporter": "python",
   "pygments_lexer": "ipython3",
   "version": "3.7.0"
  }
 },
 "nbformat": 4,
 "nbformat_minor": 2
}

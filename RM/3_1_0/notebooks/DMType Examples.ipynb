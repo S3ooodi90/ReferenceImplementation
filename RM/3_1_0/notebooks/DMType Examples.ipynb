{
 "cells": [
  {
   "cell_type": "markdown",
   "metadata": {
    "slideshow": {
     "slide_type": "slide"
    }
   },
   "source": [
    "# Example using the DMType"
   ]
  },
  {
   "cell_type": "markdown",
   "metadata": {
    "slideshow": {
     "slide_type": "slide"
    }
   },
   "source": [
    "**Set the path to the folder containing the library files and import the extended datatypes.**"
   ]
  },
  {
   "cell_type": "code",
   "execution_count": 1,
   "metadata": {
    "slideshow": {
     "slide_type": "fragment"
    }
   },
   "outputs": [],
   "source": [
    "import sys \n",
    "sys.path.append(\"../pylib/\")\n",
    "from s3m_dm import DMType\n",
    "from s3m_struct import ClusterType, XdAdapterType\n",
    "from s3m_xdt import XdStringType, XdTemporalType, XdOrdinalType, XdCountType"
   ]
  },
  {
   "cell_type": "markdown",
   "metadata": {
    "slideshow": {
     "slide_type": "slide"
    }
   },
   "source": [
    "Review the documentation of DMType. "
   ]
  },
  {
   "cell_type": "code",
   "execution_count": 2,
   "metadata": {
    "scrolled": true,
    "slideshow": {
     "slide_type": "slide"
    }
   },
   "outputs": [
    {
     "name": "stdout",
     "output_type": "stream",
     "text": [
      "Help on class DMType in module s3m_dm:\n",
      "\n",
      "class DMType(builtins.object)\n",
      " |  DMType(title)\n",
      " |  \n",
      " |  This is the root node of a Data Model (DM)\n",
      " |  \n",
      " |  Methods defined here:\n",
      " |  \n",
      " |  __init__(self, title)\n",
      " |      The Data Model is the wrapper for all of the data components as well as the semantics.\n",
      " |  \n",
      " |  __str__(self)\n",
      " |      Return str(self).\n",
      " |  \n",
      " |  exportDM(self)\n",
      " |      Return a XML Schema for a complete Data Model.\n",
      " |  \n",
      " |  genMD(self)\n",
      " |      Create a metadata dictionary for the DM if one isn't passed in.\n",
      " |  \n",
      " |  showMetadata(self)\n",
      " |  \n",
      " |  validate(self)\n",
      " |      Validation called before exporting code or execution of the __str__ method.\n",
      " |  \n",
      " |  ----------------------------------------------------------------------\n",
      " |  Data descriptors defined here:\n",
      " |  \n",
      " |  __dict__\n",
      " |      dictionary for instance variables (if defined)\n",
      " |  \n",
      " |  __weakref__\n",
      " |      list of weak references to the object (if defined)\n",
      " |  \n",
      " |  acs\n",
      " |      Access Control System.\n",
      " |  \n",
      " |  data\n",
      " |      The data structure of the model.\n",
      " |  \n",
      " |  label\n",
      " |      The semantic name of the component.\n",
      " |  \n",
      " |  mcuid\n",
      " |      The unique identifier of the component.\n",
      " |  \n",
      " |  metadata\n",
      " |      The model metadata.\n",
      "\n"
     ]
    }
   ],
   "source": [
    "help(DMType)"
   ]
  },
  {
   "cell_type": "markdown",
   "metadata": {
    "slideshow": {
     "slide_type": "slide"
    }
   },
   "source": [
    "Here we will reuse our ClusterType example and create the DMType (Data Model) wrapper around it.\n",
    "\n",
    "<div class=\"logo-container\">\n",
    "  <div class=\"logo\"><img src=\"images/Data-Entry-Form.png\" height=\"400\" width=\"400\"/></div>\n",
    "</div>"
   ]
  },
  {
   "cell_type": "code",
   "execution_count": 3,
   "metadata": {},
   "outputs": [
    {
     "name": "stdout",
     "output_type": "stream",
     "text": [
      "DMType : Employee Record, ID: cjn90loh80000ew8pjevsr5an\n"
     ]
    }
   ],
   "source": [
    "DM = DMType('Employee Record')\n",
    "print(DM)"
   ]
  },
  {
   "cell_type": "code",
   "execution_count": 4,
   "metadata": {},
   "outputs": [
    {
     "name": "stdout",
     "output_type": "stream",
     "text": [
      "XdStringType : Record Action, ID: cjn90lok00002ew8pwwwmxtvs\n"
     ]
    }
   ],
   "source": [
    "ERF = ClusterType('Employee Record Form')\n",
    "# Use a XdStringType to capture the action\n",
    "choice = []\n",
    "choice.append(('Add New','https://datainsights.tech/examples/AddNewRecord'))\n",
    "choice.append(('Modify','https://datainsights.tech/examples/ModifyRecord'))\n",
    "choice.append(('Delete','https://datainsights.tech/examples/DeleteRecord'))\n",
    "action = XdStringType(\"Record Action\")\n",
    "action.docs = \"Select the action to perform.\"\n",
    "action.enums = choice\n",
    "print(action)"
   ]
  },
  {
   "cell_type": "markdown",
   "metadata": {},
   "source": [
    "Use a regular expression to limit the Employee Number to one character of A,B,C,D or E and 5 digits.\n",
    "\n",
    "Examples: A09098, D76547, etc.\n"
   ]
  },
  {
   "cell_type": "code",
   "execution_count": 5,
   "metadata": {},
   "outputs": [
    {
     "name": "stdout",
     "output_type": "stream",
     "text": [
      "XdStringType : Employee Number, ID: cjn90loni0004ew8p9gt4eg6z\n"
     ]
    }
   ],
   "source": [
    "empnum = XdStringType('Employee Number')\n",
    "empnum.docs = 'An employee number consists of a single character department code (A-E) and 5 digits (0-9).'\n",
    "empnum.definition_url = 'https://datainsights.tech/examples/EmployeeNumber'\n",
    "empnum.regex = '[A-E]{1}[0-9]{5}'\n",
    "print(empnum)"
   ]
  },
  {
   "cell_type": "code",
   "execution_count": 6,
   "metadata": {},
   "outputs": [
    {
     "name": "stdout",
     "output_type": "stream",
     "text": [
      "XdTemporalType : Date of Joining, ID: cjn90loq90006ew8pqwoqoxus\n"
     ]
    }
   ],
   "source": [
    "joined = XdTemporalType(\"Date of Joining\")\n",
    "joined.docs = \"Require a full date. Disallow all others.\"\n",
    "joined.cardinality = ('date', [1,1])\n",
    "joined.cardinality = ('time', [0,0])\n",
    "joined.cardinality = ('datetime', [0,0])\n",
    "joined.cardinality = ('day', [0,0])\n",
    "joined.cardinality = ('month', [0,0])\n",
    "joined.cardinality = ('year', [0,0])\n",
    "joined.cardinality = ('year_month', [0,0])\n",
    "joined.cardinality = ('month_day', [0,0])\n",
    "joined.cardinality = ('duration', [0,0])\n",
    "print(joined)"
   ]
  },
  {
   "cell_type": "code",
   "execution_count": 7,
   "metadata": {},
   "outputs": [
    {
     "name": "stdout",
     "output_type": "stream",
     "text": [
      "XdStringType : First Name, ID: cjn90losx0008ew8ppdbccogy\n"
     ]
    }
   ],
   "source": [
    "fname = XdStringType('First Name')\n",
    "fname.docs = \"The employee's first name.\"\n",
    "fname.definition_url = 'https://datainsights.tech/examples/EmployeeFirstName'\n",
    "fname.cardinality = ('value', [1,1])\n",
    "print(fname)"
   ]
  },
  {
   "cell_type": "code",
   "execution_count": 8,
   "metadata": {},
   "outputs": [
    {
     "name": "stdout",
     "output_type": "stream",
     "text": [
      "XdStringType : Last Name, ID: cjn90lovr000aew8pnlgl00tk\n"
     ]
    }
   ],
   "source": [
    "lname = XdStringType('Last Name')\n",
    "lname.docs = \"The employee's last name.\"\n",
    "lname.definition_url = 'https://datainsights.tech/examples/EmployeeLastName'\n",
    "lname.cardinality = ('value', [1,1])\n",
    "print(lname)"
   ]
  },
  {
   "cell_type": "code",
   "execution_count": 9,
   "metadata": {},
   "outputs": [
    {
     "name": "stdout",
     "output_type": "stream",
     "text": [
      "XdStringType : Designation, ID: cjn90loyj000cew8ps3d86xpk\n"
     ]
    }
   ],
   "source": [
    "desig = XdStringType('Designation')\n",
    "desig.docs = \"The employee's designation.\"\n",
    "desig.definition_url = 'https://datainsights.tech/examples/EmployeeDesignation'\n",
    "jobs = []\n",
    "jobs.append(('Manager', 'https://datainsights.tech/examples/EmployeeDesignation#Manager'))\n",
    "jobs.append(('Foreman', 'https://datainsights.tech/examples/EmployeeDesignation#Forman'))\n",
    "jobs.append(('LineWorker', 'https://datainsights.tech/examples/EmployeeDesignation#LineWorker'))\n",
    "desig.enums = jobs\n",
    "print(desig)"
   ]
  },
  {
   "cell_type": "code",
   "execution_count": 10,
   "metadata": {},
   "outputs": [
    {
     "name": "stdout",
     "output_type": "stream",
     "text": [
      "XdTemporalType : Date of Birth, ID: cjn90lp22000eew8po6gi06o0\n"
     ]
    }
   ],
   "source": [
    "dob = XdTemporalType(\"Date of Birth\")\n",
    "dob.docs = \"DOB allows a full date or just a month/year.\"\n",
    "dob.cardinality = ('date', [0,1])\n",
    "dob.cardinality = ('time', [0,0])\n",
    "dob.cardinality = ('datetime', [0,0])\n",
    "dob.cardinality = ('day', [0,0])\n",
    "dob.cardinality = ('month', [0,0])\n",
    "dob.cardinality = ('year', [0,0])\n",
    "dob.cardinality = ('year_month', [0,1])\n",
    "dob.cardinality = ('month_day', [0,0])\n",
    "dob.cardinality = ('duration', [0,0])\n",
    "print(dob)"
   ]
  },
  {
   "cell_type": "code",
   "execution_count": 11,
   "metadata": {},
   "outputs": [
    {
     "name": "stdout",
     "output_type": "stream",
     "text": [
      "XdStringType : Highest Qualification, ID: cjn90lp4z000gew8pj8m1ohtn\n"
     ]
    }
   ],
   "source": [
    "qual = XdStringType('Highest Qualification')\n",
    "qual.docs = \"The employee's highest level of qualification.\"\n",
    "qual.definition_url = 'https://datainsights.tech/examples/EmployeeQualification'\n",
    "level = []\n",
    "level.append(('Level1', 'https://datainsights.tech/examples/EmployeeQualification#Level1'))\n",
    "level.append(('Level2', 'https://datainsights.tech/examples/EmployeeQualification#Level2'))\n",
    "level.append(('Level3', 'https://datainsights.tech/examples/EmployeeQualification#Level3'))\n",
    "qual.enums = level\n",
    "print(qual)"
   ]
  },
  {
   "cell_type": "code",
   "execution_count": 12,
   "metadata": {},
   "outputs": [
    {
     "name": "stdout",
     "output_type": "stream",
     "text": [
      "XdCountType : Years of Experience, ID: cjn90lp7s000kew8p6en7id13\n"
     ]
    }
   ],
   "source": [
    "# create the units model\n",
    "unit = XdStringType('Years')\n",
    "unit.docs = \"Count of the years of experience.\"\n",
    "unit.definition_url = 'https://datainsights.tech/examples/Experience'\n",
    "\n",
    "# now the count model\n",
    "exp = XdCountType(\"Years of Experience\")\n",
    "exp.docs = \"Record the number of years of experience of the employee.\"\n",
    "exp.definition_url = 'https://datainsights.tech/examples/Experience#Years'\n",
    "exp.min_inclusive = 0\n",
    "exp.max_inclusive = 99\n",
    "exp.units = unit\n",
    "print(exp)"
   ]
  },
  {
   "cell_type": "code",
   "execution_count": 13,
   "metadata": {},
   "outputs": [
    {
     "name": "stdout",
     "output_type": "stream",
     "text": [
      "ClusterType : Employee Record Form, ID: cjn90lok00001ew8pu5s101m7\n"
     ]
    }
   ],
   "source": [
    "# Each component needs to be placed inside a new adapter before being added to the Cluster\n",
    "a = XdAdapterType()\n",
    "a.value = action # form action\n",
    "# add the adapter to the cluster\n",
    "ERF.items = a\n",
    "\n",
    "a = XdAdapterType()\n",
    "a.value = empnum # Employee Number\n",
    "ERF.items = a\n",
    "\n",
    "a = XdAdapterType()\n",
    "a.value = joined  \n",
    "ERF.items = a\n",
    "\n",
    "a = XdAdapterType()\n",
    "a.value = fname \n",
    "ERF.items = a\n",
    "\n",
    "a = XdAdapterType()\n",
    "a.value = lname\n",
    "ERF.items = a\n",
    "\n",
    "a = XdAdapterType()\n",
    "a.value = desig\n",
    "ERF.items = a\n",
    "\n",
    "a = XdAdapterType()\n",
    "a.value = dob\n",
    "ERF.items = a\n",
    "\n",
    "a = XdAdapterType()\n",
    "a.value = qual\n",
    "ERF.items = a\n",
    "\n",
    "a = XdAdapterType()\n",
    "a.value = exp\n",
    "ERF.items = a\n",
    "\n",
    "print(ERF)"
   ]
  },
  {
   "cell_type": "code",
   "execution_count": 14,
   "metadata": {},
   "outputs": [],
   "source": [
    "DM.data = ERF"
   ]
  },
  {
   "cell_type": "code",
   "execution_count": 15,
   "metadata": {
    "scrolled": true
   },
   "outputs": [
    {
     "name": "stdout",
     "output_type": "stream",
     "text": [
      "Wrote dm-cjn90loh80000ew8pjevsr5an.xsd (Employee Record) to the data model library.\n"
     ]
    }
   ],
   "source": [
    "print(DM.exportDM())"
   ]
  }
 ],
 "metadata": {
  "kernelspec": {
   "display_name": "Python [conda env:S3Model]",
   "language": "python",
   "name": "conda-env-S3Model-py"
  },
  "language_info": {
   "codemirror_mode": {
    "name": "ipython",
    "version": 3
   },
   "file_extension": ".py",
   "mimetype": "text/x-python",
   "name": "python",
   "nbconvert_exporter": "python",
   "pygments_lexer": "ipython3",
   "version": "3.7.0"
  }
 },
 "nbformat": 4,
 "nbformat_minor": 2
}
